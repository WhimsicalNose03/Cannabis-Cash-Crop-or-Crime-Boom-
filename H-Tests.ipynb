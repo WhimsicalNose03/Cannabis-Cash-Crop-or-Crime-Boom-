{
 "cells": [
  {
   "cell_type": "code",
   "execution_count": 1,
   "metadata": {},
   "outputs": [],
   "source": [
    "import pandas as pd\n",
    "import numpy as np\n",
    "import matplotlib.pyplot as plt\n",
    "import scipy.stats as stats\n",
    "import math\n",
    "%matplotlib inline\n",
    "\n",
    "plt.style.use('ggplot')"
   ]
  },
  {
   "cell_type": "code",
   "execution_count": 2,
   "metadata": {},
   "outputs": [],
   "source": [
    "la_murder = pd.read_csv('la_murder.csv')\n",
    "la_burglary = pd.read_csv('la_burglary.csv')\n",
    "la_drug_alc = pd.read_csv('la_drug_alc.csv')\n",
    "la_larceny = pd.read_csv('la_larceny.csv')\n",
    "la_robbery = pd.read_csv('la_robbery.csv')"
   ]
  },
  {
   "cell_type": "code",
   "execution_count": 10,
   "metadata": {},
   "outputs": [],
   "source": [
    "la_murder = la_murder.drop('Unnamed: 0',axis=1)\n",
    "la_burglary = la_burglary.drop('Unnamed: 0',axis=1)\n",
    "la_drug_alc = la_drug_alc.drop('Unnamed: 0',axis=1)\n",
    "la_larceny = la_larceny.drop('Unnamed: 0',axis=1)\n",
    "la_robbery = la_robbery.drop('Unnamed: 0',axis=1)"
   ]
  },
  {
   "cell_type": "code",
   "execution_count": 60,
   "metadata": {},
   "outputs": [],
   "source": [
    "pop_la = 3859000\n",
    "pop_ny = 8384000\n",
    "pop_sea = 635974"
   ]
  },
  {
   "cell_type": "code",
   "execution_count": 12,
   "metadata": {},
   "outputs": [
    {
     "data": {
      "text/html": [
       "<div>\n",
       "<style scoped>\n",
       "    .dataframe tbody tr th:only-of-type {\n",
       "        vertical-align: middle;\n",
       "    }\n",
       "\n",
       "    .dataframe tbody tr th {\n",
       "        vertical-align: top;\n",
       "    }\n",
       "\n",
       "    .dataframe thead th {\n",
       "        text-align: right;\n",
       "    }\n",
       "</style>\n",
       "<table border=\"1\" class=\"dataframe\">\n",
       "  <thead>\n",
       "    <tr style=\"text-align: right;\">\n",
       "      <th></th>\n",
       "      <th>year</th>\n",
       "      <th>population</th>\n",
       "      <th>count</th>\n",
       "      <th>rate</th>\n",
       "    </tr>\n",
       "  </thead>\n",
       "  <tbody>\n",
       "    <tr>\n",
       "      <th>0</th>\n",
       "      <td>2010</td>\n",
       "      <td>3796000</td>\n",
       "      <td>289</td>\n",
       "      <td>0.000076</td>\n",
       "    </tr>\n",
       "    <tr>\n",
       "      <th>1</th>\n",
       "      <td>2011</td>\n",
       "      <td>3825000</td>\n",
       "      <td>293</td>\n",
       "      <td>0.000077</td>\n",
       "    </tr>\n",
       "    <tr>\n",
       "      <th>2</th>\n",
       "      <td>2012</td>\n",
       "      <td>3859000</td>\n",
       "      <td>294</td>\n",
       "      <td>0.000076</td>\n",
       "    </tr>\n",
       "    <tr>\n",
       "      <th>3</th>\n",
       "      <td>2013</td>\n",
       "      <td>3892000</td>\n",
       "      <td>246</td>\n",
       "      <td>0.000063</td>\n",
       "    </tr>\n",
       "    <tr>\n",
       "      <th>4</th>\n",
       "      <td>2014</td>\n",
       "      <td>3923000</td>\n",
       "      <td>254</td>\n",
       "      <td>0.000065</td>\n",
       "    </tr>\n",
       "    <tr>\n",
       "      <th>5</th>\n",
       "      <td>2015</td>\n",
       "      <td>3953000</td>\n",
       "      <td>274</td>\n",
       "      <td>0.000069</td>\n",
       "    </tr>\n",
       "    <tr>\n",
       "      <th>6</th>\n",
       "      <td>2016</td>\n",
       "      <td>3981000</td>\n",
       "      <td>286</td>\n",
       "      <td>0.000072</td>\n",
       "    </tr>\n",
       "    <tr>\n",
       "      <th>7</th>\n",
       "      <td>2017</td>\n",
       "      <td>4000000</td>\n",
       "      <td>273</td>\n",
       "      <td>0.000068</td>\n",
       "    </tr>\n",
       "  </tbody>\n",
       "</table>\n",
       "</div>"
      ],
      "text/plain": [
       "   year  population  count      rate\n",
       "0  2010     3796000    289  0.000076\n",
       "1  2011     3825000    293  0.000077\n",
       "2  2012     3859000    294  0.000076\n",
       "3  2013     3892000    246  0.000063\n",
       "4  2014     3923000    254  0.000065\n",
       "5  2015     3953000    274  0.000069\n",
       "6  2016     3981000    286  0.000072\n",
       "7  2017     4000000    273  0.000068"
      ]
     },
     "execution_count": 12,
     "metadata": {},
     "output_type": "execute_result"
    }
   ],
   "source": [
    "la_murder"
   ]
  },
  {
   "cell_type": "code",
   "execution_count": 6,
   "metadata": {},
   "outputs": [],
   "source": [
    "sea_murder = pd.read_csv('sea_murder.csv')\n",
    "sea_burglary = pd.read_csv('sea_burglary.csv')\n",
    "sea_drug_alc = pd.read_csv('sea_drug_alc.csv')\n",
    "sea_larceny = pd.read_csv('sea_larceny.csv')\n",
    "sea_robbery = pd.read_csv('sea_robbery.csv')"
   ]
  },
  {
   "cell_type": "code",
   "execution_count": 13,
   "metadata": {},
   "outputs": [],
   "source": [
    "sea_murder = sea_murder.drop('Unnamed: 0',axis=1)\n",
    "sea_burglary = sea_burglary.drop('Unnamed: 0',axis=1)\n",
    "sea_drug_alc = sea_drug_alc.drop('Unnamed: 0',axis=1)\n",
    "sea_larceny = sea_larceny.drop('Unnamed: 0',axis=1)\n",
    "sea_robbery = sea_robbery.drop('Unnamed: 0',axis=1)"
   ]
  },
  {
   "cell_type": "code",
   "execution_count": 14,
   "metadata": {},
   "outputs": [
    {
     "data": {
      "text/html": [
       "<div>\n",
       "<style scoped>\n",
       "    .dataframe tbody tr th:only-of-type {\n",
       "        vertical-align: middle;\n",
       "    }\n",
       "\n",
       "    .dataframe tbody tr th {\n",
       "        vertical-align: top;\n",
       "    }\n",
       "\n",
       "    .dataframe thead th {\n",
       "        text-align: right;\n",
       "    }\n",
       "</style>\n",
       "<table border=\"1\" class=\"dataframe\">\n",
       "  <thead>\n",
       "    <tr style=\"text-align: right;\">\n",
       "      <th></th>\n",
       "      <th>year</th>\n",
       "      <th>population</th>\n",
       "      <th>count</th>\n",
       "      <th>rate</th>\n",
       "    </tr>\n",
       "  </thead>\n",
       "  <tbody>\n",
       "    <tr>\n",
       "      <th>0</th>\n",
       "      <td>2010</td>\n",
       "      <td>610333</td>\n",
       "      <td>19</td>\n",
       "      <td>0.000031</td>\n",
       "    </tr>\n",
       "    <tr>\n",
       "      <th>1</th>\n",
       "      <td>2011</td>\n",
       "      <td>622532</td>\n",
       "      <td>23</td>\n",
       "      <td>0.000037</td>\n",
       "    </tr>\n",
       "    <tr>\n",
       "      <th>2</th>\n",
       "      <td>2012</td>\n",
       "      <td>635974</td>\n",
       "      <td>24</td>\n",
       "      <td>0.000038</td>\n",
       "    </tr>\n",
       "    <tr>\n",
       "      <th>3</th>\n",
       "      <td>2013</td>\n",
       "      <td>654176</td>\n",
       "      <td>19</td>\n",
       "      <td>0.000029</td>\n",
       "    </tr>\n",
       "    <tr>\n",
       "      <th>4</th>\n",
       "      <td>2014</td>\n",
       "      <td>669641</td>\n",
       "      <td>23</td>\n",
       "      <td>0.000034</td>\n",
       "    </tr>\n",
       "    <tr>\n",
       "      <th>5</th>\n",
       "      <td>2015</td>\n",
       "      <td>685447</td>\n",
       "      <td>24</td>\n",
       "      <td>0.000035</td>\n",
       "    </tr>\n",
       "    <tr>\n",
       "      <th>6</th>\n",
       "      <td>2016</td>\n",
       "      <td>707255</td>\n",
       "      <td>19</td>\n",
       "      <td>0.000027</td>\n",
       "    </tr>\n",
       "    <tr>\n",
       "      <th>7</th>\n",
       "      <td>2017</td>\n",
       "      <td>724745</td>\n",
       "      <td>28</td>\n",
       "      <td>0.000039</td>\n",
       "    </tr>\n",
       "  </tbody>\n",
       "</table>\n",
       "</div>"
      ],
      "text/plain": [
       "   year  population  count      rate\n",
       "0  2010      610333     19  0.000031\n",
       "1  2011      622532     23  0.000037\n",
       "2  2012      635974     24  0.000038\n",
       "3  2013      654176     19  0.000029\n",
       "4  2014      669641     23  0.000034\n",
       "5  2015      685447     24  0.000035\n",
       "6  2016      707255     19  0.000027\n",
       "7  2017      724745     28  0.000039"
      ]
     },
     "execution_count": 14,
     "metadata": {},
     "output_type": "execute_result"
    }
   ],
   "source": [
    "sea_murder"
   ]
  },
  {
   "cell_type": "code",
   "execution_count": 5,
   "metadata": {},
   "outputs": [],
   "source": [
    "ny_murder = pd.read_csv('ny_murder.csv')\n",
    "ny_burglary = pd.read_csv('ny_burglary.csv')\n",
    "ny_drug_alc = pd.read_csv('ny_drug_alc.csv')\n",
    "ny_larceny = pd.read_csv('ny_larceny.csv')\n",
    "ny_robbery = pd.read_csv('ny_robbery.csv')"
   ]
  },
  {
   "cell_type": "code",
   "execution_count": 15,
   "metadata": {},
   "outputs": [],
   "source": [
    "ny_murder = ny_murder.drop('Unnamed: 0',axis=1)\n",
    "ny_burglary = ny_burglary.drop('Unnamed: 0',axis=1)\n",
    "ny_drug_alc = ny_drug_alc.drop('Unnamed: 0',axis=1)\n",
    "ny_larceny = ny_larceny.drop('Unnamed: 0',axis=1)\n",
    "ny_robbery = ny_robbery.drop('Unnamed: 0',axis=1)"
   ]
  },
  {
   "cell_type": "code",
   "execution_count": 20,
   "metadata": {},
   "outputs": [
    {
     "data": {
      "text/html": [
       "<div>\n",
       "<style scoped>\n",
       "    .dataframe tbody tr th:only-of-type {\n",
       "        vertical-align: middle;\n",
       "    }\n",
       "\n",
       "    .dataframe tbody tr th {\n",
       "        vertical-align: top;\n",
       "    }\n",
       "\n",
       "    .dataframe thead th {\n",
       "        text-align: right;\n",
       "    }\n",
       "</style>\n",
       "<table border=\"1\" class=\"dataframe\">\n",
       "  <thead>\n",
       "    <tr style=\"text-align: right;\">\n",
       "      <th></th>\n",
       "      <th>year</th>\n",
       "      <th>population</th>\n",
       "      <th># murders</th>\n",
       "      <th>murder rate</th>\n",
       "    </tr>\n",
       "  </thead>\n",
       "  <tbody>\n",
       "    <tr>\n",
       "      <th>0</th>\n",
       "      <td>2010</td>\n",
       "      <td>8194000</td>\n",
       "      <td>18</td>\n",
       "      <td>0.000002</td>\n",
       "    </tr>\n",
       "    <tr>\n",
       "      <th>1</th>\n",
       "      <td>2011</td>\n",
       "      <td>8293000</td>\n",
       "      <td>15</td>\n",
       "      <td>0.000002</td>\n",
       "    </tr>\n",
       "    <tr>\n",
       "      <th>2</th>\n",
       "      <td>2012</td>\n",
       "      <td>8384000</td>\n",
       "      <td>27</td>\n",
       "      <td>0.000003</td>\n",
       "    </tr>\n",
       "    <tr>\n",
       "      <th>3</th>\n",
       "      <td>2013</td>\n",
       "      <td>8459000</td>\n",
       "      <td>29</td>\n",
       "      <td>0.000003</td>\n",
       "    </tr>\n",
       "    <tr>\n",
       "      <th>4</th>\n",
       "      <td>2014</td>\n",
       "      <td>8521000</td>\n",
       "      <td>22</td>\n",
       "      <td>0.000003</td>\n",
       "    </tr>\n",
       "    <tr>\n",
       "      <th>5</th>\n",
       "      <td>2015</td>\n",
       "      <td>8582000</td>\n",
       "      <td>12</td>\n",
       "      <td>0.000001</td>\n",
       "    </tr>\n",
       "    <tr>\n",
       "      <th>6</th>\n",
       "      <td>2016</td>\n",
       "      <td>8615000</td>\n",
       "      <td>9</td>\n",
       "      <td>0.000001</td>\n",
       "    </tr>\n",
       "    <tr>\n",
       "      <th>7</th>\n",
       "      <td>2017</td>\n",
       "      <td>8623000</td>\n",
       "      <td>20</td>\n",
       "      <td>0.000002</td>\n",
       "    </tr>\n",
       "  </tbody>\n",
       "</table>\n",
       "</div>"
      ],
      "text/plain": [
       "   year  population  # murders  murder rate\n",
       "0  2010     8194000         18     0.000002\n",
       "1  2011     8293000         15     0.000002\n",
       "2  2012     8384000         27     0.000003\n",
       "3  2013     8459000         29     0.000003\n",
       "4  2014     8521000         22     0.000003\n",
       "5  2015     8582000         12     0.000001\n",
       "6  2016     8615000          9     0.000001\n",
       "7  2017     8623000         20     0.000002"
      ]
     },
     "execution_count": 20,
     "metadata": {},
     "output_type": "execute_result"
    }
   ],
   "source": [
    "ny_murder"
   ]
  },
  {
   "cell_type": "markdown",
   "metadata": {},
   "source": [
    "# Murder Crime"
   ]
  },
  {
   "cell_type": "code",
   "execution_count": 44,
   "metadata": {},
   "outputs": [
    {
     "data": {
      "text/plain": [
       "([<matplotlib.axis.XTick at 0x1a247e4208>,\n",
       "  <matplotlib.axis.XTick at 0x1a2483cb38>,\n",
       "  <matplotlib.axis.XTick at 0x1a2483c8d0>,\n",
       "  <matplotlib.axis.XTick at 0x1a25041c50>,\n",
       "  <matplotlib.axis.XTick at 0x1a2504b198>,\n",
       "  <matplotlib.axis.XTick at 0x1a25041ac8>,\n",
       "  <matplotlib.axis.XTick at 0x1a2504b5c0>,\n",
       "  <matplotlib.axis.XTick at 0x1a2504ba90>],\n",
       " <a list of 8 Text xticklabel objects>)"
      ]
     },
     "execution_count": 44,
     "metadata": {},
     "output_type": "execute_result"
    },
    {
     "data": {
      "image/png": "[encoded data removed]",
      "text/plain": [
       "<Figure size 432x288 with 1 Axes>"
      ]
     },
     "metadata": {
      "needs_background": "light"
     },
     "output_type": "display_data"
    }
   ],
   "source": [
    "plt.title('Murders per Capita Over Time')\n",
    "plt.plot(la_murder['rate'],c='b',label='LA')\n",
    "plt.plot(sea_murder['rate'],c='r',label='Sea')\n",
    "plt.plot(ny_murder['murder rate'],c='g',label='NYC')\n",
    "\n",
    "plt.ylim(bottom=0)\n",
    "plt.legend(loc=1)\n",
    "plt.xticks(np.arange(8),(2010,2011,2012,2013,2014,2015,2016,2017))"
   ]
  },
  {
   "cell_type": "markdown",
   "metadata": {},
   "source": [
    "# Burglary Crime"
   ]
  },
  {
   "cell_type": "code",
   "execution_count": 43,
   "metadata": {},
   "outputs": [
    {
     "data": {
      "text/plain": [
       "([<matplotlib.axis.XTick at 0x1a24fc1f28>,\n",
       "  <matplotlib.axis.XTick at 0x1a24fc1898>,\n",
       "  <matplotlib.axis.XTick at 0x1a24fc1630>,\n",
       "  <matplotlib.axis.XTick at 0x1a24965940>,\n",
       "  <matplotlib.axis.XTick at 0x1a24965e10>,\n",
       "  <matplotlib.axis.XTick at 0x1a24965c88>,\n",
       "  <matplotlib.axis.XTick at 0x1a24954470>,\n",
       "  <matplotlib.axis.XTick at 0x1a24954b38>],\n",
       " <a list of 8 Text xticklabel objects>)"
      ]
     },
     "execution_count": 43,
     "metadata": {},
     "output_type": "execute_result"
    },
    {
     "data": {
      "image/png": "[encoded data removed]",
      "text/plain": [
       "<Figure size 432x288 with 1 Axes>"
      ]
     },
     "metadata": {
      "needs_background": "light"
     },
     "output_type": "display_data"
    }
   ],
   "source": [
    "plt.title('Burglary per Capita Over Time')\n",
    "plt.plot(la_burglary['rate'],c='b',label='LA')\n",
    "plt.plot(sea_burglary['burglary rate'],c='r',label='Sea')\n",
    "plt.plot(ny_burglary['burglary rate'],c='g',label='NYC')\n",
    "\n",
    "plt.ylim(bottom=0)\n",
    "plt.legend(loc=1)\n",
    "plt.xticks(np.arange(8),(2010,2011,2012,2013,2014,2015,2016,2017))"
   ]
  },
  {
   "cell_type": "markdown",
   "metadata": {},
   "source": [
    "# Larceny Crime"
   ]
  },
  {
   "cell_type": "code",
   "execution_count": 42,
   "metadata": {},
   "outputs": [
    {
     "data": {
      "text/plain": [
       "([<matplotlib.axis.XTick at 0x1a2462cf28>,\n",
       "  <matplotlib.axis.XTick at 0x1a2464cf28>,\n",
       "  <matplotlib.axis.XTick at 0x1a2464cba8>,\n",
       "  <matplotlib.axis.XTick at 0x1a24ab0668>,\n",
       "  <matplotlib.axis.XTick at 0x1a24ab0b38>,\n",
       "  <matplotlib.axis.XTick at 0x1a24ab07b8>,\n",
       "  <matplotlib.axis.XTick at 0x1a24ab0e80>,\n",
       "  <matplotlib.axis.XTick at 0x1a24aa54a8>],\n",
       " <a list of 8 Text xticklabel objects>)"
      ]
     },
     "execution_count": 42,
     "metadata": {},
     "output_type": "execute_result"
    },
    {
     "data": {
      "image/png": "[encoded data removed]",
      "text/plain": [
       "<Figure size 432x288 with 1 Axes>"
      ]
     },
     "metadata": {
      "needs_background": "light"
     },
     "output_type": "display_data"
    }
   ],
   "source": [
    "plt.title('Larceny per Capita Over Time')\n",
    "plt.plot(la_larceny['rate'],c='b',label='LA')\n",
    "plt.plot(sea_larceny['rate'],c='r',label='Sea')\n",
    "plt.plot(ny_larceny['larceny rate'],c='g',label='NYC')\n",
    "\n",
    "plt.ylim(bottom=0)\n",
    "plt.legend(loc=1)\n",
    "plt.xticks(np.arange(8),(2010,2011,2012,2013,2014,2015,2016,2017))"
   ]
  },
  {
   "cell_type": "markdown",
   "metadata": {},
   "source": [
    "# Robbery Crime"
   ]
  },
  {
   "cell_type": "code",
   "execution_count": 41,
   "metadata": {},
   "outputs": [
    {
     "data": {
      "text/plain": [
       "([<matplotlib.axis.XTick at 0x1a24615898>,\n",
       "  <matplotlib.axis.XTick at 0x1a247209b0>,\n",
       "  <matplotlib.axis.XTick at 0x1a24ec09e8>,\n",
       "  <matplotlib.axis.XTick at 0x1a2426eb70>,\n",
       "  <matplotlib.axis.XTick at 0x1a242599e8>,\n",
       "  <matplotlib.axis.XTick at 0x1a2426ea20>,\n",
       "  <matplotlib.axis.XTick at 0x1a24259b38>,\n",
       "  <matplotlib.axis.XTick at 0x1a24259320>],\n",
       " <a list of 8 Text xticklabel objects>)"
      ]
     },
     "execution_count": 41,
     "metadata": {},
     "output_type": "execute_result"
    },
    {
     "data": {
      "image/png": "[encoded data removed]",
      "text/plain": [
       "<Figure size 432x288 with 1 Axes>"
      ]
     },
     "metadata": {
      "needs_background": "light"
     },
     "output_type": "display_data"
    }
   ],
   "source": [
    "plt.title('Robbery per Capita Over Time')\n",
    "plt.plot(la_robbery['rate'],c='b',label='LA')\n",
    "plt.plot(sea_robbery['rate'],c='r',label='Sea')\n",
    "plt.plot(ny_robbery['robbery rate'],c='g',label='NYC')\n",
    "\n",
    "plt.legend(loc=3)\n",
    "plt.ylim(bottom=0)\n",
    "plt.xticks(np.arange(8),(2010,2011,2012,2013,2014,2015,2016,2017))"
   ]
  },
  {
   "cell_type": "markdown",
   "metadata": {},
   "source": [
    "# Drug and Alcohol Crime"
   ]
  },
  {
   "cell_type": "code",
   "execution_count": 45,
   "metadata": {},
   "outputs": [
    {
     "data": {
      "text/plain": [
       "([<matplotlib.axis.XTick at 0x1a25098630>,\n",
       "  <matplotlib.axis.XTick at 0x1a25098048>,\n",
       "  <matplotlib.axis.XTick at 0x1a25093e80>,\n",
       "  <matplotlib.axis.XTick at 0x1a2512d198>,\n",
       "  <matplotlib.axis.XTick at 0x1a250bb630>,\n",
       "  <matplotlib.axis.XTick at 0x1a2512d8d0>,\n",
       "  <matplotlib.axis.XTick at 0x1a2512dbe0>,\n",
       "  <matplotlib.axis.XTick at 0x1a25135160>],\n",
       " <a list of 8 Text xticklabel objects>)"
      ]
     },
     "execution_count": 45,
     "metadata": {},
     "output_type": "execute_result"
    },
    {
     "data": {
      "image/png": "[encoded data removed]",
      "text/plain": [
       "<Figure size 432x288 with 1 Axes>"
      ]
     },
     "metadata": {
      "needs_background": "light"
     },
     "output_type": "display_data"
    }
   ],
   "source": [
    "plt.title('Drug Alc per Capita Over Time')\n",
    "plt.plot(la_drug_alc['rate'],c='b',label='LA')\n",
    "plt.plot(sea_drug_alc['rate'],c='r',label='Sea')\n",
    "plt.plot(ny_drug_alc['rate'],c='g',label='NYC')\n",
    "\n",
    "plt.legend(loc=1)\n",
    "plt.ylim(bottom=0)\n",
    "plt.xticks(np.arange(8),(2010,2011,2012,2013,2014,2015,2016,2017))"
   ]
  },
  {
   "cell_type": "code",
   "execution_count": 51,
   "metadata": {},
   "outputs": [],
   "source": [
    "def variance(rate):\n",
    "    return rate*(1-rate)\n"
   ]
  },
  {
   "cell_type": "code",
   "execution_count": 49,
   "metadata": {
    "scrolled": true
   },
   "outputs": [
    {
     "data": {
      "text/html": [
       "<div>\n",
       "<style scoped>\n",
       "    .dataframe tbody tr th:only-of-type {\n",
       "        vertical-align: middle;\n",
       "    }\n",
       "\n",
       "    .dataframe tbody tr th {\n",
       "        vertical-align: top;\n",
       "    }\n",
       "\n",
       "    .dataframe thead th {\n",
       "        text-align: right;\n",
       "    }\n",
       "</style>\n",
       "<table border=\"1\" class=\"dataframe\">\n",
       "  <thead>\n",
       "    <tr style=\"text-align: right;\">\n",
       "      <th></th>\n",
       "      <th>year</th>\n",
       "      <th>population</th>\n",
       "      <th>count</th>\n",
       "      <th>rate</th>\n",
       "    </tr>\n",
       "  </thead>\n",
       "  <tbody>\n",
       "    <tr>\n",
       "      <th>0</th>\n",
       "      <td>2010</td>\n",
       "      <td>3796000</td>\n",
       "      <td>2249</td>\n",
       "      <td>0.000592</td>\n",
       "    </tr>\n",
       "    <tr>\n",
       "      <th>1</th>\n",
       "      <td>2011</td>\n",
       "      <td>3825000</td>\n",
       "      <td>2375</td>\n",
       "      <td>0.000621</td>\n",
       "    </tr>\n",
       "    <tr>\n",
       "      <th>2</th>\n",
       "      <td>2012</td>\n",
       "      <td>3859000</td>\n",
       "      <td>2568</td>\n",
       "      <td>0.000665</td>\n",
       "    </tr>\n",
       "    <tr>\n",
       "      <th>3</th>\n",
       "      <td>2013</td>\n",
       "      <td>3892000</td>\n",
       "      <td>2421</td>\n",
       "      <td>0.000622</td>\n",
       "    </tr>\n",
       "    <tr>\n",
       "      <th>4</th>\n",
       "      <td>2014</td>\n",
       "      <td>3923000</td>\n",
       "      <td>2899</td>\n",
       "      <td>0.000739</td>\n",
       "    </tr>\n",
       "    <tr>\n",
       "      <th>5</th>\n",
       "      <td>2015</td>\n",
       "      <td>3953000</td>\n",
       "      <td>2905</td>\n",
       "      <td>0.000735</td>\n",
       "    </tr>\n",
       "    <tr>\n",
       "      <th>6</th>\n",
       "      <td>2016</td>\n",
       "      <td>3981000</td>\n",
       "      <td>3352</td>\n",
       "      <td>0.000842</td>\n",
       "    </tr>\n",
       "    <tr>\n",
       "      <th>7</th>\n",
       "      <td>2017</td>\n",
       "      <td>4000000</td>\n",
       "      <td>3329</td>\n",
       "      <td>0.000832</td>\n",
       "    </tr>\n",
       "  </tbody>\n",
       "</table>\n",
       "</div>"
      ],
      "text/plain": [
       "   year  population  count      rate\n",
       "0  2010     3796000   2249  0.000592\n",
       "1  2011     3825000   2375  0.000621\n",
       "2  2012     3859000   2568  0.000665\n",
       "3  2013     3892000   2421  0.000622\n",
       "4  2014     3923000   2899  0.000739\n",
       "5  2015     3953000   2905  0.000735\n",
       "6  2016     3981000   3352  0.000842\n",
       "7  2017     4000000   3329  0.000832"
      ]
     },
     "execution_count": 49,
     "metadata": {},
     "output_type": "execute_result"
    }
   ],
   "source": [
    "la_drug_alc"
   ]
  },
  {
   "cell_type": "code",
   "execution_count": 54,
   "metadata": {},
   "outputs": [
    {
     "data": {
      "text/html": [
       "<div>\n",
       "<style scoped>\n",
       "    .dataframe tbody tr th:only-of-type {\n",
       "        vertical-align: middle;\n",
       "    }\n",
       "\n",
       "    .dataframe tbody tr th {\n",
       "        vertical-align: top;\n",
       "    }\n",
       "\n",
       "    .dataframe thead th {\n",
       "        text-align: right;\n",
       "    }\n",
       "</style>\n",
       "<table border=\"1\" class=\"dataframe\">\n",
       "  <thead>\n",
       "    <tr style=\"text-align: right;\">\n",
       "      <th></th>\n",
       "      <th>year</th>\n",
       "      <th>population</th>\n",
       "      <th>count</th>\n",
       "      <th>rate</th>\n",
       "    </tr>\n",
       "  </thead>\n",
       "  <tbody>\n",
       "    <tr>\n",
       "      <th>0</th>\n",
       "      <td>2010</td>\n",
       "      <td>8194000</td>\n",
       "      <td>45508</td>\n",
       "      <td>0.005554</td>\n",
       "    </tr>\n",
       "    <tr>\n",
       "      <th>1</th>\n",
       "      <td>2011</td>\n",
       "      <td>8293000</td>\n",
       "      <td>44579</td>\n",
       "      <td>0.005375</td>\n",
       "    </tr>\n",
       "    <tr>\n",
       "      <th>2</th>\n",
       "      <td>2012</td>\n",
       "      <td>8384000</td>\n",
       "      <td>41493</td>\n",
       "      <td>0.004949</td>\n",
       "    </tr>\n",
       "    <tr>\n",
       "      <th>3</th>\n",
       "      <td>2013</td>\n",
       "      <td>8459000</td>\n",
       "      <td>37743</td>\n",
       "      <td>0.004462</td>\n",
       "    </tr>\n",
       "    <tr>\n",
       "      <th>4</th>\n",
       "      <td>2014</td>\n",
       "      <td>8521000</td>\n",
       "      <td>36756</td>\n",
       "      <td>0.004314</td>\n",
       "    </tr>\n",
       "    <tr>\n",
       "      <th>5</th>\n",
       "      <td>2015</td>\n",
       "      <td>8582000</td>\n",
       "      <td>29701</td>\n",
       "      <td>0.003461</td>\n",
       "    </tr>\n",
       "    <tr>\n",
       "      <th>6</th>\n",
       "      <td>2016</td>\n",
       "      <td>8615000</td>\n",
       "      <td>28711</td>\n",
       "      <td>0.003333</td>\n",
       "    </tr>\n",
       "    <tr>\n",
       "      <th>7</th>\n",
       "      <td>2017</td>\n",
       "      <td>8623000</td>\n",
       "      <td>27671</td>\n",
       "      <td>0.003209</td>\n",
       "    </tr>\n",
       "  </tbody>\n",
       "</table>\n",
       "</div>"
      ],
      "text/plain": [
       "   year  population  count      rate\n",
       "0  2010     8194000  45508  0.005554\n",
       "1  2011     8293000  44579  0.005375\n",
       "2  2012     8384000  41493  0.004949\n",
       "3  2013     8459000  37743  0.004462\n",
       "4  2014     8521000  36756  0.004314\n",
       "5  2015     8582000  29701  0.003461\n",
       "6  2016     8615000  28711  0.003333\n",
       "7  2017     8623000  27671  0.003209"
      ]
     },
     "execution_count": 54,
     "metadata": {},
     "output_type": "execute_result"
    }
   ],
   "source": [
    "ny_drug_alc"
   ]
  },
  {
   "cell_type": "code",
   "execution_count": 55,
   "metadata": {},
   "outputs": [
    {
     "data": {
      "text/html": [
       "<div>\n",
       "<style scoped>\n",
       "    .dataframe tbody tr th:only-of-type {\n",
       "        vertical-align: middle;\n",
       "    }\n",
       "\n",
       "    .dataframe tbody tr th {\n",
       "        vertical-align: top;\n",
       "    }\n",
       "\n",
       "    .dataframe thead th {\n",
       "        text-align: right;\n",
       "    }\n",
       "</style>\n",
       "<table border=\"1\" class=\"dataframe\">\n",
       "  <thead>\n",
       "    <tr style=\"text-align: right;\">\n",
       "      <th></th>\n",
       "      <th>year</th>\n",
       "      <th>population</th>\n",
       "      <th>count</th>\n",
       "      <th>rate</th>\n",
       "    </tr>\n",
       "  </thead>\n",
       "  <tbody>\n",
       "    <tr>\n",
       "      <th>0</th>\n",
       "      <td>2010</td>\n",
       "      <td>610333</td>\n",
       "      <td>3647</td>\n",
       "      <td>0.005975</td>\n",
       "    </tr>\n",
       "    <tr>\n",
       "      <th>1</th>\n",
       "      <td>2011</td>\n",
       "      <td>622532</td>\n",
       "      <td>3094</td>\n",
       "      <td>0.004970</td>\n",
       "    </tr>\n",
       "    <tr>\n",
       "      <th>2</th>\n",
       "      <td>2012</td>\n",
       "      <td>635974</td>\n",
       "      <td>2812</td>\n",
       "      <td>0.004422</td>\n",
       "    </tr>\n",
       "    <tr>\n",
       "      <th>3</th>\n",
       "      <td>2013</td>\n",
       "      <td>654176</td>\n",
       "      <td>2459</td>\n",
       "      <td>0.003759</td>\n",
       "    </tr>\n",
       "    <tr>\n",
       "      <th>4</th>\n",
       "      <td>2014</td>\n",
       "      <td>669641</td>\n",
       "      <td>1915</td>\n",
       "      <td>0.002860</td>\n",
       "    </tr>\n",
       "    <tr>\n",
       "      <th>5</th>\n",
       "      <td>2015</td>\n",
       "      <td>685447</td>\n",
       "      <td>2141</td>\n",
       "      <td>0.003124</td>\n",
       "    </tr>\n",
       "    <tr>\n",
       "      <th>6</th>\n",
       "      <td>2016</td>\n",
       "      <td>707255</td>\n",
       "      <td>2247</td>\n",
       "      <td>0.003177</td>\n",
       "    </tr>\n",
       "    <tr>\n",
       "      <th>7</th>\n",
       "      <td>2017</td>\n",
       "      <td>724745</td>\n",
       "      <td>2655</td>\n",
       "      <td>0.003663</td>\n",
       "    </tr>\n",
       "  </tbody>\n",
       "</table>\n",
       "</div>"
      ],
      "text/plain": [
       "   year  population  count      rate\n",
       "0  2010      610333   3647  0.005975\n",
       "1  2011      622532   3094  0.004970\n",
       "2  2012      635974   2812  0.004422\n",
       "3  2013      654176   2459  0.003759\n",
       "4  2014      669641   1915  0.002860\n",
       "5  2015      685447   2141  0.003124\n",
       "6  2016      707255   2247  0.003177\n",
       "7  2017      724745   2655  0.003663"
      ]
     },
     "execution_count": 55,
     "metadata": {},
     "output_type": "execute_result"
    }
   ],
   "source": [
    "sea_drug_alc"
   ]
  },
  {
   "cell_type": "code",
   "execution_count": 59,
   "metadata": {},
   "outputs": [],
   "source": [
    "la_d_a_var = variance(.000665)\n",
    "ny_d_a_var = variance(.00494)\n",
    "sea_d_a_var = variance(.00442)"
   ]
  },
  {
   "cell_type": "markdown",
   "metadata": {},
   "source": [
    "# Comparing LA to SEA"
   ]
  },
  {
   "cell_type": "code",
   "execution_count": 62,
   "metadata": {},
   "outputs": [
    {
     "data": {
      "image/png": "[encoded data removed]",
      "text/plain": [
       "<Figure size 432x288 with 1 Axes>"
      ]
     },
     "metadata": {
      "needs_background": "light"
     },
     "output_type": "display_data"
    }
   ],
   "source": [
    "# we need to plot a normal distribution of P(robbery in la) - P(robbery in Sea)\n",
    "# our mu is from our null hypothesis\n",
    "# variance is sum of terms from above\n",
    "d = .000665 - .00494\n",
    "mu = 0\n",
    "variance = (la_d_a_var/pop_la) + (sea_d_a_var/pop_sea)\n",
    "sigma = math.sqrt(variance)\n",
    "x = np.linspace(mu-3*sigma, mu + 3*sigma, 100)\n",
    "plt.plot(x,stats.norm.pdf(x,mu,sigma))\n",
    "plt.show()"
   ]
  },
  {
   "cell_type": "code",
   "execution_count": 64,
   "metadata": {},
   "outputs": [
    {
     "data": {
      "text/plain": [
       "-0.004275"
      ]
     },
     "execution_count": 64,
     "metadata": {},
     "output_type": "execute_result"
    }
   ],
   "source": [
    "d"
   ]
  },
  {
   "cell_type": "markdown",
   "metadata": {},
   "source": [
    "Our random variable, d, is an order of magnitude away from our mean and isn't showing up on our distribution.  I think we can safely say that Seattle has a higher rate of Drug and Alcohol related crime."
   ]
  }
 ],
 "metadata": {
  "kernelspec": {
   "display_name": "Python 3",
   "language": "python",
   "name": "python3"
  },
  "language_info": {
   "codemirror_mode": {
    "name": "ipython",
    "version": 3
   },
   "file_extension": ".py",
   "mimetype": "text/x-python",
   "name": "python",
   "nbconvert_exporter": "python",
   "pygments_lexer": "ipython3",
   "version": "3.6.8"
  }
 },
 "nbformat": 4,
 "nbformat_minor": 2
}
