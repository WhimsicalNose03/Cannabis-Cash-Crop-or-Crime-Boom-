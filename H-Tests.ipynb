{
 "cells": [
  {
   "cell_type": "code",
   "execution_count": 1,
   "metadata": {},
   "outputs": [],
   "source": [
    "import pandas as pd\n",
    "import numpy as np\n",
    "import matplotlib.pyplot as plt\n",
    "import scipy.stats as stats\n",
    "import math\n",
    "%matplotlib inline\n",
    "\n",
    "plt.style.use('ggplot')"
   ]
  },
  {
   "cell_type": "code",
   "execution_count": 2,
   "metadata": {},
   "outputs": [],
   "source": [
    "la_murder = pd.read_csv('la_murder.csv')\n",
    "la_burglary = pd.read_csv('la_burglary.csv')\n",
    "la_drug_alc = pd.read_csv('la_drug_alc.csv')\n",
    "la_larceny = pd.read_csv('la_larceny.csv')\n",
    "la_robbery = pd.read_csv('la_robbery.csv')"
   ]
  },
  {
   "cell_type": "code",
   "execution_count": 10,
   "metadata": {},
   "outputs": [],
   "source": [
    "la_murder = la_murder.drop('Unnamed: 0',axis=1)\n",
    "la_burglary = la_burglary.drop('Unnamed: 0',axis=1)\n",
    "la_drug_alc = la_drug_alc.drop('Unnamed: 0',axis=1)\n",
    "la_larceny = la_larceny.drop('Unnamed: 0',axis=1)\n",
    "la_robbery = la_robbery.drop('Unnamed: 0',axis=1)"
   ]
  },
  {
   "cell_type": "code",
   "execution_count": 60,
   "metadata": {},
   "outputs": [],
   "source": [
    "pop_la = 3859000\n",
    "pop_ny = 8384000\n",
    "pop_sea = 635974"
   ]
  },
  {
   "cell_type": "code",
   "execution_count": 12,
   "metadata": {},
   "outputs": [
    {
     "data": {
      "text/html": [
       "<div>\n",
       "<style scoped>\n",
       "    .dataframe tbody tr th:only-of-type {\n",
       "        vertical-align: middle;\n",
       "    }\n",
       "\n",
       "    .dataframe tbody tr th {\n",
       "        vertical-align: top;\n",
       "    }\n",
       "\n",
       "    .dataframe thead th {\n",
       "        text-align: right;\n",
       "    }\n",
       "</style>\n",
       "<table border=\"1\" class=\"dataframe\">\n",
       "  <thead>\n",
       "    <tr style=\"text-align: right;\">\n",
       "      <th></th>\n",
       "      <th>year</th>\n",
       "      <th>population</th>\n",
       "      <th>count</th>\n",
       "      <th>rate</th>\n",
       "    </tr>\n",
       "  </thead>\n",
       "  <tbody>\n",
       "    <tr>\n",
       "      <th>0</th>\n",
       "      <td>2010</td>\n",
       "      <td>3796000</td>\n",
       "      <td>289</td>\n",
       "      <td>0.000076</td>\n",
       "    </tr>\n",
       "    <tr>\n",
       "      <th>1</th>\n",
       "      <td>2011</td>\n",
       "      <td>3825000</td>\n",
       "      <td>293</td>\n",
       "      <td>0.000077</td>\n",
       "    </tr>\n",
       "    <tr>\n",
       "      <th>2</th>\n",
       "      <td>2012</td>\n",
       "      <td>3859000</td>\n",
       "      <td>294</td>\n",
       "      <td>0.000076</td>\n",
       "    </tr>\n",
       "    <tr>\n",
       "      <th>3</th>\n",
       "      <td>2013</td>\n",
       "      <td>3892000</td>\n",
       "      <td>246</td>\n",
       "      <td>0.000063</td>\n",
       "    </tr>\n",
       "    <tr>\n",
       "      <th>4</th>\n",
       "      <td>2014</td>\n",
       "      <td>3923000</td>\n",
       "      <td>254</td>\n",
       "      <td>0.000065</td>\n",
       "    </tr>\n",
       "    <tr>\n",
       "      <th>5</th>\n",
       "      <td>2015</td>\n",
       "      <td>3953000</td>\n",
       "      <td>274</td>\n",
       "      <td>0.000069</td>\n",
       "    </tr>\n",
       "    <tr>\n",
       "      <th>6</th>\n",
       "      <td>2016</td>\n",
       "      <td>3981000</td>\n",
       "      <td>286</td>\n",
       "      <td>0.000072</td>\n",
       "    </tr>\n",
       "    <tr>\n",
       "      <th>7</th>\n",
       "      <td>2017</td>\n",
       "      <td>4000000</td>\n",
       "      <td>273</td>\n",
       "      <td>0.000068</td>\n",
       "    </tr>\n",
       "  </tbody>\n",
       "</table>\n",
       "</div>"
      ],
      "text/plain": [
       "   year  population  count      rate\n",
       "0  2010     3796000    289  0.000076\n",
       "1  2011     3825000    293  0.000077\n",
       "2  2012     3859000    294  0.000076\n",
       "3  2013     3892000    246  0.000063\n",
       "4  2014     3923000    254  0.000065\n",
       "5  2015     3953000    274  0.000069\n",
       "6  2016     3981000    286  0.000072\n",
       "7  2017     4000000    273  0.000068"
      ]
     },
     "execution_count": 12,
     "metadata": {},
     "output_type": "execute_result"
    }
   ],
   "source": [
    "la_murder"
   ]
  },
  {
   "cell_type": "code",
   "execution_count": 6,
   "metadata": {},
   "outputs": [],
   "source": [
    "sea_murder = pd.read_csv('sea_murder.csv')\n",
    "sea_burglary = pd.read_csv('sea_burglary.csv')\n",
    "sea_drug_alc = pd.read_csv('sea_drug_alc.csv')\n",
    "sea_larceny = pd.read_csv('sea_larceny.csv')\n",
    "sea_robbery = pd.read_csv('sea_robbery.csv')"
   ]
  },
  {
   "cell_type": "code",
   "execution_count": 13,
   "metadata": {},
   "outputs": [],
   "source": [
    "sea_murder = sea_murder.drop('Unnamed: 0',axis=1)\n",
    "sea_burglary = sea_burglary.drop('Unnamed: 0',axis=1)\n",
    "sea_drug_alc = sea_drug_alc.drop('Unnamed: 0',axis=1)\n",
    "sea_larceny = sea_larceny.drop('Unnamed: 0',axis=1)\n",
    "sea_robbery = sea_robbery.drop('Unnamed: 0',axis=1)"
   ]
  },
  {
   "cell_type": "code",
   "execution_count": 14,
   "metadata": {},
   "outputs": [
    {
     "data": {
      "text/html": [
       "<div>\n",
       "<style scoped>\n",
       "    .dataframe tbody tr th:only-of-type {\n",
       "        vertical-align: middle;\n",
       "    }\n",
       "\n",
       "    .dataframe tbody tr th {\n",
       "        vertical-align: top;\n",
       "    }\n",
       "\n",
       "    .dataframe thead th {\n",
       "        text-align: right;\n",
       "    }\n",
       "</style>\n",
       "<table border=\"1\" class=\"dataframe\">\n",
       "  <thead>\n",
       "    <tr style=\"text-align: right;\">\n",
       "      <th></th>\n",
       "      <th>year</th>\n",
       "      <th>population</th>\n",
       "      <th>count</th>\n",
       "      <th>rate</th>\n",
       "    </tr>\n",
       "  </thead>\n",
       "  <tbody>\n",
       "    <tr>\n",
       "      <th>0</th>\n",
       "      <td>2010</td>\n",
       "      <td>610333</td>\n",
       "      <td>19</td>\n",
       "      <td>0.000031</td>\n",
       "    </tr>\n",
       "    <tr>\n",
       "      <th>1</th>\n",
       "      <td>2011</td>\n",
       "      <td>622532</td>\n",
       "      <td>23</td>\n",
       "      <td>0.000037</td>\n",
       "    </tr>\n",
       "    <tr>\n",
       "      <th>2</th>\n",
       "      <td>2012</td>\n",
       "      <td>635974</td>\n",
       "      <td>24</td>\n",
       "      <td>0.000038</td>\n",
       "    </tr>\n",
       "    <tr>\n",
       "      <th>3</th>\n",
       "      <td>2013</td>\n",
       "      <td>654176</td>\n",
       "      <td>19</td>\n",
       "      <td>0.000029</td>\n",
       "    </tr>\n",
       "    <tr>\n",
       "      <th>4</th>\n",
       "      <td>2014</td>\n",
       "      <td>669641</td>\n",
       "      <td>23</td>\n",
       "      <td>0.000034</td>\n",
       "    </tr>\n",
       "    <tr>\n",
       "      <th>5</th>\n",
       "      <td>2015</td>\n",
       "      <td>685447</td>\n",
       "      <td>24</td>\n",
       "      <td>0.000035</td>\n",
       "    </tr>\n",
       "    <tr>\n",
       "      <th>6</th>\n",
       "      <td>2016</td>\n",
       "      <td>707255</td>\n",
       "      <td>19</td>\n",
       "      <td>0.000027</td>\n",
       "    </tr>\n",
       "    <tr>\n",
       "      <th>7</th>\n",
       "      <td>2017</td>\n",
       "      <td>724745</td>\n",
       "      <td>28</td>\n",
       "      <td>0.000039</td>\n",
       "    </tr>\n",
       "  </tbody>\n",
       "</table>\n",
       "</div>"
      ],
      "text/plain": [
       "   year  population  count      rate\n",
       "0  2010      610333     19  0.000031\n",
       "1  2011      622532     23  0.000037\n",
       "2  2012      635974     24  0.000038\n",
       "3  2013      654176     19  0.000029\n",
       "4  2014      669641     23  0.000034\n",
       "5  2015      685447     24  0.000035\n",
       "6  2016      707255     19  0.000027\n",
       "7  2017      724745     28  0.000039"
      ]
     },
     "execution_count": 14,
     "metadata": {},
     "output_type": "execute_result"
    }
   ],
   "source": [
    "sea_murder"
   ]
  },
  {
   "cell_type": "code",
   "execution_count": 5,
   "metadata": {},
   "outputs": [],
   "source": [
    "ny_murder = pd.read_csv('ny_murder.csv')\n",
    "ny_burglary = pd.read_csv('ny_burglary.csv')\n",
    "ny_drug_alc = pd.read_csv('ny_drug_alc.csv')\n",
    "ny_larceny = pd.read_csv('ny_larceny.csv')\n",
    "ny_robbery = pd.read_csv('ny_robbery.csv')"
   ]
  },
  {
   "cell_type": "code",
   "execution_count": 15,
   "metadata": {},
   "outputs": [],
   "source": [
    "ny_murder = ny_murder.drop('Unnamed: 0',axis=1)\n",
    "ny_burglary = ny_burglary.drop('Unnamed: 0',axis=1)\n",
    "ny_drug_alc = ny_drug_alc.drop('Unnamed: 0',axis=1)\n",
    "ny_larceny = ny_larceny.drop('Unnamed: 0',axis=1)\n",
    "ny_robbery = ny_robbery.drop('Unnamed: 0',axis=1)"
   ]
  },
  {
   "cell_type": "code",
   "execution_count": 20,
   "metadata": {},
   "outputs": [
    {
     "data": {
      "text/html": [
       "<div>\n",
       "<style scoped>\n",
       "    .dataframe tbody tr th:only-of-type {\n",
       "        vertical-align: middle;\n",
       "    }\n",
       "\n",
       "    .dataframe tbody tr th {\n",
       "        vertical-align: top;\n",
       "    }\n",
       "\n",
       "    .dataframe thead th {\n",
       "        text-align: right;\n",
       "    }\n",
       "</style>\n",
       "<table border=\"1\" class=\"dataframe\">\n",
       "  <thead>\n",
       "    <tr style=\"text-align: right;\">\n",
       "      <th></th>\n",
       "      <th>year</th>\n",
       "      <th>population</th>\n",
       "      <th># murders</th>\n",
       "      <th>murder rate</th>\n",
       "    </tr>\n",
       "  </thead>\n",
       "  <tbody>\n",
       "    <tr>\n",
       "      <th>0</th>\n",
       "      <td>2010</td>\n",
       "      <td>8194000</td>\n",
       "      <td>18</td>\n",
       "      <td>0.000002</td>\n",
       "    </tr>\n",
       "    <tr>\n",
       "      <th>1</th>\n",
       "      <td>2011</td>\n",
       "      <td>8293000</td>\n",
       "      <td>15</td>\n",
       "      <td>0.000002</td>\n",
       "    </tr>\n",
       "    <tr>\n",
       "      <th>2</th>\n",
       "      <td>2012</td>\n",
       "      <td>8384000</td>\n",
       "      <td>27</td>\n",
       "      <td>0.000003</td>\n",
       "    </tr>\n",
       "    <tr>\n",
       "      <th>3</th>\n",
       "      <td>2013</td>\n",
       "      <td>8459000</td>\n",
       "      <td>29</td>\n",
       "      <td>0.000003</td>\n",
       "    </tr>\n",
       "    <tr>\n",
       "      <th>4</th>\n",
       "      <td>2014</td>\n",
       "      <td>8521000</td>\n",
       "      <td>22</td>\n",
       "      <td>0.000003</td>\n",
       "    </tr>\n",
       "    <tr>\n",
       "      <th>5</th>\n",
       "      <td>2015</td>\n",
       "      <td>8582000</td>\n",
       "      <td>12</td>\n",
       "      <td>0.000001</td>\n",
       "    </tr>\n",
       "    <tr>\n",
       "      <th>6</th>\n",
       "      <td>2016</td>\n",
       "      <td>8615000</td>\n",
       "      <td>9</td>\n",
       "      <td>0.000001</td>\n",
       "    </tr>\n",
       "    <tr>\n",
       "      <th>7</th>\n",
       "      <td>2017</td>\n",
       "      <td>8623000</td>\n",
       "      <td>20</td>\n",
       "      <td>0.000002</td>\n",
       "    </tr>\n",
       "  </tbody>\n",
       "</table>\n",
       "</div>"
      ],
      "text/plain": [
       "   year  population  # murders  murder rate\n",
       "0  2010     8194000         18     0.000002\n",
       "1  2011     8293000         15     0.000002\n",
       "2  2012     8384000         27     0.000003\n",
       "3  2013     8459000         29     0.000003\n",
       "4  2014     8521000         22     0.000003\n",
       "5  2015     8582000         12     0.000001\n",
       "6  2016     8615000          9     0.000001\n",
       "7  2017     8623000         20     0.000002"
      ]
     },
     "execution_count": 20,
     "metadata": {},
     "output_type": "execute_result"
    }
   ],
   "source": [
    "ny_murder"
   ]
  },
  {
   "cell_type": "markdown",
   "metadata": {},
   "source": [
    "# Murder Crime"
   ]
  },
  {
   "cell_type": "code",
   "execution_count": 83,
   "metadata": {
    "scrolled": true
   },
   "outputs": [
    {
     "data": {
      "text/plain": [
       "([<matplotlib.axis.XTick at 0x1a25e47780>,\n",
       "  <matplotlib.axis.XTick at 0x1a25e470f0>,\n",
       "  <matplotlib.axis.XTick at 0x1a25e18208>,\n",
       "  <matplotlib.axis.XTick at 0x1a25ed80f0>,\n",
       "  <matplotlib.axis.XTick at 0x1a25ed8550>,\n",
       "  <matplotlib.axis.XTick at 0x1a25e7e550>,\n",
       "  <matplotlib.axis.XTick at 0x1a25ed8be0>,\n",
       "  <matplotlib.axis.XTick at 0x1a25ed8e80>],\n",
       " <a list of 8 Text xticklabel objects>)"
      ]
     },
     "execution_count": 83,
     "metadata": {},
     "output_type": "execute_result"
    },
    {
     "data": {
      "image/png": "[encoded data removed]",
      "text/plain": [
       "<Figure size 432x288 with 1 Axes>"
      ]
     },
     "metadata": {
      "needs_background": "light"
     },
     "output_type": "display_data"
    }
   ],
   "source": [
    "plt.title('Murders per Capita Over Time')\n",
    "plt.plot(la_murder['rate']*100000,c='b',label='LA')\n",
    "plt.plot(sea_murder['rate']*100000,c='r',label='Sea')\n",
    "plt.plot(ny_murder['murder rate']*100000,c='g',label='NYC')\n",
    "\n",
    "plt.ylim(bottom=0)\n",
    "plt.legend(loc=1)\n",
    "plt.xticks(np.arange(8),(2010,2011,2012,2013,2014,2015,2016,2017))"
   ]
  },
  {
   "cell_type": "code",
   "execution_count": null,
   "metadata": {},
   "outputs": [],
   "source": []
  },
  {
   "cell_type": "code",
   "execution_count": null,
   "metadata": {},
   "outputs": [],
   "source": []
  },
  {
   "cell_type": "code",
   "execution_count": null,
   "metadata": {},
   "outputs": [],
   "source": []
  },
  {
   "cell_type": "code",
   "execution_count": null,
   "metadata": {},
   "outputs": [],
   "source": []
  },
  {
   "cell_type": "code",
   "execution_count": null,
   "metadata": {},
   "outputs": [],
   "source": []
  },
  {
   "cell_type": "code",
   "execution_count": null,
   "metadata": {},
   "outputs": [],
   "source": []
  },
  {
   "cell_type": "code",
   "execution_count": null,
   "metadata": {},
   "outputs": [],
   "source": []
  },
  {
   "cell_type": "code",
   "execution_count": null,
   "metadata": {},
   "outputs": [],
   "source": []
  },
  {
   "cell_type": "code",
   "execution_count": null,
   "metadata": {},
   "outputs": [],
   "source": []
  },
  {
   "cell_type": "code",
   "execution_count": null,
   "metadata": {},
   "outputs": [],
   "source": []
  },
  {
   "cell_type": "code",
   "execution_count": null,
   "metadata": {},
   "outputs": [],
   "source": []
  },
  {
   "cell_type": "code",
   "execution_count": null,
   "metadata": {},
   "outputs": [],
   "source": []
  },
  {
   "cell_type": "markdown",
   "metadata": {},
   "source": [
    "# Burglary Crime"
   ]
  },
  {
   "cell_type": "code",
   "execution_count": 84,
   "metadata": {
    "scrolled": true
   },
   "outputs": [
    {
     "data": {
      "text/plain": [
       "([<matplotlib.axis.XTick at 0x1a25827390>,\n",
       "  <matplotlib.axis.XTick at 0x1a2581ac88>,\n",
       "  <matplotlib.axis.XTick at 0x1a2581a9e8>,\n",
       "  <matplotlib.axis.XTick at 0x1a258e6ba8>,\n",
       "  <matplotlib.axis.XTick at 0x1a258f3128>,\n",
       "  <matplotlib.axis.XTick at 0x1a258e64e0>,\n",
       "  <matplotlib.axis.XTick at 0x1a258f3278>,\n",
       "  <matplotlib.axis.XTick at 0x1a258f39e8>],\n",
       " <a list of 8 Text xticklabel objects>)"
      ]
     },
     "execution_count": 84,
     "metadata": {},
     "output_type": "execute_result"
    },
    {
     "data": {
      "image/png": "[encoded data removed]",
      "text/plain": [
       "<Figure size 432x288 with 1 Axes>"
      ]
     },
     "metadata": {
      "needs_background": "light"
     },
     "output_type": "display_data"
    }
   ],
   "source": [
    "plt.title('Burglary per Capita Over Time')\n",
    "plt.plot(la_burglary['rate']*100000,c='b',label='LA')\n",
    "plt.plot(sea_burglary['burglary rate']*100000,c='r',label='Sea')\n",
    "plt.plot(ny_burglary['burglary rate']*100000,c='g',label='NYC')\n",
    "\n",
    "plt.ylim(bottom=0)\n",
    "plt.legend(loc=1)\n",
    "plt.xticks(np.arange(8),(2010,2011,2012,2013,2014,2015,2016,2017))"
   ]
  },
  {
   "cell_type": "code",
   "execution_count": 93,
   "metadata": {},
   "outputs": [
    {
     "data": {
      "text/html": [
       "<div>\n",
       "<style scoped>\n",
       "    .dataframe tbody tr th:only-of-type {\n",
       "        vertical-align: middle;\n",
       "    }\n",
       "\n",
       "    .dataframe tbody tr th {\n",
       "        vertical-align: top;\n",
       "    }\n",
       "\n",
       "    .dataframe thead th {\n",
       "        text-align: right;\n",
       "    }\n",
       "</style>\n",
       "<table border=\"1\" class=\"dataframe\">\n",
       "  <thead>\n",
       "    <tr style=\"text-align: right;\">\n",
       "      <th></th>\n",
       "      <th>year</th>\n",
       "      <th>population</th>\n",
       "      <th>count</th>\n",
       "      <th>rate</th>\n",
       "    </tr>\n",
       "  </thead>\n",
       "  <tbody>\n",
       "    <tr>\n",
       "      <th>0</th>\n",
       "      <td>2010</td>\n",
       "      <td>3796000</td>\n",
       "      <td>17775</td>\n",
       "      <td>0.004683</td>\n",
       "    </tr>\n",
       "    <tr>\n",
       "      <th>1</th>\n",
       "      <td>2011</td>\n",
       "      <td>3825000</td>\n",
       "      <td>17576</td>\n",
       "      <td>0.004595</td>\n",
       "    </tr>\n",
       "    <tr>\n",
       "      <th>2</th>\n",
       "      <td>2012</td>\n",
       "      <td>3859000</td>\n",
       "      <td>16693</td>\n",
       "      <td>0.004326</td>\n",
       "    </tr>\n",
       "    <tr>\n",
       "      <th>3</th>\n",
       "      <td>2013</td>\n",
       "      <td>3892000</td>\n",
       "      <td>15913</td>\n",
       "      <td>0.004089</td>\n",
       "    </tr>\n",
       "    <tr>\n",
       "      <th>4</th>\n",
       "      <td>2014</td>\n",
       "      <td>3923000</td>\n",
       "      <td>15341</td>\n",
       "      <td>0.003911</td>\n",
       "    </tr>\n",
       "    <tr>\n",
       "      <th>5</th>\n",
       "      <td>2015</td>\n",
       "      <td>3953000</td>\n",
       "      <td>16408</td>\n",
       "      <td>0.004151</td>\n",
       "    </tr>\n",
       "    <tr>\n",
       "      <th>6</th>\n",
       "      <td>2016</td>\n",
       "      <td>3981000</td>\n",
       "      <td>15994</td>\n",
       "      <td>0.004018</td>\n",
       "    </tr>\n",
       "    <tr>\n",
       "      <th>7</th>\n",
       "      <td>2017</td>\n",
       "      <td>4000000</td>\n",
       "      <td>16893</td>\n",
       "      <td>0.004223</td>\n",
       "    </tr>\n",
       "  </tbody>\n",
       "</table>\n",
       "</div>"
      ],
      "text/plain": [
       "   year  population  count      rate\n",
       "0  2010     3796000  17775  0.004683\n",
       "1  2011     3825000  17576  0.004595\n",
       "2  2012     3859000  16693  0.004326\n",
       "3  2013     3892000  15913  0.004089\n",
       "4  2014     3923000  15341  0.003911\n",
       "5  2015     3953000  16408  0.004151\n",
       "6  2016     3981000  15994  0.004018\n",
       "7  2017     4000000  16893  0.004223"
      ]
     },
     "execution_count": 93,
     "metadata": {},
     "output_type": "execute_result"
    }
   ],
   "source": [
    "la_burglary"
   ]
  },
  {
   "cell_type": "code",
   "execution_count": 94,
   "metadata": {},
   "outputs": [
    {
     "data": {
      "text/html": [
       "<div>\n",
       "<style scoped>\n",
       "    .dataframe tbody tr th:only-of-type {\n",
       "        vertical-align: middle;\n",
       "    }\n",
       "\n",
       "    .dataframe tbody tr th {\n",
       "        vertical-align: top;\n",
       "    }\n",
       "\n",
       "    .dataframe thead th {\n",
       "        text-align: right;\n",
       "    }\n",
       "</style>\n",
       "<table border=\"1\" class=\"dataframe\">\n",
       "  <thead>\n",
       "    <tr style=\"text-align: right;\">\n",
       "      <th></th>\n",
       "      <th>year</th>\n",
       "      <th>population</th>\n",
       "      <th>count</th>\n",
       "      <th>burglary rate</th>\n",
       "    </tr>\n",
       "  </thead>\n",
       "  <tbody>\n",
       "    <tr>\n",
       "      <th>0</th>\n",
       "      <td>2010</td>\n",
       "      <td>8194000</td>\n",
       "      <td>18838</td>\n",
       "      <td>0.002299</td>\n",
       "    </tr>\n",
       "    <tr>\n",
       "      <th>1</th>\n",
       "      <td>2011</td>\n",
       "      <td>8293000</td>\n",
       "      <td>19104</td>\n",
       "      <td>0.002304</td>\n",
       "    </tr>\n",
       "    <tr>\n",
       "      <th>2</th>\n",
       "      <td>2012</td>\n",
       "      <td>8384000</td>\n",
       "      <td>19552</td>\n",
       "      <td>0.002332</td>\n",
       "    </tr>\n",
       "    <tr>\n",
       "      <th>3</th>\n",
       "      <td>2013</td>\n",
       "      <td>8459000</td>\n",
       "      <td>17799</td>\n",
       "      <td>0.002104</td>\n",
       "    </tr>\n",
       "    <tr>\n",
       "      <th>4</th>\n",
       "      <td>2014</td>\n",
       "      <td>8521000</td>\n",
       "      <td>17222</td>\n",
       "      <td>0.002021</td>\n",
       "    </tr>\n",
       "    <tr>\n",
       "      <th>5</th>\n",
       "      <td>2015</td>\n",
       "      <td>8582000</td>\n",
       "      <td>15468</td>\n",
       "      <td>0.001802</td>\n",
       "    </tr>\n",
       "    <tr>\n",
       "      <th>6</th>\n",
       "      <td>2016</td>\n",
       "      <td>8615000</td>\n",
       "      <td>13304</td>\n",
       "      <td>0.001544</td>\n",
       "    </tr>\n",
       "    <tr>\n",
       "      <th>7</th>\n",
       "      <td>2017</td>\n",
       "      <td>8623000</td>\n",
       "      <td>12397</td>\n",
       "      <td>0.001438</td>\n",
       "    </tr>\n",
       "  </tbody>\n",
       "</table>\n",
       "</div>"
      ],
      "text/plain": [
       "   year  population  count  burglary rate\n",
       "0  2010     8194000  18838       0.002299\n",
       "1  2011     8293000  19104       0.002304\n",
       "2  2012     8384000  19552       0.002332\n",
       "3  2013     8459000  17799       0.002104\n",
       "4  2014     8521000  17222       0.002021\n",
       "5  2015     8582000  15468       0.001802\n",
       "6  2016     8615000  13304       0.001544\n",
       "7  2017     8623000  12397       0.001438"
      ]
     },
     "execution_count": 94,
     "metadata": {},
     "output_type": "execute_result"
    }
   ],
   "source": [
    "ny_burglary"
   ]
  },
  {
   "cell_type": "code",
   "execution_count": 95,
   "metadata": {},
   "outputs": [
    {
     "data": {
      "text/html": [
       "<div>\n",
       "<style scoped>\n",
       "    .dataframe tbody tr th:only-of-type {\n",
       "        vertical-align: middle;\n",
       "    }\n",
       "\n",
       "    .dataframe tbody tr th {\n",
       "        vertical-align: top;\n",
       "    }\n",
       "\n",
       "    .dataframe thead th {\n",
       "        text-align: right;\n",
       "    }\n",
       "</style>\n",
       "<table border=\"1\" class=\"dataframe\">\n",
       "  <thead>\n",
       "    <tr style=\"text-align: right;\">\n",
       "      <th></th>\n",
       "      <th>year</th>\n",
       "      <th>population</th>\n",
       "      <th>count</th>\n",
       "      <th>burglary rate</th>\n",
       "    </tr>\n",
       "  </thead>\n",
       "  <tbody>\n",
       "    <tr>\n",
       "      <th>0</th>\n",
       "      <td>2010</td>\n",
       "      <td>610333</td>\n",
       "      <td>6414</td>\n",
       "      <td>0.010509</td>\n",
       "    </tr>\n",
       "    <tr>\n",
       "      <th>1</th>\n",
       "      <td>2011</td>\n",
       "      <td>622532</td>\n",
       "      <td>6759</td>\n",
       "      <td>0.010857</td>\n",
       "    </tr>\n",
       "    <tr>\n",
       "      <th>2</th>\n",
       "      <td>2012</td>\n",
       "      <td>635974</td>\n",
       "      <td>6527</td>\n",
       "      <td>0.010263</td>\n",
       "    </tr>\n",
       "    <tr>\n",
       "      <th>3</th>\n",
       "      <td>2013</td>\n",
       "      <td>654176</td>\n",
       "      <td>7265</td>\n",
       "      <td>0.011106</td>\n",
       "    </tr>\n",
       "    <tr>\n",
       "      <th>4</th>\n",
       "      <td>2014</td>\n",
       "      <td>669641</td>\n",
       "      <td>7109</td>\n",
       "      <td>0.010616</td>\n",
       "    </tr>\n",
       "    <tr>\n",
       "      <th>5</th>\n",
       "      <td>2015</td>\n",
       "      <td>685447</td>\n",
       "      <td>7553</td>\n",
       "      <td>0.011019</td>\n",
       "    </tr>\n",
       "    <tr>\n",
       "      <th>6</th>\n",
       "      <td>2016</td>\n",
       "      <td>707255</td>\n",
       "      <td>7518</td>\n",
       "      <td>0.010630</td>\n",
       "    </tr>\n",
       "    <tr>\n",
       "      <th>7</th>\n",
       "      <td>2017</td>\n",
       "      <td>724745</td>\n",
       "      <td>7742</td>\n",
       "      <td>0.010682</td>\n",
       "    </tr>\n",
       "  </tbody>\n",
       "</table>\n",
       "</div>"
      ],
      "text/plain": [
       "   year  population  count  burglary rate\n",
       "0  2010      610333   6414       0.010509\n",
       "1  2011      622532   6759       0.010857\n",
       "2  2012      635974   6527       0.010263\n",
       "3  2013      654176   7265       0.011106\n",
       "4  2014      669641   7109       0.010616\n",
       "5  2015      685447   7553       0.011019\n",
       "6  2016      707255   7518       0.010630\n",
       "7  2017      724745   7742       0.010682"
      ]
     },
     "execution_count": 95,
     "metadata": {},
     "output_type": "execute_result"
    }
   ],
   "source": [
    "sea_burglary"
   ]
  },
  {
   "cell_type": "markdown",
   "metadata": {},
   "source": [
    "* Compare LA and Sea"
   ]
  },
  {
   "cell_type": "code",
   "execution_count": 96,
   "metadata": {},
   "outputs": [
    {
     "data": {
      "image/png": "[encoded data removed]",
      "text/plain": [
       "<Figure size 432x288 with 1 Axes>"
      ]
     },
     "metadata": {
      "needs_background": "light"
     },
     "output_type": "display_data"
    }
   ],
   "source": [
    "d = .00433 - .0103 # rate in LA - rate in SEA\n",
    "mu = 0\n",
    "variance = 0.0000000172\n",
    "sigma = math.sqrt(variance)\n",
    "x = np.linspace(mu-3*sigma, mu + 3*sigma, 100)\n",
    "plt.plot(x,stats.norm.pdf(x,mu,sigma))\n",
    "plt.axvline(d,c='b')\n",
    "plt.show()"
   ]
  },
  {
   "cell_type": "markdown",
   "metadata": {},
   "source": [
    "* Our line for Seattle is aboue 44 standard deviations from our hypothesized mean; we can safely say accept our alternative hypothesis."
   ]
  },
  {
   "cell_type": "code",
   "execution_count": 97,
   "metadata": {},
   "outputs": [
    {
     "data": {
      "image/png": "[encoded data removed]",
      "text/plain": [
       "<Figure size 432x288 with 1 Axes>"
      ]
     },
     "metadata": {
      "needs_background": "light"
     },
     "output_type": "display_data"
    }
   ],
   "source": [
    "d = .00233 - .0103 # rate in LA - rate in SEA\n",
    "mu = 0\n",
    "variance = 0.0000000163\n",
    "sigma = math.sqrt(variance)\n",
    "x = np.linspace(mu-3*sigma, mu + 3*sigma, 100)\n",
    "plt.plot(x,stats.norm.pdf(x,mu,sigma))\n",
    "plt.axvline(d,c='b')\n",
    "plt.show()"
   ]
  },
  {
   "cell_type": "markdown",
   "metadata": {},
   "source": [
    "* we see that Larceny Rates are even further apart for New York and Seattle; approximately 61 standard deviations off."
   ]
  },
  {
   "cell_type": "markdown",
   "metadata": {},
   "source": [
    "# Larceny Crime"
   ]
  },
  {
   "cell_type": "code",
   "execution_count": 85,
   "metadata": {
    "scrolled": true
   },
   "outputs": [
    {
     "data": {
      "text/plain": [
       "([<matplotlib.axis.XTick at 0x1a25a98d30>,\n",
       "  <matplotlib.axis.XTick at 0x1a25a98748>,\n",
       "  <matplotlib.axis.XTick at 0x1a25a98470>,\n",
       "  <matplotlib.axis.XTick at 0x1a25c33630>,\n",
       "  <matplotlib.axis.XTick at 0x1a25c33b00>,\n",
       "  <matplotlib.axis.XTick at 0x1a25c33d30>,\n",
       "  <matplotlib.axis.XTick at 0x1a25c22b38>,\n",
       "  <matplotlib.axis.XTick at 0x1a25c44470>],\n",
       " <a list of 8 Text xticklabel objects>)"
      ]
     },
     "execution_count": 85,
     "metadata": {},
     "output_type": "execute_result"
    },
    {
     "data": {
      "image/png": "[encoded data removed]",
      "text/plain": [
       "<Figure size 432x288 with 1 Axes>"
      ]
     },
     "metadata": {
      "needs_background": "light"
     },
     "output_type": "display_data"
    }
   ],
   "source": [
    "plt.title('Larceny per Capita Over Time')\n",
    "plt.plot(la_larceny['rate']*100000,c='b',label='LA')\n",
    "plt.plot(sea_larceny['rate']*100000,c='r',label='Sea')\n",
    "plt.plot(ny_larceny['larceny rate']*100000,c='g',label='NYC')\n",
    "\n",
    "plt.ylim(bottom=0)\n",
    "plt.legend(loc=1)\n",
    "plt.xticks(np.arange(8),(2010,2011,2012,2013,2014,2015,2016,2017))"
   ]
  },
  {
   "cell_type": "code",
   "execution_count": 87,
   "metadata": {},
   "outputs": [
    {
     "data": {
      "text/html": [
       "<div>\n",
       "<style scoped>\n",
       "    .dataframe tbody tr th:only-of-type {\n",
       "        vertical-align: middle;\n",
       "    }\n",
       "\n",
       "    .dataframe tbody tr th {\n",
       "        vertical-align: top;\n",
       "    }\n",
       "\n",
       "    .dataframe thead th {\n",
       "        text-align: right;\n",
       "    }\n",
       "</style>\n",
       "<table border=\"1\" class=\"dataframe\">\n",
       "  <thead>\n",
       "    <tr style=\"text-align: right;\">\n",
       "      <th></th>\n",
       "      <th>year</th>\n",
       "      <th>population</th>\n",
       "      <th>count</th>\n",
       "      <th>rate</th>\n",
       "    </tr>\n",
       "  </thead>\n",
       "  <tbody>\n",
       "    <tr>\n",
       "      <th>0</th>\n",
       "      <td>2010</td>\n",
       "      <td>3796000</td>\n",
       "      <td>27622</td>\n",
       "      <td>0.007277</td>\n",
       "    </tr>\n",
       "    <tr>\n",
       "      <th>1</th>\n",
       "      <td>2011</td>\n",
       "      <td>3825000</td>\n",
       "      <td>27845</td>\n",
       "      <td>0.007280</td>\n",
       "    </tr>\n",
       "    <tr>\n",
       "      <th>2</th>\n",
       "      <td>2012</td>\n",
       "      <td>3859000</td>\n",
       "      <td>29804</td>\n",
       "      <td>0.007723</td>\n",
       "    </tr>\n",
       "    <tr>\n",
       "      <th>3</th>\n",
       "      <td>2013</td>\n",
       "      <td>3892000</td>\n",
       "      <td>29812</td>\n",
       "      <td>0.007660</td>\n",
       "    </tr>\n",
       "    <tr>\n",
       "      <th>4</th>\n",
       "      <td>2014</td>\n",
       "      <td>3923000</td>\n",
       "      <td>31166</td>\n",
       "      <td>0.007944</td>\n",
       "    </tr>\n",
       "    <tr>\n",
       "      <th>5</th>\n",
       "      <td>2015</td>\n",
       "      <td>3953000</td>\n",
       "      <td>33768</td>\n",
       "      <td>0.008542</td>\n",
       "    </tr>\n",
       "    <tr>\n",
       "      <th>6</th>\n",
       "      <td>2016</td>\n",
       "      <td>3981000</td>\n",
       "      <td>34405</td>\n",
       "      <td>0.008642</td>\n",
       "    </tr>\n",
       "    <tr>\n",
       "      <th>7</th>\n",
       "      <td>2017</td>\n",
       "      <td>4000000</td>\n",
       "      <td>34155</td>\n",
       "      <td>0.008539</td>\n",
       "    </tr>\n",
       "  </tbody>\n",
       "</table>\n",
       "</div>"
      ],
      "text/plain": [
       "   year  population  count      rate\n",
       "0  2010     3796000  27622  0.007277\n",
       "1  2011     3825000  27845  0.007280\n",
       "2  2012     3859000  29804  0.007723\n",
       "3  2013     3892000  29812  0.007660\n",
       "4  2014     3923000  31166  0.007944\n",
       "5  2015     3953000  33768  0.008542\n",
       "6  2016     3981000  34405  0.008642\n",
       "7  2017     4000000  34155  0.008539"
      ]
     },
     "execution_count": 87,
     "metadata": {},
     "output_type": "execute_result"
    }
   ],
   "source": [
    "la_larceny"
   ]
  },
  {
   "cell_type": "code",
   "execution_count": 88,
   "metadata": {},
   "outputs": [
    {
     "data": {
      "text/html": [
       "<div>\n",
       "<style scoped>\n",
       "    .dataframe tbody tr th:only-of-type {\n",
       "        vertical-align: middle;\n",
       "    }\n",
       "\n",
       "    .dataframe tbody tr th {\n",
       "        vertical-align: top;\n",
       "    }\n",
       "\n",
       "    .dataframe thead th {\n",
       "        text-align: right;\n",
       "    }\n",
       "</style>\n",
       "<table border=\"1\" class=\"dataframe\">\n",
       "  <thead>\n",
       "    <tr style=\"text-align: right;\">\n",
       "      <th></th>\n",
       "      <th>year</th>\n",
       "      <th>population</th>\n",
       "      <th>count</th>\n",
       "      <th>larceny rate</th>\n",
       "    </tr>\n",
       "  </thead>\n",
       "  <tbody>\n",
       "    <tr>\n",
       "      <th>0</th>\n",
       "      <td>2010</td>\n",
       "      <td>8194000</td>\n",
       "      <td>120285</td>\n",
       "      <td>0.014680</td>\n",
       "    </tr>\n",
       "    <tr>\n",
       "      <th>1</th>\n",
       "      <td>2011</td>\n",
       "      <td>8293000</td>\n",
       "      <td>121112</td>\n",
       "      <td>0.014604</td>\n",
       "    </tr>\n",
       "    <tr>\n",
       "      <th>2</th>\n",
       "      <td>2012</td>\n",
       "      <td>8384000</td>\n",
       "      <td>127358</td>\n",
       "      <td>0.015191</td>\n",
       "    </tr>\n",
       "    <tr>\n",
       "      <th>3</th>\n",
       "      <td>2013</td>\n",
       "      <td>8459000</td>\n",
       "      <td>132821</td>\n",
       "      <td>0.015702</td>\n",
       "    </tr>\n",
       "    <tr>\n",
       "      <th>4</th>\n",
       "      <td>2014</td>\n",
       "      <td>8521000</td>\n",
       "      <td>130973</td>\n",
       "      <td>0.015371</td>\n",
       "    </tr>\n",
       "    <tr>\n",
       "      <th>5</th>\n",
       "      <td>2015</td>\n",
       "      <td>8582000</td>\n",
       "      <td>127748</td>\n",
       "      <td>0.014886</td>\n",
       "    </tr>\n",
       "    <tr>\n",
       "      <th>6</th>\n",
       "      <td>2016</td>\n",
       "      <td>8615000</td>\n",
       "      <td>127901</td>\n",
       "      <td>0.014846</td>\n",
       "    </tr>\n",
       "    <tr>\n",
       "      <th>7</th>\n",
       "      <td>2017</td>\n",
       "      <td>8623000</td>\n",
       "      <td>128731</td>\n",
       "      <td>0.014929</td>\n",
       "    </tr>\n",
       "  </tbody>\n",
       "</table>\n",
       "</div>"
      ],
      "text/plain": [
       "   year  population   count  larceny rate\n",
       "0  2010     8194000  120285      0.014680\n",
       "1  2011     8293000  121112      0.014604\n",
       "2  2012     8384000  127358      0.015191\n",
       "3  2013     8459000  132821      0.015702\n",
       "4  2014     8521000  130973      0.015371\n",
       "5  2015     8582000  127748      0.014886\n",
       "6  2016     8615000  127901      0.014846\n",
       "7  2017     8623000  128731      0.014929"
      ]
     },
     "execution_count": 88,
     "metadata": {},
     "output_type": "execute_result"
    }
   ],
   "source": [
    "ny_larceny"
   ]
  },
  {
   "cell_type": "code",
   "execution_count": 89,
   "metadata": {},
   "outputs": [
    {
     "data": {
      "text/html": [
       "<div>\n",
       "<style scoped>\n",
       "    .dataframe tbody tr th:only-of-type {\n",
       "        vertical-align: middle;\n",
       "    }\n",
       "\n",
       "    .dataframe tbody tr th {\n",
       "        vertical-align: top;\n",
       "    }\n",
       "\n",
       "    .dataframe thead th {\n",
       "        text-align: right;\n",
       "    }\n",
       "</style>\n",
       "<table border=\"1\" class=\"dataframe\">\n",
       "  <thead>\n",
       "    <tr style=\"text-align: right;\">\n",
       "      <th></th>\n",
       "      <th>year</th>\n",
       "      <th>population</th>\n",
       "      <th>count</th>\n",
       "      <th>rate</th>\n",
       "    </tr>\n",
       "  </thead>\n",
       "  <tbody>\n",
       "    <tr>\n",
       "      <th>0</th>\n",
       "      <td>2010</td>\n",
       "      <td>610333</td>\n",
       "      <td>22111</td>\n",
       "      <td>0.036228</td>\n",
       "    </tr>\n",
       "    <tr>\n",
       "      <th>1</th>\n",
       "      <td>2011</td>\n",
       "      <td>622532</td>\n",
       "      <td>21096</td>\n",
       "      <td>0.033887</td>\n",
       "    </tr>\n",
       "    <tr>\n",
       "      <th>2</th>\n",
       "      <td>2012</td>\n",
       "      <td>635974</td>\n",
       "      <td>21532</td>\n",
       "      <td>0.033857</td>\n",
       "    </tr>\n",
       "    <tr>\n",
       "      <th>3</th>\n",
       "      <td>2013</td>\n",
       "      <td>654176</td>\n",
       "      <td>24828</td>\n",
       "      <td>0.037953</td>\n",
       "    </tr>\n",
       "    <tr>\n",
       "      <th>4</th>\n",
       "      <td>2014</td>\n",
       "      <td>669641</td>\n",
       "      <td>27587</td>\n",
       "      <td>0.041197</td>\n",
       "    </tr>\n",
       "    <tr>\n",
       "      <th>5</th>\n",
       "      <td>2015</td>\n",
       "      <td>685447</td>\n",
       "      <td>25998</td>\n",
       "      <td>0.037929</td>\n",
       "    </tr>\n",
       "    <tr>\n",
       "      <th>6</th>\n",
       "      <td>2016</td>\n",
       "      <td>707255</td>\n",
       "      <td>26453</td>\n",
       "      <td>0.037402</td>\n",
       "    </tr>\n",
       "    <tr>\n",
       "      <th>7</th>\n",
       "      <td>2017</td>\n",
       "      <td>724745</td>\n",
       "      <td>26164</td>\n",
       "      <td>0.036101</td>\n",
       "    </tr>\n",
       "  </tbody>\n",
       "</table>\n",
       "</div>"
      ],
      "text/plain": [
       "   year  population  count      rate\n",
       "0  2010      610333  22111  0.036228\n",
       "1  2011      622532  21096  0.033887\n",
       "2  2012      635974  21532  0.033857\n",
       "3  2013      654176  24828  0.037953\n",
       "4  2014      669641  27587  0.041197\n",
       "5  2015      685447  25998  0.037929\n",
       "6  2016      707255  26453  0.037402\n",
       "7  2017      724745  26164  0.036101"
      ]
     },
     "execution_count": 89,
     "metadata": {},
     "output_type": "execute_result"
    }
   ],
   "source": [
    "sea_larceny"
   ]
  },
  {
   "cell_type": "markdown",
   "metadata": {},
   "source": [
    "* Compare LA and Sea"
   ]
  },
  {
   "cell_type": "code",
   "execution_count": 91,
   "metadata": {},
   "outputs": [
    {
     "data": {
      "image/png": "[encoded data removed]",
      "text/plain": [
       "<Figure size 432x288 with 1 Axes>"
      ]
     },
     "metadata": {
      "needs_background": "light"
     },
     "output_type": "display_data"
    }
   ],
   "source": [
    "d = .0147 - .0339 # rate in LA - rate in SEA\n",
    "mu = 0\n",
    "variance = .0000000536\n",
    "sigma = math.sqrt(variance)\n",
    "x = np.linspace(mu-3*sigma, mu + 3*sigma, 100)\n",
    "plt.plot(x,stats.norm.pdf(x,mu,sigma))\n",
    "plt.axvline(d,c='b')\n",
    "plt.show()"
   ]
  },
  {
   "cell_type": "markdown",
   "metadata": {},
   "source": [
    "We can clearly see from this visualization that the larceny rates in LA and Seattle are different."
   ]
  },
  {
   "cell_type": "markdown",
   "metadata": {},
   "source": [
    "* Compare NYC and Seattle"
   ]
  },
  {
   "cell_type": "code",
   "execution_count": 92,
   "metadata": {},
   "outputs": [
    {
     "data": {
      "image/png": "[encoded data removed]",
      "text/plain": [
       "<Figure size 432x288 with 1 Axes>"
      ]
     },
     "metadata": {
      "needs_background": "light"
     },
     "output_type": "display_data"
    }
   ],
   "source": [
    "d = .00772 - .0339 # rate in LA - rate in SEA\n",
    "mu = 0\n",
    "variance = .0000000533\n",
    "sigma = math.sqrt(variance)\n",
    "x = np.linspace(mu-3*sigma, mu + 3*sigma, 100)\n",
    "plt.plot(x,stats.norm.pdf(x,mu,sigma))\n",
    "plt.axvline(d,c='b')\n",
    "plt.show()"
   ]
  },
  {
   "cell_type": "markdown",
   "metadata": {},
   "source": [
    "We can verify that the rate of larceny in Seattle is very different from New York.  These p-value plots simply verify what we see above."
   ]
  },
  {
   "cell_type": "markdown",
   "metadata": {},
   "source": [
    "# Robbery Crime"
   ]
  },
  {
   "cell_type": "code",
   "execution_count": 86,
   "metadata": {
    "scrolled": true
   },
   "outputs": [
    {
     "data": {
      "text/plain": [
       "([<matplotlib.axis.XTick at 0x1a25ebe710>,\n",
       "  <matplotlib.axis.XTick at 0x1a25ebe128>,\n",
       "  <matplotlib.axis.XTick at 0x1a25eb5e48>,\n",
       "  <matplotlib.axis.XTick at 0x1a25f3cd68>,\n",
       "  <matplotlib.axis.XTick at 0x1a25f4d4e0>,\n",
       "  <matplotlib.axis.XTick at 0x1a25f3c630>,\n",
       "  <matplotlib.axis.XTick at 0x1a25f4d940>,\n",
       "  <matplotlib.axis.XTick at 0x1a25f4de10>],\n",
       " <a list of 8 Text xticklabel objects>)"
      ]
     },
     "execution_count": 86,
     "metadata": {},
     "output_type": "execute_result"
    },
    {
     "data": {
      "image/png": "[encoded data removed]",
      "text/plain": [
       "<Figure size 432x288 with 1 Axes>"
      ]
     },
     "metadata": {
      "needs_background": "light"
     },
     "output_type": "display_data"
    }
   ],
   "source": [
    "plt.title('Robbery per Capita Over Time')\n",
    "plt.plot(la_robbery['rate']*100000,c='b',label='LA')\n",
    "plt.plot(sea_robbery['rate']*100000,c='r',label='Sea')\n",
    "plt.plot(ny_robbery['robbery rate']*100000,c='g',label='NYC')\n",
    "\n",
    "plt.legend(loc=3)\n",
    "plt.ylim(bottom=0)\n",
    "plt.xticks(np.arange(8),(2010,2011,2012,2013,2014,2015,2016,2017))"
   ]
  },
  {
   "cell_type": "code",
   "execution_count": 77,
   "metadata": {},
   "outputs": [
    {
     "data": {
      "text/html": [
       "<div>\n",
       "<style scoped>\n",
       "    .dataframe tbody tr th:only-of-type {\n",
       "        vertical-align: middle;\n",
       "    }\n",
       "\n",
       "    .dataframe tbody tr th {\n",
       "        vertical-align: top;\n",
       "    }\n",
       "\n",
       "    .dataframe thead th {\n",
       "        text-align: right;\n",
       "    }\n",
       "</style>\n",
       "<table border=\"1\" class=\"dataframe\">\n",
       "  <thead>\n",
       "    <tr style=\"text-align: right;\">\n",
       "      <th></th>\n",
       "      <th>year</th>\n",
       "      <th>population</th>\n",
       "      <th>count</th>\n",
       "      <th>rate</th>\n",
       "    </tr>\n",
       "  </thead>\n",
       "  <tbody>\n",
       "    <tr>\n",
       "      <th>0</th>\n",
       "      <td>2010</td>\n",
       "      <td>3796000</td>\n",
       "      <td>10899</td>\n",
       "      <td>0.002871</td>\n",
       "    </tr>\n",
       "    <tr>\n",
       "      <th>1</th>\n",
       "      <td>2011</td>\n",
       "      <td>3825000</td>\n",
       "      <td>10031</td>\n",
       "      <td>0.002622</td>\n",
       "    </tr>\n",
       "    <tr>\n",
       "      <th>2</th>\n",
       "      <td>2012</td>\n",
       "      <td>3859000</td>\n",
       "      <td>8927</td>\n",
       "      <td>0.002313</td>\n",
       "    </tr>\n",
       "    <tr>\n",
       "      <th>3</th>\n",
       "      <td>2013</td>\n",
       "      <td>3892000</td>\n",
       "      <td>7851</td>\n",
       "      <td>0.002017</td>\n",
       "    </tr>\n",
       "    <tr>\n",
       "      <th>4</th>\n",
       "      <td>2014</td>\n",
       "      <td>3923000</td>\n",
       "      <td>7911</td>\n",
       "      <td>0.002017</td>\n",
       "    </tr>\n",
       "    <tr>\n",
       "      <th>5</th>\n",
       "      <td>2015</td>\n",
       "      <td>3953000</td>\n",
       "      <td>8974</td>\n",
       "      <td>0.002270</td>\n",
       "    </tr>\n",
       "    <tr>\n",
       "      <th>6</th>\n",
       "      <td>2016</td>\n",
       "      <td>3981000</td>\n",
       "      <td>10190</td>\n",
       "      <td>0.002560</td>\n",
       "    </tr>\n",
       "    <tr>\n",
       "      <th>7</th>\n",
       "      <td>2017</td>\n",
       "      <td>4000000</td>\n",
       "      <td>10733</td>\n",
       "      <td>0.002683</td>\n",
       "    </tr>\n",
       "  </tbody>\n",
       "</table>\n",
       "</div>"
      ],
      "text/plain": [
       "   year  population  count      rate\n",
       "0  2010     3796000  10899  0.002871\n",
       "1  2011     3825000  10031  0.002622\n",
       "2  2012     3859000   8927  0.002313\n",
       "3  2013     3892000   7851  0.002017\n",
       "4  2014     3923000   7911  0.002017\n",
       "5  2015     3953000   8974  0.002270\n",
       "6  2016     3981000  10190  0.002560\n",
       "7  2017     4000000  10733  0.002683"
      ]
     },
     "execution_count": 77,
     "metadata": {},
     "output_type": "execute_result"
    }
   ],
   "source": [
    "la_robbery"
   ]
  },
  {
   "cell_type": "code",
   "execution_count": 78,
   "metadata": {},
   "outputs": [
    {
     "data": {
      "text/html": [
       "<div>\n",
       "<style scoped>\n",
       "    .dataframe tbody tr th:only-of-type {\n",
       "        vertical-align: middle;\n",
       "    }\n",
       "\n",
       "    .dataframe tbody tr th {\n",
       "        vertical-align: top;\n",
       "    }\n",
       "\n",
       "    .dataframe thead th {\n",
       "        text-align: right;\n",
       "    }\n",
       "</style>\n",
       "<table border=\"1\" class=\"dataframe\">\n",
       "  <thead>\n",
       "    <tr style=\"text-align: right;\">\n",
       "      <th></th>\n",
       "      <th>year</th>\n",
       "      <th>population</th>\n",
       "      <th>count</th>\n",
       "      <th>robbery rate</th>\n",
       "    </tr>\n",
       "  </thead>\n",
       "  <tbody>\n",
       "    <tr>\n",
       "      <th>0</th>\n",
       "      <td>2010</td>\n",
       "      <td>8194000</td>\n",
       "      <td>19475</td>\n",
       "      <td>0.002377</td>\n",
       "    </tr>\n",
       "    <tr>\n",
       "      <th>1</th>\n",
       "      <td>2011</td>\n",
       "      <td>8293000</td>\n",
       "      <td>19764</td>\n",
       "      <td>0.002383</td>\n",
       "    </tr>\n",
       "    <tr>\n",
       "      <th>2</th>\n",
       "      <td>2012</td>\n",
       "      <td>8384000</td>\n",
       "      <td>20191</td>\n",
       "      <td>0.002408</td>\n",
       "    </tr>\n",
       "    <tr>\n",
       "      <th>3</th>\n",
       "      <td>2013</td>\n",
       "      <td>8459000</td>\n",
       "      <td>19171</td>\n",
       "      <td>0.002266</td>\n",
       "    </tr>\n",
       "    <tr>\n",
       "      <th>4</th>\n",
       "      <td>2014</td>\n",
       "      <td>8521000</td>\n",
       "      <td>16568</td>\n",
       "      <td>0.001944</td>\n",
       "    </tr>\n",
       "    <tr>\n",
       "      <th>5</th>\n",
       "      <td>2015</td>\n",
       "      <td>8582000</td>\n",
       "      <td>16970</td>\n",
       "      <td>0.001977</td>\n",
       "    </tr>\n",
       "    <tr>\n",
       "      <th>6</th>\n",
       "      <td>2016</td>\n",
       "      <td>8615000</td>\n",
       "      <td>15529</td>\n",
       "      <td>0.001803</td>\n",
       "    </tr>\n",
       "    <tr>\n",
       "      <th>7</th>\n",
       "      <td>2017</td>\n",
       "      <td>8623000</td>\n",
       "      <td>13991</td>\n",
       "      <td>0.001623</td>\n",
       "    </tr>\n",
       "  </tbody>\n",
       "</table>\n",
       "</div>"
      ],
      "text/plain": [
       "   year  population  count  robbery rate\n",
       "0  2010     8194000  19475      0.002377\n",
       "1  2011     8293000  19764      0.002383\n",
       "2  2012     8384000  20191      0.002408\n",
       "3  2013     8459000  19171      0.002266\n",
       "4  2014     8521000  16568      0.001944\n",
       "5  2015     8582000  16970      0.001977\n",
       "6  2016     8615000  15529      0.001803\n",
       "7  2017     8623000  13991      0.001623"
      ]
     },
     "execution_count": 78,
     "metadata": {},
     "output_type": "execute_result"
    }
   ],
   "source": [
    "ny_robbery"
   ]
  },
  {
   "cell_type": "code",
   "execution_count": 79,
   "metadata": {},
   "outputs": [
    {
     "data": {
      "text/html": [
       "<div>\n",
       "<style scoped>\n",
       "    .dataframe tbody tr th:only-of-type {\n",
       "        vertical-align: middle;\n",
       "    }\n",
       "\n",
       "    .dataframe tbody tr th {\n",
       "        vertical-align: top;\n",
       "    }\n",
       "\n",
       "    .dataframe thead th {\n",
       "        text-align: right;\n",
       "    }\n",
       "</style>\n",
       "<table border=\"1\" class=\"dataframe\">\n",
       "  <thead>\n",
       "    <tr style=\"text-align: right;\">\n",
       "      <th></th>\n",
       "      <th>year</th>\n",
       "      <th>population</th>\n",
       "      <th>count</th>\n",
       "      <th>rate</th>\n",
       "    </tr>\n",
       "  </thead>\n",
       "  <tbody>\n",
       "    <tr>\n",
       "      <th>0</th>\n",
       "      <td>2010</td>\n",
       "      <td>610333</td>\n",
       "      <td>1421</td>\n",
       "      <td>0.002328</td>\n",
       "    </tr>\n",
       "    <tr>\n",
       "      <th>1</th>\n",
       "      <td>2011</td>\n",
       "      <td>622532</td>\n",
       "      <td>1416</td>\n",
       "      <td>0.002275</td>\n",
       "    </tr>\n",
       "    <tr>\n",
       "      <th>2</th>\n",
       "      <td>2012</td>\n",
       "      <td>635974</td>\n",
       "      <td>1442</td>\n",
       "      <td>0.002267</td>\n",
       "    </tr>\n",
       "    <tr>\n",
       "      <th>3</th>\n",
       "      <td>2013</td>\n",
       "      <td>654176</td>\n",
       "      <td>1600</td>\n",
       "      <td>0.002446</td>\n",
       "    </tr>\n",
       "    <tr>\n",
       "      <th>4</th>\n",
       "      <td>2014</td>\n",
       "      <td>669641</td>\n",
       "      <td>1569</td>\n",
       "      <td>0.002343</td>\n",
       "    </tr>\n",
       "    <tr>\n",
       "      <th>5</th>\n",
       "      <td>2015</td>\n",
       "      <td>685447</td>\n",
       "      <td>1543</td>\n",
       "      <td>0.002251</td>\n",
       "    </tr>\n",
       "    <tr>\n",
       "      <th>6</th>\n",
       "      <td>2016</td>\n",
       "      <td>707255</td>\n",
       "      <td>1552</td>\n",
       "      <td>0.002194</td>\n",
       "    </tr>\n",
       "    <tr>\n",
       "      <th>7</th>\n",
       "      <td>2017</td>\n",
       "      <td>724745</td>\n",
       "      <td>1537</td>\n",
       "      <td>0.002121</td>\n",
       "    </tr>\n",
       "  </tbody>\n",
       "</table>\n",
       "</div>"
      ],
      "text/plain": [
       "   year  population  count      rate\n",
       "0  2010      610333   1421  0.002328\n",
       "1  2011      622532   1416  0.002275\n",
       "2  2012      635974   1442  0.002267\n",
       "3  2013      654176   1600  0.002446\n",
       "4  2014      669641   1569  0.002343\n",
       "5  2015      685447   1543  0.002251\n",
       "6  2016      707255   1552  0.002194\n",
       "7  2017      724745   1537  0.002121"
      ]
     },
     "execution_count": 79,
     "metadata": {},
     "output_type": "execute_result"
    }
   ],
   "source": [
    "sea_robbery"
   ]
  },
  {
   "cell_type": "markdown",
   "metadata": {},
   "source": [
    "* Comparing LA to SEA"
   ]
  },
  {
   "cell_type": "code",
   "execution_count": 81,
   "metadata": {},
   "outputs": [
    {
     "data": {
      "image/png": "[encoded data removed]",
      "text/plain": [
       "<Figure size 432x288 with 1 Axes>"
      ]
     },
     "metadata": {
      "needs_background": "light"
     },
     "output_type": "display_data"
    }
   ],
   "source": [
    "d = .00231 - .00227 # rate in LA - rate in SEA\n",
    "mu = 0\n",
    "variance = .0000000415\n",
    "sigma = math.sqrt(variance)\n",
    "x = np.linspace(mu-3*sigma, mu + 3*sigma, 100)\n",
    "plt.plot(x,stats.norm.pdf(x,mu,sigma))\n",
    "plt.axvline(d,c='b')\n",
    "plt.show()"
   ]
  },
  {
   "cell_type": "markdown",
   "metadata": {},
   "source": [
    "Visually we know that this is not enough to reject our null; we get a calculated p-value of 0.73."
   ]
  },
  {
   "cell_type": "markdown",
   "metadata": {},
   "source": [
    "* Comparing NY to Sea"
   ]
  },
  {
   "cell_type": "code",
   "execution_count": 82,
   "metadata": {},
   "outputs": [
    {
     "data": {
      "image/png": "[encoded data removed]",
      "text/plain": [
       "<Figure size 432x288 with 1 Axes>"
      ]
     },
     "metadata": {
      "needs_background": "light"
     },
     "output_type": "display_data"
    }
   ],
   "source": [
    "d = .00241 - .00227 # rate in NY - rate in SEA\n",
    "mu = 0\n",
    "variance = .00000000384\n",
    "sigma = math.sqrt(variance)\n",
    "x = np.linspace(mu-3*sigma, mu + 3*sigma, 100)\n",
    "plt.plot(x,stats.norm.pdf(x,mu,sigma))\n",
    "plt.axvline(d,c='b')\n",
    "plt.show()"
   ]
  },
  {
   "cell_type": "markdown",
   "metadata": {},
   "source": [
    "From our graph we can see that this difference in robbery crime rates between NY and Sea could be significant.  We calculate a p-value of 0.0119, which is enough for us to reject our null."
   ]
  },
  {
   "cell_type": "markdown",
   "metadata": {},
   "source": [
    "# Drug and Alcohol Crime"
   ]
  },
  {
   "cell_type": "code",
   "execution_count": 45,
   "metadata": {},
   "outputs": [
    {
     "data": {
      "text/plain": [
       "([<matplotlib.axis.XTick at 0x1a25098630>,\n",
       "  <matplotlib.axis.XTick at 0x1a25098048>,\n",
       "  <matplotlib.axis.XTick at 0x1a25093e80>,\n",
       "  <matplotlib.axis.XTick at 0x1a2512d198>,\n",
       "  <matplotlib.axis.XTick at 0x1a250bb630>,\n",
       "  <matplotlib.axis.XTick at 0x1a2512d8d0>,\n",
       "  <matplotlib.axis.XTick at 0x1a2512dbe0>,\n",
       "  <matplotlib.axis.XTick at 0x1a25135160>],\n",
       " <a list of 8 Text xticklabel objects>)"
      ]
     },
     "execution_count": 45,
     "metadata": {},
     "output_type": "execute_result"
    },
    {
     "data": {
      "image/png": "[encoded data removed]",
      "text/plain": [
       "<Figure size 432x288 with 1 Axes>"
      ]
     },
     "metadata": {
      "needs_background": "light"
     },
     "output_type": "display_data"
    }
   ],
   "source": [
    "plt.title('Drug Alc per Capita Over Time')\n",
    "plt.plot(la_drug_alc['rate'],c='b',label='LA')\n",
    "plt.plot(sea_drug_alc['rate'],c='r',label='Sea')\n",
    "plt.plot(ny_drug_alc['rate'],c='g',label='NYC')\n",
    "\n",
    "plt.legend(loc=1)\n",
    "plt.ylim(bottom=0)\n",
    "plt.xticks(np.arange(8),(2010,2011,2012,2013,2014,2015,2016,2017))"
   ]
  },
  {
   "cell_type": "code",
   "execution_count": 51,
   "metadata": {},
   "outputs": [],
   "source": [
    "def variance(rate):\n",
    "    return rate*(1-rate)\n"
   ]
  },
  {
   "cell_type": "code",
   "execution_count": 49,
   "metadata": {
    "scrolled": true
   },
   "outputs": [
    {
     "data": {
      "text/html": [
       "<div>\n",
       "<style scoped>\n",
       "    .dataframe tbody tr th:only-of-type {\n",
       "        vertical-align: middle;\n",
       "    }\n",
       "\n",
       "    .dataframe tbody tr th {\n",
       "        vertical-align: top;\n",
       "    }\n",
       "\n",
       "    .dataframe thead th {\n",
       "        text-align: right;\n",
       "    }\n",
       "</style>\n",
       "<table border=\"1\" class=\"dataframe\">\n",
       "  <thead>\n",
       "    <tr style=\"text-align: right;\">\n",
       "      <th></th>\n",
       "      <th>year</th>\n",
       "      <th>population</th>\n",
       "      <th>count</th>\n",
       "      <th>rate</th>\n",
       "    </tr>\n",
       "  </thead>\n",
       "  <tbody>\n",
       "    <tr>\n",
       "      <th>0</th>\n",
       "      <td>2010</td>\n",
       "      <td>3796000</td>\n",
       "      <td>2249</td>\n",
       "      <td>0.000592</td>\n",
       "    </tr>\n",
       "    <tr>\n",
       "      <th>1</th>\n",
       "      <td>2011</td>\n",
       "      <td>3825000</td>\n",
       "      <td>2375</td>\n",
       "      <td>0.000621</td>\n",
       "    </tr>\n",
       "    <tr>\n",
       "      <th>2</th>\n",
       "      <td>2012</td>\n",
       "      <td>3859000</td>\n",
       "      <td>2568</td>\n",
       "      <td>0.000665</td>\n",
       "    </tr>\n",
       "    <tr>\n",
       "      <th>3</th>\n",
       "      <td>2013</td>\n",
       "      <td>3892000</td>\n",
       "      <td>2421</td>\n",
       "      <td>0.000622</td>\n",
       "    </tr>\n",
       "    <tr>\n",
       "      <th>4</th>\n",
       "      <td>2014</td>\n",
       "      <td>3923000</td>\n",
       "      <td>2899</td>\n",
       "      <td>0.000739</td>\n",
       "    </tr>\n",
       "    <tr>\n",
       "      <th>5</th>\n",
       "      <td>2015</td>\n",
       "      <td>3953000</td>\n",
       "      <td>2905</td>\n",
       "      <td>0.000735</td>\n",
       "    </tr>\n",
       "    <tr>\n",
       "      <th>6</th>\n",
       "      <td>2016</td>\n",
       "      <td>3981000</td>\n",
       "      <td>3352</td>\n",
       "      <td>0.000842</td>\n",
       "    </tr>\n",
       "    <tr>\n",
       "      <th>7</th>\n",
       "      <td>2017</td>\n",
       "      <td>4000000</td>\n",
       "      <td>3329</td>\n",
       "      <td>0.000832</td>\n",
       "    </tr>\n",
       "  </tbody>\n",
       "</table>\n",
       "</div>"
      ],
      "text/plain": [
       "   year  population  count      rate\n",
       "0  2010     3796000   2249  0.000592\n",
       "1  2011     3825000   2375  0.000621\n",
       "2  2012     3859000   2568  0.000665\n",
       "3  2013     3892000   2421  0.000622\n",
       "4  2014     3923000   2899  0.000739\n",
       "5  2015     3953000   2905  0.000735\n",
       "6  2016     3981000   3352  0.000842\n",
       "7  2017     4000000   3329  0.000832"
      ]
     },
     "execution_count": 49,
     "metadata": {},
     "output_type": "execute_result"
    }
   ],
   "source": [
    "la_drug_alc"
   ]
  },
  {
   "cell_type": "code",
   "execution_count": 54,
   "metadata": {},
   "outputs": [
    {
     "data": {
      "text/html": [
       "<div>\n",
       "<style scoped>\n",
       "    .dataframe tbody tr th:only-of-type {\n",
       "        vertical-align: middle;\n",
       "    }\n",
       "\n",
       "    .dataframe tbody tr th {\n",
       "        vertical-align: top;\n",
       "    }\n",
       "\n",
       "    .dataframe thead th {\n",
       "        text-align: right;\n",
       "    }\n",
       "</style>\n",
       "<table border=\"1\" class=\"dataframe\">\n",
       "  <thead>\n",
       "    <tr style=\"text-align: right;\">\n",
       "      <th></th>\n",
       "      <th>year</th>\n",
       "      <th>population</th>\n",
       "      <th>count</th>\n",
       "      <th>rate</th>\n",
       "    </tr>\n",
       "  </thead>\n",
       "  <tbody>\n",
       "    <tr>\n",
       "      <th>0</th>\n",
       "      <td>2010</td>\n",
       "      <td>8194000</td>\n",
       "      <td>45508</td>\n",
       "      <td>0.005554</td>\n",
       "    </tr>\n",
       "    <tr>\n",
       "      <th>1</th>\n",
       "      <td>2011</td>\n",
       "      <td>8293000</td>\n",
       "      <td>44579</td>\n",
       "      <td>0.005375</td>\n",
       "    </tr>\n",
       "    <tr>\n",
       "      <th>2</th>\n",
       "      <td>2012</td>\n",
       "      <td>8384000</td>\n",
       "      <td>41493</td>\n",
       "      <td>0.004949</td>\n",
       "    </tr>\n",
       "    <tr>\n",
       "      <th>3</th>\n",
       "      <td>2013</td>\n",
       "      <td>8459000</td>\n",
       "      <td>37743</td>\n",
       "      <td>0.004462</td>\n",
       "    </tr>\n",
       "    <tr>\n",
       "      <th>4</th>\n",
       "      <td>2014</td>\n",
       "      <td>8521000</td>\n",
       "      <td>36756</td>\n",
       "      <td>0.004314</td>\n",
       "    </tr>\n",
       "    <tr>\n",
       "      <th>5</th>\n",
       "      <td>2015</td>\n",
       "      <td>8582000</td>\n",
       "      <td>29701</td>\n",
       "      <td>0.003461</td>\n",
       "    </tr>\n",
       "    <tr>\n",
       "      <th>6</th>\n",
       "      <td>2016</td>\n",
       "      <td>8615000</td>\n",
       "      <td>28711</td>\n",
       "      <td>0.003333</td>\n",
       "    </tr>\n",
       "    <tr>\n",
       "      <th>7</th>\n",
       "      <td>2017</td>\n",
       "      <td>8623000</td>\n",
       "      <td>27671</td>\n",
       "      <td>0.003209</td>\n",
       "    </tr>\n",
       "  </tbody>\n",
       "</table>\n",
       "</div>"
      ],
      "text/plain": [
       "   year  population  count      rate\n",
       "0  2010     8194000  45508  0.005554\n",
       "1  2011     8293000  44579  0.005375\n",
       "2  2012     8384000  41493  0.004949\n",
       "3  2013     8459000  37743  0.004462\n",
       "4  2014     8521000  36756  0.004314\n",
       "5  2015     8582000  29701  0.003461\n",
       "6  2016     8615000  28711  0.003333\n",
       "7  2017     8623000  27671  0.003209"
      ]
     },
     "execution_count": 54,
     "metadata": {},
     "output_type": "execute_result"
    }
   ],
   "source": [
    "ny_drug_alc"
   ]
  },
  {
   "cell_type": "code",
   "execution_count": 55,
   "metadata": {},
   "outputs": [
    {
     "data": {
      "text/html": [
       "<div>\n",
       "<style scoped>\n",
       "    .dataframe tbody tr th:only-of-type {\n",
       "        vertical-align: middle;\n",
       "    }\n",
       "\n",
       "    .dataframe tbody tr th {\n",
       "        vertical-align: top;\n",
       "    }\n",
       "\n",
       "    .dataframe thead th {\n",
       "        text-align: right;\n",
       "    }\n",
       "</style>\n",
       "<table border=\"1\" class=\"dataframe\">\n",
       "  <thead>\n",
       "    <tr style=\"text-align: right;\">\n",
       "      <th></th>\n",
       "      <th>year</th>\n",
       "      <th>population</th>\n",
       "      <th>count</th>\n",
       "      <th>rate</th>\n",
       "    </tr>\n",
       "  </thead>\n",
       "  <tbody>\n",
       "    <tr>\n",
       "      <th>0</th>\n",
       "      <td>2010</td>\n",
       "      <td>610333</td>\n",
       "      <td>3647</td>\n",
       "      <td>0.005975</td>\n",
       "    </tr>\n",
       "    <tr>\n",
       "      <th>1</th>\n",
       "      <td>2011</td>\n",
       "      <td>622532</td>\n",
       "      <td>3094</td>\n",
       "      <td>0.004970</td>\n",
       "    </tr>\n",
       "    <tr>\n",
       "      <th>2</th>\n",
       "      <td>2012</td>\n",
       "      <td>635974</td>\n",
       "      <td>2812</td>\n",
       "      <td>0.004422</td>\n",
       "    </tr>\n",
       "    <tr>\n",
       "      <th>3</th>\n",
       "      <td>2013</td>\n",
       "      <td>654176</td>\n",
       "      <td>2459</td>\n",
       "      <td>0.003759</td>\n",
       "    </tr>\n",
       "    <tr>\n",
       "      <th>4</th>\n",
       "      <td>2014</td>\n",
       "      <td>669641</td>\n",
       "      <td>1915</td>\n",
       "      <td>0.002860</td>\n",
       "    </tr>\n",
       "    <tr>\n",
       "      <th>5</th>\n",
       "      <td>2015</td>\n",
       "      <td>685447</td>\n",
       "      <td>2141</td>\n",
       "      <td>0.003124</td>\n",
       "    </tr>\n",
       "    <tr>\n",
       "      <th>6</th>\n",
       "      <td>2016</td>\n",
       "      <td>707255</td>\n",
       "      <td>2247</td>\n",
       "      <td>0.003177</td>\n",
       "    </tr>\n",
       "    <tr>\n",
       "      <th>7</th>\n",
       "      <td>2017</td>\n",
       "      <td>724745</td>\n",
       "      <td>2655</td>\n",
       "      <td>0.003663</td>\n",
       "    </tr>\n",
       "  </tbody>\n",
       "</table>\n",
       "</div>"
      ],
      "text/plain": [
       "   year  population  count      rate\n",
       "0  2010      610333   3647  0.005975\n",
       "1  2011      622532   3094  0.004970\n",
       "2  2012      635974   2812  0.004422\n",
       "3  2013      654176   2459  0.003759\n",
       "4  2014      669641   1915  0.002860\n",
       "5  2015      685447   2141  0.003124\n",
       "6  2016      707255   2247  0.003177\n",
       "7  2017      724745   2655  0.003663"
      ]
     },
     "execution_count": 55,
     "metadata": {},
     "output_type": "execute_result"
    }
   ],
   "source": [
    "sea_drug_alc"
   ]
  },
  {
   "cell_type": "code",
   "execution_count": 59,
   "metadata": {},
   "outputs": [],
   "source": [
    "la_d_a_var = variance(.000665)\n",
    "ny_d_a_var = variance(.00494)\n",
    "sea_d_a_var = variance(.00442)"
   ]
  },
  {
   "cell_type": "markdown",
   "metadata": {},
   "source": [
    "* Comparing LA to SEA"
   ]
  },
  {
   "cell_type": "code",
   "execution_count": 65,
   "metadata": {
    "scrolled": true
   },
   "outputs": [
    {
     "data": {
      "image/png": "[encoded data removed]",
      "text/plain": [
       "<Figure size 432x288 with 1 Axes>"
      ]
     },
     "metadata": {
      "needs_background": "light"
     },
     "output_type": "display_data"
    }
   ],
   "source": [
    "# we need to plot a normal distribution of P(robbery in la) - P(robbery in Sea)\n",
    "# our mu is from our null hypothesis\n",
    "# variance is sum of terms from above\n",
    "d = .000665 - .00494 # rate in LA - rate in SEA\n",
    "mu = 0\n",
    "variance = (la_d_a_var/pop_la) + (sea_d_a_var/pop_sea)\n",
    "sigma = math.sqrt(variance)\n",
    "x = np.linspace(mu-3*sigma, mu + 3*sigma, 100)\n",
    "plt.plot(x,stats.norm.pdf(x,mu,sigma))\n",
    "plt.axvline(d)\n",
    "plt.show()"
   ]
  },
  {
   "cell_type": "code",
   "execution_count": 64,
   "metadata": {},
   "outputs": [
    {
     "data": {
      "text/plain": [
       "-0.004275"
      ]
     },
     "execution_count": 64,
     "metadata": {},
     "output_type": "execute_result"
    }
   ],
   "source": [
    "d"
   ]
  },
  {
   "cell_type": "markdown",
   "metadata": {},
   "source": [
    "Our random variable, d, is an order of magnitude away from our mean and isn't showing up on our distribution.  We can safely reject our null, and say that there is some difference here.  It could be due to a variety of factors - note how Seattle Drug-Alc keeps trending down while LA remains relatively flat.\n",
    "\n",
    "z-score = -15.2\n",
    "We start by assuming our null, that is the difference between Drug and Alcohol crime rates in LA and Seattle are the same.  Based on this test we'd certainly reject our null.  "
   ]
  },
  {
   "cell_type": "markdown",
   "metadata": {},
   "source": [
    "* Compare NYC to Seattle"
   ]
  },
  {
   "cell_type": "code",
   "execution_count": 67,
   "metadata": {},
   "outputs": [
    {
     "data": {
      "image/png": "[encoded data removed]",
      "text/plain": [
       "<Figure size 432x288 with 1 Axes>"
      ]
     },
     "metadata": {
      "needs_background": "light"
     },
     "output_type": "display_data"
    }
   ],
   "source": [
    "d = .00495 - .00494 # rate in LA - rate in SEA\n",
    "mu = 0\n",
    "variance = (ny_d_a_var/pop_la) + (sea_d_a_var/pop_sea)\n",
    "sigma = math.sqrt(variance)\n",
    "x = np.linspace(mu-3*sigma, mu + 3*sigma, 100)\n",
    "plt.plot(x,stats.norm.pdf(x,mu,sigma))\n",
    "plt.axvline(d,c='b')\n",
    "plt.show()"
   ]
  },
  {
   "cell_type": "markdown",
   "metadata": {},
   "source": [
    "Based on this graph there is not enough evidence for us to reject our null hypothesis.  Even with the large difference in population size we see that Drug-Alc related crime is basically the same in Seattle and NYC after legalization occurred.\n",
    "\n",
    "z-score = .0001, corresponding to a z-score of approximately 0.54; definitely not enough to reject our null."
   ]
  },
  {
   "cell_type": "code",
   "execution_count": null,
   "metadata": {},
   "outputs": [],
   "source": []
  }
 ],
 "metadata": {
  "kernelspec": {
   "display_name": "Python 3",
   "language": "python",
   "name": "python3"
  },
  "language_info": {
   "codemirror_mode": {
    "name": "ipython",
    "version": 3
   },
   "file_extension": ".py",
   "mimetype": "text/x-python",
   "name": "python",
   "nbconvert_exporter": "python",
   "pygments_lexer": "ipython3",
   "version": "3.6.8"
  }
 },
 "nbformat": 4,
 "nbformat_minor": 2
}
