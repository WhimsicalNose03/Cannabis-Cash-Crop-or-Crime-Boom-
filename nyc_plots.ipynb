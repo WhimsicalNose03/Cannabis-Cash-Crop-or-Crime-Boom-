{
 "cells": [
  {
   "cell_type": "code",
   "execution_count": 1,
   "metadata": {},
   "outputs": [],
   "source": [
    "import pandas as pd\n",
    "import numpy as np\n",
    "import matplotlib.pyplot as plt\n",
    "import scipy as sp\n",
    "\n",
    "plt.style.use('ggplot')"
   ]
  },
  {
   "cell_type": "code",
   "execution_count": 2,
   "metadata": {},
   "outputs": [],
   "source": [
    "nyc_crime = pd.read_csv('nyc_crime_clean_v1.csv')"
   ]
  },
  {
   "cell_type": "code",
   "execution_count": 3,
   "metadata": {},
   "outputs": [
    {
     "data": {
      "text/html": [
       "<div>\n",
       "<style scoped>\n",
       "    .dataframe tbody tr th:only-of-type {\n",
       "        vertical-align: middle;\n",
       "    }\n",
       "\n",
       "    .dataframe tbody tr th {\n",
       "        vertical-align: top;\n",
       "    }\n",
       "\n",
       "    .dataframe thead th {\n",
       "        text-align: right;\n",
       "    }\n",
       "</style>\n",
       "<table border=\"1\" class=\"dataframe\">\n",
       "  <thead>\n",
       "    <tr style=\"text-align: right;\">\n",
       "      <th></th>\n",
       "      <th>OFNS_DESC</th>\n",
       "      <th>BORO_NM</th>\n",
       "      <th>Lat_Lon</th>\n",
       "      <th>date</th>\n",
       "      <th>offense_category</th>\n",
       "    </tr>\n",
       "  </thead>\n",
       "  <tbody>\n",
       "    <tr>\n",
       "      <th>0</th>\n",
       "      <td>DANGEROUS DRUGS</td>\n",
       "      <td>BRONX</td>\n",
       "      <td>(40.866336332, -73.888359221)</td>\n",
       "      <td>2013-02-13</td>\n",
       "      <td>drug-alc</td>\n",
       "    </tr>\n",
       "    <tr>\n",
       "      <th>1</th>\n",
       "      <td>ASSAULT 3 &amp; RELATED OFFENSES</td>\n",
       "      <td>QUEENS</td>\n",
       "      <td>(40.758891257, -73.934656107)</td>\n",
       "      <td>2013-02-13</td>\n",
       "      <td>agg assault</td>\n",
       "    </tr>\n",
       "    <tr>\n",
       "      <th>2</th>\n",
       "      <td>GRAND LARCENY</td>\n",
       "      <td>BROOKLYN</td>\n",
       "      <td>(40.727623753, -73.952979064)</td>\n",
       "      <td>2013-02-13</td>\n",
       "      <td>larceny</td>\n",
       "    </tr>\n",
       "    <tr>\n",
       "      <th>3</th>\n",
       "      <td>CRIMINAL TRESPASS</td>\n",
       "      <td>BROOKLYN</td>\n",
       "      <td>(40.67511643, -73.904375958)</td>\n",
       "      <td>2013-02-13</td>\n",
       "      <td>other</td>\n",
       "    </tr>\n",
       "    <tr>\n",
       "      <th>4</th>\n",
       "      <td>POSSESSION OF STOLEN PROPERTY</td>\n",
       "      <td>MANHATTAN</td>\n",
       "      <td>(40.738145333, -73.99004194)</td>\n",
       "      <td>2013-02-13</td>\n",
       "      <td>other</td>\n",
       "    </tr>\n",
       "  </tbody>\n",
       "</table>\n",
       "</div>"
      ],
      "text/plain": [
       "                       OFNS_DESC    BORO_NM                        Lat_Lon  \\\n",
       "0                DANGEROUS DRUGS      BRONX  (40.866336332, -73.888359221)   \n",
       "1   ASSAULT 3 & RELATED OFFENSES     QUEENS  (40.758891257, -73.934656107)   \n",
       "2                  GRAND LARCENY   BROOKLYN  (40.727623753, -73.952979064)   \n",
       "3              CRIMINAL TRESPASS   BROOKLYN   (40.67511643, -73.904375958)   \n",
       "4  POSSESSION OF STOLEN PROPERTY  MANHATTAN   (40.738145333, -73.99004194)   \n",
       "\n",
       "         date offense_category  \n",
       "0  2013-02-13         drug-alc  \n",
       "1  2013-02-13      agg assault  \n",
       "2  2013-02-13          larceny  \n",
       "3  2013-02-13            other  \n",
       "4  2013-02-13            other  "
      ]
     },
     "execution_count": 3,
     "metadata": {},
     "output_type": "execute_result"
    }
   ],
   "source": [
    "nyc_crime = nyc_crime.drop('Unnamed: 0',axis=1)\n",
    "nyc_crime.head()"
   ]
  },
  {
   "cell_type": "code",
   "execution_count": 4,
   "metadata": {},
   "outputs": [],
   "source": [
    "nyc_crime['date'] = pd.to_datetime(nyc_crime['date'])"
   ]
  },
  {
   "cell_type": "code",
   "execution_count": 5,
   "metadata": {},
   "outputs": [],
   "source": [
    "nyc_crime['month_year'] = nyc_crime['date'].dt.to_period('M')"
   ]
  },
  {
   "cell_type": "code",
   "execution_count": 6,
   "metadata": {
    "scrolled": true
   },
   "outputs": [
    {
     "data": {
      "text/plain": [
       "pandas._libs.tslibs.period.Period"
      ]
     },
     "execution_count": 6,
     "metadata": {},
     "output_type": "execute_result"
    }
   ],
   "source": [
    "type(nyc_crime['month_year'][0])"
   ]
  },
  {
   "cell_type": "code",
   "execution_count": 7,
   "metadata": {},
   "outputs": [],
   "source": [
    "# convert period back to timestamp\n",
    "nyc_crime['month_year'] = nyc_crime['month_year'].astype(str)\n",
    "nyc_crime['month_year'] = pd.to_datetime(nyc_crime['month_year'], format='%Y-%m')\n"
   ]
  },
  {
   "cell_type": "code",
   "execution_count": 8,
   "metadata": {},
   "outputs": [
    {
     "data": {
      "text/plain": [
       "pandas._libs.tslibs.timestamps.Timestamp"
      ]
     },
     "execution_count": 8,
     "metadata": {},
     "output_type": "execute_result"
    }
   ],
   "source": [
    "type(nyc_crime['month_year'][0])"
   ]
  },
  {
   "cell_type": "code",
   "execution_count": 9,
   "metadata": {},
   "outputs": [
    {
     "data": {
      "text/html": [
       "<div>\n",
       "<style scoped>\n",
       "    .dataframe tbody tr th:only-of-type {\n",
       "        vertical-align: middle;\n",
       "    }\n",
       "\n",
       "    .dataframe tbody tr th {\n",
       "        vertical-align: top;\n",
       "    }\n",
       "\n",
       "    .dataframe thead th {\n",
       "        text-align: right;\n",
       "    }\n",
       "</style>\n",
       "<table border=\"1\" class=\"dataframe\">\n",
       "  <thead>\n",
       "    <tr style=\"text-align: right;\">\n",
       "      <th></th>\n",
       "      <th>OFNS_DESC</th>\n",
       "      <th>BORO_NM</th>\n",
       "      <th>Lat_Lon</th>\n",
       "      <th>date</th>\n",
       "      <th>offense_category</th>\n",
       "      <th>month_year</th>\n",
       "    </tr>\n",
       "  </thead>\n",
       "  <tbody>\n",
       "    <tr>\n",
       "      <th>0</th>\n",
       "      <td>DANGEROUS DRUGS</td>\n",
       "      <td>BRONX</td>\n",
       "      <td>(40.866336332, -73.888359221)</td>\n",
       "      <td>2013-02-13</td>\n",
       "      <td>drug-alc</td>\n",
       "      <td>2013-02-01</td>\n",
       "    </tr>\n",
       "    <tr>\n",
       "      <th>1</th>\n",
       "      <td>ASSAULT 3 &amp; RELATED OFFENSES</td>\n",
       "      <td>QUEENS</td>\n",
       "      <td>(40.758891257, -73.934656107)</td>\n",
       "      <td>2013-02-13</td>\n",
       "      <td>agg assault</td>\n",
       "      <td>2013-02-01</td>\n",
       "    </tr>\n",
       "    <tr>\n",
       "      <th>2</th>\n",
       "      <td>GRAND LARCENY</td>\n",
       "      <td>BROOKLYN</td>\n",
       "      <td>(40.727623753, -73.952979064)</td>\n",
       "      <td>2013-02-13</td>\n",
       "      <td>larceny</td>\n",
       "      <td>2013-02-01</td>\n",
       "    </tr>\n",
       "    <tr>\n",
       "      <th>3</th>\n",
       "      <td>CRIMINAL TRESPASS</td>\n",
       "      <td>BROOKLYN</td>\n",
       "      <td>(40.67511643, -73.904375958)</td>\n",
       "      <td>2013-02-13</td>\n",
       "      <td>other</td>\n",
       "      <td>2013-02-01</td>\n",
       "    </tr>\n",
       "    <tr>\n",
       "      <th>4</th>\n",
       "      <td>POSSESSION OF STOLEN PROPERTY</td>\n",
       "      <td>MANHATTAN</td>\n",
       "      <td>(40.738145333, -73.99004194)</td>\n",
       "      <td>2013-02-13</td>\n",
       "      <td>other</td>\n",
       "      <td>2013-02-01</td>\n",
       "    </tr>\n",
       "  </tbody>\n",
       "</table>\n",
       "</div>"
      ],
      "text/plain": [
       "                       OFNS_DESC    BORO_NM                        Lat_Lon  \\\n",
       "0                DANGEROUS DRUGS      BRONX  (40.866336332, -73.888359221)   \n",
       "1   ASSAULT 3 & RELATED OFFENSES     QUEENS  (40.758891257, -73.934656107)   \n",
       "2                  GRAND LARCENY   BROOKLYN  (40.727623753, -73.952979064)   \n",
       "3              CRIMINAL TRESPASS   BROOKLYN   (40.67511643, -73.904375958)   \n",
       "4  POSSESSION OF STOLEN PROPERTY  MANHATTAN   (40.738145333, -73.99004194)   \n",
       "\n",
       "        date offense_category month_year  \n",
       "0 2013-02-13         drug-alc 2013-02-01  \n",
       "1 2013-02-13      agg assault 2013-02-01  \n",
       "2 2013-02-13          larceny 2013-02-01  \n",
       "3 2013-02-13            other 2013-02-01  \n",
       "4 2013-02-13            other 2013-02-01  "
      ]
     },
     "execution_count": 9,
     "metadata": {},
     "output_type": "execute_result"
    }
   ],
   "source": [
    "nyc_crime.head()"
   ]
  },
  {
   "cell_type": "code",
   "execution_count": 10,
   "metadata": {},
   "outputs": [
    {
     "data": {
      "text/plain": [
       "array(['2006-01-01T00:00:00.000000000', '2006-02-01T00:00:00.000000000',\n",
       "       '2006-03-01T00:00:00.000000000', '2006-04-01T00:00:00.000000000',\n",
       "       '2006-05-01T00:00:00.000000000', '2006-06-01T00:00:00.000000000',\n",
       "       '2006-07-01T00:00:00.000000000', '2006-08-01T00:00:00.000000000',\n",
       "       '2006-09-01T00:00:00.000000000', '2006-10-01T00:00:00.000000000',\n",
       "       '2006-11-01T00:00:00.000000000', '2006-12-01T00:00:00.000000000',\n",
       "       '2007-01-01T00:00:00.000000000', '2007-02-01T00:00:00.000000000',\n",
       "       '2007-03-01T00:00:00.000000000', '2007-04-01T00:00:00.000000000',\n",
       "       '2007-05-01T00:00:00.000000000', '2007-06-01T00:00:00.000000000',\n",
       "       '2007-07-01T00:00:00.000000000', '2007-08-01T00:00:00.000000000',\n",
       "       '2007-09-01T00:00:00.000000000', '2007-10-01T00:00:00.000000000',\n",
       "       '2007-11-01T00:00:00.000000000', '2007-12-01T00:00:00.000000000',\n",
       "       '2008-01-01T00:00:00.000000000', '2008-02-01T00:00:00.000000000',\n",
       "       '2008-03-01T00:00:00.000000000', '2008-04-01T00:00:00.000000000',\n",
       "       '2008-05-01T00:00:00.000000000', '2008-06-01T00:00:00.000000000',\n",
       "       '2008-07-01T00:00:00.000000000', '2008-08-01T00:00:00.000000000',\n",
       "       '2008-09-01T00:00:00.000000000', '2008-10-01T00:00:00.000000000',\n",
       "       '2008-11-01T00:00:00.000000000', '2008-12-01T00:00:00.000000000',\n",
       "       '2009-01-01T00:00:00.000000000', '2009-02-01T00:00:00.000000000',\n",
       "       '2009-03-01T00:00:00.000000000', '2009-04-01T00:00:00.000000000',\n",
       "       '2009-05-01T00:00:00.000000000', '2009-06-01T00:00:00.000000000',\n",
       "       '2009-07-01T00:00:00.000000000', '2009-08-01T00:00:00.000000000',\n",
       "       '2009-09-01T00:00:00.000000000', '2009-10-01T00:00:00.000000000',\n",
       "       '2009-11-01T00:00:00.000000000', '2009-12-01T00:00:00.000000000',\n",
       "       '2010-01-01T00:00:00.000000000', '2010-02-01T00:00:00.000000000',\n",
       "       '2010-03-01T00:00:00.000000000', '2010-04-01T00:00:00.000000000',\n",
       "       '2010-05-01T00:00:00.000000000', '2010-06-01T00:00:00.000000000',\n",
       "       '2010-07-01T00:00:00.000000000', '2010-08-01T00:00:00.000000000',\n",
       "       '2010-09-01T00:00:00.000000000', '2010-10-01T00:00:00.000000000',\n",
       "       '2010-11-01T00:00:00.000000000', '2010-12-01T00:00:00.000000000',\n",
       "       '2011-01-01T00:00:00.000000000', '2011-02-01T00:00:00.000000000',\n",
       "       '2011-03-01T00:00:00.000000000', '2011-04-01T00:00:00.000000000',\n",
       "       '2011-05-01T00:00:00.000000000', '2011-06-01T00:00:00.000000000',\n",
       "       '2011-07-01T00:00:00.000000000', '2011-08-01T00:00:00.000000000',\n",
       "       '2011-09-01T00:00:00.000000000', '2011-10-01T00:00:00.000000000',\n",
       "       '2011-11-01T00:00:00.000000000', '2011-12-01T00:00:00.000000000',\n",
       "       '2012-01-01T00:00:00.000000000', '2012-02-01T00:00:00.000000000',\n",
       "       '2012-03-01T00:00:00.000000000', '2012-04-01T00:00:00.000000000',\n",
       "       '2012-05-01T00:00:00.000000000', '2012-06-01T00:00:00.000000000',\n",
       "       '2012-07-01T00:00:00.000000000', '2012-08-01T00:00:00.000000000',\n",
       "       '2012-09-01T00:00:00.000000000', '2012-10-01T00:00:00.000000000',\n",
       "       '2012-11-01T00:00:00.000000000', '2012-12-01T00:00:00.000000000',\n",
       "       '2013-01-01T00:00:00.000000000', '2013-02-01T00:00:00.000000000',\n",
       "       '2013-03-01T00:00:00.000000000', '2013-04-01T00:00:00.000000000',\n",
       "       '2013-05-01T00:00:00.000000000', '2013-06-01T00:00:00.000000000',\n",
       "       '2013-07-01T00:00:00.000000000', '2013-08-01T00:00:00.000000000',\n",
       "       '2013-09-01T00:00:00.000000000', '2013-10-01T00:00:00.000000000',\n",
       "       '2013-11-01T00:00:00.000000000', '2013-12-01T00:00:00.000000000',\n",
       "       '2014-01-01T00:00:00.000000000', '2014-02-01T00:00:00.000000000',\n",
       "       '2014-03-01T00:00:00.000000000', '2014-04-01T00:00:00.000000000',\n",
       "       '2014-05-01T00:00:00.000000000', '2014-06-01T00:00:00.000000000',\n",
       "       '2014-07-01T00:00:00.000000000', '2014-08-01T00:00:00.000000000',\n",
       "       '2014-09-01T00:00:00.000000000', '2014-10-01T00:00:00.000000000',\n",
       "       '2014-11-01T00:00:00.000000000', '2014-12-01T00:00:00.000000000',\n",
       "       '2015-01-01T00:00:00.000000000', '2015-02-01T00:00:00.000000000',\n",
       "       '2015-03-01T00:00:00.000000000', '2015-04-01T00:00:00.000000000',\n",
       "       '2015-05-01T00:00:00.000000000', '2015-06-01T00:00:00.000000000',\n",
       "       '2015-07-01T00:00:00.000000000', '2015-08-01T00:00:00.000000000',\n",
       "       '2015-09-01T00:00:00.000000000', '2015-10-01T00:00:00.000000000',\n",
       "       '2015-11-01T00:00:00.000000000', '2015-12-01T00:00:00.000000000',\n",
       "       '2016-01-01T00:00:00.000000000', '2016-02-01T00:00:00.000000000',\n",
       "       '2016-03-01T00:00:00.000000000', '2016-04-01T00:00:00.000000000',\n",
       "       '2016-05-01T00:00:00.000000000', '2016-06-01T00:00:00.000000000',\n",
       "       '2016-07-01T00:00:00.000000000', '2016-08-01T00:00:00.000000000',\n",
       "       '2016-09-01T00:00:00.000000000', '2016-10-01T00:00:00.000000000',\n",
       "       '2016-11-01T00:00:00.000000000', '2016-12-01T00:00:00.000000000',\n",
       "       '2017-01-01T00:00:00.000000000', '2017-02-01T00:00:00.000000000',\n",
       "       '2017-03-01T00:00:00.000000000', '2017-04-01T00:00:00.000000000',\n",
       "       '2017-05-01T00:00:00.000000000', '2017-06-01T00:00:00.000000000',\n",
       "       '2017-07-01T00:00:00.000000000', '2017-08-01T00:00:00.000000000',\n",
       "       '2017-09-01T00:00:00.000000000', '2017-10-01T00:00:00.000000000',\n",
       "       '2017-11-01T00:00:00.000000000', '2017-12-01T00:00:00.000000000',\n",
       "       '2018-01-01T00:00:00.000000000', '2018-02-01T00:00:00.000000000',\n",
       "       '2018-03-01T00:00:00.000000000', '2018-04-01T00:00:00.000000000',\n",
       "       '2018-05-01T00:00:00.000000000', '2018-06-01T00:00:00.000000000',\n",
       "       '2018-07-01T00:00:00.000000000', '2018-08-01T00:00:00.000000000',\n",
       "       '2018-09-01T00:00:00.000000000', '2018-10-01T00:00:00.000000000',\n",
       "       '2018-11-01T00:00:00.000000000', '2018-12-01T00:00:00.000000000'],\n",
       "      dtype='datetime64[ns]')"
      ]
     },
     "execution_count": 10,
     "metadata": {},
     "output_type": "execute_result"
    }
   ],
   "source": [
    "a = nyc_crime['month_year'].unique()\n",
    "a.sort()\n",
    "a"
   ]
  },
  {
   "cell_type": "code",
   "execution_count": 11,
   "metadata": {},
   "outputs": [
    {
     "data": {
      "text/html": [
       "<div>\n",
       "<style scoped>\n",
       "    .dataframe tbody tr th:only-of-type {\n",
       "        vertical-align: middle;\n",
       "    }\n",
       "\n",
       "    .dataframe tbody tr th {\n",
       "        vertical-align: top;\n",
       "    }\n",
       "\n",
       "    .dataframe thead th {\n",
       "        text-align: right;\n",
       "    }\n",
       "</style>\n",
       "<table border=\"1\" class=\"dataframe\">\n",
       "  <thead>\n",
       "    <tr style=\"text-align: right;\">\n",
       "      <th></th>\n",
       "      <th>OFNS_DESC</th>\n",
       "      <th>BORO_NM</th>\n",
       "      <th>Lat_Lon</th>\n",
       "      <th>date</th>\n",
       "      <th>offense_category</th>\n",
       "      <th>month_year</th>\n",
       "    </tr>\n",
       "  </thead>\n",
       "  <tbody>\n",
       "    <tr>\n",
       "      <th>count</th>\n",
       "      <td>5244873</td>\n",
       "      <td>5244873</td>\n",
       "      <td>5244873</td>\n",
       "      <td>5244873</td>\n",
       "      <td>5244873</td>\n",
       "      <td>5244873</td>\n",
       "    </tr>\n",
       "    <tr>\n",
       "      <th>unique</th>\n",
       "      <td>58</td>\n",
       "      <td>5</td>\n",
       "      <td>114016</td>\n",
       "      <td>4519</td>\n",
       "      <td>14</td>\n",
       "      <td>156</td>\n",
       "    </tr>\n",
       "    <tr>\n",
       "      <th>top</th>\n",
       "      <td>PETIT LARCENY</td>\n",
       "      <td>BROOKLYN</td>\n",
       "      <td>(40.750430768, -73.989282176)</td>\n",
       "      <td>2006-11-01 00:00:00</td>\n",
       "      <td>larceny</td>\n",
       "      <td>2007-10-01 00:00:00</td>\n",
       "    </tr>\n",
       "    <tr>\n",
       "      <th>freq</th>\n",
       "      <td>982992</td>\n",
       "      <td>1564185</td>\n",
       "      <td>19208</td>\n",
       "      <td>1618</td>\n",
       "      <td>1514486</td>\n",
       "      <td>42360</td>\n",
       "    </tr>\n",
       "    <tr>\n",
       "      <th>first</th>\n",
       "      <td>NaN</td>\n",
       "      <td>NaN</td>\n",
       "      <td>NaN</td>\n",
       "      <td>2006-01-01 00:00:00</td>\n",
       "      <td>NaN</td>\n",
       "      <td>2006-01-01 00:00:00</td>\n",
       "    </tr>\n",
       "    <tr>\n",
       "      <th>last</th>\n",
       "      <td>NaN</td>\n",
       "      <td>NaN</td>\n",
       "      <td>NaN</td>\n",
       "      <td>2018-12-25 00:00:00</td>\n",
       "      <td>NaN</td>\n",
       "      <td>2018-12-01 00:00:00</td>\n",
       "    </tr>\n",
       "  </tbody>\n",
       "</table>\n",
       "</div>"
      ],
      "text/plain": [
       "            OFNS_DESC   BORO_NM                        Lat_Lon  \\\n",
       "count         5244873   5244873                        5244873   \n",
       "unique             58         5                         114016   \n",
       "top     PETIT LARCENY  BROOKLYN  (40.750430768, -73.989282176)   \n",
       "freq           982992   1564185                          19208   \n",
       "first             NaN       NaN                            NaN   \n",
       "last              NaN       NaN                            NaN   \n",
       "\n",
       "                       date offense_category           month_year  \n",
       "count               5244873          5244873              5244873  \n",
       "unique                 4519               14                  156  \n",
       "top     2006-11-01 00:00:00          larceny  2007-10-01 00:00:00  \n",
       "freq                   1618          1514486                42360  \n",
       "first   2006-01-01 00:00:00              NaN  2006-01-01 00:00:00  \n",
       "last    2018-12-25 00:00:00              NaN  2018-12-01 00:00:00  "
      ]
     },
     "execution_count": 11,
     "metadata": {},
     "output_type": "execute_result"
    }
   ],
   "source": [
    "nyc_crime.describe()"
   ]
  },
  {
   "cell_type": "code",
   "execution_count": 12,
   "metadata": {},
   "outputs": [],
   "source": [
    "nyc_crime['year'] = nyc_crime['month_year'].dt.year"
   ]
  },
  {
   "cell_type": "code",
   "execution_count": 13,
   "metadata": {},
   "outputs": [
    {
     "data": {
      "text/plain": [
       "array(['2006-01-01T00:00:00.000000000', '2006-02-01T00:00:00.000000000',\n",
       "       '2006-03-01T00:00:00.000000000', '2006-04-01T00:00:00.000000000',\n",
       "       '2006-05-01T00:00:00.000000000', '2006-06-01T00:00:00.000000000',\n",
       "       '2006-07-01T00:00:00.000000000', '2006-08-01T00:00:00.000000000',\n",
       "       '2006-09-01T00:00:00.000000000', '2006-10-01T00:00:00.000000000',\n",
       "       '2006-11-01T00:00:00.000000000', '2006-12-01T00:00:00.000000000',\n",
       "       '2007-01-01T00:00:00.000000000', '2007-02-01T00:00:00.000000000',\n",
       "       '2007-03-01T00:00:00.000000000', '2007-04-01T00:00:00.000000000',\n",
       "       '2007-05-01T00:00:00.000000000', '2007-06-01T00:00:00.000000000',\n",
       "       '2007-07-01T00:00:00.000000000', '2007-08-01T00:00:00.000000000',\n",
       "       '2007-09-01T00:00:00.000000000', '2007-10-01T00:00:00.000000000',\n",
       "       '2007-11-01T00:00:00.000000000', '2007-12-01T00:00:00.000000000',\n",
       "       '2008-01-01T00:00:00.000000000', '2008-02-01T00:00:00.000000000',\n",
       "       '2008-03-01T00:00:00.000000000', '2008-04-01T00:00:00.000000000',\n",
       "       '2008-05-01T00:00:00.000000000', '2008-06-01T00:00:00.000000000',\n",
       "       '2008-07-01T00:00:00.000000000', '2008-08-01T00:00:00.000000000',\n",
       "       '2008-09-01T00:00:00.000000000', '2008-10-01T00:00:00.000000000',\n",
       "       '2008-11-01T00:00:00.000000000', '2008-12-01T00:00:00.000000000',\n",
       "       '2009-01-01T00:00:00.000000000', '2009-02-01T00:00:00.000000000',\n",
       "       '2009-03-01T00:00:00.000000000', '2009-04-01T00:00:00.000000000',\n",
       "       '2009-05-01T00:00:00.000000000', '2009-06-01T00:00:00.000000000',\n",
       "       '2009-07-01T00:00:00.000000000', '2009-08-01T00:00:00.000000000',\n",
       "       '2009-09-01T00:00:00.000000000', '2009-10-01T00:00:00.000000000',\n",
       "       '2009-11-01T00:00:00.000000000', '2009-12-01T00:00:00.000000000',\n",
       "       '2010-01-01T00:00:00.000000000', '2010-02-01T00:00:00.000000000',\n",
       "       '2010-03-01T00:00:00.000000000', '2010-04-01T00:00:00.000000000',\n",
       "       '2010-05-01T00:00:00.000000000', '2010-06-01T00:00:00.000000000',\n",
       "       '2010-07-01T00:00:00.000000000', '2010-08-01T00:00:00.000000000',\n",
       "       '2010-09-01T00:00:00.000000000', '2010-10-01T00:00:00.000000000',\n",
       "       '2010-11-01T00:00:00.000000000', '2010-12-01T00:00:00.000000000',\n",
       "       '2011-01-01T00:00:00.000000000', '2011-02-01T00:00:00.000000000',\n",
       "       '2011-03-01T00:00:00.000000000', '2011-04-01T00:00:00.000000000',\n",
       "       '2011-05-01T00:00:00.000000000', '2011-06-01T00:00:00.000000000',\n",
       "       '2011-07-01T00:00:00.000000000', '2011-08-01T00:00:00.000000000',\n",
       "       '2011-09-01T00:00:00.000000000', '2011-10-01T00:00:00.000000000',\n",
       "       '2011-11-01T00:00:00.000000000', '2011-12-01T00:00:00.000000000',\n",
       "       '2012-01-01T00:00:00.000000000', '2012-02-01T00:00:00.000000000',\n",
       "       '2012-03-01T00:00:00.000000000', '2012-04-01T00:00:00.000000000',\n",
       "       '2012-05-01T00:00:00.000000000', '2012-06-01T00:00:00.000000000',\n",
       "       '2012-07-01T00:00:00.000000000', '2012-08-01T00:00:00.000000000',\n",
       "       '2012-09-01T00:00:00.000000000', '2012-10-01T00:00:00.000000000',\n",
       "       '2012-11-01T00:00:00.000000000', '2012-12-01T00:00:00.000000000',\n",
       "       '2013-01-01T00:00:00.000000000', '2013-02-01T00:00:00.000000000',\n",
       "       '2013-03-01T00:00:00.000000000', '2013-04-01T00:00:00.000000000',\n",
       "       '2013-05-01T00:00:00.000000000', '2013-06-01T00:00:00.000000000',\n",
       "       '2013-07-01T00:00:00.000000000', '2013-08-01T00:00:00.000000000',\n",
       "       '2013-09-01T00:00:00.000000000', '2013-10-01T00:00:00.000000000',\n",
       "       '2013-11-01T00:00:00.000000000', '2013-12-01T00:00:00.000000000',\n",
       "       '2014-01-01T00:00:00.000000000', '2014-02-01T00:00:00.000000000',\n",
       "       '2014-03-01T00:00:00.000000000', '2014-04-01T00:00:00.000000000',\n",
       "       '2014-05-01T00:00:00.000000000', '2014-06-01T00:00:00.000000000',\n",
       "       '2014-07-01T00:00:00.000000000', '2014-08-01T00:00:00.000000000',\n",
       "       '2014-09-01T00:00:00.000000000', '2014-10-01T00:00:00.000000000',\n",
       "       '2014-11-01T00:00:00.000000000', '2014-12-01T00:00:00.000000000',\n",
       "       '2015-01-01T00:00:00.000000000', '2015-02-01T00:00:00.000000000',\n",
       "       '2015-03-01T00:00:00.000000000', '2015-04-01T00:00:00.000000000',\n",
       "       '2015-05-01T00:00:00.000000000', '2015-06-01T00:00:00.000000000',\n",
       "       '2015-07-01T00:00:00.000000000', '2015-08-01T00:00:00.000000000',\n",
       "       '2015-09-01T00:00:00.000000000', '2015-10-01T00:00:00.000000000',\n",
       "       '2015-11-01T00:00:00.000000000', '2015-12-01T00:00:00.000000000',\n",
       "       '2016-01-01T00:00:00.000000000', '2016-02-01T00:00:00.000000000',\n",
       "       '2016-03-01T00:00:00.000000000', '2016-04-01T00:00:00.000000000',\n",
       "       '2016-05-01T00:00:00.000000000', '2016-06-01T00:00:00.000000000',\n",
       "       '2016-07-01T00:00:00.000000000', '2016-08-01T00:00:00.000000000',\n",
       "       '2016-09-01T00:00:00.000000000', '2016-10-01T00:00:00.000000000',\n",
       "       '2016-11-01T00:00:00.000000000', '2016-12-01T00:00:00.000000000',\n",
       "       '2017-01-01T00:00:00.000000000', '2017-02-01T00:00:00.000000000',\n",
       "       '2017-03-01T00:00:00.000000000', '2017-04-01T00:00:00.000000000',\n",
       "       '2017-05-01T00:00:00.000000000', '2017-06-01T00:00:00.000000000',\n",
       "       '2017-07-01T00:00:00.000000000', '2017-08-01T00:00:00.000000000',\n",
       "       '2017-09-01T00:00:00.000000000', '2017-10-01T00:00:00.000000000',\n",
       "       '2017-11-01T00:00:00.000000000', '2017-12-01T00:00:00.000000000',\n",
       "       '2018-01-01T00:00:00.000000000', '2018-02-01T00:00:00.000000000',\n",
       "       '2018-03-01T00:00:00.000000000', '2018-04-01T00:00:00.000000000',\n",
       "       '2018-05-01T00:00:00.000000000', '2018-06-01T00:00:00.000000000',\n",
       "       '2018-07-01T00:00:00.000000000', '2018-08-01T00:00:00.000000000',\n",
       "       '2018-09-01T00:00:00.000000000', '2018-10-01T00:00:00.000000000',\n",
       "       '2018-11-01T00:00:00.000000000', '2018-12-01T00:00:00.000000000'],\n",
       "      dtype='datetime64[ns]')"
      ]
     },
     "execution_count": 13,
     "metadata": {},
     "output_type": "execute_result"
    }
   ],
   "source": [
    "x = nyc_crime['month_year'].unique()\n",
    "x.sort()\n",
    "x"
   ]
  },
  {
   "cell_type": "code",
   "execution_count": 14,
   "metadata": {},
   "outputs": [],
   "source": [
    "nyc_crime = nyc_crime[nyc_crime['month_year'] >= '2010-01-01']"
   ]
  },
  {
   "cell_type": "code",
   "execution_count": 54,
   "metadata": {},
   "outputs": [],
   "source": [
    "nyc_crime = nyc_crime[nyc_crime['month_year'] < '2018-01-01']"
   ]
  },
  {
   "cell_type": "code",
   "execution_count": 55,
   "metadata": {},
   "outputs": [],
   "source": [
    "nyc_pub_disorder = nyc_crime.loc[nyc_crime['offense_category'] == 'pub disorder']\n",
    "nyc_drug_alc = nyc_crime.loc[nyc_crime['offense_category'] == 'drug-alc']\n",
    "nyc_white_collar = nyc_crime.loc[nyc_crime['offense_category'] == 'white collar']\n",
    "nyc_auto_theft = nyc_crime.loc[nyc_crime['offense_category'] == 'auto-theft']\n",
    "nyc_larceny = nyc_crime.loc[nyc_crime['offense_category'] == 'larceny']\n",
    "nyc_other_crimes_agnst_per = nyc_crime.loc[nyc_crime['offense_category'] == 'other crimes against persons']\n",
    "nyc_burglary = nyc_crime.loc[nyc_crime['offense_category'] == 'burglary']\n",
    "nyc_other = nyc_crime.loc[nyc_crime['offense_category'] == 'other']\n",
    "nyc_agg_assault = nyc_crime.loc[nyc_crime['offense_category'] == 'agg assault']\n",
    "nyc_robbery = nyc_crime.loc[nyc_crime['offense_category'] == 'robbery']\n",
    "nyc_sex_asslt = nyc_crime.loc[nyc_crime['offense_category'] == 'sexual assault']\n",
    "nyc_arson = nyc_crime.loc[nyc_crime['offense_category'] == 'arson']\n",
    "nyc_child = nyc_crime.loc[nyc_crime['offense_category'] == 'child']\n",
    "nyc_murder = nyc_crime.loc[nyc_crime['offense_category'] == 'murder']"
   ]
  },
  {
   "cell_type": "markdown",
   "metadata": {},
   "source": [
    "# Primary Categories\n",
    "\n",
    "Murder, Drug-Alc, Larceny, Burglary, Robbery\n",
    "\n",
    "We're comparing this data to that of Seattle.  We're going to need the per capita change of each of these crime rates.\n",
    "\n",
    "2011 population = 8.293 mil\n",
    "\n",
    "2012 population = 8.384 mil  \n",
    "\n",
    "2013 population = 8.459 mil\n",
    "\n",
    "-----------------------------\n",
    "\n",
    "2011 drug-alc/capita = 44579/8.293 mil = 5.48* 10^-3\n",
    "\n",
    "2012 drug-alc/capita = 41493/8.382 mil = 4.95 * 10^-3\n",
    "\n",
    "2013 drug-alc/capita = 37743/8.459 mil = 4.46 * 10^-3\n",
    "\n",
    "----------------------------------\n",
    "\n",
    "2011 larceny/capita = 121112/8.293 mil = 1.46 * 10^-2\n",
    "\n",
    "2012 larceny/capita = 127358/8.382 mil = 1.52 * 10^-2\n",
    "\n",
    "2013 larceny/capita = 132821/8.459 mil = 1.57 * 10^-2\n",
    "\n",
    "------------------------------------\n",
    "\n",
    "2011 robbery/capita = 19764/8.293 mil = 2.38 * 10^-3\n",
    "\n",
    "2012 robbery/capita = 20191/8.382 mil = 2.41 * 10^-3\n",
    "\n",
    "2013 robbery/capita = 19171/8.459 mil = 2.27 * 10^-3\n",
    "\n",
    "-------------------------------------\n",
    "\n",
    "2011 burglary/capita = 19104/8.293 mil = 2.30 * 10^-3\n",
    "\n",
    "2012 burglary/capita = 19552/8.382 mil = 2.33 * 10^-3\n",
    "\n",
    "2013 burglary/capita = 17799/8.459 mil = 2.12 * 10^-3\n",
    "\n",
    "-----------------------------------\n",
    "\n",
    "2011 murder/capita = 15/8.293 mil = 1.81 * 10^-6\n",
    "\n",
    "2012 murder/capita = 27/8.382 mil = 3.22 * 10^-6\n",
    "\n",
    "2013 murder/capita = 29/8.459 mil = 3.43 * 10^-6\n"
   ]
  },
  {
   "cell_type": "code",
   "execution_count": 16,
   "metadata": {},
   "outputs": [],
   "source": [
    "x_drug_alc = nyc_drug_alc['month_year'].unique()\n",
    "x_drug_alc.sort()\n"
   ]
  },
  {
   "cell_type": "code",
   "execution_count": 17,
   "metadata": {
    "scrolled": false
   },
   "outputs": [
    {
     "name": "stderr",
     "output_type": "stream",
     "text": [
      "/Users/ajfong/anaconda3/lib/python3.6/site-packages/pandas/plotting/_converter.py:129: FutureWarning: Using an implicitly registered datetime converter for a matplotlib plotting method. The converter was registered by pandas on import. Future versions of pandas will require you to explicitly register matplotlib converters.\n",
      "\n",
      "To register the converters:\n",
      "\t>>> from pandas.plotting import register_matplotlib_converters\n",
      "\t>>> register_matplotlib_converters()\n",
      "  warnings.warn(msg, FutureWarning)\n"
     ]
    },
    {
     "data": {
      "text/plain": [
       "[<matplotlib.lines.Line2D at 0x110ccc7b8>]"
      ]
     },
     "execution_count": 17,
     "metadata": {},
     "output_type": "execute_result"
    },
    {
     "data": {
      "image/png": "[encoded data removed]",
      "text/plain": [
       "<Figure size 432x288 with 1 Axes>"
      ]
     },
     "metadata": {
      "needs_background": "light"
     },
     "output_type": "display_data"
    }
   ],
   "source": [
    "plt.title('Drug and Alcohol Crime over Time in NY City')\n",
    "plt.plot(x_drug_alc,nyc_drug_alc['month_year'].value_counts())"
   ]
  },
  {
   "cell_type": "code",
   "execution_count": 85,
   "metadata": {},
   "outputs": [],
   "source": [
    "drug_alc_by_year = nyc_drug_alc['year'].value_counts()"
   ]
  },
  {
   "cell_type": "code",
   "execution_count": 87,
   "metadata": {},
   "outputs": [],
   "source": [
    "drug_alc_by_year = drug_alc_by_year.sort_index()"
   ]
  },
  {
   "cell_type": "code",
   "execution_count": 88,
   "metadata": {},
   "outputs": [
    {
     "data": {
      "text/html": [
       "<div>\n",
       "<style scoped>\n",
       "    .dataframe tbody tr th:only-of-type {\n",
       "        vertical-align: middle;\n",
       "    }\n",
       "\n",
       "    .dataframe tbody tr th {\n",
       "        vertical-align: top;\n",
       "    }\n",
       "\n",
       "    .dataframe thead th {\n",
       "        text-align: right;\n",
       "    }\n",
       "</style>\n",
       "<table border=\"1\" class=\"dataframe\">\n",
       "  <thead>\n",
       "    <tr style=\"text-align: right;\">\n",
       "      <th></th>\n",
       "      <th>year</th>\n",
       "      <th>population</th>\n",
       "      <th>count</th>\n",
       "      <th>rate</th>\n",
       "    </tr>\n",
       "  </thead>\n",
       "  <tbody>\n",
       "    <tr>\n",
       "      <th>0</th>\n",
       "      <td>2010</td>\n",
       "      <td>8194000</td>\n",
       "      <td>45508</td>\n",
       "      <td>0.005554</td>\n",
       "    </tr>\n",
       "    <tr>\n",
       "      <th>1</th>\n",
       "      <td>2011</td>\n",
       "      <td>8293000</td>\n",
       "      <td>44579</td>\n",
       "      <td>0.005375</td>\n",
       "    </tr>\n",
       "    <tr>\n",
       "      <th>2</th>\n",
       "      <td>2012</td>\n",
       "      <td>8384000</td>\n",
       "      <td>41493</td>\n",
       "      <td>0.004949</td>\n",
       "    </tr>\n",
       "    <tr>\n",
       "      <th>3</th>\n",
       "      <td>2013</td>\n",
       "      <td>8459000</td>\n",
       "      <td>37743</td>\n",
       "      <td>0.004462</td>\n",
       "    </tr>\n",
       "    <tr>\n",
       "      <th>4</th>\n",
       "      <td>2014</td>\n",
       "      <td>8521000</td>\n",
       "      <td>36756</td>\n",
       "      <td>0.004314</td>\n",
       "    </tr>\n",
       "    <tr>\n",
       "      <th>5</th>\n",
       "      <td>2015</td>\n",
       "      <td>8582000</td>\n",
       "      <td>29701</td>\n",
       "      <td>0.003461</td>\n",
       "    </tr>\n",
       "    <tr>\n",
       "      <th>6</th>\n",
       "      <td>2016</td>\n",
       "      <td>8615000</td>\n",
       "      <td>28711</td>\n",
       "      <td>0.003333</td>\n",
       "    </tr>\n",
       "    <tr>\n",
       "      <th>7</th>\n",
       "      <td>2017</td>\n",
       "      <td>8623000</td>\n",
       "      <td>27671</td>\n",
       "      <td>0.003209</td>\n",
       "    </tr>\n",
       "  </tbody>\n",
       "</table>\n",
       "</div>"
      ],
      "text/plain": [
       "   year  population  count      rate\n",
       "0  2010     8194000  45508  0.005554\n",
       "1  2011     8293000  44579  0.005375\n",
       "2  2012     8384000  41493  0.004949\n",
       "3  2013     8459000  37743  0.004462\n",
       "4  2014     8521000  36756  0.004314\n",
       "5  2015     8582000  29701  0.003461\n",
       "6  2016     8615000  28711  0.003333\n",
       "7  2017     8623000  27671  0.003209"
      ]
     },
     "execution_count": 88,
     "metadata": {},
     "output_type": "execute_result"
    }
   ],
   "source": [
    "yearly_drug_alc = pd.DataFrame(years,columns=['year'])\n",
    "yearly_drug_alc['population'] = populations\n",
    "yearly_drug_alc['count'] = drug_alc_by_year.values\n",
    "yearly_drug_alc['rate'] = yearly_drug_alc['count']/yearly_drug_alc['population']\n",
    "yearly_drug_alc"
   ]
  },
  {
   "cell_type": "code",
   "execution_count": 89,
   "metadata": {},
   "outputs": [
    {
     "data": {
      "text/plain": [
       "[<matplotlib.lines.Line2D at 0x119b18080>]"
      ]
     },
     "execution_count": 89,
     "metadata": {},
     "output_type": "execute_result"
    },
    {
     "data": {
      "image/png": "[encoded data removed]",
      "text/plain": [
       "<Figure size 432x288 with 1 Axes>"
      ]
     },
     "metadata": {
      "needs_background": "light"
     },
     "output_type": "display_data"
    }
   ],
   "source": [
    "plt.title('NYC Drug and Alcohol Crime per Capita')\n",
    "plt.plot(yearly_drug_alc['year'],yearly_drug_alc['rate'])"
   ]
  },
  {
   "cell_type": "code",
   "execution_count": null,
   "metadata": {},
   "outputs": [],
   "source": []
  },
  {
   "cell_type": "code",
   "execution_count": null,
   "metadata": {},
   "outputs": [],
   "source": []
  },
  {
   "cell_type": "code",
   "execution_count": 76,
   "metadata": {},
   "outputs": [],
   "source": [
    "x_larceny = nyc_larceny['month_year'].unique()\n",
    "x_larceny.sort()\n"
   ]
  },
  {
   "cell_type": "code",
   "execution_count": 77,
   "metadata": {},
   "outputs": [
    {
     "data": {
      "text/plain": [
       "[<matplotlib.lines.Line2D at 0x116505a58>]"
      ]
     },
     "execution_count": 77,
     "metadata": {},
     "output_type": "execute_result"
    },
    {
     "data": {
      "image/png": "[encoded data removed]",
      "text/plain": [
       "<Figure size 432x288 with 1 Axes>"
      ]
     },
     "metadata": {
      "needs_background": "light"
     },
     "output_type": "display_data"
    }
   ],
   "source": [
    "plt.title('Larceny Crime over Time in NY City')\n",
    "\n",
    "plt.plot(x_larceny,nyc_larceny['month_year'].value_counts())"
   ]
  },
  {
   "cell_type": "code",
   "execution_count": 78,
   "metadata": {},
   "outputs": [],
   "source": [
    "larceny_by_year = nyc_larceny['year'].value_counts()"
   ]
  },
  {
   "cell_type": "code",
   "execution_count": 79,
   "metadata": {},
   "outputs": [],
   "source": [
    "larceny_by_year = larceny_by_year.sort_index()"
   ]
  },
  {
   "cell_type": "code",
   "execution_count": 82,
   "metadata": {},
   "outputs": [],
   "source": [
    "yearly_larceny = pd.DataFrame(years, columns=['year'])\n",
    "yearly_larceny['population'] = populations\n",
    "yearly_larceny['count'] = larceny_by_year.values"
   ]
  },
  {
   "cell_type": "code",
   "execution_count": 83,
   "metadata": {},
   "outputs": [
    {
     "data": {
      "text/html": [
       "<div>\n",
       "<style scoped>\n",
       "    .dataframe tbody tr th:only-of-type {\n",
       "        vertical-align: middle;\n",
       "    }\n",
       "\n",
       "    .dataframe tbody tr th {\n",
       "        vertical-align: top;\n",
       "    }\n",
       "\n",
       "    .dataframe thead th {\n",
       "        text-align: right;\n",
       "    }\n",
       "</style>\n",
       "<table border=\"1\" class=\"dataframe\">\n",
       "  <thead>\n",
       "    <tr style=\"text-align: right;\">\n",
       "      <th></th>\n",
       "      <th>year</th>\n",
       "      <th>population</th>\n",
       "      <th>count</th>\n",
       "      <th>larceny rate</th>\n",
       "    </tr>\n",
       "  </thead>\n",
       "  <tbody>\n",
       "    <tr>\n",
       "      <th>0</th>\n",
       "      <td>2010</td>\n",
       "      <td>8194000</td>\n",
       "      <td>120285</td>\n",
       "      <td>0.014680</td>\n",
       "    </tr>\n",
       "    <tr>\n",
       "      <th>1</th>\n",
       "      <td>2011</td>\n",
       "      <td>8293000</td>\n",
       "      <td>121112</td>\n",
       "      <td>0.014604</td>\n",
       "    </tr>\n",
       "    <tr>\n",
       "      <th>2</th>\n",
       "      <td>2012</td>\n",
       "      <td>8384000</td>\n",
       "      <td>127358</td>\n",
       "      <td>0.015191</td>\n",
       "    </tr>\n",
       "    <tr>\n",
       "      <th>3</th>\n",
       "      <td>2013</td>\n",
       "      <td>8459000</td>\n",
       "      <td>132821</td>\n",
       "      <td>0.015702</td>\n",
       "    </tr>\n",
       "    <tr>\n",
       "      <th>4</th>\n",
       "      <td>2014</td>\n",
       "      <td>8521000</td>\n",
       "      <td>130973</td>\n",
       "      <td>0.015371</td>\n",
       "    </tr>\n",
       "    <tr>\n",
       "      <th>5</th>\n",
       "      <td>2015</td>\n",
       "      <td>8582000</td>\n",
       "      <td>127748</td>\n",
       "      <td>0.014886</td>\n",
       "    </tr>\n",
       "    <tr>\n",
       "      <th>6</th>\n",
       "      <td>2016</td>\n",
       "      <td>8615000</td>\n",
       "      <td>127901</td>\n",
       "      <td>0.014846</td>\n",
       "    </tr>\n",
       "    <tr>\n",
       "      <th>7</th>\n",
       "      <td>2017</td>\n",
       "      <td>8623000</td>\n",
       "      <td>128731</td>\n",
       "      <td>0.014929</td>\n",
       "    </tr>\n",
       "  </tbody>\n",
       "</table>\n",
       "</div>"
      ],
      "text/plain": [
       "   year  population   count  larceny rate\n",
       "0  2010     8194000  120285      0.014680\n",
       "1  2011     8293000  121112      0.014604\n",
       "2  2012     8384000  127358      0.015191\n",
       "3  2013     8459000  132821      0.015702\n",
       "4  2014     8521000  130973      0.015371\n",
       "5  2015     8582000  127748      0.014886\n",
       "6  2016     8615000  127901      0.014846\n",
       "7  2017     8623000  128731      0.014929"
      ]
     },
     "execution_count": 83,
     "metadata": {},
     "output_type": "execute_result"
    }
   ],
   "source": [
    "yearly_larceny['larceny rate'] = yearly_larceny['count']/yearly_larceny['population']\n",
    "yearly_larceny"
   ]
  },
  {
   "cell_type": "code",
   "execution_count": 84,
   "metadata": {},
   "outputs": [
    {
     "data": {
      "text/plain": [
       "[<matplotlib.lines.Line2D at 0x116e637b8>]"
      ]
     },
     "execution_count": 84,
     "metadata": {},
     "output_type": "execute_result"
    },
    {
     "data": {
      "image/png": "[encoded data removed]",
      "text/plain": [
       "<Figure size 432x288 with 1 Axes>"
      ]
     },
     "metadata": {
      "needs_background": "light"
     },
     "output_type": "display_data"
    }
   ],
   "source": [
    "plt.title('NYC Larceny per Capita')\n",
    "plt.plot(yearly_larceny['year'],yearly_larceny['larceny rate'])"
   ]
  },
  {
   "cell_type": "code",
   "execution_count": 24,
   "metadata": {
    "scrolled": true
   },
   "outputs": [
    {
     "data": {
      "text/plain": [
       "[<matplotlib.lines.Line2D at 0x118ae3d30>]"
      ]
     },
     "execution_count": 24,
     "metadata": {},
     "output_type": "execute_result"
    },
    {
     "data": {
      "image/png": "[encoded data removed]",
      "text/plain": [
       "<Figure size 432x288 with 1 Axes>"
      ]
     },
     "metadata": {
      "needs_background": "light"
     },
     "output_type": "display_data"
    }
   ],
   "source": [
    "x_robbery = nyc_robbery['month_year'].unique()\n",
    "x_robbery.sort()\n",
    "plt.title('Robbery in NY City')\n",
    "plt.plot(x_robbery, nyc_robbery['month_year'].value_counts())"
   ]
  },
  {
   "cell_type": "code",
   "execution_count": 62,
   "metadata": {},
   "outputs": [],
   "source": [
    "robbery_by_year = nyc_robbery['year'].value_counts()"
   ]
  },
  {
   "cell_type": "code",
   "execution_count": 64,
   "metadata": {},
   "outputs": [],
   "source": [
    "robbery_by_year = robbery_by_year.sort_index()"
   ]
  },
  {
   "cell_type": "code",
   "execution_count": 67,
   "metadata": {},
   "outputs": [
    {
     "data": {
      "text/plain": [
       "2010    19475\n",
       "2011    19764\n",
       "2012    20191\n",
       "2013    19171\n",
       "2014    16568\n",
       "2015    16970\n",
       "2016    15529\n",
       "2017    13991\n",
       "Name: year, dtype: int64"
      ]
     },
     "execution_count": 67,
     "metadata": {},
     "output_type": "execute_result"
    }
   ],
   "source": [
    "robbery_by_year"
   ]
  },
  {
   "cell_type": "code",
   "execution_count": 66,
   "metadata": {},
   "outputs": [
    {
     "data": {
      "text/html": [
       "<div>\n",
       "<style scoped>\n",
       "    .dataframe tbody tr th:only-of-type {\n",
       "        vertical-align: middle;\n",
       "    }\n",
       "\n",
       "    .dataframe tbody tr th {\n",
       "        vertical-align: top;\n",
       "    }\n",
       "\n",
       "    .dataframe thead th {\n",
       "        text-align: right;\n",
       "    }\n",
       "</style>\n",
       "<table border=\"1\" class=\"dataframe\">\n",
       "  <thead>\n",
       "    <tr style=\"text-align: right;\">\n",
       "      <th></th>\n",
       "      <th>year</th>\n",
       "    </tr>\n",
       "  </thead>\n",
       "  <tbody>\n",
       "    <tr>\n",
       "      <th>0</th>\n",
       "      <td>2010</td>\n",
       "    </tr>\n",
       "    <tr>\n",
       "      <th>1</th>\n",
       "      <td>2011</td>\n",
       "    </tr>\n",
       "    <tr>\n",
       "      <th>2</th>\n",
       "      <td>2012</td>\n",
       "    </tr>\n",
       "    <tr>\n",
       "      <th>3</th>\n",
       "      <td>2013</td>\n",
       "    </tr>\n",
       "    <tr>\n",
       "      <th>4</th>\n",
       "      <td>2014</td>\n",
       "    </tr>\n",
       "    <tr>\n",
       "      <th>5</th>\n",
       "      <td>2015</td>\n",
       "    </tr>\n",
       "    <tr>\n",
       "      <th>6</th>\n",
       "      <td>2016</td>\n",
       "    </tr>\n",
       "    <tr>\n",
       "      <th>7</th>\n",
       "      <td>2017</td>\n",
       "    </tr>\n",
       "  </tbody>\n",
       "</table>\n",
       "</div>"
      ],
      "text/plain": [
       "   year\n",
       "0  2010\n",
       "1  2011\n",
       "2  2012\n",
       "3  2013\n",
       "4  2014\n",
       "5  2015\n",
       "6  2016\n",
       "7  2017"
      ]
     },
     "execution_count": 66,
     "metadata": {},
     "output_type": "execute_result"
    }
   ],
   "source": [
    "yearly_robbery = pd.DataFrame(years,columns =['year'])\n",
    "yearly_robbery"
   ]
  },
  {
   "cell_type": "code",
   "execution_count": 70,
   "metadata": {},
   "outputs": [
    {
     "data": {
      "text/html": [
       "<div>\n",
       "<style scoped>\n",
       "    .dataframe tbody tr th:only-of-type {\n",
       "        vertical-align: middle;\n",
       "    }\n",
       "\n",
       "    .dataframe tbody tr th {\n",
       "        vertical-align: top;\n",
       "    }\n",
       "\n",
       "    .dataframe thead th {\n",
       "        text-align: right;\n",
       "    }\n",
       "</style>\n",
       "<table border=\"1\" class=\"dataframe\">\n",
       "  <thead>\n",
       "    <tr style=\"text-align: right;\">\n",
       "      <th></th>\n",
       "      <th>year</th>\n",
       "      <th>population</th>\n",
       "      <th>count</th>\n",
       "      <th>robbery rate</th>\n",
       "    </tr>\n",
       "  </thead>\n",
       "  <tbody>\n",
       "    <tr>\n",
       "      <th>0</th>\n",
       "      <td>2010</td>\n",
       "      <td>8194000</td>\n",
       "      <td>19475</td>\n",
       "      <td>0.002377</td>\n",
       "    </tr>\n",
       "    <tr>\n",
       "      <th>1</th>\n",
       "      <td>2011</td>\n",
       "      <td>8293000</td>\n",
       "      <td>19764</td>\n",
       "      <td>0.002383</td>\n",
       "    </tr>\n",
       "    <tr>\n",
       "      <th>2</th>\n",
       "      <td>2012</td>\n",
       "      <td>8384000</td>\n",
       "      <td>20191</td>\n",
       "      <td>0.002408</td>\n",
       "    </tr>\n",
       "    <tr>\n",
       "      <th>3</th>\n",
       "      <td>2013</td>\n",
       "      <td>8459000</td>\n",
       "      <td>19171</td>\n",
       "      <td>0.002266</td>\n",
       "    </tr>\n",
       "    <tr>\n",
       "      <th>4</th>\n",
       "      <td>2014</td>\n",
       "      <td>8521000</td>\n",
       "      <td>16568</td>\n",
       "      <td>0.001944</td>\n",
       "    </tr>\n",
       "    <tr>\n",
       "      <th>5</th>\n",
       "      <td>2015</td>\n",
       "      <td>8582000</td>\n",
       "      <td>16970</td>\n",
       "      <td>0.001977</td>\n",
       "    </tr>\n",
       "    <tr>\n",
       "      <th>6</th>\n",
       "      <td>2016</td>\n",
       "      <td>8615000</td>\n",
       "      <td>15529</td>\n",
       "      <td>0.001803</td>\n",
       "    </tr>\n",
       "    <tr>\n",
       "      <th>7</th>\n",
       "      <td>2017</td>\n",
       "      <td>8623000</td>\n",
       "      <td>13991</td>\n",
       "      <td>0.001623</td>\n",
       "    </tr>\n",
       "  </tbody>\n",
       "</table>\n",
       "</div>"
      ],
      "text/plain": [
       "   year  population  count  robbery rate\n",
       "0  2010     8194000  19475      0.002377\n",
       "1  2011     8293000  19764      0.002383\n",
       "2  2012     8384000  20191      0.002408\n",
       "3  2013     8459000  19171      0.002266\n",
       "4  2014     8521000  16568      0.001944\n",
       "5  2015     8582000  16970      0.001977\n",
       "6  2016     8615000  15529      0.001803\n",
       "7  2017     8623000  13991      0.001623"
      ]
     },
     "execution_count": 70,
     "metadata": {},
     "output_type": "execute_result"
    }
   ],
   "source": [
    "yearly_robbery['population'] = populations\n",
    "yearly_robbery['count'] = robbery_by_year.values\n",
    "yearly_robbery['robbery rate'] = yearly_robbery['count']/yearly_robbery['population']\n",
    "yearly_robbery"
   ]
  },
  {
   "cell_type": "code",
   "execution_count": 72,
   "metadata": {},
   "outputs": [
    {
     "data": {
      "text/plain": [
       "[<matplotlib.lines.Line2D at 0x1159af668>]"
      ]
     },
     "execution_count": 72,
     "metadata": {},
     "output_type": "execute_result"
    },
    {
     "data": {
      "image/png": "[encoded data removed]",
      "text/plain": [
       "<Figure size 432x288 with 1 Axes>"
      ]
     },
     "metadata": {
      "needs_background": "light"
     },
     "output_type": "display_data"
    }
   ],
   "source": [
    "plt.title('NYC Robbery per Capita')\n",
    "plt.plot(yearly_robbery['year'], yearly_robbery['robbery rate'])"
   ]
  },
  {
   "cell_type": "code",
   "execution_count": 26,
   "metadata": {
    "scrolled": true
   },
   "outputs": [
    {
     "data": {
      "text/plain": [
       "[<matplotlib.lines.Line2D at 0x118bb0eb8>]"
      ]
     },
     "execution_count": 26,
     "metadata": {},
     "output_type": "execute_result"
    },
    {
     "data": {
      "image/png": "[encoded data removed]",
      "text/plain": [
       "<Figure size 432x288 with 1 Axes>"
      ]
     },
     "metadata": {
      "needs_background": "light"
     },
     "output_type": "display_data"
    }
   ],
   "source": [
    "x_burglary = nyc_burglary['month_year'].unique()\n",
    "x_burglary.sort()\n",
    "plt.title('Burglary in NYC')\n",
    "plt.plot(x_burglary, nyc_burglary['month_year'].value_counts())"
   ]
  },
  {
   "cell_type": "code",
   "execution_count": 56,
   "metadata": {},
   "outputs": [
    {
     "data": {
      "text/plain": [
       "2012    19552\n",
       "2011    19104\n",
       "2010    18838\n",
       "2013    17799\n",
       "2014    17222\n",
       "2015    15468\n",
       "2016    13304\n",
       "2017    12397\n",
       "Name: year, dtype: int64"
      ]
     },
     "execution_count": 56,
     "metadata": {},
     "output_type": "execute_result"
    }
   ],
   "source": [
    "nyc_burglary['year'].value_counts()"
   ]
  },
  {
   "cell_type": "code",
   "execution_count": 57,
   "metadata": {},
   "outputs": [],
   "source": [
    "burglary_by_year = nyc_burglary['year'].value_counts()"
   ]
  },
  {
   "cell_type": "code",
   "execution_count": 58,
   "metadata": {},
   "outputs": [],
   "source": [
    "burglary_by_year = burglary_by_year.sort_index()"
   ]
  },
  {
   "cell_type": "code",
   "execution_count": 59,
   "metadata": {},
   "outputs": [
    {
     "data": {
      "text/html": [
       "<div>\n",
       "<style scoped>\n",
       "    .dataframe tbody tr th:only-of-type {\n",
       "        vertical-align: middle;\n",
       "    }\n",
       "\n",
       "    .dataframe tbody tr th {\n",
       "        vertical-align: top;\n",
       "    }\n",
       "\n",
       "    .dataframe thead th {\n",
       "        text-align: right;\n",
       "    }\n",
       "</style>\n",
       "<table border=\"1\" class=\"dataframe\">\n",
       "  <thead>\n",
       "    <tr style=\"text-align: right;\">\n",
       "      <th></th>\n",
       "      <th>year</th>\n",
       "    </tr>\n",
       "  </thead>\n",
       "  <tbody>\n",
       "    <tr>\n",
       "      <th>0</th>\n",
       "      <td>2010</td>\n",
       "    </tr>\n",
       "    <tr>\n",
       "      <th>1</th>\n",
       "      <td>2011</td>\n",
       "    </tr>\n",
       "    <tr>\n",
       "      <th>2</th>\n",
       "      <td>2012</td>\n",
       "    </tr>\n",
       "    <tr>\n",
       "      <th>3</th>\n",
       "      <td>2013</td>\n",
       "    </tr>\n",
       "    <tr>\n",
       "      <th>4</th>\n",
       "      <td>2014</td>\n",
       "    </tr>\n",
       "    <tr>\n",
       "      <th>5</th>\n",
       "      <td>2015</td>\n",
       "    </tr>\n",
       "    <tr>\n",
       "      <th>6</th>\n",
       "      <td>2016</td>\n",
       "    </tr>\n",
       "    <tr>\n",
       "      <th>7</th>\n",
       "      <td>2017</td>\n",
       "    </tr>\n",
       "  </tbody>\n",
       "</table>\n",
       "</div>"
      ],
      "text/plain": [
       "   year\n",
       "0  2010\n",
       "1  2011\n",
       "2  2012\n",
       "3  2013\n",
       "4  2014\n",
       "5  2015\n",
       "6  2016\n",
       "7  2017"
      ]
     },
     "execution_count": 59,
     "metadata": {},
     "output_type": "execute_result"
    }
   ],
   "source": [
    "yearly_burglary = pd.DataFrame(years,columns =['year'])\n",
    "yearly_burglary"
   ]
  },
  {
   "cell_type": "code",
   "execution_count": 60,
   "metadata": {},
   "outputs": [
    {
     "data": {
      "text/html": [
       "<div>\n",
       "<style scoped>\n",
       "    .dataframe tbody tr th:only-of-type {\n",
       "        vertical-align: middle;\n",
       "    }\n",
       "\n",
       "    .dataframe tbody tr th {\n",
       "        vertical-align: top;\n",
       "    }\n",
       "\n",
       "    .dataframe thead th {\n",
       "        text-align: right;\n",
       "    }\n",
       "</style>\n",
       "<table border=\"1\" class=\"dataframe\">\n",
       "  <thead>\n",
       "    <tr style=\"text-align: right;\">\n",
       "      <th></th>\n",
       "      <th>year</th>\n",
       "      <th>population</th>\n",
       "      <th>count</th>\n",
       "      <th>burglary rate</th>\n",
       "    </tr>\n",
       "  </thead>\n",
       "  <tbody>\n",
       "    <tr>\n",
       "      <th>0</th>\n",
       "      <td>2010</td>\n",
       "      <td>8194000</td>\n",
       "      <td>18838</td>\n",
       "      <td>0.002299</td>\n",
       "    </tr>\n",
       "    <tr>\n",
       "      <th>1</th>\n",
       "      <td>2011</td>\n",
       "      <td>8293000</td>\n",
       "      <td>19104</td>\n",
       "      <td>0.002304</td>\n",
       "    </tr>\n",
       "    <tr>\n",
       "      <th>2</th>\n",
       "      <td>2012</td>\n",
       "      <td>8384000</td>\n",
       "      <td>19552</td>\n",
       "      <td>0.002332</td>\n",
       "    </tr>\n",
       "    <tr>\n",
       "      <th>3</th>\n",
       "      <td>2013</td>\n",
       "      <td>8459000</td>\n",
       "      <td>17799</td>\n",
       "      <td>0.002104</td>\n",
       "    </tr>\n",
       "    <tr>\n",
       "      <th>4</th>\n",
       "      <td>2014</td>\n",
       "      <td>8521000</td>\n",
       "      <td>17222</td>\n",
       "      <td>0.002021</td>\n",
       "    </tr>\n",
       "    <tr>\n",
       "      <th>5</th>\n",
       "      <td>2015</td>\n",
       "      <td>8582000</td>\n",
       "      <td>15468</td>\n",
       "      <td>0.001802</td>\n",
       "    </tr>\n",
       "    <tr>\n",
       "      <th>6</th>\n",
       "      <td>2016</td>\n",
       "      <td>8615000</td>\n",
       "      <td>13304</td>\n",
       "      <td>0.001544</td>\n",
       "    </tr>\n",
       "    <tr>\n",
       "      <th>7</th>\n",
       "      <td>2017</td>\n",
       "      <td>8623000</td>\n",
       "      <td>12397</td>\n",
       "      <td>0.001438</td>\n",
       "    </tr>\n",
       "  </tbody>\n",
       "</table>\n",
       "</div>"
      ],
      "text/plain": [
       "   year  population  count  burglary rate\n",
       "0  2010     8194000  18838       0.002299\n",
       "1  2011     8293000  19104       0.002304\n",
       "2  2012     8384000  19552       0.002332\n",
       "3  2013     8459000  17799       0.002104\n",
       "4  2014     8521000  17222       0.002021\n",
       "5  2015     8582000  15468       0.001802\n",
       "6  2016     8615000  13304       0.001544\n",
       "7  2017     8623000  12397       0.001438"
      ]
     },
     "execution_count": 60,
     "metadata": {},
     "output_type": "execute_result"
    }
   ],
   "source": [
    "yearly_burglary['population'] = populations\n",
    "yearly_burglary['count'] = burglary_by_year.values\n",
    "yearly_burglary['burglary rate'] = yearly_burglary['count']/yearly_burglary['population']\n",
    "yearly_burglary"
   ]
  },
  {
   "cell_type": "code",
   "execution_count": 61,
   "metadata": {},
   "outputs": [
    {
     "data": {
      "text/plain": [
       "[<matplotlib.lines.Line2D at 0x111e7a9b0>]"
      ]
     },
     "execution_count": 61,
     "metadata": {},
     "output_type": "execute_result"
    },
    {
     "data": {
      "image/png": "[encoded data removed]",
      "text/plain": [
       "<Figure size 432x288 with 1 Axes>"
      ]
     },
     "metadata": {
      "needs_background": "light"
     },
     "output_type": "display_data"
    }
   ],
   "source": [
    "plt.title('NYC Burglary per Capita')\n",
    "plt.plot(yearly_burglary['year'],yearly_burglary['burglary rate'])"
   ]
  },
  {
   "cell_type": "code",
   "execution_count": null,
   "metadata": {},
   "outputs": [],
   "source": []
  },
  {
   "cell_type": "code",
   "execution_count": null,
   "metadata": {},
   "outputs": [],
   "source": []
  },
  {
   "cell_type": "code",
   "execution_count": 28,
   "metadata": {},
   "outputs": [
    {
     "data": {
      "text/plain": [
       "[<matplotlib.lines.Line2D at 0x11953feb8>]"
      ]
     },
     "execution_count": 28,
     "metadata": {},
     "output_type": "execute_result"
    },
    {
     "data": {
      "image/png": "[encoded data removed]",
      "text/plain": [
       "<Figure size 432x288 with 1 Axes>"
      ]
     },
     "metadata": {
      "needs_background": "light"
     },
     "output_type": "display_data"
    }
   ],
   "source": [
    "x_murder = nyc_murder['month_year'].unique()\n",
    "x_murder.sort()\n",
    "\n",
    "plt.title('Murder in NYC')\n",
    "plt.plot(x_murder, nyc_murder['month_year'].value_counts())"
   ]
  },
  {
   "cell_type": "code",
   "execution_count": 29,
   "metadata": {},
   "outputs": [],
   "source": [
    "murders_by_year = nyc_murder['year'].value_counts()"
   ]
  },
  {
   "cell_type": "code",
   "execution_count": 30,
   "metadata": {},
   "outputs": [],
   "source": [
    "murders_by_year = murders_by_year.sort_index()"
   ]
  },
  {
   "cell_type": "code",
   "execution_count": 44,
   "metadata": {},
   "outputs": [
    {
     "data": {
      "text/plain": [
       "2010    18\n",
       "2011    15\n",
       "2012    27\n",
       "2013    29\n",
       "2014    22\n",
       "2015    12\n",
       "2016     9\n",
       "2017    20\n",
       "Name: year, dtype: int64"
      ]
     },
     "execution_count": 44,
     "metadata": {},
     "output_type": "execute_result"
    }
   ],
   "source": [
    "murders_by_year"
   ]
  },
  {
   "cell_type": "code",
   "execution_count": 32,
   "metadata": {},
   "outputs": [],
   "source": [
    "years = [2010,2011,2012,2013,2014,2015,2016,2017]"
   ]
  },
  {
   "cell_type": "code",
   "execution_count": 33,
   "metadata": {},
   "outputs": [],
   "source": [
    "populations = [8194000,8293000,8384000,8459000,8521000,8582000,8615000,8623000]"
   ]
  },
  {
   "cell_type": "code",
   "execution_count": 34,
   "metadata": {},
   "outputs": [],
   "source": [
    "yearly_murder = pd.DataFrame(years, columns =['year'])"
   ]
  },
  {
   "cell_type": "code",
   "execution_count": 35,
   "metadata": {},
   "outputs": [],
   "source": [
    "yearly_murder['population'] = populations"
   ]
  },
  {
   "cell_type": "code",
   "execution_count": 47,
   "metadata": {},
   "outputs": [],
   "source": [
    "yearly_murder['# murders'] = murders_by_year.values"
   ]
  },
  {
   "cell_type": "code",
   "execution_count": 49,
   "metadata": {},
   "outputs": [
    {
     "data": {
      "text/html": [
       "<div>\n",
       "<style scoped>\n",
       "    .dataframe tbody tr th:only-of-type {\n",
       "        vertical-align: middle;\n",
       "    }\n",
       "\n",
       "    .dataframe tbody tr th {\n",
       "        vertical-align: top;\n",
       "    }\n",
       "\n",
       "    .dataframe thead th {\n",
       "        text-align: right;\n",
       "    }\n",
       "</style>\n",
       "<table border=\"1\" class=\"dataframe\">\n",
       "  <thead>\n",
       "    <tr style=\"text-align: right;\">\n",
       "      <th></th>\n",
       "      <th>year</th>\n",
       "      <th>population</th>\n",
       "      <th># murders</th>\n",
       "      <th>murder rate</th>\n",
       "    </tr>\n",
       "  </thead>\n",
       "  <tbody>\n",
       "    <tr>\n",
       "      <th>0</th>\n",
       "      <td>2010</td>\n",
       "      <td>8194000</td>\n",
       "      <td>18</td>\n",
       "      <td>0.000002</td>\n",
       "    </tr>\n",
       "    <tr>\n",
       "      <th>1</th>\n",
       "      <td>2011</td>\n",
       "      <td>8293000</td>\n",
       "      <td>15</td>\n",
       "      <td>0.000002</td>\n",
       "    </tr>\n",
       "    <tr>\n",
       "      <th>2</th>\n",
       "      <td>2012</td>\n",
       "      <td>8384000</td>\n",
       "      <td>27</td>\n",
       "      <td>0.000003</td>\n",
       "    </tr>\n",
       "    <tr>\n",
       "      <th>3</th>\n",
       "      <td>2013</td>\n",
       "      <td>8459000</td>\n",
       "      <td>29</td>\n",
       "      <td>0.000003</td>\n",
       "    </tr>\n",
       "    <tr>\n",
       "      <th>4</th>\n",
       "      <td>2014</td>\n",
       "      <td>8521000</td>\n",
       "      <td>22</td>\n",
       "      <td>0.000003</td>\n",
       "    </tr>\n",
       "    <tr>\n",
       "      <th>5</th>\n",
       "      <td>2015</td>\n",
       "      <td>8582000</td>\n",
       "      <td>12</td>\n",
       "      <td>0.000001</td>\n",
       "    </tr>\n",
       "    <tr>\n",
       "      <th>6</th>\n",
       "      <td>2016</td>\n",
       "      <td>8615000</td>\n",
       "      <td>9</td>\n",
       "      <td>0.000001</td>\n",
       "    </tr>\n",
       "    <tr>\n",
       "      <th>7</th>\n",
       "      <td>2017</td>\n",
       "      <td>8623000</td>\n",
       "      <td>20</td>\n",
       "      <td>0.000002</td>\n",
       "    </tr>\n",
       "  </tbody>\n",
       "</table>\n",
       "</div>"
      ],
      "text/plain": [
       "   year  population  # murders  murder rate\n",
       "0  2010     8194000         18     0.000002\n",
       "1  2011     8293000         15     0.000002\n",
       "2  2012     8384000         27     0.000003\n",
       "3  2013     8459000         29     0.000003\n",
       "4  2014     8521000         22     0.000003\n",
       "5  2015     8582000         12     0.000001\n",
       "6  2016     8615000          9     0.000001\n",
       "7  2017     8623000         20     0.000002"
      ]
     },
     "execution_count": 49,
     "metadata": {},
     "output_type": "execute_result"
    }
   ],
   "source": [
    "yearly_murder['murder rate'] = yearly_murder['# murders']/yearly_murder['population']\n",
    "yearly_murder"
   ]
  },
  {
   "cell_type": "code",
   "execution_count": 50,
   "metadata": {},
   "outputs": [
    {
     "data": {
      "text/plain": [
       "[<matplotlib.lines.Line2D at 0x119ea9dd8>]"
      ]
     },
     "execution_count": 50,
     "metadata": {},
     "output_type": "execute_result"
    },
    {
     "data": {
      "image/png": "[encoded data removed]",
      "text/plain": [
       "<Figure size 432x288 with 1 Axes>"
      ]
     },
     "metadata": {
      "needs_background": "light"
     },
     "output_type": "display_data"
    }
   ],
   "source": [
    "plt.title('NYC Murder per Capita')\n",
    "plt.plot(yearly_murder['year'],yearly_murder['murder rate'])\n"
   ]
  },
  {
   "cell_type": "code",
   "execution_count": null,
   "metadata": {},
   "outputs": [],
   "source": []
  },
  {
   "cell_type": "code",
   "execution_count": null,
   "metadata": {},
   "outputs": [],
   "source": []
  },
  {
   "cell_type": "markdown",
   "metadata": {},
   "source": [
    "# Other Categories"
   ]
  },
  {
   "cell_type": "code",
   "execution_count": null,
   "metadata": {},
   "outputs": [],
   "source": [
    "plt.title('')"
   ]
  },
  {
   "cell_type": "code",
   "execution_count": null,
   "metadata": {},
   "outputs": [],
   "source": []
  },
  {
   "cell_type": "code",
   "execution_count": null,
   "metadata": {},
   "outputs": [],
   "source": []
  },
  {
   "cell_type": "code",
   "execution_count": null,
   "metadata": {},
   "outputs": [],
   "source": []
  },
  {
   "cell_type": "code",
   "execution_count": null,
   "metadata": {},
   "outputs": [],
   "source": []
  },
  {
   "cell_type": "code",
   "execution_count": 84,
   "metadata": {},
   "outputs": [],
   "source": [
    "x_pub_disorder = nyc_pub_disorder['month_year'].unique()\n",
    "x_pub_disorder.sort()\n"
   ]
  },
  {
   "cell_type": "code",
   "execution_count": 85,
   "metadata": {},
   "outputs": [
    {
     "data": {
      "text/plain": [
       "[<matplotlib.lines.Line2D at 0x1213ff9b0>]"
      ]
     },
     "execution_count": 85,
     "metadata": {},
     "output_type": "execute_result"
    },
    {
     "data": {
      "image/png": "[encoded data removed]",
      "text/plain": [
       "<Figure size 432x288 with 1 Axes>"
      ]
     },
     "metadata": {
      "needs_background": "light"
     },
     "output_type": "display_data"
    }
   ],
   "source": [
    "plt.title('Pub Disorder over Time in NY City')\n",
    "plt.plot(x_pub_disorder,nyc_pub_disorder['month_year'].value_counts())"
   ]
  },
  {
   "cell_type": "code",
   "execution_count": null,
   "metadata": {},
   "outputs": [],
   "source": []
  }
 ],
 "metadata": {
  "kernelspec": {
   "display_name": "Python 3",
   "language": "python",
   "name": "python3"
  },
  "language_info": {
   "codemirror_mode": {
    "name": "ipython",
    "version": 3
   },
   "file_extension": ".py",
   "mimetype": "text/x-python",
   "name": "python",
   "nbconvert_exporter": "python",
   "pygments_lexer": "ipython3",
   "version": "3.6.8"
  }
 },
 "nbformat": 4,
 "nbformat_minor": 2
}
