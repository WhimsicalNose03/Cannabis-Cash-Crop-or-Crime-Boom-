{
 "cells": [
  {
   "cell_type": "code",
   "execution_count": 2,
   "metadata": {},
   "outputs": [],
   "source": [
    "import pandas as pd\n",
    "import numpy as np\n",
    "import matplotlib.pyplot as plt\n",
    "import scipy as sp\n",
    "\n",
    "plt.style.use('ggplot')"
   ]
  },
  {
   "cell_type": "code",
   "execution_count": 44,
   "metadata": {},
   "outputs": [],
   "source": [
    "la_crime = pd.read_csv('data/la_crime_squeaky.csv')\n",
    "la_licenses = pd.read_csv('data/la_lic_squeaky.csv')"
   ]
  },
  {
   "cell_type": "code",
   "execution_count": 55,
   "metadata": {},
   "outputs": [],
   "source": [
    "la_crime = la_crime.drop('Unnamed: 0',axis=1)\n",
    "la_licenses = la_licenses.drop('Unnamed: 0',axis=1)"
   ]
  },
  {
   "cell_type": "code",
   "execution_count": 5,
   "metadata": {},
   "outputs": [],
   "source": [
    "'''\n",
    "la_crime_dict = {'ARSON': 'arson',\n",
    " 'CRIMINAL HOMICIDE': 'murder',\n",
    " 'RAPE, FORCIBLE': 'sexual assault',\n",
    " 'BATTERY WITH SEXUAL CONTACT': 'sexual assault',\n",
    " 'SEX,UNLAWFUL(INC MUTUAL CONSENT, PENETRATION W/ FRGN OBJ': 'sexual assault',\n",
    " 'RAPE, ATTEMPTED': 'sexual assault',\n",
    " 'SODOMY/SEXUAL CONTACT B/W PENIS OF ONE PERS TO ANUS OTH': 'sexual assault',\n",
    " 'SEXUAL PENETRATION W/FOREIGN OBJECT': 'sexual assault',\n",
    " 'ROBBERY': 'robbery',\n",
    " 'ATTEMPTED ROBBERY': 'robbery',\n",
    " 'PROWLER': 'robbery',\n",
    " 'MANSLAUGHTER, NEGLIGENT': 'other crimes against persons',\n",
    " 'INTIMATE PARTNER - SIMPLE ASSAULT': 'other crimes against persons',\n",
    " 'LETTERS, LEWD  -  TELEPHONE CALLS, LEWD': 'other crimes against persons',\n",
    " 'BATTERY - SIMPLE ASSAULT': 'other crimes against persons',\n",
    " 'OTHER ASSAULT': 'other crimes against persons',\n",
    " 'PEEPING TOM': 'other crimes against persons',\n",
    " 'THEFT, PERSON': 'other crimes against persons',\n",
    " 'THREATENING PHONE CALLS/LETTERS': 'other crimes against persons',\n",
    " 'BATTERY ON A FIREFIGHTER': 'other crimes against persons',\n",
    " 'STALKING': 'other crimes against persons',\n",
    " 'BATTERY POLICE (SIMPLE)': 'other',\n",
    " 'ASSAULT WITH DEADLY WEAPON, AGGRAVATED ASSAULT': 'agg assault',\n",
    " 'INTIMATE PARTNER - AGGRAVATED ASSAULT': 'agg assault',\n",
    " 'SHOTS FIRED AT MOVING VEHICLE, TRAIN OR AIRCRAFT': 'agg assault',\n",
    " 'LYNCHING': 'agg assault',\n",
    " 'SHOTS FIRED AT INHABITED DWELLING': 'agg assault',\n",
    " 'LYNCHING - ATTEMPTED': 'agg assault',\n",
    " 'FAILURE TO DISPERSE': 'pub disorder',\n",
    " 'TELEPHONE PROPERTY - DAMAGE': 'pub disorder',\n",
    " 'INCITING A RIOT': 'pub disorder',\n",
    " 'CRIMINAL THREATS - NO WEAPON DISPLAYED': 'pub disorder',\n",
    " 'VANDALISM - MISDEAMEANOR ($399 OR UNDER)': 'pub disorder',\n",
    " 'VANDALISM - FELONY ($400 & OVER, ALL CHURCH VANDALISMS)': 'pub disorder',\n",
    " 'INDECENT EXPOSURE': 'pub disorder',\n",
    " 'DISTURBING THE PEACE': 'pub disorder',\n",
    " 'BRANDISH WEAPON': 'pub disorder',\n",
    " 'LEWD CONDUCT': 'pub disorder',\n",
    " 'PIMPING': 'pub disorder',\n",
    " 'RECKLESS DRIVING': 'pub disorder',\n",
    " 'DRIVING WITHOUT OWNER CONSENT (DWOC)': 'pub disorder',\n",
    " 'ORAL COPULATION': 'pub disorder',\n",
    " 'FAILURE TO YIELD': 'pub disorder',\n",
    " 'DISRUPT SCHOOL': 'pub disorder',\n",
    " 'PANDERING': 'pub disorder',\n",
    " 'BURGLARY': 'burglary',\n",
    " 'BURGLARY FROM VEHICLE, ATTEMPTED': 'burglary',\n",
    " 'BURGLARY, ATTEMPTED': 'burglary',\n",
    " 'GRAND THEFT / INSURANCE FRAUD': 'white collar',\n",
    " 'DOCUMENT WORTHLESS ($200 & UNDER)': 'white collar',\n",
    " 'CREDIT CARDS, FRAUD USE ($950 & UNDER': 'white collar',\n",
    " 'THEFT OF IDENTITY': 'white collar',\n",
    " 'DOCUMENT FORGERY / STOLEN FELONY': 'white collar',\n",
    " 'COUNTERFEIT': 'white collar',\n",
    " 'CREDIT CARDS, FRAUD USE ($950.01 & OVER)': 'white collar',\n",
    " 'EMBEZZLEMENT, PETTY THEFT ($950 & UNDER)': 'white collar',\n",
    " 'DOCUMENT WORTHLESS ($200.01 & OVER)': 'white collar',\n",
    " 'VEHICLE - STOLEN': 'auto-theft',\n",
    " 'VEHICLE - ATTEMPT STOLEN': 'auto-theft',\n",
    " 'BOAT - STOLEN': 'auto-theft',\n",
    " 'GRAND THEFT / AUTO REPAIR': 'larceny',\n",
    " 'PETTY THEFT - AUTO REPAIR': 'larceny',\n",
    " 'BURGLARY FROM VEHICLE': 'larceny',\n",
    " 'THEFT FROM MOTOR VEHICLE - GRAND ($400 AND OVER)': 'larceny',\n",
    " 'THEFT FROM MOTOR VEHICLE - PETTY ($950 & UNDER)': 'larceny',\n",
    " 'THEFT FROM MOTOR VEHICLE - ATTEMPT': 'larceny',\n",
    " 'THEFT PLAIN - PETTY ($950 & UNDER)': 'larceny',\n",
    " 'DRUNK ROLL - ATTEMPT': 'larceny',\n",
    " 'THEFT, COIN MACHINE - ATTEMPT': 'larceny',\n",
    " 'PURSE SNATCHING - ATTEMPT': 'larceny',\n",
    " 'DRUNK ROLL': 'larceny',\n",
    " 'BIKE - ATTEMPTED STOLEN': 'larceny',\n",
    " 'PICKPOCKET, ATTEMPT': 'larceny',\n",
    " 'DISHONEST EMPLOYEE ATTEMPTED THEFT': 'larceny',\n",
    " 'THEFT, COIN MACHINE - GRAND ($950.01 & OVER)': 'larceny',\n",
    " 'DISHONEST EMPLOYEE - GRAND THEFT': 'larceny',\n",
    " 'THEFT-GRAND ($950.01 & OVER)EXCPT,GUNS,FOWL,LIVESTK,PROD': 'larceny',\n",
    " 'TILL TAP - GRAND THEFT ($950.01 & OVER)': 'larceny',\n",
    " 'TILL TAP - ATTEMPT': 'larceny',\n",
    " 'EMBEZZLEMENT, GRAND THEFT ($950.01 & OVER)': 'larceny',\n",
    " 'SHOPLIFTING - PETTY THEFT ($950 & UNDER)': 'larceny',\n",
    " 'BUNCO, GRAND THEFT': 'larceny',\n",
    " 'BUNCO, ATTEMPT': 'larceny',\n",
    " 'PICKPOCKET': 'larceny',\n",
    " 'BIKE - STOLEN': 'larceny',\n",
    " 'THEFT, COIN MACHINE - PETTY ($950 & UNDER)': 'larceny',\n",
    " 'DEFRAUDING INNKEEPER/THEFT OF SERVICES, OVER $400': 'larceny',\n",
    " 'DEFRAUDING INNKEEPER/THEFT OF SERVICES, $400 & UNDER': 'larceny',\n",
    " 'THEFT PLAIN - ATTEMPT': 'larceny',\n",
    " 'THEFT FROM PERSON - ATTEMPT': 'larceny',\n",
    " 'BUNCO, PETTY THEFT': 'larceny',\n",
    " 'PURSE SNATCHING': 'larceny',\n",
    " 'TILL TAP - PETTY ($950 & UNDER)': 'larceny',\n",
    " 'DISHONEST EMPLOYEE - PETTY THEFT': 'larceny',\n",
    " 'SHOPLIFTING - ATTEMPT': 'larceny',\n",
    " 'SHOPLIFTING-GRAND THEFT ($950.01 & OVER)': 'larceny',\n",
    " 'TRAIN WRECKING': 'other',\n",
    " 'KIDNAPPING - GRAND ATTEMPT': 'other',\n",
    " 'FIREARMS TEMPORARY RESTRAINING ORDER (TEMP FIREARMS RO)': 'other',\n",
    " 'FIREARMS RESTRAINING ORDER (FIREARMS RO)': 'other',\n",
    " 'ABORTION/ILLEGAL': 'other',\n",
    " 'BEASTIALITY, CRIME AGAINST NATURE SEXUAL ASSLT WITH ANIM': 'other',\n",
    " 'BIGAMY': 'other',\n",
    " 'BLOCKING DOOR INDUCTION CENTER': 'other',\n",
    " 'REPLICA FIREARMS(SALE,DISPLAY,MANUFACTURE OR DISTRIBUTE)': 'other',\n",
    " 'INCEST (SEXUAL ACTS BETWEEN BLOOD RELATIVES)': 'other',\n",
    " 'HUMAN TRAFFICKING - INVOLUNTARY SERVITUDE': 'other',\n",
    " 'CONSPIRACY': 'other',\n",
    " 'HUMAN TRAFFICKING - COMMERCIAL SEX ACTS': 'other',\n",
    " 'TRESPASSING': 'other',\n",
    " 'CONTEMPT OF COURT': 'other',\n",
    " 'DISCHARGE FIREARMS/SHOTS FIRED': 'other',\n",
    " 'VIOLATION OF COURT ORDER': 'other',\n",
    " 'OTHER MISCELLANEOUS CRIME': 'other',\n",
    " 'ILLEGAL DUMPING': 'other',\n",
    " 'UNAUTHORIZED COMPUTER ACCESS': 'other',\n",
    " 'CRUELTY TO ANIMALS': 'other',\n",
    " 'EXTORTION': 'other',\n",
    " 'BOMB SCARE': 'other',\n",
    " 'THROWING OBJECT AT MOVING VEHICLE': 'other',\n",
    " 'RESISTING ARREST': 'other',\n",
    " 'FALSE IMPRISONMENT': 'other',\n",
    " 'VIOLATION OF RESTRAINING ORDER': 'other',\n",
    " 'VIOLATION OF TEMPORARY RESTRAINING ORDER': 'other',\n",
    " 'WEAPONS POSSESSION/BOMBING': 'other',\n",
    " 'KIDNAPPING': 'other',\n",
    " 'ASSAULT WITH DEADLY WEAPON ON POLICE OFFICER': 'other',\n",
    " 'CONTRIBUTING': 'other',\n",
    " 'FALSE POLICE REPORT': 'other',\n",
    " 'BRIBERY': 'other',\n",
    " 'LEWD/LASCIVIOUS ACTS WITH CHILD': 'child',\n",
    " 'CHILD ANNOYING (17YRS & UNDER)': 'child',\n",
    " 'CHILD NEGLECT (SEE 300 W.I.C.)': 'child',\n",
    " 'CHILD ABUSE (PHYSICAL) - SIMPLE ASSAULT': 'child',\n",
    " 'CRM AGNST CHLD (13 OR UNDER) (14-15 & SUSP 10 YRS OLDER)': 'child',\n",
    " 'CHILD STEALING': 'child',\n",
    " 'CHILD ABUSE (PHYSICAL) - AGGRAVATED ASSAULT': 'child',\n",
    " 'CHILD ABANDONMENT': 'child',\n",
    " 'CHILD PORNOGRAPHY': 'child',\n",
    " 'DRUGS, TO A MINOR': 'child'}\n",
    "'''"
   ]
  },
  {
   "cell_type": "code",
   "execution_count": 6,
   "metadata": {},
   "outputs": [],
   "source": [
    "# la_crime['offense_category'] = la_crime['Crime Code Description'].apply(lambda x: la_crime_dict[x])"
   ]
  },
  {
   "cell_type": "code",
   "execution_count": 45,
   "metadata": {},
   "outputs": [
    {
     "data": {
      "text/html": [
       "<div>\n",
       "<style scoped>\n",
       "    .dataframe tbody tr th:only-of-type {\n",
       "        vertical-align: middle;\n",
       "    }\n",
       "\n",
       "    .dataframe tbody tr th {\n",
       "        vertical-align: top;\n",
       "    }\n",
       "\n",
       "    .dataframe thead th {\n",
       "        text-align: right;\n",
       "    }\n",
       "</style>\n",
       "<table border=\"1\" class=\"dataframe\">\n",
       "  <thead>\n",
       "    <tr style=\"text-align: right;\">\n",
       "      <th></th>\n",
       "      <th>Unnamed: 0</th>\n",
       "      <th>Date Occurred</th>\n",
       "      <th>Area Name</th>\n",
       "      <th>Crime Code Description</th>\n",
       "      <th>Address</th>\n",
       "      <th>offense_category</th>\n",
       "    </tr>\n",
       "  </thead>\n",
       "  <tbody>\n",
       "    <tr>\n",
       "      <th>0</th>\n",
       "      <td>0</td>\n",
       "      <td>11/03/2015</td>\n",
       "      <td>N Hollywood</td>\n",
       "      <td>BURGLARY FROM VEHICLE</td>\n",
       "      <td>11100    CAMARILLO                    ST</td>\n",
       "      <td>theft from vehicle</td>\n",
       "    </tr>\n",
       "    <tr>\n",
       "      <th>1</th>\n",
       "      <td>1</td>\n",
       "      <td>10/30/2015</td>\n",
       "      <td>N Hollywood</td>\n",
       "      <td>BURGLARY FROM VEHICLE</td>\n",
       "      <td>11100    CHANDLER                     BL</td>\n",
       "      <td>theft from vehicle</td>\n",
       "    </tr>\n",
       "    <tr>\n",
       "      <th>2</th>\n",
       "      <td>2</td>\n",
       "      <td>11/04/2015</td>\n",
       "      <td>N Hollywood</td>\n",
       "      <td>CRIMINAL THREATS - NO WEAPON DISPLAYED</td>\n",
       "      <td>7300    BAKMAN                       AV</td>\n",
       "      <td>pub disorder</td>\n",
       "    </tr>\n",
       "    <tr>\n",
       "      <th>3</th>\n",
       "      <td>3</td>\n",
       "      <td>04/28/2015</td>\n",
       "      <td>N Hollywood</td>\n",
       "      <td>RAPE, FORCIBLE</td>\n",
       "      <td>10700    LANDALE                      ST</td>\n",
       "      <td>drug-alc</td>\n",
       "    </tr>\n",
       "    <tr>\n",
       "      <th>4</th>\n",
       "      <td>4</td>\n",
       "      <td>10/27/2015</td>\n",
       "      <td>N Hollywood</td>\n",
       "      <td>THEFT OF IDENTITY</td>\n",
       "      <td>11700    LEMAY                        ST</td>\n",
       "      <td>white collar</td>\n",
       "    </tr>\n",
       "  </tbody>\n",
       "</table>\n",
       "</div>"
      ],
      "text/plain": [
       "   Unnamed: 0 Date Occurred    Area Name  \\\n",
       "0           0    11/03/2015  N Hollywood   \n",
       "1           1    10/30/2015  N Hollywood   \n",
       "2           2    11/04/2015  N Hollywood   \n",
       "3           3    04/28/2015  N Hollywood   \n",
       "4           4    10/27/2015  N Hollywood   \n",
       "\n",
       "                   Crime Code Description  \\\n",
       "0                   BURGLARY FROM VEHICLE   \n",
       "1                   BURGLARY FROM VEHICLE   \n",
       "2  CRIMINAL THREATS - NO WEAPON DISPLAYED   \n",
       "3                          RAPE, FORCIBLE   \n",
       "4                       THEFT OF IDENTITY   \n",
       "\n",
       "                                    Address    offense_category  \n",
       "0  11100    CAMARILLO                    ST  theft from vehicle  \n",
       "1  11100    CHANDLER                     BL  theft from vehicle  \n",
       "2   7300    BAKMAN                       AV        pub disorder  \n",
       "3  10700    LANDALE                      ST            drug-alc  \n",
       "4  11700    LEMAY                        ST        white collar  "
      ]
     },
     "execution_count": 45,
     "metadata": {},
     "output_type": "execute_result"
    }
   ],
   "source": [
    "la_crime.head()"
   ]
  },
  {
   "cell_type": "code",
   "execution_count": 46,
   "metadata": {},
   "outputs": [],
   "source": [
    "la_crime['year_occurred'] = la_crime['Date Occurred'].str[-4:].astype(int)"
   ]
  },
  {
   "cell_type": "code",
   "execution_count": 47,
   "metadata": {},
   "outputs": [],
   "source": [
    "la_crime['Date Occurred'] = pd.to_datetime(la_crime['Date Occurred'])"
   ]
  },
  {
   "cell_type": "code",
   "execution_count": 48,
   "metadata": {},
   "outputs": [],
   "source": [
    "la_crime['month_year'] = la_crime['Date Occurred'].dt.to_period('M')"
   ]
  },
  {
   "cell_type": "code",
   "execution_count": 49,
   "metadata": {},
   "outputs": [
    {
     "data": {
      "text/html": [
       "<div>\n",
       "<style scoped>\n",
       "    .dataframe tbody tr th:only-of-type {\n",
       "        vertical-align: middle;\n",
       "    }\n",
       "\n",
       "    .dataframe tbody tr th {\n",
       "        vertical-align: top;\n",
       "    }\n",
       "\n",
       "    .dataframe thead th {\n",
       "        text-align: right;\n",
       "    }\n",
       "</style>\n",
       "<table border=\"1\" class=\"dataframe\">\n",
       "  <thead>\n",
       "    <tr style=\"text-align: right;\">\n",
       "      <th></th>\n",
       "      <th>Unnamed: 0</th>\n",
       "      <th>Date Occurred</th>\n",
       "      <th>Area Name</th>\n",
       "      <th>Crime Code Description</th>\n",
       "      <th>Address</th>\n",
       "      <th>offense_category</th>\n",
       "      <th>year_occurred</th>\n",
       "      <th>month_year</th>\n",
       "    </tr>\n",
       "  </thead>\n",
       "  <tbody>\n",
       "    <tr>\n",
       "      <th>0</th>\n",
       "      <td>0</td>\n",
       "      <td>2015-11-03</td>\n",
       "      <td>N Hollywood</td>\n",
       "      <td>BURGLARY FROM VEHICLE</td>\n",
       "      <td>11100    CAMARILLO                    ST</td>\n",
       "      <td>theft from vehicle</td>\n",
       "      <td>2015</td>\n",
       "      <td>2015-11</td>\n",
       "    </tr>\n",
       "    <tr>\n",
       "      <th>1</th>\n",
       "      <td>1</td>\n",
       "      <td>2015-10-30</td>\n",
       "      <td>N Hollywood</td>\n",
       "      <td>BURGLARY FROM VEHICLE</td>\n",
       "      <td>11100    CHANDLER                     BL</td>\n",
       "      <td>theft from vehicle</td>\n",
       "      <td>2015</td>\n",
       "      <td>2015-10</td>\n",
       "    </tr>\n",
       "    <tr>\n",
       "      <th>2</th>\n",
       "      <td>2</td>\n",
       "      <td>2015-11-04</td>\n",
       "      <td>N Hollywood</td>\n",
       "      <td>CRIMINAL THREATS - NO WEAPON DISPLAYED</td>\n",
       "      <td>7300    BAKMAN                       AV</td>\n",
       "      <td>pub disorder</td>\n",
       "      <td>2015</td>\n",
       "      <td>2015-11</td>\n",
       "    </tr>\n",
       "    <tr>\n",
       "      <th>3</th>\n",
       "      <td>3</td>\n",
       "      <td>2015-04-28</td>\n",
       "      <td>N Hollywood</td>\n",
       "      <td>RAPE, FORCIBLE</td>\n",
       "      <td>10700    LANDALE                      ST</td>\n",
       "      <td>drug-alc</td>\n",
       "      <td>2015</td>\n",
       "      <td>2015-04</td>\n",
       "    </tr>\n",
       "    <tr>\n",
       "      <th>4</th>\n",
       "      <td>4</td>\n",
       "      <td>2015-10-27</td>\n",
       "      <td>N Hollywood</td>\n",
       "      <td>THEFT OF IDENTITY</td>\n",
       "      <td>11700    LEMAY                        ST</td>\n",
       "      <td>white collar</td>\n",
       "      <td>2015</td>\n",
       "      <td>2015-10</td>\n",
       "    </tr>\n",
       "  </tbody>\n",
       "</table>\n",
       "</div>"
      ],
      "text/plain": [
       "   Unnamed: 0 Date Occurred    Area Name  \\\n",
       "0           0    2015-11-03  N Hollywood   \n",
       "1           1    2015-10-30  N Hollywood   \n",
       "2           2    2015-11-04  N Hollywood   \n",
       "3           3    2015-04-28  N Hollywood   \n",
       "4           4    2015-10-27  N Hollywood   \n",
       "\n",
       "                   Crime Code Description  \\\n",
       "0                   BURGLARY FROM VEHICLE   \n",
       "1                   BURGLARY FROM VEHICLE   \n",
       "2  CRIMINAL THREATS - NO WEAPON DISPLAYED   \n",
       "3                          RAPE, FORCIBLE   \n",
       "4                       THEFT OF IDENTITY   \n",
       "\n",
       "                                    Address    offense_category  \\\n",
       "0  11100    CAMARILLO                    ST  theft from vehicle   \n",
       "1  11100    CHANDLER                     BL  theft from vehicle   \n",
       "2   7300    BAKMAN                       AV        pub disorder   \n",
       "3  10700    LANDALE                      ST            drug-alc   \n",
       "4  11700    LEMAY                        ST        white collar   \n",
       "\n",
       "   year_occurred month_year  \n",
       "0           2015    2015-11  \n",
       "1           2015    2015-10  \n",
       "2           2015    2015-11  \n",
       "3           2015    2015-04  \n",
       "4           2015    2015-10  "
      ]
     },
     "execution_count": 49,
     "metadata": {},
     "output_type": "execute_result"
    }
   ],
   "source": [
    "la_crime.head()"
   ]
  },
  {
   "cell_type": "code",
   "execution_count": 50,
   "metadata": {},
   "outputs": [],
   "source": [
    "la_crime['month_year'] = la_crime['month_year'].astype(str)\n",
    "la_crime['month_year'] = pd.to_datetime(la_crime['month_year'], format='%Y-%m')\n"
   ]
  },
  {
   "cell_type": "code",
   "execution_count": 56,
   "metadata": {
    "scrolled": true
   },
   "outputs": [
    {
     "data": {
      "text/html": [
       "<div>\n",
       "<style scoped>\n",
       "    .dataframe tbody tr th:only-of-type {\n",
       "        vertical-align: middle;\n",
       "    }\n",
       "\n",
       "    .dataframe tbody tr th {\n",
       "        vertical-align: top;\n",
       "    }\n",
       "\n",
       "    .dataframe thead th {\n",
       "        text-align: right;\n",
       "    }\n",
       "</style>\n",
       "<table border=\"1\" class=\"dataframe\">\n",
       "  <thead>\n",
       "    <tr style=\"text-align: right;\">\n",
       "      <th></th>\n",
       "      <th>Area Name</th>\n",
       "      <th>Crime Code Description</th>\n",
       "      <th>Address</th>\n",
       "      <th>offense_category</th>\n",
       "      <th>month_year</th>\n",
       "      <th>year</th>\n",
       "    </tr>\n",
       "  </thead>\n",
       "  <tbody>\n",
       "    <tr>\n",
       "      <th>0</th>\n",
       "      <td>N Hollywood</td>\n",
       "      <td>BURGLARY FROM VEHICLE</td>\n",
       "      <td>11100    CAMARILLO                    ST</td>\n",
       "      <td>theft from vehicle</td>\n",
       "      <td>2015-11-01</td>\n",
       "      <td>2015</td>\n",
       "    </tr>\n",
       "    <tr>\n",
       "      <th>1</th>\n",
       "      <td>N Hollywood</td>\n",
       "      <td>BURGLARY FROM VEHICLE</td>\n",
       "      <td>11100    CHANDLER                     BL</td>\n",
       "      <td>theft from vehicle</td>\n",
       "      <td>2015-10-01</td>\n",
       "      <td>2015</td>\n",
       "    </tr>\n",
       "    <tr>\n",
       "      <th>2</th>\n",
       "      <td>N Hollywood</td>\n",
       "      <td>CRIMINAL THREATS - NO WEAPON DISPLAYED</td>\n",
       "      <td>7300    BAKMAN                       AV</td>\n",
       "      <td>pub disorder</td>\n",
       "      <td>2015-11-01</td>\n",
       "      <td>2015</td>\n",
       "    </tr>\n",
       "    <tr>\n",
       "      <th>3</th>\n",
       "      <td>N Hollywood</td>\n",
       "      <td>RAPE, FORCIBLE</td>\n",
       "      <td>10700    LANDALE                      ST</td>\n",
       "      <td>drug-alc</td>\n",
       "      <td>2015-04-01</td>\n",
       "      <td>2015</td>\n",
       "    </tr>\n",
       "    <tr>\n",
       "      <th>4</th>\n",
       "      <td>N Hollywood</td>\n",
       "      <td>THEFT OF IDENTITY</td>\n",
       "      <td>11700    LEMAY                        ST</td>\n",
       "      <td>white collar</td>\n",
       "      <td>2015-10-01</td>\n",
       "      <td>2015</td>\n",
       "    </tr>\n",
       "  </tbody>\n",
       "</table>\n",
       "</div>"
      ],
      "text/plain": [
       "     Area Name                  Crime Code Description  \\\n",
       "0  N Hollywood                   BURGLARY FROM VEHICLE   \n",
       "1  N Hollywood                   BURGLARY FROM VEHICLE   \n",
       "2  N Hollywood  CRIMINAL THREATS - NO WEAPON DISPLAYED   \n",
       "3  N Hollywood                          RAPE, FORCIBLE   \n",
       "4  N Hollywood                       THEFT OF IDENTITY   \n",
       "\n",
       "                                    Address    offense_category month_year  \\\n",
       "0  11100    CAMARILLO                    ST  theft from vehicle 2015-11-01   \n",
       "1  11100    CHANDLER                     BL  theft from vehicle 2015-10-01   \n",
       "2   7300    BAKMAN                       AV        pub disorder 2015-11-01   \n",
       "3  10700    LANDALE                      ST            drug-alc 2015-04-01   \n",
       "4  11700    LEMAY                        ST        white collar 2015-10-01   \n",
       "\n",
       "   year  \n",
       "0  2015  \n",
       "1  2015  \n",
       "2  2015  \n",
       "3  2015  \n",
       "4  2015  "
      ]
     },
     "execution_count": 56,
     "metadata": {},
     "output_type": "execute_result"
    }
   ],
   "source": [
    "la_crime.head()"
   ]
  },
  {
   "cell_type": "code",
   "execution_count": 52,
   "metadata": {},
   "outputs": [],
   "source": [
    "la_crime = la_crime.drop(['year_occurred','Date Occurred'],axis=1)"
   ]
  },
  {
   "cell_type": "code",
   "execution_count": 53,
   "metadata": {},
   "outputs": [],
   "source": [
    "la_crime['year'] = la_crime['month_year'].dt.year"
   ]
  },
  {
   "cell_type": "code",
   "execution_count": 57,
   "metadata": {},
   "outputs": [],
   "source": [
    "la_crime = la_crime[la_crime['month_year'] < '2018-01-01']"
   ]
  },
  {
   "cell_type": "code",
   "execution_count": 58,
   "metadata": {},
   "outputs": [
    {
     "data": {
      "text/plain": [
       "array(['2010-01-01T00:00:00.000000000', '2010-02-01T00:00:00.000000000',\n",
       "       '2010-03-01T00:00:00.000000000', '2010-04-01T00:00:00.000000000',\n",
       "       '2010-05-01T00:00:00.000000000', '2010-06-01T00:00:00.000000000',\n",
       "       '2010-07-01T00:00:00.000000000', '2010-08-01T00:00:00.000000000',\n",
       "       '2010-09-01T00:00:00.000000000', '2010-10-01T00:00:00.000000000',\n",
       "       '2010-11-01T00:00:00.000000000', '2010-12-01T00:00:00.000000000',\n",
       "       '2011-01-01T00:00:00.000000000', '2011-02-01T00:00:00.000000000',\n",
       "       '2011-03-01T00:00:00.000000000', '2011-04-01T00:00:00.000000000',\n",
       "       '2011-05-01T00:00:00.000000000', '2011-06-01T00:00:00.000000000',\n",
       "       '2011-07-01T00:00:00.000000000', '2011-08-01T00:00:00.000000000',\n",
       "       '2011-09-01T00:00:00.000000000', '2011-10-01T00:00:00.000000000',\n",
       "       '2011-11-01T00:00:00.000000000', '2011-12-01T00:00:00.000000000',\n",
       "       '2012-01-01T00:00:00.000000000', '2012-02-01T00:00:00.000000000',\n",
       "       '2012-03-01T00:00:00.000000000', '2012-04-01T00:00:00.000000000',\n",
       "       '2012-05-01T00:00:00.000000000', '2012-06-01T00:00:00.000000000',\n",
       "       '2012-07-01T00:00:00.000000000', '2012-08-01T00:00:00.000000000',\n",
       "       '2012-09-01T00:00:00.000000000', '2012-10-01T00:00:00.000000000',\n",
       "       '2012-11-01T00:00:00.000000000', '2012-12-01T00:00:00.000000000',\n",
       "       '2013-01-01T00:00:00.000000000', '2013-02-01T00:00:00.000000000',\n",
       "       '2013-03-01T00:00:00.000000000', '2013-04-01T00:00:00.000000000',\n",
       "       '2013-05-01T00:00:00.000000000', '2013-06-01T00:00:00.000000000',\n",
       "       '2013-07-01T00:00:00.000000000', '2013-08-01T00:00:00.000000000',\n",
       "       '2013-09-01T00:00:00.000000000', '2013-10-01T00:00:00.000000000',\n",
       "       '2013-11-01T00:00:00.000000000', '2013-12-01T00:00:00.000000000',\n",
       "       '2014-01-01T00:00:00.000000000', '2014-02-01T00:00:00.000000000',\n",
       "       '2014-03-01T00:00:00.000000000', '2014-04-01T00:00:00.000000000',\n",
       "       '2014-05-01T00:00:00.000000000', '2014-06-01T00:00:00.000000000',\n",
       "       '2014-07-01T00:00:00.000000000', '2014-08-01T00:00:00.000000000',\n",
       "       '2014-09-01T00:00:00.000000000', '2014-10-01T00:00:00.000000000',\n",
       "       '2014-11-01T00:00:00.000000000', '2014-12-01T00:00:00.000000000',\n",
       "       '2015-01-01T00:00:00.000000000', '2015-02-01T00:00:00.000000000',\n",
       "       '2015-03-01T00:00:00.000000000', '2015-04-01T00:00:00.000000000',\n",
       "       '2015-05-01T00:00:00.000000000', '2015-06-01T00:00:00.000000000',\n",
       "       '2015-07-01T00:00:00.000000000', '2015-08-01T00:00:00.000000000',\n",
       "       '2015-09-01T00:00:00.000000000', '2015-10-01T00:00:00.000000000',\n",
       "       '2015-11-01T00:00:00.000000000', '2015-12-01T00:00:00.000000000',\n",
       "       '2016-01-01T00:00:00.000000000', '2016-02-01T00:00:00.000000000',\n",
       "       '2016-03-01T00:00:00.000000000', '2016-04-01T00:00:00.000000000',\n",
       "       '2016-05-01T00:00:00.000000000', '2016-06-01T00:00:00.000000000',\n",
       "       '2016-07-01T00:00:00.000000000', '2016-08-01T00:00:00.000000000',\n",
       "       '2016-09-01T00:00:00.000000000', '2016-10-01T00:00:00.000000000',\n",
       "       '2016-11-01T00:00:00.000000000', '2016-12-01T00:00:00.000000000',\n",
       "       '2017-01-01T00:00:00.000000000', '2017-02-01T00:00:00.000000000',\n",
       "       '2017-03-01T00:00:00.000000000', '2017-04-01T00:00:00.000000000',\n",
       "       '2017-05-01T00:00:00.000000000', '2017-06-01T00:00:00.000000000',\n",
       "       '2017-07-01T00:00:00.000000000', '2017-08-01T00:00:00.000000000',\n",
       "       '2017-09-01T00:00:00.000000000', '2017-10-01T00:00:00.000000000',\n",
       "       '2017-11-01T00:00:00.000000000', '2017-12-01T00:00:00.000000000'],\n",
       "      dtype='datetime64[ns]')"
      ]
     },
     "execution_count": 58,
     "metadata": {},
     "output_type": "execute_result"
    }
   ],
   "source": [
    "x = la_crime['month_year'].sort_values()\n",
    "x = x.unique()\n",
    "x"
   ]
  },
  {
   "cell_type": "code",
   "execution_count": 59,
   "metadata": {},
   "outputs": [
    {
     "data": {
      "text/plain": [
       "array(['theft from vehicle', 'pub disorder', 'drug-alc', 'white collar',\n",
       "       'auto-theft', 'larceny', 'other crimes against persons',\n",
       "       'burglary', 'other', 'agg assault', 'robbery', 'sexual assault',\n",
       "       'arson', 'child', 'murder'], dtype=object)"
      ]
     },
     "execution_count": 59,
     "metadata": {},
     "output_type": "execute_result"
    }
   ],
   "source": [
    "la_crime['offense_category'].unique()"
   ]
  },
  {
   "cell_type": "code",
   "execution_count": 60,
   "metadata": {},
   "outputs": [],
   "source": [
    "la_theft_frm_veh = la_crime.loc[la_crime['offense_category'] == 'theft from vehicle']\n",
    "la_pub_disorder = la_crime.loc[la_crime['offense_category'] == 'pub disorder']\n",
    "la_drug_alc = la_crime.loc[la_crime['offense_category'] == 'drug-alc']\n",
    "la_white_collar = la_crime.loc[la_crime['offense_category'] == 'white collar']\n",
    "la_auto_theft = la_crime.loc[la_crime['offense_category'] == 'auto-theft']\n",
    "la_larceny = la_crime.loc[la_crime['offense_category'] == 'larceny']\n",
    "la_other_crimes_agnst_per = la_crime.loc[la_crime['offense_category'] == 'other crimes against persons']\n",
    "la_burglary = la_crime.loc[la_crime['offense_category'] == 'burglary']\n",
    "la_other = la_crime.loc[la_crime['offense_category'] == 'other']\n",
    "la_agg_assault = la_crime.loc[la_crime['offense_category'] == 'agg assault']\n",
    "la_robbery = la_crime.loc[la_crime['offense_category'] == 'robbery']\n",
    "la_sex_asslt = la_crime.loc[la_crime['offense_category'] == 'sexual assault']\n",
    "la_arson = la_crime.loc[la_crime['offense_category'] == 'arson']\n",
    "la_child = la_crime.loc[la_crime['offense_category'] == 'child']\n",
    "la_murder = la_crime.loc[la_crime['offense_category'] == 'murder']"
   ]
  },
  {
   "cell_type": "markdown",
   "metadata": {},
   "source": [
    "# Primary Categories\n",
    "\n",
    "Murder, Robbery, Larceny, Burglary, Drug-Alc\n",
    "\n",
    "We're going to compare the per capita rates as they've lowered from 2012 to 2013.\n",
    "\n",
    "2011 population = 3.825 mil\n",
    "\n",
    "2012 population = 3.859 mil\n",
    "\n",
    "2013 population = 3.892 mil\n",
    "\n",
    "--------------------------------\n",
    "\n",
    "2011 murder/capita = 298/3.825 mil = 7.80 * 10^-5\n",
    "\n",
    "2012 murder/capita = 298/3.859 mil = 7.72 * 10^-5\n",
    "\n",
    "2013 murder/capita = 250/3.892 mil = 6.42 * 10^-5\n",
    "\n",
    "---------------------------\n",
    "\n",
    "2011 burglary/bapita = 17604/3.825 mil = 4.60 * 10^-3\n",
    "\n",
    "2012 burglary/capita = 16723/3.859 mil = 4.33 * 10^-3\n",
    "\n",
    "2013 burglary.capita = 15947/3.892 mil = 4.10 * 10^-3\n",
    "\n",
    "---------\n",
    "\n",
    "2011 robbery/capita = 10031/3.825 mil = 2.62 * 10^-3\n",
    "\n",
    "2012 robbery/capita = 8927/3.859 mil = 2.31 * 10^-3\n",
    "\n",
    "2013 robbery/capita = 7851/3.892 mil = 2.01 * 10^-3\n",
    "\n",
    "-------------------------\n",
    "\n",
    "2011 larceny/capita = 27845/3.825 mil = 7.28 * 10^-3\n",
    "\n",
    "2012 larceny/capita = 29804/3.859 mil = 7.72 * 10^-3\n",
    "\n",
    "2013 larceny/capita = 29812/3.892 mil = 7.66 * 10^-3\n",
    "\n",
    "----------------\n",
    "\n",
    "2011 drug-alc/capita =  2375/3.825 mil = 6.21 * 10^-4\n",
    "\n",
    "2012 drug-alc/capita =  2568/3.859 mil = 6.65 * 10^-4\n",
    "\n",
    "2013 drug-alc/capita =  2421/3.892 mil = 6.22 * 10^-4\n",
    "\n",
    "---------------------"
   ]
  },
  {
   "cell_type": "code",
   "execution_count": 38,
   "metadata": {},
   "outputs": [],
   "source": [
    "years = [2010,2011,2012,2013,2014,2015,2016,2017]\n",
    "populations = [3796000,3825000,3859000,3892000,3923000,3953000,3981000,4000000]"
   ]
  },
  {
   "cell_type": "code",
   "execution_count": 20,
   "metadata": {
    "scrolled": true
   },
   "outputs": [
    {
     "name": "stderr",
     "output_type": "stream",
     "text": [
      "/Users/ajfong/anaconda3/lib/python3.6/site-packages/pandas/plotting/_converter.py:129: FutureWarning: Using an implicitly registered datetime converter for a matplotlib plotting method. The converter was registered by pandas on import. Future versions of pandas will require you to explicitly register matplotlib converters.\n",
      "\n",
      "To register the converters:\n",
      "\t>>> from pandas.plotting import register_matplotlib_converters\n",
      "\t>>> register_matplotlib_converters()\n",
      "  warnings.warn(msg, FutureWarning)\n"
     ]
    },
    {
     "data": {
      "text/plain": [
       "[<matplotlib.lines.Line2D at 0x117e6f668>]"
      ]
     },
     "execution_count": 20,
     "metadata": {},
     "output_type": "execute_result"
    },
    {
     "data": {
      "image/png": "[encoded data removed]",
      "text/plain": [
       "<Figure size 432x288 with 1 Axes>"
      ]
     },
     "metadata": {
      "needs_background": "light"
     },
     "output_type": "display_data"
    }
   ],
   "source": [
    "plt.title('Murder over Time in Los Angeles')\n",
    "plt.plot(x,la_murder['month_year'].value_counts())"
   ]
  },
  {
   "cell_type": "code",
   "execution_count": 36,
   "metadata": {
    "scrolled": true
   },
   "outputs": [
    {
     "data": {
      "text/plain": [
       "2010    295\n",
       "2011    298\n",
       "2012    298\n",
       "2013    250\n",
       "2014    260\n",
       "2015    280\n",
       "2016    293\n",
       "2017    281\n",
       "Name: year, dtype: int64"
      ]
     },
     "execution_count": 36,
     "metadata": {},
     "output_type": "execute_result"
    }
   ],
   "source": [
    "murder_by_year = la_murder['year'].value_counts()\n",
    "murder_by_year = murder_by_year.sort_index()\n",
    "murder_by_year"
   ]
  },
  {
   "cell_type": "code",
   "execution_count": 40,
   "metadata": {},
   "outputs": [
    {
     "data": {
      "text/html": [
       "<div>\n",
       "<style scoped>\n",
       "    .dataframe tbody tr th:only-of-type {\n",
       "        vertical-align: middle;\n",
       "    }\n",
       "\n",
       "    .dataframe tbody tr th {\n",
       "        vertical-align: top;\n",
       "    }\n",
       "\n",
       "    .dataframe thead th {\n",
       "        text-align: right;\n",
       "    }\n",
       "</style>\n",
       "<table border=\"1\" class=\"dataframe\">\n",
       "  <thead>\n",
       "    <tr style=\"text-align: right;\">\n",
       "      <th></th>\n",
       "      <th>year</th>\n",
       "      <th>population</th>\n",
       "      <th>count</th>\n",
       "      <th>rate</th>\n",
       "    </tr>\n",
       "  </thead>\n",
       "  <tbody>\n",
       "    <tr>\n",
       "      <th>0</th>\n",
       "      <td>2010</td>\n",
       "      <td>3796000</td>\n",
       "      <td>295</td>\n",
       "      <td>0.000078</td>\n",
       "    </tr>\n",
       "    <tr>\n",
       "      <th>1</th>\n",
       "      <td>2011</td>\n",
       "      <td>3825000</td>\n",
       "      <td>298</td>\n",
       "      <td>0.000078</td>\n",
       "    </tr>\n",
       "    <tr>\n",
       "      <th>2</th>\n",
       "      <td>2012</td>\n",
       "      <td>3859000</td>\n",
       "      <td>298</td>\n",
       "      <td>0.000077</td>\n",
       "    </tr>\n",
       "    <tr>\n",
       "      <th>3</th>\n",
       "      <td>2013</td>\n",
       "      <td>3892000</td>\n",
       "      <td>250</td>\n",
       "      <td>0.000064</td>\n",
       "    </tr>\n",
       "    <tr>\n",
       "      <th>4</th>\n",
       "      <td>2014</td>\n",
       "      <td>3923000</td>\n",
       "      <td>260</td>\n",
       "      <td>0.000066</td>\n",
       "    </tr>\n",
       "    <tr>\n",
       "      <th>5</th>\n",
       "      <td>2015</td>\n",
       "      <td>3953000</td>\n",
       "      <td>280</td>\n",
       "      <td>0.000071</td>\n",
       "    </tr>\n",
       "    <tr>\n",
       "      <th>6</th>\n",
       "      <td>2016</td>\n",
       "      <td>3981000</td>\n",
       "      <td>293</td>\n",
       "      <td>0.000074</td>\n",
       "    </tr>\n",
       "    <tr>\n",
       "      <th>7</th>\n",
       "      <td>2017</td>\n",
       "      <td>4000000</td>\n",
       "      <td>281</td>\n",
       "      <td>0.000070</td>\n",
       "    </tr>\n",
       "  </tbody>\n",
       "</table>\n",
       "</div>"
      ],
      "text/plain": [
       "   year  population  count      rate\n",
       "0  2010     3796000    295  0.000078\n",
       "1  2011     3825000    298  0.000078\n",
       "2  2012     3859000    298  0.000077\n",
       "3  2013     3892000    250  0.000064\n",
       "4  2014     3923000    260  0.000066\n",
       "5  2015     3953000    280  0.000071\n",
       "6  2016     3981000    293  0.000074\n",
       "7  2017     4000000    281  0.000070"
      ]
     },
     "execution_count": 40,
     "metadata": {},
     "output_type": "execute_result"
    }
   ],
   "source": [
    "yearly_murder = pd.DataFrame(years,columns=['year'])\n",
    "yearly_murder['population'] = populations\n",
    "yearly_murder['count'] = murder_by_year.values\n",
    "yearly_murder['rate'] = yearly_murder['count']/yearly_murder['population']\n",
    "yearly_murder"
   ]
  },
  {
   "cell_type": "code",
   "execution_count": 41,
   "metadata": {},
   "outputs": [
    {
     "data": {
      "text/plain": [
       "[<matplotlib.lines.Line2D at 0x117ebb588>]"
      ]
     },
     "execution_count": 41,
     "metadata": {},
     "output_type": "execute_result"
    },
    {
     "data": {
      "image/png": "[encoded data removed]",
      "text/plain": [
       "<Figure size 432x288 with 1 Axes>"
      ]
     },
     "metadata": {
      "needs_background": "light"
     },
     "output_type": "display_data"
    }
   ],
   "source": [
    "plt.title('LA Murder per Capita')\n",
    "plt.plot(years,yearly_murder['rate'])"
   ]
  },
  {
   "cell_type": "code",
   "execution_count": 22,
   "metadata": {
    "scrolled": true
   },
   "outputs": [
    {
     "data": {
      "text/plain": [
       "[<matplotlib.lines.Line2D at 0x112100588>]"
      ]
     },
     "execution_count": 22,
     "metadata": {},
     "output_type": "execute_result"
    },
    {
     "data": {
      "image/png": "[encoded data removed]",
      "text/plain": [
       "<Figure size 432x288 with 1 Axes>"
      ]
     },
     "metadata": {
      "needs_background": "light"
     },
     "output_type": "display_data"
    }
   ],
   "source": [
    "plt.title('Burglary over Time in Los Angeles')\n",
    "plt.plot(x,la_burglary['month_year'].value_counts())"
   ]
  },
  {
   "cell_type": "code",
   "execution_count": 69,
   "metadata": {
    "scrolled": true
   },
   "outputs": [
    {
     "data": {
      "text/plain": [
       "2010    17775\n",
       "2011    17576\n",
       "2012    16693\n",
       "2013    15913\n",
       "2014    15341\n",
       "2015    16408\n",
       "2016    15994\n",
       "2017    16893\n",
       "Name: year, dtype: int64"
      ]
     },
     "execution_count": 69,
     "metadata": {},
     "output_type": "execute_result"
    }
   ],
   "source": [
    "burglary_by_year = la_burglary['year'].value_counts()\n",
    "burglary_by_year = burglary_by_year.sort_index()\n",
    "burglary_by_year"
   ]
  },
  {
   "cell_type": "code",
   "execution_count": 70,
   "metadata": {},
   "outputs": [
    {
     "data": {
      "text/html": [
       "<div>\n",
       "<style scoped>\n",
       "    .dataframe tbody tr th:only-of-type {\n",
       "        vertical-align: middle;\n",
       "    }\n",
       "\n",
       "    .dataframe tbody tr th {\n",
       "        vertical-align: top;\n",
       "    }\n",
       "\n",
       "    .dataframe thead th {\n",
       "        text-align: right;\n",
       "    }\n",
       "</style>\n",
       "<table border=\"1\" class=\"dataframe\">\n",
       "  <thead>\n",
       "    <tr style=\"text-align: right;\">\n",
       "      <th></th>\n",
       "      <th>year</th>\n",
       "      <th>population</th>\n",
       "      <th>count</th>\n",
       "      <th>rate</th>\n",
       "    </tr>\n",
       "  </thead>\n",
       "  <tbody>\n",
       "    <tr>\n",
       "      <th>0</th>\n",
       "      <td>2010</td>\n",
       "      <td>3796000</td>\n",
       "      <td>17775</td>\n",
       "      <td>0.004683</td>\n",
       "    </tr>\n",
       "    <tr>\n",
       "      <th>1</th>\n",
       "      <td>2011</td>\n",
       "      <td>3825000</td>\n",
       "      <td>17576</td>\n",
       "      <td>0.004595</td>\n",
       "    </tr>\n",
       "    <tr>\n",
       "      <th>2</th>\n",
       "      <td>2012</td>\n",
       "      <td>3859000</td>\n",
       "      <td>16693</td>\n",
       "      <td>0.004326</td>\n",
       "    </tr>\n",
       "    <tr>\n",
       "      <th>3</th>\n",
       "      <td>2013</td>\n",
       "      <td>3892000</td>\n",
       "      <td>15913</td>\n",
       "      <td>0.004089</td>\n",
       "    </tr>\n",
       "    <tr>\n",
       "      <th>4</th>\n",
       "      <td>2014</td>\n",
       "      <td>3923000</td>\n",
       "      <td>15341</td>\n",
       "      <td>0.003911</td>\n",
       "    </tr>\n",
       "    <tr>\n",
       "      <th>5</th>\n",
       "      <td>2015</td>\n",
       "      <td>3953000</td>\n",
       "      <td>16408</td>\n",
       "      <td>0.004151</td>\n",
       "    </tr>\n",
       "    <tr>\n",
       "      <th>6</th>\n",
       "      <td>2016</td>\n",
       "      <td>3981000</td>\n",
       "      <td>15994</td>\n",
       "      <td>0.004018</td>\n",
       "    </tr>\n",
       "    <tr>\n",
       "      <th>7</th>\n",
       "      <td>2017</td>\n",
       "      <td>4000000</td>\n",
       "      <td>16893</td>\n",
       "      <td>0.004223</td>\n",
       "    </tr>\n",
       "  </tbody>\n",
       "</table>\n",
       "</div>"
      ],
      "text/plain": [
       "   year  population  count      rate\n",
       "0  2010     3796000  17775  0.004683\n",
       "1  2011     3825000  17576  0.004595\n",
       "2  2012     3859000  16693  0.004326\n",
       "3  2013     3892000  15913  0.004089\n",
       "4  2014     3923000  15341  0.003911\n",
       "5  2015     3953000  16408  0.004151\n",
       "6  2016     3981000  15994  0.004018\n",
       "7  2017     4000000  16893  0.004223"
      ]
     },
     "execution_count": 70,
     "metadata": {},
     "output_type": "execute_result"
    }
   ],
   "source": [
    "yearly_burglary = pd.DataFrame(years, columns=['year'])\n",
    "yearly_burglary['population'] = populations\n",
    "yearly_burglary['count'] = burglary_by_year.values\n",
    "yearly_burglary['rate'] = yearly_burglary['count']/yearly_burglary['population']\n",
    "yearly_burglary"
   ]
  },
  {
   "cell_type": "code",
   "execution_count": 71,
   "metadata": {},
   "outputs": [
    {
     "data": {
      "text/plain": [
       "[<matplotlib.lines.Line2D at 0x110b81c18>]"
      ]
     },
     "execution_count": 71,
     "metadata": {},
     "output_type": "execute_result"
    },
    {
     "data": {
      "image/png": "[encoded data removed]",
      "text/plain": [
       "<Figure size 432x288 with 1 Axes>"
      ]
     },
     "metadata": {
      "needs_background": "light"
     },
     "output_type": "display_data"
    }
   ],
   "source": [
    "plt.title('LA Burglary per Capita')\n",
    "plt.plot(years, yearly_burglary['rate'])"
   ]
  },
  {
   "cell_type": "code",
   "execution_count": 61,
   "metadata": {},
   "outputs": [
    {
     "data": {
      "text/plain": [
       "array([2015, 2010, 2016, 2017, 2011, 2012, 2013, 2014])"
      ]
     },
     "execution_count": 61,
     "metadata": {},
     "output_type": "execute_result"
    }
   ],
   "source": [
    "x_drug_alc = la_drug_alc['year'].unique()\n",
    "x_drug_alc"
   ]
  },
  {
   "cell_type": "code",
   "execution_count": 62,
   "metadata": {},
   "outputs": [
    {
     "data": {
      "text/plain": [
       "[<matplotlib.lines.Line2D at 0x11e85dba8>]"
      ]
     },
     "execution_count": 62,
     "metadata": {},
     "output_type": "execute_result"
    },
    {
     "data": {
      "image/png": "[encoded data removed]",
      "text/plain": [
       "<Figure size 432x288 with 1 Axes>"
      ]
     },
     "metadata": {
      "needs_background": "light"
     },
     "output_type": "display_data"
    }
   ],
   "source": [
    "plt.title('Drug and Alcohol Crime over Time in Los Angeles')\n",
    "plt.plot(x,la_drug_alc['month_year'].value_counts())"
   ]
  },
  {
   "cell_type": "code",
   "execution_count": 72,
   "metadata": {},
   "outputs": [
    {
     "data": {
      "text/plain": [
       "2010    2249\n",
       "2011    2375\n",
       "2012    2568\n",
       "2013    2421\n",
       "2014    2899\n",
       "2015    2905\n",
       "2016    3352\n",
       "2017    3329\n",
       "Name: year, dtype: int64"
      ]
     },
     "execution_count": 72,
     "metadata": {},
     "output_type": "execute_result"
    }
   ],
   "source": [
    "drug_alc_by_year = la_drug_alc['year'].value_counts()\n",
    "drug_alc_by_year = drug_alc_by_year.sort_index()\n",
    "drug_alc_by_year"
   ]
  },
  {
   "cell_type": "code",
   "execution_count": 73,
   "metadata": {},
   "outputs": [
    {
     "data": {
      "text/html": [
       "<div>\n",
       "<style scoped>\n",
       "    .dataframe tbody tr th:only-of-type {\n",
       "        vertical-align: middle;\n",
       "    }\n",
       "\n",
       "    .dataframe tbody tr th {\n",
       "        vertical-align: top;\n",
       "    }\n",
       "\n",
       "    .dataframe thead th {\n",
       "        text-align: right;\n",
       "    }\n",
       "</style>\n",
       "<table border=\"1\" class=\"dataframe\">\n",
       "  <thead>\n",
       "    <tr style=\"text-align: right;\">\n",
       "      <th></th>\n",
       "      <th>year</th>\n",
       "      <th>population</th>\n",
       "      <th>count</th>\n",
       "      <th>rate</th>\n",
       "    </tr>\n",
       "  </thead>\n",
       "  <tbody>\n",
       "    <tr>\n",
       "      <th>0</th>\n",
       "      <td>2010</td>\n",
       "      <td>3796000</td>\n",
       "      <td>2249</td>\n",
       "      <td>0.000592</td>\n",
       "    </tr>\n",
       "    <tr>\n",
       "      <th>1</th>\n",
       "      <td>2011</td>\n",
       "      <td>3825000</td>\n",
       "      <td>2375</td>\n",
       "      <td>0.000621</td>\n",
       "    </tr>\n",
       "    <tr>\n",
       "      <th>2</th>\n",
       "      <td>2012</td>\n",
       "      <td>3859000</td>\n",
       "      <td>2568</td>\n",
       "      <td>0.000665</td>\n",
       "    </tr>\n",
       "    <tr>\n",
       "      <th>3</th>\n",
       "      <td>2013</td>\n",
       "      <td>3892000</td>\n",
       "      <td>2421</td>\n",
       "      <td>0.000622</td>\n",
       "    </tr>\n",
       "    <tr>\n",
       "      <th>4</th>\n",
       "      <td>2014</td>\n",
       "      <td>3923000</td>\n",
       "      <td>2899</td>\n",
       "      <td>0.000739</td>\n",
       "    </tr>\n",
       "    <tr>\n",
       "      <th>5</th>\n",
       "      <td>2015</td>\n",
       "      <td>3953000</td>\n",
       "      <td>2905</td>\n",
       "      <td>0.000735</td>\n",
       "    </tr>\n",
       "    <tr>\n",
       "      <th>6</th>\n",
       "      <td>2016</td>\n",
       "      <td>3981000</td>\n",
       "      <td>3352</td>\n",
       "      <td>0.000842</td>\n",
       "    </tr>\n",
       "    <tr>\n",
       "      <th>7</th>\n",
       "      <td>2017</td>\n",
       "      <td>4000000</td>\n",
       "      <td>3329</td>\n",
       "      <td>0.000832</td>\n",
       "    </tr>\n",
       "  </tbody>\n",
       "</table>\n",
       "</div>"
      ],
      "text/plain": [
       "   year  population  count      rate\n",
       "0  2010     3796000   2249  0.000592\n",
       "1  2011     3825000   2375  0.000621\n",
       "2  2012     3859000   2568  0.000665\n",
       "3  2013     3892000   2421  0.000622\n",
       "4  2014     3923000   2899  0.000739\n",
       "5  2015     3953000   2905  0.000735\n",
       "6  2016     3981000   3352  0.000842\n",
       "7  2017     4000000   3329  0.000832"
      ]
     },
     "execution_count": 73,
     "metadata": {},
     "output_type": "execute_result"
    }
   ],
   "source": [
    "yearly_drug_alc = pd.DataFrame(years,columns=['year'])\n",
    "yearly_drug_alc['population'] = populations\n",
    "yearly_drug_alc['count'] = drug_alc_by_year.values\n",
    "yearly_drug_alc['rate'] = yearly_drug_alc['count']/yearly_drug_alc['population']\n",
    "yearly_drug_alc"
   ]
  },
  {
   "cell_type": "code",
   "execution_count": 74,
   "metadata": {},
   "outputs": [
    {
     "data": {
      "text/plain": [
       "[<matplotlib.lines.Line2D at 0x11120c5c0>]"
      ]
     },
     "execution_count": 74,
     "metadata": {},
     "output_type": "execute_result"
    },
    {
     "data": {
      "image/png": "[encoded data removed]",
      "text/plain": [
       "<Figure size 432x288 with 1 Axes>"
      ]
     },
     "metadata": {
      "needs_background": "light"
     },
     "output_type": "display_data"
    }
   ],
   "source": [
    "plt.title('LA Drug and Alcohol Crime per Capita')\n",
    "plt.plot(years, yearly_drug_alc['rate'])"
   ]
  },
  {
   "cell_type": "code",
   "execution_count": null,
   "metadata": {},
   "outputs": [],
   "source": []
  },
  {
   "cell_type": "code",
   "execution_count": 64,
   "metadata": {
    "scrolled": true
   },
   "outputs": [
    {
     "data": {
      "text/plain": [
       "[<matplotlib.lines.Line2D at 0x13ffd6eb8>]"
      ]
     },
     "execution_count": 64,
     "metadata": {},
     "output_type": "execute_result"
    },
    {
     "data": {
      "image/png": "[encoded data removed]",
      "text/plain": [
       "<Figure size 432x288 with 1 Axes>"
      ]
     },
     "metadata": {
      "needs_background": "light"
     },
     "output_type": "display_data"
    }
   ],
   "source": [
    "plt.title('Robbery over Time in Los Angeles')\n",
    "plt.plot(x,la_robbery['month_year'].value_counts())"
   ]
  },
  {
   "cell_type": "code",
   "execution_count": 66,
   "metadata": {},
   "outputs": [
    {
     "data": {
      "text/plain": [
       "2010    10899\n",
       "2011    10031\n",
       "2012     8927\n",
       "2013     7851\n",
       "2014     7911\n",
       "2015     8974\n",
       "2016    10190\n",
       "2017    10733\n",
       "Name: year, dtype: int64"
      ]
     },
     "execution_count": 66,
     "metadata": {},
     "output_type": "execute_result"
    }
   ],
   "source": [
    "robbery_by_year = la_robbery['year'].value_counts()\n",
    "robbery_by_year = robbery_by_year.sort_index()\n",
    "robbery_by_year"
   ]
  },
  {
   "cell_type": "code",
   "execution_count": 67,
   "metadata": {},
   "outputs": [
    {
     "data": {
      "text/html": [
       "<div>\n",
       "<style scoped>\n",
       "    .dataframe tbody tr th:only-of-type {\n",
       "        vertical-align: middle;\n",
       "    }\n",
       "\n",
       "    .dataframe tbody tr th {\n",
       "        vertical-align: top;\n",
       "    }\n",
       "\n",
       "    .dataframe thead th {\n",
       "        text-align: right;\n",
       "    }\n",
       "</style>\n",
       "<table border=\"1\" class=\"dataframe\">\n",
       "  <thead>\n",
       "    <tr style=\"text-align: right;\">\n",
       "      <th></th>\n",
       "      <th>year</th>\n",
       "      <th>population</th>\n",
       "      <th>count</th>\n",
       "      <th>rate</th>\n",
       "    </tr>\n",
       "  </thead>\n",
       "  <tbody>\n",
       "    <tr>\n",
       "      <th>0</th>\n",
       "      <td>2010</td>\n",
       "      <td>3796000</td>\n",
       "      <td>10899</td>\n",
       "      <td>0.002871</td>\n",
       "    </tr>\n",
       "    <tr>\n",
       "      <th>1</th>\n",
       "      <td>2011</td>\n",
       "      <td>3825000</td>\n",
       "      <td>10031</td>\n",
       "      <td>0.002622</td>\n",
       "    </tr>\n",
       "    <tr>\n",
       "      <th>2</th>\n",
       "      <td>2012</td>\n",
       "      <td>3859000</td>\n",
       "      <td>8927</td>\n",
       "      <td>0.002313</td>\n",
       "    </tr>\n",
       "    <tr>\n",
       "      <th>3</th>\n",
       "      <td>2013</td>\n",
       "      <td>3892000</td>\n",
       "      <td>7851</td>\n",
       "      <td>0.002017</td>\n",
       "    </tr>\n",
       "    <tr>\n",
       "      <th>4</th>\n",
       "      <td>2014</td>\n",
       "      <td>3923000</td>\n",
       "      <td>7911</td>\n",
       "      <td>0.002017</td>\n",
       "    </tr>\n",
       "    <tr>\n",
       "      <th>5</th>\n",
       "      <td>2015</td>\n",
       "      <td>3953000</td>\n",
       "      <td>8974</td>\n",
       "      <td>0.002270</td>\n",
       "    </tr>\n",
       "    <tr>\n",
       "      <th>6</th>\n",
       "      <td>2016</td>\n",
       "      <td>3981000</td>\n",
       "      <td>10190</td>\n",
       "      <td>0.002560</td>\n",
       "    </tr>\n",
       "    <tr>\n",
       "      <th>7</th>\n",
       "      <td>2017</td>\n",
       "      <td>4000000</td>\n",
       "      <td>10733</td>\n",
       "      <td>0.002683</td>\n",
       "    </tr>\n",
       "  </tbody>\n",
       "</table>\n",
       "</div>"
      ],
      "text/plain": [
       "   year  population  count      rate\n",
       "0  2010     3796000  10899  0.002871\n",
       "1  2011     3825000  10031  0.002622\n",
       "2  2012     3859000   8927  0.002313\n",
       "3  2013     3892000   7851  0.002017\n",
       "4  2014     3923000   7911  0.002017\n",
       "5  2015     3953000   8974  0.002270\n",
       "6  2016     3981000  10190  0.002560\n",
       "7  2017     4000000  10733  0.002683"
      ]
     },
     "execution_count": 67,
     "metadata": {},
     "output_type": "execute_result"
    }
   ],
   "source": [
    "yearly_robbery = pd.DataFrame(years,columns=['year'])\n",
    "yearly_robbery['population'] = populations\n",
    "yearly_robbery['count'] = robbery_by_year.values\n",
    "yearly_robbery['rate'] = yearly_robbery['count']/yearly_robbery['population']\n",
    "yearly_robbery"
   ]
  },
  {
   "cell_type": "code",
   "execution_count": null,
   "metadata": {},
   "outputs": [],
   "source": []
  },
  {
   "cell_type": "code",
   "execution_count": 68,
   "metadata": {},
   "outputs": [
    {
     "data": {
      "text/plain": [
       "[<matplotlib.lines.Line2D at 0x10fe5c908>]"
      ]
     },
     "execution_count": 68,
     "metadata": {},
     "output_type": "execute_result"
    },
    {
     "data": {
      "image/png": "[encoded data removed]",
      "text/plain": [
       "<Figure size 432x288 with 1 Axes>"
      ]
     },
     "metadata": {
      "needs_background": "light"
     },
     "output_type": "display_data"
    }
   ],
   "source": [
    "plt.title('LA Robbery per Capita')\n",
    "plt.plot(years, yearly_robbery['rate'])"
   ]
  },
  {
   "cell_type": "code",
   "execution_count": null,
   "metadata": {},
   "outputs": [],
   "source": []
  },
  {
   "cell_type": "code",
   "execution_count": null,
   "metadata": {},
   "outputs": [],
   "source": []
  },
  {
   "cell_type": "code",
   "execution_count": null,
   "metadata": {},
   "outputs": [],
   "source": []
  },
  {
   "cell_type": "code",
   "execution_count": 26,
   "metadata": {},
   "outputs": [
    {
     "data": {
      "text/plain": [
       "[<matplotlib.lines.Line2D at 0x116e0f4a8>]"
      ]
     },
     "execution_count": 26,
     "metadata": {},
     "output_type": "execute_result"
    },
    {
     "data": {
      "image/png": "[encoded data removed]",
      "text/plain": [
       "<Figure size 432x288 with 1 Axes>"
      ]
     },
     "metadata": {
      "needs_background": "light"
     },
     "output_type": "display_data"
    }
   ],
   "source": [
    "plt.title('Larceny over Time in Los Angeles')\n",
    "plt.plot(x,la_larceny['month_year'].value_counts())"
   ]
  },
  {
   "cell_type": "code",
   "execution_count": 75,
   "metadata": {},
   "outputs": [
    {
     "data": {
      "text/plain": [
       "2010    27622\n",
       "2011    27845\n",
       "2012    29804\n",
       "2013    29812\n",
       "2014    31166\n",
       "2015    33768\n",
       "2016    34405\n",
       "2017    34155\n",
       "Name: year, dtype: int64"
      ]
     },
     "execution_count": 75,
     "metadata": {},
     "output_type": "execute_result"
    }
   ],
   "source": [
    "larceny_by_year = la_larceny['year'].value_counts()\n",
    "larceny_by_year = larceny_by_year.sort_index()\n",
    "larceny_by_year"
   ]
  },
  {
   "cell_type": "code",
   "execution_count": 76,
   "metadata": {},
   "outputs": [
    {
     "data": {
      "text/html": [
       "<div>\n",
       "<style scoped>\n",
       "    .dataframe tbody tr th:only-of-type {\n",
       "        vertical-align: middle;\n",
       "    }\n",
       "\n",
       "    .dataframe tbody tr th {\n",
       "        vertical-align: top;\n",
       "    }\n",
       "\n",
       "    .dataframe thead th {\n",
       "        text-align: right;\n",
       "    }\n",
       "</style>\n",
       "<table border=\"1\" class=\"dataframe\">\n",
       "  <thead>\n",
       "    <tr style=\"text-align: right;\">\n",
       "      <th></th>\n",
       "      <th>year</th>\n",
       "      <th>population</th>\n",
       "      <th>count</th>\n",
       "      <th>rate</th>\n",
       "    </tr>\n",
       "  </thead>\n",
       "  <tbody>\n",
       "    <tr>\n",
       "      <th>0</th>\n",
       "      <td>2010</td>\n",
       "      <td>3796000</td>\n",
       "      <td>27622</td>\n",
       "      <td>0.007277</td>\n",
       "    </tr>\n",
       "    <tr>\n",
       "      <th>1</th>\n",
       "      <td>2011</td>\n",
       "      <td>3825000</td>\n",
       "      <td>27845</td>\n",
       "      <td>0.007280</td>\n",
       "    </tr>\n",
       "    <tr>\n",
       "      <th>2</th>\n",
       "      <td>2012</td>\n",
       "      <td>3859000</td>\n",
       "      <td>29804</td>\n",
       "      <td>0.007723</td>\n",
       "    </tr>\n",
       "    <tr>\n",
       "      <th>3</th>\n",
       "      <td>2013</td>\n",
       "      <td>3892000</td>\n",
       "      <td>29812</td>\n",
       "      <td>0.007660</td>\n",
       "    </tr>\n",
       "    <tr>\n",
       "      <th>4</th>\n",
       "      <td>2014</td>\n",
       "      <td>3923000</td>\n",
       "      <td>31166</td>\n",
       "      <td>0.007944</td>\n",
       "    </tr>\n",
       "    <tr>\n",
       "      <th>5</th>\n",
       "      <td>2015</td>\n",
       "      <td>3953000</td>\n",
       "      <td>33768</td>\n",
       "      <td>0.008542</td>\n",
       "    </tr>\n",
       "    <tr>\n",
       "      <th>6</th>\n",
       "      <td>2016</td>\n",
       "      <td>3981000</td>\n",
       "      <td>34405</td>\n",
       "      <td>0.008642</td>\n",
       "    </tr>\n",
       "    <tr>\n",
       "      <th>7</th>\n",
       "      <td>2017</td>\n",
       "      <td>4000000</td>\n",
       "      <td>34155</td>\n",
       "      <td>0.008539</td>\n",
       "    </tr>\n",
       "  </tbody>\n",
       "</table>\n",
       "</div>"
      ],
      "text/plain": [
       "   year  population  count      rate\n",
       "0  2010     3796000  27622  0.007277\n",
       "1  2011     3825000  27845  0.007280\n",
       "2  2012     3859000  29804  0.007723\n",
       "3  2013     3892000  29812  0.007660\n",
       "4  2014     3923000  31166  0.007944\n",
       "5  2015     3953000  33768  0.008542\n",
       "6  2016     3981000  34405  0.008642\n",
       "7  2017     4000000  34155  0.008539"
      ]
     },
     "execution_count": 76,
     "metadata": {},
     "output_type": "execute_result"
    }
   ],
   "source": [
    "yearly_larceny = pd.DataFrame(years,columns=['year'])\n",
    "yearly_larceny['population'] = populations\n",
    "yearly_larceny['count'] = larceny_by_year.values\n",
    "yearly_larceny['rate'] = yearly_larceny['count']/yearly_larceny['population']\n",
    "yearly_larceny"
   ]
  },
  {
   "cell_type": "code",
   "execution_count": 77,
   "metadata": {},
   "outputs": [
    {
     "data": {
      "text/plain": [
       "[<matplotlib.lines.Line2D at 0x111230e48>]"
      ]
     },
     "execution_count": 77,
     "metadata": {},
     "output_type": "execute_result"
    },
    {
     "data": {
      "image/png": "[encoded data removed]",
      "text/plain": [
       "<Figure size 432x288 with 1 Axes>"
      ]
     },
     "metadata": {
      "needs_background": "light"
     },
     "output_type": "display_data"
    }
   ],
   "source": [
    "plt.title('LA Larceny per Capita')\n",
    "plt.plot(years,yearly_larceny['rate'])"
   ]
  },
  {
   "cell_type": "code",
   "execution_count": null,
   "metadata": {},
   "outputs": [],
   "source": []
  },
  {
   "cell_type": "code",
   "execution_count": null,
   "metadata": {},
   "outputs": [],
   "source": []
  },
  {
   "cell_type": "markdown",
   "metadata": {},
   "source": [
    "# other Categories"
   ]
  },
  {
   "cell_type": "code",
   "execution_count": 28,
   "metadata": {},
   "outputs": [
    {
     "data": {
      "text/plain": [
       "[<matplotlib.lines.Line2D at 0x1125e2f28>]"
      ]
     },
     "execution_count": 28,
     "metadata": {},
     "output_type": "execute_result"
    },
    {
     "data": {
      "image/png": "[encoded data removed]",
      "text/plain": [
       "<Figure size 432x288 with 1 Axes>"
      ]
     },
     "metadata": {
      "needs_background": "light"
     },
     "output_type": "display_data"
    }
   ],
   "source": [
    "plt.title('Child Crime over Time in Los Angeles')\n",
    "plt.plot(x,la_child['month_year'].value_counts())"
   ]
  },
  {
   "cell_type": "code",
   "execution_count": 29,
   "metadata": {},
   "outputs": [
    {
     "data": {
      "text/plain": [
       "[<matplotlib.lines.Line2D at 0x117010470>]"
      ]
     },
     "execution_count": 29,
     "metadata": {},
     "output_type": "execute_result"
    },
    {
     "data": {
      "image/png": "[encoded data removed]",
      "text/plain": [
       "<Figure size 432x288 with 1 Axes>"
      ]
     },
     "metadata": {
      "needs_background": "light"
     },
     "output_type": "display_data"
    }
   ],
   "source": [
    "plt.title('Public Disorder over Time in Los Angeles')\n",
    "plt.plot(x,la_pub_disorder['month_year'].value_counts())"
   ]
  },
  {
   "cell_type": "code",
   "execution_count": 30,
   "metadata": {},
   "outputs": [
    {
     "data": {
      "text/plain": [
       "[<matplotlib.lines.Line2D at 0x116fee4e0>]"
      ]
     },
     "execution_count": 30,
     "metadata": {},
     "output_type": "execute_result"
    },
    {
     "data": {
      "image/png": "[encoded data removed]",
      "text/plain": [
       "<Figure size 432x288 with 1 Axes>"
      ]
     },
     "metadata": {
      "needs_background": "light"
     },
     "output_type": "display_data"
    }
   ],
   "source": [
    "plt.title('Arson over Time in Los Angeles')\n",
    "plt.plot(x,la_arson['month_year'].value_counts())"
   ]
  },
  {
   "cell_type": "code",
   "execution_count": 31,
   "metadata": {},
   "outputs": [
    {
     "data": {
      "text/plain": [
       "[<matplotlib.lines.Line2D at 0x117806748>]"
      ]
     },
     "execution_count": 31,
     "metadata": {},
     "output_type": "execute_result"
    },
    {
     "data": {
      "image/png": "[encoded data removed]",
      "text/plain": [
       "<Figure size 432x288 with 1 Axes>"
      ]
     },
     "metadata": {
      "needs_background": "light"
     },
     "output_type": "display_data"
    }
   ],
   "source": [
    "plt.title('Other Crimes over Time in Los Angeles')\n",
    "plt.plot(x,la_other['month_year'].value_counts())"
   ]
  },
  {
   "cell_type": "code",
   "execution_count": 32,
   "metadata": {},
   "outputs": [
    {
     "data": {
      "text/plain": [
       "[<matplotlib.lines.Line2D at 0x1177f7c50>]"
      ]
     },
     "execution_count": 32,
     "metadata": {},
     "output_type": "execute_result"
    },
    {
     "data": {
      "image/png": "[encoded data removed]",
      "text/plain": [
       "<Figure size 432x288 with 1 Axes>"
      ]
     },
     "metadata": {
      "needs_background": "light"
     },
     "output_type": "display_data"
    }
   ],
   "source": [
    "plt.title('Sexual Assault Crimes over Time in Los Angeles')\n",
    "plt.plot(x,la_sex_asslt['month_year'].value_counts())"
   ]
  },
  {
   "cell_type": "code",
   "execution_count": 33,
   "metadata": {
    "scrolled": true
   },
   "outputs": [
    {
     "data": {
      "text/plain": [
       "[<matplotlib.lines.Line2D at 0x117c7fbe0>]"
      ]
     },
     "execution_count": 33,
     "metadata": {},
     "output_type": "execute_result"
    },
    {
     "data": {
      "image/png": "[encoded data removed]",
      "text/plain": [
       "<Figure size 432x288 with 1 Axes>"
      ]
     },
     "metadata": {
      "needs_background": "light"
     },
     "output_type": "display_data"
    }
   ],
   "source": [
    "plt.title('Aggravated Assault Crimes over Time in Los Angeles')\n",
    "plt.plot(x,la_agg_assault['month_year'].value_counts())"
   ]
  },
  {
   "cell_type": "code",
   "execution_count": 160,
   "metadata": {
    "scrolled": true
   },
   "outputs": [
    {
     "data": {
      "text/plain": [
       "[<matplotlib.lines.Line2D at 0x128b16c88>]"
      ]
     },
     "execution_count": 160,
     "metadata": {},
     "output_type": "execute_result"
    },
    {
     "data": {
      "image/png": "[encoded data removed]",
      "text/plain": [
       "<Figure size 432x288 with 1 Axes>"
      ]
     },
     "metadata": {},
     "output_type": "display_data"
    }
   ],
   "source": [
    "plt.title('Other Crimes Against Persons over Time in Los Angeles')\n",
    "plt.plot(x,la_other_crimes_agnst_per['month_year'].value_counts())"
   ]
  },
  {
   "cell_type": "code",
   "execution_count": 161,
   "metadata": {
    "scrolled": true
   },
   "outputs": [
    {
     "data": {
      "text/plain": [
       "[<matplotlib.lines.Line2D at 0x128bd2390>]"
      ]
     },
     "execution_count": 161,
     "metadata": {},
     "output_type": "execute_result"
    },
    {
     "data": {
      "image/png": "[encoded data removed]",
      "text/plain": [
       "<Figure size 432x288 with 1 Axes>"
      ]
     },
     "metadata": {},
     "output_type": "display_data"
    }
   ],
   "source": [
    "plt.title('White Collar Crime over Time in Los Angeles')\n",
    "plt.plot(x,la_white_collar['month_year'].value_counts())"
   ]
  },
  {
   "cell_type": "code",
   "execution_count": 176,
   "metadata": {
    "scrolled": true
   },
   "outputs": [
    {
     "data": {
      "text/plain": [
       "[<matplotlib.lines.Line2D at 0x131a10390>]"
      ]
     },
     "execution_count": 176,
     "metadata": {},
     "output_type": "execute_result"
    },
    {
     "data": {
      "image/png": "[encoded data removed]",
      "text/plain": [
       "<Figure size 432x288 with 1 Axes>"
      ]
     },
     "metadata": {},
     "output_type": "display_data"
    }
   ],
   "source": [
    "plt.title('Vehicle Theft over Time in Los Angeles')\n",
    "plt.plot(x,la_auto_theft['month_year'].value_counts())"
   ]
  },
  {
   "cell_type": "markdown",
   "metadata": {},
   "source": [
    "# of these graphs, lets pick out the 4 that we think are most interesting:\n",
    "\n",
    "drug and alc\n",
    "white collar crime\n",
    "Public Disorder\n",
    "Theft from Vehicles\n",
    "\n",
    "Since crime rates seem to be falling across the board, lets look at the percentage of total crime each category accounts for."
   ]
  },
  {
   "cell_type": "code",
   "execution_count": 42,
   "metadata": {
    "scrolled": true
   },
   "outputs": [
    {
     "data": {
      "text/html": [
       "<div>\n",
       "<style scoped>\n",
       "    .dataframe tbody tr th:only-of-type {\n",
       "        vertical-align: middle;\n",
       "    }\n",
       "\n",
       "    .dataframe tbody tr th {\n",
       "        vertical-align: top;\n",
       "    }\n",
       "\n",
       "    .dataframe thead th {\n",
       "        text-align: right;\n",
       "    }\n",
       "</style>\n",
       "<table border=\"1\" class=\"dataframe\">\n",
       "  <thead>\n",
       "    <tr style=\"text-align: right;\">\n",
       "      <th></th>\n",
       "      <th>Area Name</th>\n",
       "      <th>Crime Code Description</th>\n",
       "      <th>Address</th>\n",
       "      <th>offense_category</th>\n",
       "      <th>month_year</th>\n",
       "    </tr>\n",
       "  </thead>\n",
       "  <tbody>\n",
       "    <tr>\n",
       "      <th>3</th>\n",
       "      <td>N Hollywood</td>\n",
       "      <td>RAPE, FORCIBLE</td>\n",
       "      <td>10700    LANDALE                      ST</td>\n",
       "      <td>drug-alc</td>\n",
       "      <td>2015-04-01</td>\n",
       "    </tr>\n",
       "    <tr>\n",
       "      <th>36</th>\n",
       "      <td>N Hollywood</td>\n",
       "      <td>INTIMATE PARTNER - AGGRAVATED ASSAULT</td>\n",
       "      <td>6500    SIMPSON                      AV</td>\n",
       "      <td>drug-alc</td>\n",
       "      <td>2015-11-01</td>\n",
       "    </tr>\n",
       "    <tr>\n",
       "      <th>56</th>\n",
       "      <td>N Hollywood</td>\n",
       "      <td>CRIMINAL THREATS - NO WEAPON DISPLAYED</td>\n",
       "      <td>4200    COLFAX                       AV</td>\n",
       "      <td>drug-alc</td>\n",
       "      <td>2015-11-01</td>\n",
       "    </tr>\n",
       "    <tr>\n",
       "      <th>70</th>\n",
       "      <td>N Hollywood</td>\n",
       "      <td>CRIMINAL THREATS - NO WEAPON DISPLAYED</td>\n",
       "      <td>6700    TROOST                       AV</td>\n",
       "      <td>drug-alc</td>\n",
       "      <td>2015-11-01</td>\n",
       "    </tr>\n",
       "    <tr>\n",
       "      <th>163</th>\n",
       "      <td>N Hollywood</td>\n",
       "      <td>BATTERY - SIMPLE ASSAULT</td>\n",
       "      <td>6100    SAINT CLAIR                  AV</td>\n",
       "      <td>drug-alc</td>\n",
       "      <td>2015-11-01</td>\n",
       "    </tr>\n",
       "  </tbody>\n",
       "</table>\n",
       "</div>"
      ],
      "text/plain": [
       "       Area Name                  Crime Code Description  \\\n",
       "3    N Hollywood                          RAPE, FORCIBLE   \n",
       "36   N Hollywood   INTIMATE PARTNER - AGGRAVATED ASSAULT   \n",
       "56   N Hollywood  CRIMINAL THREATS - NO WEAPON DISPLAYED   \n",
       "70   N Hollywood  CRIMINAL THREATS - NO WEAPON DISPLAYED   \n",
       "163  N Hollywood                BATTERY - SIMPLE ASSAULT   \n",
       "\n",
       "                                      Address offense_category month_year  \n",
       "3    10700    LANDALE                      ST         drug-alc 2015-04-01  \n",
       "36    6500    SIMPSON                      AV         drug-alc 2015-11-01  \n",
       "56    4200    COLFAX                       AV         drug-alc 2015-11-01  \n",
       "70    6700    TROOST                       AV         drug-alc 2015-11-01  \n",
       "163   6100    SAINT CLAIR                  AV         drug-alc 2015-11-01  "
      ]
     },
     "execution_count": 42,
     "metadata": {},
     "output_type": "execute_result"
    }
   ],
   "source": [
    "la_drug_alc.head()"
   ]
  },
  {
   "cell_type": "code",
   "execution_count": 43,
   "metadata": {},
   "outputs": [
    {
     "data": {
      "text/html": [
       "<div>\n",
       "<style scoped>\n",
       "    .dataframe tbody tr th:only-of-type {\n",
       "        vertical-align: middle;\n",
       "    }\n",
       "\n",
       "    .dataframe tbody tr th {\n",
       "        vertical-align: top;\n",
       "    }\n",
       "\n",
       "    .dataframe thead th {\n",
       "        text-align: right;\n",
       "    }\n",
       "</style>\n",
       "<table border=\"1\" class=\"dataframe\">\n",
       "  <thead>\n",
       "    <tr style=\"text-align: right;\">\n",
       "      <th></th>\n",
       "      <th>Area Name</th>\n",
       "      <th>Crime Code Description</th>\n",
       "      <th>Address</th>\n",
       "      <th>offense_category</th>\n",
       "      <th>month_year</th>\n",
       "    </tr>\n",
       "  </thead>\n",
       "  <tbody>\n",
       "    <tr>\n",
       "      <th>4</th>\n",
       "      <td>N Hollywood</td>\n",
       "      <td>THEFT OF IDENTITY</td>\n",
       "      <td>11700    LEMAY                        ST</td>\n",
       "      <td>white collar</td>\n",
       "      <td>2015-10-01</td>\n",
       "    </tr>\n",
       "    <tr>\n",
       "      <th>14</th>\n",
       "      <td>N Hollywood</td>\n",
       "      <td>THEFT OF IDENTITY</td>\n",
       "      <td>4500    COLDWATER CANYON             AV</td>\n",
       "      <td>white collar</td>\n",
       "      <td>2015-10-01</td>\n",
       "    </tr>\n",
       "    <tr>\n",
       "      <th>26</th>\n",
       "      <td>N Hollywood</td>\n",
       "      <td>THEFT OF IDENTITY</td>\n",
       "      <td>5900    CARPENTER                    AV</td>\n",
       "      <td>white collar</td>\n",
       "      <td>2015-10-01</td>\n",
       "    </tr>\n",
       "    <tr>\n",
       "      <th>31</th>\n",
       "      <td>N Hollywood</td>\n",
       "      <td>THEFT OF IDENTITY</td>\n",
       "      <td>7100    BELLAIRE                     AV</td>\n",
       "      <td>white collar</td>\n",
       "      <td>2015-09-01</td>\n",
       "    </tr>\n",
       "    <tr>\n",
       "      <th>35</th>\n",
       "      <td>N Hollywood</td>\n",
       "      <td>THEFT OF IDENTITY</td>\n",
       "      <td>5600    FARMDALE                     AV</td>\n",
       "      <td>white collar</td>\n",
       "      <td>2015-05-01</td>\n",
       "    </tr>\n",
       "  </tbody>\n",
       "</table>\n",
       "</div>"
      ],
      "text/plain": [
       "      Area Name Crime Code Description  \\\n",
       "4   N Hollywood      THEFT OF IDENTITY   \n",
       "14  N Hollywood      THEFT OF IDENTITY   \n",
       "26  N Hollywood      THEFT OF IDENTITY   \n",
       "31  N Hollywood      THEFT OF IDENTITY   \n",
       "35  N Hollywood      THEFT OF IDENTITY   \n",
       "\n",
       "                                     Address offense_category month_year  \n",
       "4   11700    LEMAY                        ST     white collar 2015-10-01  \n",
       "14   4500    COLDWATER CANYON             AV     white collar 2015-10-01  \n",
       "26   5900    CARPENTER                    AV     white collar 2015-10-01  \n",
       "31   7100    BELLAIRE                     AV     white collar 2015-09-01  \n",
       "35   5600    FARMDALE                     AV     white collar 2015-05-01  "
      ]
     },
     "execution_count": 43,
     "metadata": {},
     "output_type": "execute_result"
    }
   ],
   "source": [
    "la_white_collar.head()"
   ]
  },
  {
   "cell_type": "code",
   "execution_count": 44,
   "metadata": {},
   "outputs": [
    {
     "data": {
      "text/html": [
       "<div>\n",
       "<style scoped>\n",
       "    .dataframe tbody tr th:only-of-type {\n",
       "        vertical-align: middle;\n",
       "    }\n",
       "\n",
       "    .dataframe tbody tr th {\n",
       "        vertical-align: top;\n",
       "    }\n",
       "\n",
       "    .dataframe thead th {\n",
       "        text-align: right;\n",
       "    }\n",
       "</style>\n",
       "<table border=\"1\" class=\"dataframe\">\n",
       "  <thead>\n",
       "    <tr style=\"text-align: right;\">\n",
       "      <th></th>\n",
       "      <th>Area Name</th>\n",
       "      <th>Crime Code Description</th>\n",
       "      <th>Address</th>\n",
       "      <th>offense_category</th>\n",
       "      <th>month_year</th>\n",
       "    </tr>\n",
       "  </thead>\n",
       "  <tbody>\n",
       "    <tr>\n",
       "      <th>2</th>\n",
       "      <td>N Hollywood</td>\n",
       "      <td>CRIMINAL THREATS - NO WEAPON DISPLAYED</td>\n",
       "      <td>7300    BAKMAN                       AV</td>\n",
       "      <td>pub disorder</td>\n",
       "      <td>2015-11-01</td>\n",
       "    </tr>\n",
       "    <tr>\n",
       "      <th>8</th>\n",
       "      <td>N Hollywood</td>\n",
       "      <td>VANDALISM - MISDEAMEANOR ($399 OR UNDER)</td>\n",
       "      <td>6200    BEEMAN                       AV</td>\n",
       "      <td>pub disorder</td>\n",
       "      <td>2015-11-01</td>\n",
       "    </tr>\n",
       "    <tr>\n",
       "      <th>13</th>\n",
       "      <td>N Hollywood</td>\n",
       "      <td>VANDALISM - FELONY ($400 &amp; OVER, ALL CHURCH VA...</td>\n",
       "      <td>10500    RIVERSIDE                    DR</td>\n",
       "      <td>pub disorder</td>\n",
       "      <td>2015-11-01</td>\n",
       "    </tr>\n",
       "    <tr>\n",
       "      <th>15</th>\n",
       "      <td>N Hollywood</td>\n",
       "      <td>VANDALISM - FELONY ($400 &amp; OVER, ALL CHURCH VA...</td>\n",
       "      <td>5200    COLFAX                       AV</td>\n",
       "      <td>pub disorder</td>\n",
       "      <td>2015-11-01</td>\n",
       "    </tr>\n",
       "    <tr>\n",
       "      <th>30</th>\n",
       "      <td>N Hollywood</td>\n",
       "      <td>VANDALISM - FELONY ($400 &amp; OVER, ALL CHURCH VA...</td>\n",
       "      <td>CLEON                        ST</td>\n",
       "      <td>pub disorder</td>\n",
       "      <td>2015-11-01</td>\n",
       "    </tr>\n",
       "  </tbody>\n",
       "</table>\n",
       "</div>"
      ],
      "text/plain": [
       "      Area Name                             Crime Code Description  \\\n",
       "2   N Hollywood             CRIMINAL THREATS - NO WEAPON DISPLAYED   \n",
       "8   N Hollywood           VANDALISM - MISDEAMEANOR ($399 OR UNDER)   \n",
       "13  N Hollywood  VANDALISM - FELONY ($400 & OVER, ALL CHURCH VA...   \n",
       "15  N Hollywood  VANDALISM - FELONY ($400 & OVER, ALL CHURCH VA...   \n",
       "30  N Hollywood  VANDALISM - FELONY ($400 & OVER, ALL CHURCH VA...   \n",
       "\n",
       "                                     Address offense_category month_year  \n",
       "2    7300    BAKMAN                       AV     pub disorder 2015-11-01  \n",
       "8    6200    BEEMAN                       AV     pub disorder 2015-11-01  \n",
       "13  10500    RIVERSIDE                    DR     pub disorder 2015-11-01  \n",
       "15   5200    COLFAX                       AV     pub disorder 2015-11-01  \n",
       "30           CLEON                        ST     pub disorder 2015-11-01  "
      ]
     },
     "execution_count": 44,
     "metadata": {},
     "output_type": "execute_result"
    }
   ],
   "source": [
    "la_pub_disorder.head()"
   ]
  },
  {
   "cell_type": "code",
   "execution_count": 45,
   "metadata": {},
   "outputs": [
    {
     "data": {
      "text/html": [
       "<div>\n",
       "<style scoped>\n",
       "    .dataframe tbody tr th:only-of-type {\n",
       "        vertical-align: middle;\n",
       "    }\n",
       "\n",
       "    .dataframe tbody tr th {\n",
       "        vertical-align: top;\n",
       "    }\n",
       "\n",
       "    .dataframe thead th {\n",
       "        text-align: right;\n",
       "    }\n",
       "</style>\n",
       "<table border=\"1\" class=\"dataframe\">\n",
       "  <thead>\n",
       "    <tr style=\"text-align: right;\">\n",
       "      <th></th>\n",
       "      <th>Area Name</th>\n",
       "      <th>Crime Code Description</th>\n",
       "      <th>Address</th>\n",
       "      <th>offense_category</th>\n",
       "      <th>month_year</th>\n",
       "    </tr>\n",
       "  </thead>\n",
       "  <tbody>\n",
       "    <tr>\n",
       "      <th>0</th>\n",
       "      <td>N Hollywood</td>\n",
       "      <td>BURGLARY FROM VEHICLE</td>\n",
       "      <td>11100    CAMARILLO                    ST</td>\n",
       "      <td>theft from vehicle</td>\n",
       "      <td>2015-11-01</td>\n",
       "    </tr>\n",
       "    <tr>\n",
       "      <th>1</th>\n",
       "      <td>N Hollywood</td>\n",
       "      <td>BURGLARY FROM VEHICLE</td>\n",
       "      <td>11100    CHANDLER                     BL</td>\n",
       "      <td>theft from vehicle</td>\n",
       "      <td>2015-10-01</td>\n",
       "    </tr>\n",
       "    <tr>\n",
       "      <th>7</th>\n",
       "      <td>N Hollywood</td>\n",
       "      <td>THEFT FROM MOTOR VEHICLE - GRAND ($400 AND OVER)</td>\n",
       "      <td>13100    WELBY                        WY</td>\n",
       "      <td>theft from vehicle</td>\n",
       "      <td>2015-10-01</td>\n",
       "    </tr>\n",
       "    <tr>\n",
       "      <th>24</th>\n",
       "      <td>N Hollywood</td>\n",
       "      <td>THEFT FROM MOTOR VEHICLE - PETTY ($950 &amp; UNDER)</td>\n",
       "      <td>5400    FAIR                         AV</td>\n",
       "      <td>theft from vehicle</td>\n",
       "      <td>2015-11-01</td>\n",
       "    </tr>\n",
       "    <tr>\n",
       "      <th>28</th>\n",
       "      <td>N Hollywood</td>\n",
       "      <td>THEFT FROM MOTOR VEHICLE - GRAND ($400 AND OVER)</td>\n",
       "      <td>6300    FOREST LAWN                  DR</td>\n",
       "      <td>theft from vehicle</td>\n",
       "      <td>2015-11-01</td>\n",
       "    </tr>\n",
       "  </tbody>\n",
       "</table>\n",
       "</div>"
      ],
      "text/plain": [
       "      Area Name                            Crime Code Description  \\\n",
       "0   N Hollywood                             BURGLARY FROM VEHICLE   \n",
       "1   N Hollywood                             BURGLARY FROM VEHICLE   \n",
       "7   N Hollywood  THEFT FROM MOTOR VEHICLE - GRAND ($400 AND OVER)   \n",
       "24  N Hollywood   THEFT FROM MOTOR VEHICLE - PETTY ($950 & UNDER)   \n",
       "28  N Hollywood  THEFT FROM MOTOR VEHICLE - GRAND ($400 AND OVER)   \n",
       "\n",
       "                                     Address    offense_category month_year  \n",
       "0   11100    CAMARILLO                    ST  theft from vehicle 2015-11-01  \n",
       "1   11100    CHANDLER                     BL  theft from vehicle 2015-10-01  \n",
       "7   13100    WELBY                        WY  theft from vehicle 2015-10-01  \n",
       "24   5400    FAIR                         AV  theft from vehicle 2015-11-01  \n",
       "28   6300    FOREST LAWN                  DR  theft from vehicle 2015-11-01  "
      ]
     },
     "execution_count": 45,
     "metadata": {},
     "output_type": "execute_result"
    }
   ],
   "source": [
    "la_theft_frm_veh.head()"
   ]
  },
  {
   "cell_type": "code",
   "execution_count": 54,
   "metadata": {},
   "outputs": [],
   "source": [
    "la_crime_counts = la_crime.groupby(['month_year']).count()"
   ]
  },
  {
   "cell_type": "code",
   "execution_count": 56,
   "metadata": {},
   "outputs": [
    {
     "data": {
      "text/html": [
       "<div>\n",
       "<style scoped>\n",
       "    .dataframe tbody tr th:only-of-type {\n",
       "        vertical-align: middle;\n",
       "    }\n",
       "\n",
       "    .dataframe tbody tr th {\n",
       "        vertical-align: top;\n",
       "    }\n",
       "\n",
       "    .dataframe thead th {\n",
       "        text-align: right;\n",
       "    }\n",
       "</style>\n",
       "<table border=\"1\" class=\"dataframe\">\n",
       "  <thead>\n",
       "    <tr style=\"text-align: right;\">\n",
       "      <th></th>\n",
       "      <th>Area Name</th>\n",
       "      <th>Crime Code Description</th>\n",
       "      <th>Address</th>\n",
       "      <th>offense_category</th>\n",
       "    </tr>\n",
       "    <tr>\n",
       "      <th>month_year</th>\n",
       "      <th></th>\n",
       "      <th></th>\n",
       "      <th></th>\n",
       "      <th></th>\n",
       "    </tr>\n",
       "  </thead>\n",
       "  <tbody>\n",
       "    <tr>\n",
       "      <th>2010-01-01</th>\n",
       "      <td>19352</td>\n",
       "      <td>19352</td>\n",
       "      <td>19352</td>\n",
       "      <td>19352</td>\n",
       "    </tr>\n",
       "    <tr>\n",
       "      <th>2010-02-01</th>\n",
       "      <td>15997</td>\n",
       "      <td>15997</td>\n",
       "      <td>15997</td>\n",
       "      <td>15997</td>\n",
       "    </tr>\n",
       "    <tr>\n",
       "      <th>2010-03-01</th>\n",
       "      <td>18105</td>\n",
       "      <td>18105</td>\n",
       "      <td>18105</td>\n",
       "      <td>18105</td>\n",
       "    </tr>\n",
       "    <tr>\n",
       "      <th>2010-04-01</th>\n",
       "      <td>17740</td>\n",
       "      <td>17740</td>\n",
       "      <td>17740</td>\n",
       "      <td>17740</td>\n",
       "    </tr>\n",
       "    <tr>\n",
       "      <th>2010-05-01</th>\n",
       "      <td>17696</td>\n",
       "      <td>17696</td>\n",
       "      <td>17696</td>\n",
       "      <td>17696</td>\n",
       "    </tr>\n",
       "  </tbody>\n",
       "</table>\n",
       "</div>"
      ],
      "text/plain": [
       "            Area Name  Crime Code Description  Address  offense_category\n",
       "month_year                                                              \n",
       "2010-01-01      19352                   19352    19352             19352\n",
       "2010-02-01      15997                   15997    15997             15997\n",
       "2010-03-01      18105                   18105    18105             18105\n",
       "2010-04-01      17740                   17740    17740             17740\n",
       "2010-05-01      17696                   17696    17696             17696"
      ]
     },
     "execution_count": 56,
     "metadata": {},
     "output_type": "execute_result"
    }
   ],
   "source": [
    "la_crime_counts.head()"
   ]
  },
  {
   "cell_type": "code",
   "execution_count": 60,
   "metadata": {},
   "outputs": [],
   "source": [
    "la_crime_counts['count'] = la_crime_counts['Area Name']\n",
    "la_crime_counts = la_crime_counts.drop(['Area Name','Crime Code Description','Address','offense_category'],axis=1)"
   ]
  },
  {
   "cell_type": "code",
   "execution_count": 55,
   "metadata": {},
   "outputs": [],
   "source": [
    "la_drug_alc_counts = la_drug_alc.groupby(['month_year']).count()"
   ]
  },
  {
   "cell_type": "code",
   "execution_count": 62,
   "metadata": {},
   "outputs": [],
   "source": [
    "la_drug_alc_counts['count'] = la_drug_alc_counts['Area Name']\n",
    "la_drug_alc_counts = la_drug_alc_counts.drop(['Area Name','Crime Code Description','Address','offense_category'],axis=1)"
   ]
  },
  {
   "cell_type": "code",
   "execution_count": 63,
   "metadata": {},
   "outputs": [
    {
     "data": {
      "text/html": [
       "<div>\n",
       "<style scoped>\n",
       "    .dataframe tbody tr th:only-of-type {\n",
       "        vertical-align: middle;\n",
       "    }\n",
       "\n",
       "    .dataframe tbody tr th {\n",
       "        vertical-align: top;\n",
       "    }\n",
       "\n",
       "    .dataframe thead th {\n",
       "        text-align: right;\n",
       "    }\n",
       "</style>\n",
       "<table border=\"1\" class=\"dataframe\">\n",
       "  <thead>\n",
       "    <tr style=\"text-align: right;\">\n",
       "      <th></th>\n",
       "      <th>count</th>\n",
       "    </tr>\n",
       "    <tr>\n",
       "      <th>month_year</th>\n",
       "      <th></th>\n",
       "    </tr>\n",
       "  </thead>\n",
       "  <tbody>\n",
       "    <tr>\n",
       "      <th>2010-01-01</th>\n",
       "      <td>19352</td>\n",
       "    </tr>\n",
       "    <tr>\n",
       "      <th>2010-02-01</th>\n",
       "      <td>15997</td>\n",
       "    </tr>\n",
       "    <tr>\n",
       "      <th>2010-03-01</th>\n",
       "      <td>18105</td>\n",
       "    </tr>\n",
       "    <tr>\n",
       "      <th>2010-04-01</th>\n",
       "      <td>17740</td>\n",
       "    </tr>\n",
       "    <tr>\n",
       "      <th>2010-05-01</th>\n",
       "      <td>17696</td>\n",
       "    </tr>\n",
       "  </tbody>\n",
       "</table>\n",
       "</div>"
      ],
      "text/plain": [
       "            count\n",
       "month_year       \n",
       "2010-01-01  19352\n",
       "2010-02-01  15997\n",
       "2010-03-01  18105\n",
       "2010-04-01  17740\n",
       "2010-05-01  17696"
      ]
     },
     "execution_count": 63,
     "metadata": {},
     "output_type": "execute_result"
    }
   ],
   "source": [
    "la_crime_counts.head()"
   ]
  },
  {
   "cell_type": "code",
   "execution_count": 65,
   "metadata": {},
   "outputs": [
    {
     "data": {
      "text/html": [
       "<div>\n",
       "<style scoped>\n",
       "    .dataframe tbody tr th:only-of-type {\n",
       "        vertical-align: middle;\n",
       "    }\n",
       "\n",
       "    .dataframe tbody tr th {\n",
       "        vertical-align: top;\n",
       "    }\n",
       "\n",
       "    .dataframe thead th {\n",
       "        text-align: right;\n",
       "    }\n",
       "</style>\n",
       "<table border=\"1\" class=\"dataframe\">\n",
       "  <thead>\n",
       "    <tr style=\"text-align: right;\">\n",
       "      <th></th>\n",
       "      <th>count</th>\n",
       "    </tr>\n",
       "    <tr>\n",
       "      <th>month_year</th>\n",
       "      <th></th>\n",
       "    </tr>\n",
       "  </thead>\n",
       "  <tbody>\n",
       "    <tr>\n",
       "      <th>2010-01-01</th>\n",
       "      <td>178</td>\n",
       "    </tr>\n",
       "    <tr>\n",
       "      <th>2010-02-01</th>\n",
       "      <td>174</td>\n",
       "    </tr>\n",
       "    <tr>\n",
       "      <th>2010-03-01</th>\n",
       "      <td>183</td>\n",
       "    </tr>\n",
       "    <tr>\n",
       "      <th>2010-04-01</th>\n",
       "      <td>162</td>\n",
       "    </tr>\n",
       "    <tr>\n",
       "      <th>2010-05-01</th>\n",
       "      <td>213</td>\n",
       "    </tr>\n",
       "  </tbody>\n",
       "</table>\n",
       "</div>"
      ],
      "text/plain": [
       "            count\n",
       "month_year       \n",
       "2010-01-01    178\n",
       "2010-02-01    174\n",
       "2010-03-01    183\n",
       "2010-04-01    162\n",
       "2010-05-01    213"
      ]
     },
     "execution_count": 65,
     "metadata": {},
     "output_type": "execute_result"
    }
   ],
   "source": [
    "la_drug_alc_counts.head()"
   ]
  },
  {
   "cell_type": "code",
   "execution_count": 66,
   "metadata": {},
   "outputs": [
    {
     "data": {
      "text/plain": [
       "110"
      ]
     },
     "execution_count": 66,
     "metadata": {},
     "output_type": "execute_result"
    }
   ],
   "source": [
    "len(la_drug_alc_counts)"
   ]
  },
  {
   "cell_type": "code",
   "execution_count": 67,
   "metadata": {},
   "outputs": [
    {
     "data": {
      "text/plain": [
       "110"
      ]
     },
     "execution_count": 67,
     "metadata": {},
     "output_type": "execute_result"
    }
   ],
   "source": [
    "len(la_crime_counts)"
   ]
  },
  {
   "cell_type": "markdown",
   "metadata": {},
   "source": [
    "# Drug and Alcohol"
   ]
  },
  {
   "cell_type": "code",
   "execution_count": 73,
   "metadata": {},
   "outputs": [],
   "source": [
    "la_drug_alc_prop = la_crime_counts.merge(la_drug_alc_counts, how='outer',left_index=True,right_index=True)"
   ]
  },
  {
   "cell_type": "code",
   "execution_count": 77,
   "metadata": {},
   "outputs": [
    {
     "data": {
      "text/html": [
       "<div>\n",
       "<style scoped>\n",
       "    .dataframe tbody tr th:only-of-type {\n",
       "        vertical-align: middle;\n",
       "    }\n",
       "\n",
       "    .dataframe tbody tr th {\n",
       "        vertical-align: top;\n",
       "    }\n",
       "\n",
       "    .dataframe thead th {\n",
       "        text-align: right;\n",
       "    }\n",
       "</style>\n",
       "<table border=\"1\" class=\"dataframe\">\n",
       "  <thead>\n",
       "    <tr style=\"text-align: right;\">\n",
       "      <th></th>\n",
       "      <th>count_x</th>\n",
       "      <th>count_y</th>\n",
       "    </tr>\n",
       "    <tr>\n",
       "      <th>month_year</th>\n",
       "      <th></th>\n",
       "      <th></th>\n",
       "    </tr>\n",
       "  </thead>\n",
       "  <tbody>\n",
       "    <tr>\n",
       "      <th>2010-01-01</th>\n",
       "      <td>19352</td>\n",
       "      <td>178</td>\n",
       "    </tr>\n",
       "    <tr>\n",
       "      <th>2010-02-01</th>\n",
       "      <td>15997</td>\n",
       "      <td>174</td>\n",
       "    </tr>\n",
       "    <tr>\n",
       "      <th>2010-03-01</th>\n",
       "      <td>18105</td>\n",
       "      <td>183</td>\n",
       "    </tr>\n",
       "    <tr>\n",
       "      <th>2010-04-01</th>\n",
       "      <td>17740</td>\n",
       "      <td>162</td>\n",
       "    </tr>\n",
       "    <tr>\n",
       "      <th>2010-05-01</th>\n",
       "      <td>17696</td>\n",
       "      <td>213</td>\n",
       "    </tr>\n",
       "  </tbody>\n",
       "</table>\n",
       "</div>"
      ],
      "text/plain": [
       "            count_x  count_y\n",
       "month_year                  \n",
       "2010-01-01    19352      178\n",
       "2010-02-01    15997      174\n",
       "2010-03-01    18105      183\n",
       "2010-04-01    17740      162\n",
       "2010-05-01    17696      213"
      ]
     },
     "execution_count": 77,
     "metadata": {},
     "output_type": "execute_result"
    }
   ],
   "source": [
    "la_drug_alc_prop.head()"
   ]
  },
  {
   "cell_type": "code",
   "execution_count": 82,
   "metadata": {},
   "outputs": [
    {
     "data": {
      "text/plain": [
       "110"
      ]
     },
     "execution_count": 82,
     "metadata": {},
     "output_type": "execute_result"
    }
   ],
   "source": [
    "len(la_drug_alc_prop)"
   ]
  },
  {
   "cell_type": "code",
   "execution_count": 78,
   "metadata": {},
   "outputs": [
    {
     "data": {
      "text/html": [
       "<div>\n",
       "<style scoped>\n",
       "    .dataframe tbody tr th:only-of-type {\n",
       "        vertical-align: middle;\n",
       "    }\n",
       "\n",
       "    .dataframe tbody tr th {\n",
       "        vertical-align: top;\n",
       "    }\n",
       "\n",
       "    .dataframe thead th {\n",
       "        text-align: right;\n",
       "    }\n",
       "</style>\n",
       "<table border=\"1\" class=\"dataframe\">\n",
       "  <thead>\n",
       "    <tr style=\"text-align: right;\">\n",
       "      <th></th>\n",
       "      <th>count_x</th>\n",
       "      <th>count_y</th>\n",
       "      <th>percentage</th>\n",
       "    </tr>\n",
       "    <tr>\n",
       "      <th>month_year</th>\n",
       "      <th></th>\n",
       "      <th></th>\n",
       "      <th></th>\n",
       "    </tr>\n",
       "  </thead>\n",
       "  <tbody>\n",
       "    <tr>\n",
       "      <th>2010-01-01</th>\n",
       "      <td>19352</td>\n",
       "      <td>178</td>\n",
       "      <td>0.919802</td>\n",
       "    </tr>\n",
       "    <tr>\n",
       "      <th>2010-02-01</th>\n",
       "      <td>15997</td>\n",
       "      <td>174</td>\n",
       "      <td>1.087704</td>\n",
       "    </tr>\n",
       "    <tr>\n",
       "      <th>2010-03-01</th>\n",
       "      <td>18105</td>\n",
       "      <td>183</td>\n",
       "      <td>1.010771</td>\n",
       "    </tr>\n",
       "    <tr>\n",
       "      <th>2010-04-01</th>\n",
       "      <td>17740</td>\n",
       "      <td>162</td>\n",
       "      <td>0.913191</td>\n",
       "    </tr>\n",
       "    <tr>\n",
       "      <th>2010-05-01</th>\n",
       "      <td>17696</td>\n",
       "      <td>213</td>\n",
       "      <td>1.203662</td>\n",
       "    </tr>\n",
       "  </tbody>\n",
       "</table>\n",
       "</div>"
      ],
      "text/plain": [
       "            count_x  count_y  percentage\n",
       "month_year                              \n",
       "2010-01-01    19352      178    0.919802\n",
       "2010-02-01    15997      174    1.087704\n",
       "2010-03-01    18105      183    1.010771\n",
       "2010-04-01    17740      162    0.913191\n",
       "2010-05-01    17696      213    1.203662"
      ]
     },
     "execution_count": 78,
     "metadata": {},
     "output_type": "execute_result"
    }
   ],
   "source": [
    "la_drug_alc_prop['percentage'] = (la_drug_alc_prop['count_y'] / la_drug_alc_prop['count_x'])*100\n",
    "la_drug_alc_prop.head()"
   ]
  },
  {
   "cell_type": "code",
   "execution_count": 81,
   "metadata": {},
   "outputs": [],
   "source": [
    "la_drug_alc_prop_legalized = la_drug_alc_prop.tail(14)"
   ]
  },
  {
   "cell_type": "code",
   "execution_count": 83,
   "metadata": {},
   "outputs": [
    {
     "data": {
      "text/html": [
       "<div>\n",
       "<style scoped>\n",
       "    .dataframe tbody tr th:only-of-type {\n",
       "        vertical-align: middle;\n",
       "    }\n",
       "\n",
       "    .dataframe tbody tr th {\n",
       "        vertical-align: top;\n",
       "    }\n",
       "\n",
       "    .dataframe thead th {\n",
       "        text-align: right;\n",
       "    }\n",
       "</style>\n",
       "<table border=\"1\" class=\"dataframe\">\n",
       "  <thead>\n",
       "    <tr style=\"text-align: right;\">\n",
       "      <th></th>\n",
       "      <th>count_x</th>\n",
       "      <th>count_y</th>\n",
       "      <th>percentage</th>\n",
       "    </tr>\n",
       "    <tr>\n",
       "      <th>month_year</th>\n",
       "      <th></th>\n",
       "      <th></th>\n",
       "      <th></th>\n",
       "    </tr>\n",
       "  </thead>\n",
       "  <tbody>\n",
       "    <tr>\n",
       "      <th>2017-08-01</th>\n",
       "      <td>19603</td>\n",
       "      <td>295</td>\n",
       "      <td>1.504872</td>\n",
       "    </tr>\n",
       "    <tr>\n",
       "      <th>2017-09-01</th>\n",
       "      <td>19315</td>\n",
       "      <td>291</td>\n",
       "      <td>1.506601</td>\n",
       "    </tr>\n",
       "    <tr>\n",
       "      <th>2017-10-01</th>\n",
       "      <td>20281</td>\n",
       "      <td>282</td>\n",
       "      <td>1.390464</td>\n",
       "    </tr>\n",
       "    <tr>\n",
       "      <th>2017-11-01</th>\n",
       "      <td>18883</td>\n",
       "      <td>270</td>\n",
       "      <td>1.429858</td>\n",
       "    </tr>\n",
       "    <tr>\n",
       "      <th>2017-12-01</th>\n",
       "      <td>18890</td>\n",
       "      <td>238</td>\n",
       "      <td>1.259926</td>\n",
       "    </tr>\n",
       "  </tbody>\n",
       "</table>\n",
       "</div>"
      ],
      "text/plain": [
       "            count_x  count_y  percentage\n",
       "month_year                              \n",
       "2017-08-01    19603      295    1.504872\n",
       "2017-09-01    19315      291    1.506601\n",
       "2017-10-01    20281      282    1.390464\n",
       "2017-11-01    18883      270    1.429858\n",
       "2017-12-01    18890      238    1.259926"
      ]
     },
     "execution_count": 83,
     "metadata": {},
     "output_type": "execute_result"
    }
   ],
   "source": [
    "la_drug_alc_prop_non_legal = la_drug_alc_prop.head(96)\n",
    "la_drug_alc_prop_non_legal.tail()"
   ]
  },
  {
   "cell_type": "code",
   "execution_count": 84,
   "metadata": {},
   "outputs": [
    {
     "data": {
      "text/html": [
       "<div>\n",
       "<style scoped>\n",
       "    .dataframe tbody tr th:only-of-type {\n",
       "        vertical-align: middle;\n",
       "    }\n",
       "\n",
       "    .dataframe tbody tr th {\n",
       "        vertical-align: top;\n",
       "    }\n",
       "\n",
       "    .dataframe thead th {\n",
       "        text-align: right;\n",
       "    }\n",
       "</style>\n",
       "<table border=\"1\" class=\"dataframe\">\n",
       "  <thead>\n",
       "    <tr style=\"text-align: right;\">\n",
       "      <th></th>\n",
       "      <th>count_x</th>\n",
       "      <th>count_y</th>\n",
       "      <th>percentage</th>\n",
       "    </tr>\n",
       "  </thead>\n",
       "  <tbody>\n",
       "    <tr>\n",
       "      <th>count</th>\n",
       "      <td>96.000000</td>\n",
       "      <td>96.000000</td>\n",
       "      <td>96.000000</td>\n",
       "    </tr>\n",
       "    <tr>\n",
       "      <th>mean</th>\n",
       "      <td>17355.572917</td>\n",
       "      <td>230.187500</td>\n",
       "      <td>1.322679</td>\n",
       "    </tr>\n",
       "    <tr>\n",
       "      <th>std</th>\n",
       "      <td>1347.227693</td>\n",
       "      <td>41.308165</td>\n",
       "      <td>0.186973</td>\n",
       "    </tr>\n",
       "    <tr>\n",
       "      <th>min</th>\n",
       "      <td>13658.000000</td>\n",
       "      <td>158.000000</td>\n",
       "      <td>0.913191</td>\n",
       "    </tr>\n",
       "    <tr>\n",
       "      <th>25%</th>\n",
       "      <td>16412.000000</td>\n",
       "      <td>194.000000</td>\n",
       "      <td>1.157600</td>\n",
       "    </tr>\n",
       "    <tr>\n",
       "      <th>50%</th>\n",
       "      <td>17226.000000</td>\n",
       "      <td>228.500000</td>\n",
       "      <td>1.331219</td>\n",
       "    </tr>\n",
       "    <tr>\n",
       "      <th>75%</th>\n",
       "      <td>18270.500000</td>\n",
       "      <td>259.000000</td>\n",
       "      <td>1.479161</td>\n",
       "    </tr>\n",
       "    <tr>\n",
       "      <th>max</th>\n",
       "      <td>20281.000000</td>\n",
       "      <td>329.000000</td>\n",
       "      <td>1.751705</td>\n",
       "    </tr>\n",
       "  </tbody>\n",
       "</table>\n",
       "</div>"
      ],
      "text/plain": [
       "            count_x     count_y  percentage\n",
       "count     96.000000   96.000000   96.000000\n",
       "mean   17355.572917  230.187500    1.322679\n",
       "std     1347.227693   41.308165    0.186973\n",
       "min    13658.000000  158.000000    0.913191\n",
       "25%    16412.000000  194.000000    1.157600\n",
       "50%    17226.000000  228.500000    1.331219\n",
       "75%    18270.500000  259.000000    1.479161\n",
       "max    20281.000000  329.000000    1.751705"
      ]
     },
     "execution_count": 84,
     "metadata": {},
     "output_type": "execute_result"
    }
   ],
   "source": [
    "la_drug_alc_prop_non_legal.describe()"
   ]
  },
  {
   "cell_type": "code",
   "execution_count": 85,
   "metadata": {},
   "outputs": [
    {
     "data": {
      "text/html": [
       "<div>\n",
       "<style scoped>\n",
       "    .dataframe tbody tr th:only-of-type {\n",
       "        vertical-align: middle;\n",
       "    }\n",
       "\n",
       "    .dataframe tbody tr th {\n",
       "        vertical-align: top;\n",
       "    }\n",
       "\n",
       "    .dataframe thead th {\n",
       "        text-align: right;\n",
       "    }\n",
       "</style>\n",
       "<table border=\"1\" class=\"dataframe\">\n",
       "  <thead>\n",
       "    <tr style=\"text-align: right;\">\n",
       "      <th></th>\n",
       "      <th>count_x</th>\n",
       "      <th>count_y</th>\n",
       "      <th>percentage</th>\n",
       "    </tr>\n",
       "  </thead>\n",
       "  <tbody>\n",
       "    <tr>\n",
       "      <th>count</th>\n",
       "      <td>14.000000</td>\n",
       "      <td>14.000000</td>\n",
       "      <td>14.000000</td>\n",
       "    </tr>\n",
       "    <tr>\n",
       "      <th>mean</th>\n",
       "      <td>18202.142857</td>\n",
       "      <td>273.857143</td>\n",
       "      <td>1.501666</td>\n",
       "    </tr>\n",
       "    <tr>\n",
       "      <th>std</th>\n",
       "      <td>1937.021578</td>\n",
       "      <td>37.989588</td>\n",
       "      <td>0.091008</td>\n",
       "    </tr>\n",
       "    <tr>\n",
       "      <th>min</th>\n",
       "      <td>12088.000000</td>\n",
       "      <td>179.000000</td>\n",
       "      <td>1.348374</td>\n",
       "    </tr>\n",
       "    <tr>\n",
       "      <th>25%</th>\n",
       "      <td>18183.250000</td>\n",
       "      <td>260.500000</td>\n",
       "      <td>1.453178</td>\n",
       "    </tr>\n",
       "    <tr>\n",
       "      <th>50%</th>\n",
       "      <td>18881.000000</td>\n",
       "      <td>276.500000</td>\n",
       "      <td>1.494561</td>\n",
       "    </tr>\n",
       "    <tr>\n",
       "      <th>75%</th>\n",
       "      <td>19126.000000</td>\n",
       "      <td>289.500000</td>\n",
       "      <td>1.524534</td>\n",
       "    </tr>\n",
       "    <tr>\n",
       "      <th>max</th>\n",
       "      <td>19730.000000</td>\n",
       "      <td>334.000000</td>\n",
       "      <td>1.692854</td>\n",
       "    </tr>\n",
       "  </tbody>\n",
       "</table>\n",
       "</div>"
      ],
      "text/plain": [
       "            count_x     count_y  percentage\n",
       "count     14.000000   14.000000   14.000000\n",
       "mean   18202.142857  273.857143    1.501666\n",
       "std     1937.021578   37.989588    0.091008\n",
       "min    12088.000000  179.000000    1.348374\n",
       "25%    18183.250000  260.500000    1.453178\n",
       "50%    18881.000000  276.500000    1.494561\n",
       "75%    19126.000000  289.500000    1.524534\n",
       "max    19730.000000  334.000000    1.692854"
      ]
     },
     "execution_count": 85,
     "metadata": {},
     "output_type": "execute_result"
    }
   ],
   "source": [
    "la_drug_alc_prop_legalized.describe()"
   ]
  },
  {
   "cell_type": "code",
   "execution_count": 156,
   "metadata": {},
   "outputs": [
    {
     "data": {
      "text/plain": [
       "(array([ 2.,  1.,  2.,  1.,  6., 15.,  6.,  2.,  7.,  7.,  4., 13.,  5.,\n",
       "         3., 11.,  5.,  1.,  2.,  1.,  2.]),\n",
       " array([0.91319053, 0.95511624, 0.99704194, 1.03896765, 1.08089336,\n",
       "        1.12281907, 1.16474477, 1.20667048, 1.24859619, 1.2905219 ,\n",
       "        1.3324476 , 1.37437331, 1.41629902, 1.45822473, 1.50015043,\n",
       "        1.54207614, 1.58400185, 1.62592756, 1.66785326, 1.70977897,\n",
       "        1.75170468]),\n",
       " <a list of 20 Patch objects>)"
      ]
     },
     "execution_count": 156,
     "metadata": {},
     "output_type": "execute_result"
    },
    {
     "data": {
      "image/png": "[encoded data removed]",
      "text/plain": [
       "<Figure size 432x288 with 1 Axes>"
      ]
     },
     "metadata": {},
     "output_type": "display_data"
    }
   ],
   "source": [
    "plt.hist(la_drug_alc_prop_non_legal['percentage'],bins=20)\n",
    "# distribution of drug-alc percentages from before legalization"
   ]
  },
  {
   "cell_type": "markdown",
   "metadata": {},
   "source": [
    "# White Collar"
   ]
  },
  {
   "cell_type": "code",
   "execution_count": 98,
   "metadata": {},
   "outputs": [],
   "source": [
    "la_white_collar_counts = la_white_collar.groupby(['month_year']).count()"
   ]
  },
  {
   "cell_type": "code",
   "execution_count": 99,
   "metadata": {},
   "outputs": [
    {
     "data": {
      "text/html": [
       "<div>\n",
       "<style scoped>\n",
       "    .dataframe tbody tr th:only-of-type {\n",
       "        vertical-align: middle;\n",
       "    }\n",
       "\n",
       "    .dataframe tbody tr th {\n",
       "        vertical-align: top;\n",
       "    }\n",
       "\n",
       "    .dataframe thead th {\n",
       "        text-align: right;\n",
       "    }\n",
       "</style>\n",
       "<table border=\"1\" class=\"dataframe\">\n",
       "  <thead>\n",
       "    <tr style=\"text-align: right;\">\n",
       "      <th></th>\n",
       "      <th>count</th>\n",
       "    </tr>\n",
       "    <tr>\n",
       "      <th>month_year</th>\n",
       "      <th></th>\n",
       "    </tr>\n",
       "  </thead>\n",
       "  <tbody>\n",
       "    <tr>\n",
       "      <th>2010-01-01</th>\n",
       "      <td>2272</td>\n",
       "    </tr>\n",
       "    <tr>\n",
       "      <th>2010-02-01</th>\n",
       "      <td>1252</td>\n",
       "    </tr>\n",
       "    <tr>\n",
       "      <th>2010-03-01</th>\n",
       "      <td>1354</td>\n",
       "    </tr>\n",
       "    <tr>\n",
       "      <th>2010-04-01</th>\n",
       "      <td>1386</td>\n",
       "    </tr>\n",
       "    <tr>\n",
       "      <th>2010-05-01</th>\n",
       "      <td>1137</td>\n",
       "    </tr>\n",
       "  </tbody>\n",
       "</table>\n",
       "</div>"
      ],
      "text/plain": [
       "            count\n",
       "month_year       \n",
       "2010-01-01   2272\n",
       "2010-02-01   1252\n",
       "2010-03-01   1354\n",
       "2010-04-01   1386\n",
       "2010-05-01   1137"
      ]
     },
     "execution_count": 99,
     "metadata": {},
     "output_type": "execute_result"
    }
   ],
   "source": [
    "la_white_collar_counts['count'] = la_white_collar_counts['Area Name']\n",
    "la_white_collar_counts = la_white_collar_counts.drop(['Area Name','Crime Code Description','Address','offense_category'],axis=1)\n",
    "la_white_collar_counts.head()"
   ]
  },
  {
   "cell_type": "code",
   "execution_count": 102,
   "metadata": {},
   "outputs": [
    {
     "data": {
      "text/html": [
       "<div>\n",
       "<style scoped>\n",
       "    .dataframe tbody tr th:only-of-type {\n",
       "        vertical-align: middle;\n",
       "    }\n",
       "\n",
       "    .dataframe tbody tr th {\n",
       "        vertical-align: top;\n",
       "    }\n",
       "\n",
       "    .dataframe thead th {\n",
       "        text-align: right;\n",
       "    }\n",
       "</style>\n",
       "<table border=\"1\" class=\"dataframe\">\n",
       "  <thead>\n",
       "    <tr style=\"text-align: right;\">\n",
       "      <th></th>\n",
       "      <th>count_x</th>\n",
       "      <th>count_y</th>\n",
       "      <th>percentage</th>\n",
       "    </tr>\n",
       "    <tr>\n",
       "      <th>month_year</th>\n",
       "      <th></th>\n",
       "      <th></th>\n",
       "      <th></th>\n",
       "    </tr>\n",
       "  </thead>\n",
       "  <tbody>\n",
       "    <tr>\n",
       "      <th>2010-01-01</th>\n",
       "      <td>19352</td>\n",
       "      <td>2272</td>\n",
       "      <td>11.740389</td>\n",
       "    </tr>\n",
       "    <tr>\n",
       "      <th>2010-02-01</th>\n",
       "      <td>15997</td>\n",
       "      <td>1252</td>\n",
       "      <td>7.826467</td>\n",
       "    </tr>\n",
       "    <tr>\n",
       "      <th>2010-03-01</th>\n",
       "      <td>18105</td>\n",
       "      <td>1354</td>\n",
       "      <td>7.478597</td>\n",
       "    </tr>\n",
       "    <tr>\n",
       "      <th>2010-04-01</th>\n",
       "      <td>17740</td>\n",
       "      <td>1386</td>\n",
       "      <td>7.812852</td>\n",
       "    </tr>\n",
       "    <tr>\n",
       "      <th>2010-05-01</th>\n",
       "      <td>17696</td>\n",
       "      <td>1137</td>\n",
       "      <td>6.425181</td>\n",
       "    </tr>\n",
       "  </tbody>\n",
       "</table>\n",
       "</div>"
      ],
      "text/plain": [
       "            count_x  count_y  percentage\n",
       "month_year                              \n",
       "2010-01-01    19352     2272   11.740389\n",
       "2010-02-01    15997     1252    7.826467\n",
       "2010-03-01    18105     1354    7.478597\n",
       "2010-04-01    17740     1386    7.812852\n",
       "2010-05-01    17696     1137    6.425181"
      ]
     },
     "execution_count": 102,
     "metadata": {},
     "output_type": "execute_result"
    }
   ],
   "source": [
    "la_white_collar_prop = la_crime_counts.merge(la_white_collar_counts, how='outer',left_index=True,right_index=True)\n",
    "la_white_collar_prop['percentage'] = (la_white_collar_prop['count_y'] / la_white_collar_prop['count_x'])*100\n",
    "la_white_collar_prop.head()"
   ]
  },
  {
   "cell_type": "code",
   "execution_count": 105,
   "metadata": {},
   "outputs": [
    {
     "data": {
      "text/html": [
       "<div>\n",
       "<style scoped>\n",
       "    .dataframe tbody tr th:only-of-type {\n",
       "        vertical-align: middle;\n",
       "    }\n",
       "\n",
       "    .dataframe tbody tr th {\n",
       "        vertical-align: top;\n",
       "    }\n",
       "\n",
       "    .dataframe thead th {\n",
       "        text-align: right;\n",
       "    }\n",
       "</style>\n",
       "<table border=\"1\" class=\"dataframe\">\n",
       "  <thead>\n",
       "    <tr style=\"text-align: right;\">\n",
       "      <th></th>\n",
       "      <th>count_x</th>\n",
       "      <th>count_y</th>\n",
       "      <th>percentage</th>\n",
       "    </tr>\n",
       "  </thead>\n",
       "  <tbody>\n",
       "    <tr>\n",
       "      <th>count</th>\n",
       "      <td>14.000000</td>\n",
       "      <td>14.000000</td>\n",
       "      <td>14.000000</td>\n",
       "    </tr>\n",
       "    <tr>\n",
       "      <th>mean</th>\n",
       "      <td>18202.142857</td>\n",
       "      <td>900.214286</td>\n",
       "      <td>4.885162</td>\n",
       "    </tr>\n",
       "    <tr>\n",
       "      <th>std</th>\n",
       "      <td>1937.021578</td>\n",
       "      <td>219.158593</td>\n",
       "      <td>0.948592</td>\n",
       "    </tr>\n",
       "    <tr>\n",
       "      <th>min</th>\n",
       "      <td>12088.000000</td>\n",
       "      <td>335.000000</td>\n",
       "      <td>2.771343</td>\n",
       "    </tr>\n",
       "    <tr>\n",
       "      <th>25%</th>\n",
       "      <td>18183.250000</td>\n",
       "      <td>760.750000</td>\n",
       "      <td>4.190482</td>\n",
       "    </tr>\n",
       "    <tr>\n",
       "      <th>50%</th>\n",
       "      <td>18881.000000</td>\n",
       "      <td>985.000000</td>\n",
       "      <td>5.050407</td>\n",
       "    </tr>\n",
       "    <tr>\n",
       "      <th>75%</th>\n",
       "      <td>19126.000000</td>\n",
       "      <td>1022.000000</td>\n",
       "      <td>5.457251</td>\n",
       "    </tr>\n",
       "    <tr>\n",
       "      <th>max</th>\n",
       "      <td>19730.000000</td>\n",
       "      <td>1190.000000</td>\n",
       "      <td>6.243442</td>\n",
       "    </tr>\n",
       "  </tbody>\n",
       "</table>\n",
       "</div>"
      ],
      "text/plain": [
       "            count_x      count_y  percentage\n",
       "count     14.000000    14.000000   14.000000\n",
       "mean   18202.142857   900.214286    4.885162\n",
       "std     1937.021578   219.158593    0.948592\n",
       "min    12088.000000   335.000000    2.771343\n",
       "25%    18183.250000   760.750000    4.190482\n",
       "50%    18881.000000   985.000000    5.050407\n",
       "75%    19126.000000  1022.000000    5.457251\n",
       "max    19730.000000  1190.000000    6.243442"
      ]
     },
     "execution_count": 105,
     "metadata": {},
     "output_type": "execute_result"
    }
   ],
   "source": [
    "la_white_collar_prop_legal = la_white_collar_prop.tail(14)\n",
    "la_white_collar_prop_legal.describe()\n",
    "# percentage or white collar crime after legalization"
   ]
  },
  {
   "cell_type": "code",
   "execution_count": 107,
   "metadata": {},
   "outputs": [
    {
     "data": {
      "text/html": [
       "<div>\n",
       "<style scoped>\n",
       "    .dataframe tbody tr th:only-of-type {\n",
       "        vertical-align: middle;\n",
       "    }\n",
       "\n",
       "    .dataframe tbody tr th {\n",
       "        vertical-align: top;\n",
       "    }\n",
       "\n",
       "    .dataframe thead th {\n",
       "        text-align: right;\n",
       "    }\n",
       "</style>\n",
       "<table border=\"1\" class=\"dataframe\">\n",
       "  <thead>\n",
       "    <tr style=\"text-align: right;\">\n",
       "      <th></th>\n",
       "      <th>count_x</th>\n",
       "      <th>count_y</th>\n",
       "      <th>percentage</th>\n",
       "    </tr>\n",
       "  </thead>\n",
       "  <tbody>\n",
       "    <tr>\n",
       "      <th>count</th>\n",
       "      <td>96.000000</td>\n",
       "      <td>96.000000</td>\n",
       "      <td>96.000000</td>\n",
       "    </tr>\n",
       "    <tr>\n",
       "      <th>mean</th>\n",
       "      <td>17355.572917</td>\n",
       "      <td>1344.791667</td>\n",
       "      <td>7.784046</td>\n",
       "    </tr>\n",
       "    <tr>\n",
       "      <th>std</th>\n",
       "      <td>1347.227693</td>\n",
       "      <td>205.844751</td>\n",
       "      <td>1.225484</td>\n",
       "    </tr>\n",
       "    <tr>\n",
       "      <th>min</th>\n",
       "      <td>13658.000000</td>\n",
       "      <td>1035.000000</td>\n",
       "      <td>5.413934</td>\n",
       "    </tr>\n",
       "    <tr>\n",
       "      <th>25%</th>\n",
       "      <td>16412.000000</td>\n",
       "      <td>1230.500000</td>\n",
       "      <td>7.091053</td>\n",
       "    </tr>\n",
       "    <tr>\n",
       "      <th>50%</th>\n",
       "      <td>17226.000000</td>\n",
       "      <td>1308.000000</td>\n",
       "      <td>7.609016</td>\n",
       "    </tr>\n",
       "    <tr>\n",
       "      <th>75%</th>\n",
       "      <td>18270.500000</td>\n",
       "      <td>1391.500000</td>\n",
       "      <td>8.304907</td>\n",
       "    </tr>\n",
       "    <tr>\n",
       "      <th>max</th>\n",
       "      <td>20281.000000</td>\n",
       "      <td>2272.000000</td>\n",
       "      <td>12.580017</td>\n",
       "    </tr>\n",
       "  </tbody>\n",
       "</table>\n",
       "</div>"
      ],
      "text/plain": [
       "            count_x      count_y  percentage\n",
       "count     96.000000    96.000000   96.000000\n",
       "mean   17355.572917  1344.791667    7.784046\n",
       "std     1347.227693   205.844751    1.225484\n",
       "min    13658.000000  1035.000000    5.413934\n",
       "25%    16412.000000  1230.500000    7.091053\n",
       "50%    17226.000000  1308.000000    7.609016\n",
       "75%    18270.500000  1391.500000    8.304907\n",
       "max    20281.000000  2272.000000   12.580017"
      ]
     },
     "execution_count": 107,
     "metadata": {},
     "output_type": "execute_result"
    }
   ],
   "source": [
    "la_white_collar_prop_non_legal = la_white_collar_prop.head(96)\n",
    "la_white_collar_prop_non_legal.describe()\n",
    "# percentage or white collar crime before legalization"
   ]
  },
  {
   "cell_type": "code",
   "execution_count": 155,
   "metadata": {},
   "outputs": [
    {
     "data": {
      "text/plain": [
       "(array([ 2.,  4.,  3.,  9., 13., 16., 13., 10., 10.,  6.,  3.,  1.,  1.,\n",
       "         0.,  0.,  3.,  0.,  1.,  0.,  1.]),\n",
       " array([ 5.41393422,  5.77223835,  6.13054247,  6.4888466 ,  6.84715072,\n",
       "         7.20545484,  7.56375897,  7.92206309,  8.28036721,  8.63867134,\n",
       "         8.99697546,  9.35527959,  9.71358371, 10.07188783, 10.43019196,\n",
       "        10.78849608, 11.1468002 , 11.50510433, 11.86340845, 12.22171258,\n",
       "        12.5800167 ]),\n",
       " <a list of 20 Patch objects>)"
      ]
     },
     "execution_count": 155,
     "metadata": {},
     "output_type": "execute_result"
    },
    {
     "data": {
      "image/png": "[encoded data removed]",
      "text/plain": [
       "<Figure size 432x288 with 1 Axes>"
      ]
     },
     "metadata": {},
     "output_type": "display_data"
    }
   ],
   "source": [
    "# distribution of percentages of white collar crime b4 legalization\n",
    "plt.hist(la_white_collar_prop_non_legal['percentage'],bins=20)"
   ]
  },
  {
   "cell_type": "markdown",
   "metadata": {},
   "source": [
    "# Public Disorder"
   ]
  },
  {
   "cell_type": "code",
   "execution_count": 111,
   "metadata": {},
   "outputs": [
    {
     "data": {
      "text/html": [
       "<div>\n",
       "<style scoped>\n",
       "    .dataframe tbody tr th:only-of-type {\n",
       "        vertical-align: middle;\n",
       "    }\n",
       "\n",
       "    .dataframe tbody tr th {\n",
       "        vertical-align: top;\n",
       "    }\n",
       "\n",
       "    .dataframe thead th {\n",
       "        text-align: right;\n",
       "    }\n",
       "</style>\n",
       "<table border=\"1\" class=\"dataframe\">\n",
       "  <thead>\n",
       "    <tr style=\"text-align: right;\">\n",
       "      <th></th>\n",
       "      <th>Area Name</th>\n",
       "      <th>Crime Code Description</th>\n",
       "      <th>Address</th>\n",
       "      <th>offense_category</th>\n",
       "    </tr>\n",
       "    <tr>\n",
       "      <th>month_year</th>\n",
       "      <th></th>\n",
       "      <th></th>\n",
       "      <th></th>\n",
       "      <th></th>\n",
       "    </tr>\n",
       "  </thead>\n",
       "  <tbody>\n",
       "    <tr>\n",
       "      <th>2010-01-01</th>\n",
       "      <td>2339</td>\n",
       "      <td>2339</td>\n",
       "      <td>2339</td>\n",
       "      <td>2339</td>\n",
       "    </tr>\n",
       "    <tr>\n",
       "      <th>2010-02-01</th>\n",
       "      <td>2205</td>\n",
       "      <td>2205</td>\n",
       "      <td>2205</td>\n",
       "      <td>2205</td>\n",
       "    </tr>\n",
       "    <tr>\n",
       "      <th>2010-03-01</th>\n",
       "      <td>2588</td>\n",
       "      <td>2588</td>\n",
       "      <td>2588</td>\n",
       "      <td>2588</td>\n",
       "    </tr>\n",
       "    <tr>\n",
       "      <th>2010-04-01</th>\n",
       "      <td>2435</td>\n",
       "      <td>2435</td>\n",
       "      <td>2435</td>\n",
       "      <td>2435</td>\n",
       "    </tr>\n",
       "    <tr>\n",
       "      <th>2010-05-01</th>\n",
       "      <td>2391</td>\n",
       "      <td>2391</td>\n",
       "      <td>2391</td>\n",
       "      <td>2391</td>\n",
       "    </tr>\n",
       "  </tbody>\n",
       "</table>\n",
       "</div>"
      ],
      "text/plain": [
       "            Area Name  Crime Code Description  Address  offense_category\n",
       "month_year                                                              \n",
       "2010-01-01       2339                    2339     2339              2339\n",
       "2010-02-01       2205                    2205     2205              2205\n",
       "2010-03-01       2588                    2588     2588              2588\n",
       "2010-04-01       2435                    2435     2435              2435\n",
       "2010-05-01       2391                    2391     2391              2391"
      ]
     },
     "execution_count": 111,
     "metadata": {},
     "output_type": "execute_result"
    }
   ],
   "source": [
    "la_pub_disorder_counts = la_pub_disorder.groupby(['month_year']).count()\n",
    "la_pub_disorder_counts.head()"
   ]
  },
  {
   "cell_type": "code",
   "execution_count": 112,
   "metadata": {},
   "outputs": [
    {
     "data": {
      "text/html": [
       "<div>\n",
       "<style scoped>\n",
       "    .dataframe tbody tr th:only-of-type {\n",
       "        vertical-align: middle;\n",
       "    }\n",
       "\n",
       "    .dataframe tbody tr th {\n",
       "        vertical-align: top;\n",
       "    }\n",
       "\n",
       "    .dataframe thead th {\n",
       "        text-align: right;\n",
       "    }\n",
       "</style>\n",
       "<table border=\"1\" class=\"dataframe\">\n",
       "  <thead>\n",
       "    <tr style=\"text-align: right;\">\n",
       "      <th></th>\n",
       "      <th>count</th>\n",
       "    </tr>\n",
       "    <tr>\n",
       "      <th>month_year</th>\n",
       "      <th></th>\n",
       "    </tr>\n",
       "  </thead>\n",
       "  <tbody>\n",
       "    <tr>\n",
       "      <th>2010-01-01</th>\n",
       "      <td>2339</td>\n",
       "    </tr>\n",
       "    <tr>\n",
       "      <th>2010-02-01</th>\n",
       "      <td>2205</td>\n",
       "    </tr>\n",
       "    <tr>\n",
       "      <th>2010-03-01</th>\n",
       "      <td>2588</td>\n",
       "    </tr>\n",
       "    <tr>\n",
       "      <th>2010-04-01</th>\n",
       "      <td>2435</td>\n",
       "    </tr>\n",
       "    <tr>\n",
       "      <th>2010-05-01</th>\n",
       "      <td>2391</td>\n",
       "    </tr>\n",
       "  </tbody>\n",
       "</table>\n",
       "</div>"
      ],
      "text/plain": [
       "            count\n",
       "month_year       \n",
       "2010-01-01   2339\n",
       "2010-02-01   2205\n",
       "2010-03-01   2588\n",
       "2010-04-01   2435\n",
       "2010-05-01   2391"
      ]
     },
     "execution_count": 112,
     "metadata": {},
     "output_type": "execute_result"
    }
   ],
   "source": [
    "la_pub_disorder_counts['count'] = la_pub_disorder_counts['Area Name']\n",
    "la_pub_disorder_counts = la_pub_disorder_counts.drop(['Area Name','Crime Code Description','Address','offense_category'],axis=1)\n",
    "la_pub_disorder_counts.head()"
   ]
  },
  {
   "cell_type": "code",
   "execution_count": 127,
   "metadata": {},
   "outputs": [
    {
     "data": {
      "text/html": [
       "<div>\n",
       "<style scoped>\n",
       "    .dataframe tbody tr th:only-of-type {\n",
       "        vertical-align: middle;\n",
       "    }\n",
       "\n",
       "    .dataframe tbody tr th {\n",
       "        vertical-align: top;\n",
       "    }\n",
       "\n",
       "    .dataframe thead th {\n",
       "        text-align: right;\n",
       "    }\n",
       "</style>\n",
       "<table border=\"1\" class=\"dataframe\">\n",
       "  <thead>\n",
       "    <tr style=\"text-align: right;\">\n",
       "      <th></th>\n",
       "      <th>count_x</th>\n",
       "      <th>count_y</th>\n",
       "      <th>percentage</th>\n",
       "    </tr>\n",
       "    <tr>\n",
       "      <th>month_year</th>\n",
       "      <th></th>\n",
       "      <th></th>\n",
       "      <th></th>\n",
       "    </tr>\n",
       "  </thead>\n",
       "  <tbody>\n",
       "    <tr>\n",
       "      <th>2010-01-01</th>\n",
       "      <td>19352</td>\n",
       "      <td>2339</td>\n",
       "      <td>12.086606</td>\n",
       "    </tr>\n",
       "    <tr>\n",
       "      <th>2010-02-01</th>\n",
       "      <td>15997</td>\n",
       "      <td>2205</td>\n",
       "      <td>13.783834</td>\n",
       "    </tr>\n",
       "    <tr>\n",
       "      <th>2010-03-01</th>\n",
       "      <td>18105</td>\n",
       "      <td>2588</td>\n",
       "      <td>14.294394</td>\n",
       "    </tr>\n",
       "    <tr>\n",
       "      <th>2010-04-01</th>\n",
       "      <td>17740</td>\n",
       "      <td>2435</td>\n",
       "      <td>13.726043</td>\n",
       "    </tr>\n",
       "    <tr>\n",
       "      <th>2010-05-01</th>\n",
       "      <td>17696</td>\n",
       "      <td>2391</td>\n",
       "      <td>13.511528</td>\n",
       "    </tr>\n",
       "  </tbody>\n",
       "</table>\n",
       "</div>"
      ],
      "text/plain": [
       "            count_x  count_y  percentage\n",
       "month_year                              \n",
       "2010-01-01    19352     2339   12.086606\n",
       "2010-02-01    15997     2205   13.783834\n",
       "2010-03-01    18105     2588   14.294394\n",
       "2010-04-01    17740     2435   13.726043\n",
       "2010-05-01    17696     2391   13.511528"
      ]
     },
     "execution_count": 127,
     "metadata": {},
     "output_type": "execute_result"
    }
   ],
   "source": [
    "la_pub_disorder_prop = la_crime_counts.merge(la_pub_disorder_counts, how='outer',left_index=True,right_index=True)\n",
    "la_pub_disorder_prop['percentage'] = (la_pub_disorder_prop['count_y'] / la_pub_disorder_prop['count_x'])*100\n",
    "la_pub_disorder_prop.head()"
   ]
  },
  {
   "cell_type": "code",
   "execution_count": 128,
   "metadata": {},
   "outputs": [],
   "source": [
    "la_pub_disorder_prop_legalized = la_pub_disorder_prop.tail(14)\n",
    "la_pub_disorder_prop_non_legal = la_pub_disorder_prop.head(96)"
   ]
  },
  {
   "cell_type": "code",
   "execution_count": 129,
   "metadata": {},
   "outputs": [
    {
     "data": {
      "text/html": [
       "<div>\n",
       "<style scoped>\n",
       "    .dataframe tbody tr th:only-of-type {\n",
       "        vertical-align: middle;\n",
       "    }\n",
       "\n",
       "    .dataframe tbody tr th {\n",
       "        vertical-align: top;\n",
       "    }\n",
       "\n",
       "    .dataframe thead th {\n",
       "        text-align: right;\n",
       "    }\n",
       "</style>\n",
       "<table border=\"1\" class=\"dataframe\">\n",
       "  <thead>\n",
       "    <tr style=\"text-align: right;\">\n",
       "      <th></th>\n",
       "      <th>count_x</th>\n",
       "      <th>count_y</th>\n",
       "      <th>percentage</th>\n",
       "    </tr>\n",
       "  </thead>\n",
       "  <tbody>\n",
       "    <tr>\n",
       "      <th>count</th>\n",
       "      <td>14.000000</td>\n",
       "      <td>14.000000</td>\n",
       "      <td>14.000000</td>\n",
       "    </tr>\n",
       "    <tr>\n",
       "      <th>mean</th>\n",
       "      <td>18202.142857</td>\n",
       "      <td>2457.142857</td>\n",
       "      <td>13.505271</td>\n",
       "    </tr>\n",
       "    <tr>\n",
       "      <th>std</th>\n",
       "      <td>1937.021578</td>\n",
       "      <td>261.003347</td>\n",
       "      <td>0.265536</td>\n",
       "    </tr>\n",
       "    <tr>\n",
       "      <th>min</th>\n",
       "      <td>12088.000000</td>\n",
       "      <td>1686.000000</td>\n",
       "      <td>13.025556</td>\n",
       "    </tr>\n",
       "    <tr>\n",
       "      <th>25%</th>\n",
       "      <td>18183.250000</td>\n",
       "      <td>2396.000000</td>\n",
       "      <td>13.340445</td>\n",
       "    </tr>\n",
       "    <tr>\n",
       "      <th>50%</th>\n",
       "      <td>18881.000000</td>\n",
       "      <td>2548.000000</td>\n",
       "      <td>13.548680</td>\n",
       "    </tr>\n",
       "    <tr>\n",
       "      <th>75%</th>\n",
       "      <td>19126.000000</td>\n",
       "      <td>2601.000000</td>\n",
       "      <td>13.685523</td>\n",
       "    </tr>\n",
       "    <tr>\n",
       "      <th>max</th>\n",
       "      <td>19730.000000</td>\n",
       "      <td>2697.000000</td>\n",
       "      <td>13.947717</td>\n",
       "    </tr>\n",
       "  </tbody>\n",
       "</table>\n",
       "</div>"
      ],
      "text/plain": [
       "            count_x      count_y  percentage\n",
       "count     14.000000    14.000000   14.000000\n",
       "mean   18202.142857  2457.142857   13.505271\n",
       "std     1937.021578   261.003347    0.265536\n",
       "min    12088.000000  1686.000000   13.025556\n",
       "25%    18183.250000  2396.000000   13.340445\n",
       "50%    18881.000000  2548.000000   13.548680\n",
       "75%    19126.000000  2601.000000   13.685523\n",
       "max    19730.000000  2697.000000   13.947717"
      ]
     },
     "execution_count": 129,
     "metadata": {},
     "output_type": "execute_result"
    }
   ],
   "source": [
    "la_pub_disorder_prop_legalized.describe()"
   ]
  },
  {
   "cell_type": "code",
   "execution_count": 130,
   "metadata": {
    "scrolled": true
   },
   "outputs": [
    {
     "data": {
      "text/html": [
       "<div>\n",
       "<style scoped>\n",
       "    .dataframe tbody tr th:only-of-type {\n",
       "        vertical-align: middle;\n",
       "    }\n",
       "\n",
       "    .dataframe tbody tr th {\n",
       "        vertical-align: top;\n",
       "    }\n",
       "\n",
       "    .dataframe thead th {\n",
       "        text-align: right;\n",
       "    }\n",
       "</style>\n",
       "<table border=\"1\" class=\"dataframe\">\n",
       "  <thead>\n",
       "    <tr style=\"text-align: right;\">\n",
       "      <th></th>\n",
       "      <th>count_x</th>\n",
       "      <th>count_y</th>\n",
       "      <th>percentage</th>\n",
       "    </tr>\n",
       "  </thead>\n",
       "  <tbody>\n",
       "    <tr>\n",
       "      <th>count</th>\n",
       "      <td>96.000000</td>\n",
       "      <td>96.000000</td>\n",
       "      <td>96.000000</td>\n",
       "    </tr>\n",
       "    <tr>\n",
       "      <th>mean</th>\n",
       "      <td>17355.572917</td>\n",
       "      <td>2300.552083</td>\n",
       "      <td>13.255937</td>\n",
       "    </tr>\n",
       "    <tr>\n",
       "      <th>std</th>\n",
       "      <td>1347.227693</td>\n",
       "      <td>198.412217</td>\n",
       "      <td>0.511698</td>\n",
       "    </tr>\n",
       "    <tr>\n",
       "      <th>min</th>\n",
       "      <td>13658.000000</td>\n",
       "      <td>1791.000000</td>\n",
       "      <td>12.086606</td>\n",
       "    </tr>\n",
       "    <tr>\n",
       "      <th>25%</th>\n",
       "      <td>16412.000000</td>\n",
       "      <td>2153.750000</td>\n",
       "      <td>12.929390</td>\n",
       "    </tr>\n",
       "    <tr>\n",
       "      <th>50%</th>\n",
       "      <td>17226.000000</td>\n",
       "      <td>2276.000000</td>\n",
       "      <td>13.290032</td>\n",
       "    </tr>\n",
       "    <tr>\n",
       "      <th>75%</th>\n",
       "      <td>18270.500000</td>\n",
       "      <td>2443.500000</td>\n",
       "      <td>13.663948</td>\n",
       "    </tr>\n",
       "    <tr>\n",
       "      <th>max</th>\n",
       "      <td>20281.000000</td>\n",
       "      <td>2729.000000</td>\n",
       "      <td>14.294394</td>\n",
       "    </tr>\n",
       "  </tbody>\n",
       "</table>\n",
       "</div>"
      ],
      "text/plain": [
       "            count_x      count_y  percentage\n",
       "count     96.000000    96.000000   96.000000\n",
       "mean   17355.572917  2300.552083   13.255937\n",
       "std     1347.227693   198.412217    0.511698\n",
       "min    13658.000000  1791.000000   12.086606\n",
       "25%    16412.000000  2153.750000   12.929390\n",
       "50%    17226.000000  2276.000000   13.290032\n",
       "75%    18270.500000  2443.500000   13.663948\n",
       "max    20281.000000  2729.000000   14.294394"
      ]
     },
     "execution_count": 130,
     "metadata": {},
     "output_type": "execute_result"
    }
   ],
   "source": [
    "la_pub_disorder_prop_non_legal.describe()"
   ]
  },
  {
   "cell_type": "code",
   "execution_count": 154,
   "metadata": {},
   "outputs": [
    {
     "data": {
      "text/plain": [
       "(array([ 2.,  2.,  3.,  3.,  4.,  0.,  6.,  6.,  6., 12.,  5., 12.,  6.,\n",
       "         4.,  8.,  4.,  6.,  2.,  4.,  1.]),\n",
       " array([12.08660604, 12.19699542, 12.30738481, 12.4177742 , 12.52816359,\n",
       "        12.63855298, 12.74894237, 12.85933176, 12.96972115, 13.08011054,\n",
       "        13.19049992, 13.30088931, 13.4112787 , 13.52166809, 13.63205748,\n",
       "        13.74244687, 13.85283626, 13.96322565, 14.07361504, 14.18400442,\n",
       "        14.29439381]),\n",
       " <a list of 20 Patch objects>)"
      ]
     },
     "execution_count": 154,
     "metadata": {},
     "output_type": "execute_result"
    },
    {
     "data": {
      "image/png": "[encoded data removed]",
      "text/plain": [
       "<Figure size 432x288 with 1 Axes>"
      ]
     },
     "metadata": {},
     "output_type": "display_data"
    }
   ],
   "source": [
    "# distribution of percentages of pub disorder crimes b4 legalization\n",
    "plt.hist(la_pub_disorder_prop_non_legal['percentage'],bins=20)"
   ]
  },
  {
   "cell_type": "code",
   "execution_count": null,
   "metadata": {},
   "outputs": [],
   "source": []
  },
  {
   "cell_type": "code",
   "execution_count": null,
   "metadata": {},
   "outputs": [],
   "source": []
  },
  {
   "cell_type": "markdown",
   "metadata": {},
   "source": [
    "# Theft from Vehicles"
   ]
  },
  {
   "cell_type": "code",
   "execution_count": 124,
   "metadata": {},
   "outputs": [],
   "source": [
    "la_theft_frm_veh_counts = la_theft_frm_veh.groupby(['month_year']).count()"
   ]
  },
  {
   "cell_type": "code",
   "execution_count": 125,
   "metadata": {},
   "outputs": [],
   "source": [
    "la_theft_frm_veh_counts['count'] = la_theft_frm_veh_counts['Area Name']\n",
    "la_theft_frm_veh_counts = la_theft_frm_veh_counts.drop(['Area Name','Crime Code Description','Address','offense_category'],axis=1)\n"
   ]
  },
  {
   "cell_type": "code",
   "execution_count": 126,
   "metadata": {},
   "outputs": [
    {
     "data": {
      "text/html": [
       "<div>\n",
       "<style scoped>\n",
       "    .dataframe tbody tr th:only-of-type {\n",
       "        vertical-align: middle;\n",
       "    }\n",
       "\n",
       "    .dataframe tbody tr th {\n",
       "        vertical-align: top;\n",
       "    }\n",
       "\n",
       "    .dataframe thead th {\n",
       "        text-align: right;\n",
       "    }\n",
       "</style>\n",
       "<table border=\"1\" class=\"dataframe\">\n",
       "  <thead>\n",
       "    <tr style=\"text-align: right;\">\n",
       "      <th></th>\n",
       "      <th>count</th>\n",
       "    </tr>\n",
       "    <tr>\n",
       "      <th>month_year</th>\n",
       "      <th></th>\n",
       "    </tr>\n",
       "  </thead>\n",
       "  <tbody>\n",
       "    <tr>\n",
       "      <th>2010-01-01</th>\n",
       "      <td>2515</td>\n",
       "    </tr>\n",
       "    <tr>\n",
       "      <th>2010-02-01</th>\n",
       "      <td>2250</td>\n",
       "    </tr>\n",
       "    <tr>\n",
       "      <th>2010-03-01</th>\n",
       "      <td>2458</td>\n",
       "    </tr>\n",
       "    <tr>\n",
       "      <th>2010-04-01</th>\n",
       "      <td>2378</td>\n",
       "    </tr>\n",
       "    <tr>\n",
       "      <th>2010-05-01</th>\n",
       "      <td>2319</td>\n",
       "    </tr>\n",
       "  </tbody>\n",
       "</table>\n",
       "</div>"
      ],
      "text/plain": [
       "            count\n",
       "month_year       \n",
       "2010-01-01   2515\n",
       "2010-02-01   2250\n",
       "2010-03-01   2458\n",
       "2010-04-01   2378\n",
       "2010-05-01   2319"
      ]
     },
     "execution_count": 126,
     "metadata": {},
     "output_type": "execute_result"
    }
   ],
   "source": [
    "la_theft_frm_veh_counts.head()"
   ]
  },
  {
   "cell_type": "code",
   "execution_count": 131,
   "metadata": {},
   "outputs": [
    {
     "data": {
      "text/html": [
       "<div>\n",
       "<style scoped>\n",
       "    .dataframe tbody tr th:only-of-type {\n",
       "        vertical-align: middle;\n",
       "    }\n",
       "\n",
       "    .dataframe tbody tr th {\n",
       "        vertical-align: top;\n",
       "    }\n",
       "\n",
       "    .dataframe thead th {\n",
       "        text-align: right;\n",
       "    }\n",
       "</style>\n",
       "<table border=\"1\" class=\"dataframe\">\n",
       "  <thead>\n",
       "    <tr style=\"text-align: right;\">\n",
       "      <th></th>\n",
       "      <th>count_x</th>\n",
       "      <th>count_y</th>\n",
       "      <th>percentage</th>\n",
       "    </tr>\n",
       "    <tr>\n",
       "      <th>month_year</th>\n",
       "      <th></th>\n",
       "      <th></th>\n",
       "      <th></th>\n",
       "    </tr>\n",
       "  </thead>\n",
       "  <tbody>\n",
       "    <tr>\n",
       "      <th>2010-01-01</th>\n",
       "      <td>19352</td>\n",
       "      <td>2515</td>\n",
       "      <td>12.996073</td>\n",
       "    </tr>\n",
       "    <tr>\n",
       "      <th>2010-02-01</th>\n",
       "      <td>15997</td>\n",
       "      <td>2250</td>\n",
       "      <td>14.065137</td>\n",
       "    </tr>\n",
       "    <tr>\n",
       "      <th>2010-03-01</th>\n",
       "      <td>18105</td>\n",
       "      <td>2458</td>\n",
       "      <td>13.576360</td>\n",
       "    </tr>\n",
       "    <tr>\n",
       "      <th>2010-04-01</th>\n",
       "      <td>17740</td>\n",
       "      <td>2378</td>\n",
       "      <td>13.404735</td>\n",
       "    </tr>\n",
       "    <tr>\n",
       "      <th>2010-05-01</th>\n",
       "      <td>17696</td>\n",
       "      <td>2319</td>\n",
       "      <td>13.104656</td>\n",
       "    </tr>\n",
       "  </tbody>\n",
       "</table>\n",
       "</div>"
      ],
      "text/plain": [
       "            count_x  count_y  percentage\n",
       "month_year                              \n",
       "2010-01-01    19352     2515   12.996073\n",
       "2010-02-01    15997     2250   14.065137\n",
       "2010-03-01    18105     2458   13.576360\n",
       "2010-04-01    17740     2378   13.404735\n",
       "2010-05-01    17696     2319   13.104656"
      ]
     },
     "execution_count": 131,
     "metadata": {},
     "output_type": "execute_result"
    }
   ],
   "source": [
    "la_theft_frm_veh_prop = la_crime_counts.merge(la_theft_frm_veh_counts, how='outer',left_index=True,right_index=True)\n",
    "la_theft_frm_veh_prop['percentage'] = (la_theft_frm_veh_prop['count_y'] / la_theft_frm_veh_prop['count_x'])*100\n",
    "la_theft_frm_veh_prop.head()"
   ]
  },
  {
   "cell_type": "code",
   "execution_count": 137,
   "metadata": {},
   "outputs": [
    {
     "data": {
      "text/html": [
       "<div>\n",
       "<style scoped>\n",
       "    .dataframe tbody tr th:only-of-type {\n",
       "        vertical-align: middle;\n",
       "    }\n",
       "\n",
       "    .dataframe tbody tr th {\n",
       "        vertical-align: top;\n",
       "    }\n",
       "\n",
       "    .dataframe thead th {\n",
       "        text-align: right;\n",
       "    }\n",
       "</style>\n",
       "<table border=\"1\" class=\"dataframe\">\n",
       "  <thead>\n",
       "    <tr style=\"text-align: right;\">\n",
       "      <th></th>\n",
       "      <th>count_x</th>\n",
       "      <th>count_y</th>\n",
       "      <th>percentage</th>\n",
       "    </tr>\n",
       "  </thead>\n",
       "  <tbody>\n",
       "    <tr>\n",
       "      <th>count</th>\n",
       "      <td>14.000000</td>\n",
       "      <td>14.000000</td>\n",
       "      <td>14.000000</td>\n",
       "    </tr>\n",
       "    <tr>\n",
       "      <th>mean</th>\n",
       "      <td>18202.142857</td>\n",
       "      <td>2648.714286</td>\n",
       "      <td>14.578433</td>\n",
       "    </tr>\n",
       "    <tr>\n",
       "      <th>std</th>\n",
       "      <td>1937.021578</td>\n",
       "      <td>257.814313</td>\n",
       "      <td>0.567513</td>\n",
       "    </tr>\n",
       "    <tr>\n",
       "      <th>min</th>\n",
       "      <td>12088.000000</td>\n",
       "      <td>1826.000000</td>\n",
       "      <td>13.902235</td>\n",
       "    </tr>\n",
       "    <tr>\n",
       "      <th>25%</th>\n",
       "      <td>18183.250000</td>\n",
       "      <td>2623.000000</td>\n",
       "      <td>14.142487</td>\n",
       "    </tr>\n",
       "    <tr>\n",
       "      <th>50%</th>\n",
       "      <td>18881.000000</td>\n",
       "      <td>2718.500000</td>\n",
       "      <td>14.438008</td>\n",
       "    </tr>\n",
       "    <tr>\n",
       "      <th>75%</th>\n",
       "      <td>19126.000000</td>\n",
       "      <td>2752.000000</td>\n",
       "      <td>15.064608</td>\n",
       "    </tr>\n",
       "    <tr>\n",
       "      <th>max</th>\n",
       "      <td>19730.000000</td>\n",
       "      <td>2907.000000</td>\n",
       "      <td>15.814384</td>\n",
       "    </tr>\n",
       "  </tbody>\n",
       "</table>\n",
       "</div>"
      ],
      "text/plain": [
       "            count_x      count_y  percentage\n",
       "count     14.000000    14.000000   14.000000\n",
       "mean   18202.142857  2648.714286   14.578433\n",
       "std     1937.021578   257.814313    0.567513\n",
       "min    12088.000000  1826.000000   13.902235\n",
       "25%    18183.250000  2623.000000   14.142487\n",
       "50%    18881.000000  2718.500000   14.438008\n",
       "75%    19126.000000  2752.000000   15.064608\n",
       "max    19730.000000  2907.000000   15.814384"
      ]
     },
     "execution_count": 137,
     "metadata": {},
     "output_type": "execute_result"
    }
   ],
   "source": [
    "la_theft_frm_veh_prop_legalized = la_theft_frm_veh_prop.tail(14)\n",
    "la_theft_frm_veh_prop_legalized.describe()"
   ]
  },
  {
   "cell_type": "code",
   "execution_count": 136,
   "metadata": {},
   "outputs": [
    {
     "data": {
      "text/html": [
       "<div>\n",
       "<style scoped>\n",
       "    .dataframe tbody tr th:only-of-type {\n",
       "        vertical-align: middle;\n",
       "    }\n",
       "\n",
       "    .dataframe tbody tr th {\n",
       "        vertical-align: top;\n",
       "    }\n",
       "\n",
       "    .dataframe thead th {\n",
       "        text-align: right;\n",
       "    }\n",
       "</style>\n",
       "<table border=\"1\" class=\"dataframe\">\n",
       "  <thead>\n",
       "    <tr style=\"text-align: right;\">\n",
       "      <th></th>\n",
       "      <th>count_x</th>\n",
       "      <th>count_y</th>\n",
       "      <th>percentage</th>\n",
       "    </tr>\n",
       "  </thead>\n",
       "  <tbody>\n",
       "    <tr>\n",
       "      <th>count</th>\n",
       "      <td>96.000000</td>\n",
       "      <td>96.000000</td>\n",
       "      <td>96.000000</td>\n",
       "    </tr>\n",
       "    <tr>\n",
       "      <th>mean</th>\n",
       "      <td>17355.572917</td>\n",
       "      <td>2288.135417</td>\n",
       "      <td>13.165030</td>\n",
       "    </tr>\n",
       "    <tr>\n",
       "      <th>std</th>\n",
       "      <td>1347.227693</td>\n",
       "      <td>266.895786</td>\n",
       "      <td>0.864279</td>\n",
       "    </tr>\n",
       "    <tr>\n",
       "      <th>min</th>\n",
       "      <td>13658.000000</td>\n",
       "      <td>1736.000000</td>\n",
       "      <td>11.438665</td>\n",
       "    </tr>\n",
       "    <tr>\n",
       "      <th>25%</th>\n",
       "      <td>16412.000000</td>\n",
       "      <td>2075.750000</td>\n",
       "      <td>12.474862</td>\n",
       "    </tr>\n",
       "    <tr>\n",
       "      <th>50%</th>\n",
       "      <td>17226.000000</td>\n",
       "      <td>2244.000000</td>\n",
       "      <td>13.177984</td>\n",
       "    </tr>\n",
       "    <tr>\n",
       "      <th>75%</th>\n",
       "      <td>18270.500000</td>\n",
       "      <td>2482.000000</td>\n",
       "      <td>13.665712</td>\n",
       "    </tr>\n",
       "    <tr>\n",
       "      <th>max</th>\n",
       "      <td>20281.000000</td>\n",
       "      <td>2956.000000</td>\n",
       "      <td>15.293083</td>\n",
       "    </tr>\n",
       "  </tbody>\n",
       "</table>\n",
       "</div>"
      ],
      "text/plain": [
       "            count_x      count_y  percentage\n",
       "count     96.000000    96.000000   96.000000\n",
       "mean   17355.572917  2288.135417   13.165030\n",
       "std     1347.227693   266.895786    0.864279\n",
       "min    13658.000000  1736.000000   11.438665\n",
       "25%    16412.000000  2075.750000   12.474862\n",
       "50%    17226.000000  2244.000000   13.177984\n",
       "75%    18270.500000  2482.000000   13.665712\n",
       "max    20281.000000  2956.000000   15.293083"
      ]
     },
     "execution_count": 136,
     "metadata": {},
     "output_type": "execute_result"
    }
   ],
   "source": [
    "la_theft_frm_veh_prop_non_legal = la_theft_frm_veh_prop.head(96)\n",
    "la_theft_frm_veh_prop_non_legal.describe()"
   ]
  },
  {
   "cell_type": "code",
   "execution_count": 157,
   "metadata": {},
   "outputs": [
    {
     "data": {
      "text/plain": [
       "(array([ 2.,  3.,  5.,  7.,  3.,  6.,  6.,  8.,  8.,  5.,  8., 18.,  1.,\n",
       "         5.,  2.,  2.,  2.,  1.,  2.,  2.]),\n",
       " array([11.43866488, 11.63138578, 11.82410669, 12.01682759, 12.20954849,\n",
       "        12.40226939, 12.5949903 , 12.7877112 , 12.9804321 , 13.173153  ,\n",
       "        13.36587391, 13.55859481, 13.75131571, 13.94403661, 14.13675752,\n",
       "        14.32947842, 14.52219932, 14.71492022, 14.90764113, 15.10036203,\n",
       "        15.29308293]),\n",
       " <a list of 20 Patch objects>)"
      ]
     },
     "execution_count": 157,
     "metadata": {},
     "output_type": "execute_result"
    },
    {
     "data": {
      "image/png": "[encoded data removed]",
      "text/plain": [
       "<Figure size 432x288 with 1 Axes>"
      ]
     },
     "metadata": {},
     "output_type": "display_data"
    }
   ],
   "source": [
    "# distribution of percentages of theft from vehicle crimes b4 legalization\n",
    "plt.hist(la_theft_frm_veh_prop_non_legal['percentage'],bins=20)"
   ]
  },
  {
   "cell_type": "code",
   "execution_count": null,
   "metadata": {},
   "outputs": [],
   "source": []
  },
  {
   "cell_type": "code",
   "execution_count": null,
   "metadata": {},
   "outputs": [],
   "source": []
  },
  {
   "cell_type": "markdown",
   "metadata": {},
   "source": [
    "# Robbery"
   ]
  },
  {
   "cell_type": "code",
   "execution_count": 138,
   "metadata": {},
   "outputs": [],
   "source": [
    "la_robbery_counts = la_robbery.groupby(['month_year']).count()\n"
   ]
  },
  {
   "cell_type": "code",
   "execution_count": 139,
   "metadata": {},
   "outputs": [],
   "source": [
    "la_robbery_counts['count'] = la_robbery_counts['Area Name']\n",
    "la_robbery_counts = la_robbery_counts.drop(['Area Name','Crime Code Description','Address','offense_category'],axis=1)\n"
   ]
  },
  {
   "cell_type": "code",
   "execution_count": 141,
   "metadata": {},
   "outputs": [
    {
     "data": {
      "text/html": [
       "<div>\n",
       "<style scoped>\n",
       "    .dataframe tbody tr th:only-of-type {\n",
       "        vertical-align: middle;\n",
       "    }\n",
       "\n",
       "    .dataframe tbody tr th {\n",
       "        vertical-align: top;\n",
       "    }\n",
       "\n",
       "    .dataframe thead th {\n",
       "        text-align: right;\n",
       "    }\n",
       "</style>\n",
       "<table border=\"1\" class=\"dataframe\">\n",
       "  <thead>\n",
       "    <tr style=\"text-align: right;\">\n",
       "      <th></th>\n",
       "      <th>count</th>\n",
       "    </tr>\n",
       "    <tr>\n",
       "      <th>month_year</th>\n",
       "      <th></th>\n",
       "    </tr>\n",
       "  </thead>\n",
       "  <tbody>\n",
       "    <tr>\n",
       "      <th>2010-01-01</th>\n",
       "      <td>1012</td>\n",
       "    </tr>\n",
       "    <tr>\n",
       "      <th>2010-02-01</th>\n",
       "      <td>872</td>\n",
       "    </tr>\n",
       "    <tr>\n",
       "      <th>2010-03-01</th>\n",
       "      <td>888</td>\n",
       "    </tr>\n",
       "    <tr>\n",
       "      <th>2010-04-01</th>\n",
       "      <td>934</td>\n",
       "    </tr>\n",
       "    <tr>\n",
       "      <th>2010-05-01</th>\n",
       "      <td>919</td>\n",
       "    </tr>\n",
       "  </tbody>\n",
       "</table>\n",
       "</div>"
      ],
      "text/plain": [
       "            count\n",
       "month_year       \n",
       "2010-01-01   1012\n",
       "2010-02-01    872\n",
       "2010-03-01    888\n",
       "2010-04-01    934\n",
       "2010-05-01    919"
      ]
     },
     "execution_count": 141,
     "metadata": {},
     "output_type": "execute_result"
    }
   ],
   "source": [
    "la_robbery_counts.head()"
   ]
  },
  {
   "cell_type": "code",
   "execution_count": 145,
   "metadata": {},
   "outputs": [
    {
     "data": {
      "text/html": [
       "<div>\n",
       "<style scoped>\n",
       "    .dataframe tbody tr th:only-of-type {\n",
       "        vertical-align: middle;\n",
       "    }\n",
       "\n",
       "    .dataframe tbody tr th {\n",
       "        vertical-align: top;\n",
       "    }\n",
       "\n",
       "    .dataframe thead th {\n",
       "        text-align: right;\n",
       "    }\n",
       "</style>\n",
       "<table border=\"1\" class=\"dataframe\">\n",
       "  <thead>\n",
       "    <tr style=\"text-align: right;\">\n",
       "      <th></th>\n",
       "      <th>count_x</th>\n",
       "      <th>count_y</th>\n",
       "    </tr>\n",
       "    <tr>\n",
       "      <th>month_year</th>\n",
       "      <th></th>\n",
       "      <th></th>\n",
       "    </tr>\n",
       "  </thead>\n",
       "  <tbody>\n",
       "    <tr>\n",
       "      <th>2010-01-01</th>\n",
       "      <td>19352</td>\n",
       "      <td>1012</td>\n",
       "    </tr>\n",
       "    <tr>\n",
       "      <th>2010-02-01</th>\n",
       "      <td>15997</td>\n",
       "      <td>872</td>\n",
       "    </tr>\n",
       "    <tr>\n",
       "      <th>2010-03-01</th>\n",
       "      <td>18105</td>\n",
       "      <td>888</td>\n",
       "    </tr>\n",
       "    <tr>\n",
       "      <th>2010-04-01</th>\n",
       "      <td>17740</td>\n",
       "      <td>934</td>\n",
       "    </tr>\n",
       "    <tr>\n",
       "      <th>2010-05-01</th>\n",
       "      <td>17696</td>\n",
       "      <td>919</td>\n",
       "    </tr>\n",
       "  </tbody>\n",
       "</table>\n",
       "</div>"
      ],
      "text/plain": [
       "            count_x  count_y\n",
       "month_year                  \n",
       "2010-01-01    19352     1012\n",
       "2010-02-01    15997      872\n",
       "2010-03-01    18105      888\n",
       "2010-04-01    17740      934\n",
       "2010-05-01    17696      919"
      ]
     },
     "execution_count": 145,
     "metadata": {},
     "output_type": "execute_result"
    }
   ],
   "source": [
    "la_robbery_prop = la_crime_counts.merge(la_robbery_counts, how='outer',left_index=True,right_index=True)\n",
    "la_robbery_prop.head()"
   ]
  },
  {
   "cell_type": "code",
   "execution_count": 147,
   "metadata": {},
   "outputs": [
    {
     "data": {
      "text/html": [
       "<div>\n",
       "<style scoped>\n",
       "    .dataframe tbody tr th:only-of-type {\n",
       "        vertical-align: middle;\n",
       "    }\n",
       "\n",
       "    .dataframe tbody tr th {\n",
       "        vertical-align: top;\n",
       "    }\n",
       "\n",
       "    .dataframe thead th {\n",
       "        text-align: right;\n",
       "    }\n",
       "</style>\n",
       "<table border=\"1\" class=\"dataframe\">\n",
       "  <thead>\n",
       "    <tr style=\"text-align: right;\">\n",
       "      <th></th>\n",
       "      <th>count_x</th>\n",
       "      <th>count_y</th>\n",
       "      <th>percentages</th>\n",
       "    </tr>\n",
       "    <tr>\n",
       "      <th>month_year</th>\n",
       "      <th></th>\n",
       "      <th></th>\n",
       "      <th></th>\n",
       "    </tr>\n",
       "  </thead>\n",
       "  <tbody>\n",
       "    <tr>\n",
       "      <th>2010-01-01</th>\n",
       "      <td>19352</td>\n",
       "      <td>1012</td>\n",
       "      <td>5.229434</td>\n",
       "    </tr>\n",
       "    <tr>\n",
       "      <th>2010-02-01</th>\n",
       "      <td>15997</td>\n",
       "      <td>872</td>\n",
       "      <td>5.451022</td>\n",
       "    </tr>\n",
       "    <tr>\n",
       "      <th>2010-03-01</th>\n",
       "      <td>18105</td>\n",
       "      <td>888</td>\n",
       "      <td>4.904722</td>\n",
       "    </tr>\n",
       "    <tr>\n",
       "      <th>2010-04-01</th>\n",
       "      <td>17740</td>\n",
       "      <td>934</td>\n",
       "      <td>5.264938</td>\n",
       "    </tr>\n",
       "    <tr>\n",
       "      <th>2010-05-01</th>\n",
       "      <td>17696</td>\n",
       "      <td>919</td>\n",
       "      <td>5.193264</td>\n",
       "    </tr>\n",
       "  </tbody>\n",
       "</table>\n",
       "</div>"
      ],
      "text/plain": [
       "            count_x  count_y  percentages\n",
       "month_year                               \n",
       "2010-01-01    19352     1012     5.229434\n",
       "2010-02-01    15997      872     5.451022\n",
       "2010-03-01    18105      888     4.904722\n",
       "2010-04-01    17740      934     5.264938\n",
       "2010-05-01    17696      919     5.193264"
      ]
     },
     "execution_count": 147,
     "metadata": {},
     "output_type": "execute_result"
    }
   ],
   "source": [
    "la_robbery_prop['percentages'] = (la_robbery_prop['count_y'] / la_robbery_prop['count_x']) * 100\n",
    "la_robbery_prop.head()"
   ]
  },
  {
   "cell_type": "code",
   "execution_count": 148,
   "metadata": {},
   "outputs": [],
   "source": [
    "la_robbery_prop_legalized = la_robbery_prop.tail(14)\n",
    "la_robbery_prop_non_legal = la_robbery_prop.head(96)"
   ]
  },
  {
   "cell_type": "code",
   "execution_count": 151,
   "metadata": {},
   "outputs": [
    {
     "data": {
      "text/html": [
       "<div>\n",
       "<style scoped>\n",
       "    .dataframe tbody tr th:only-of-type {\n",
       "        vertical-align: middle;\n",
       "    }\n",
       "\n",
       "    .dataframe tbody tr th {\n",
       "        vertical-align: top;\n",
       "    }\n",
       "\n",
       "    .dataframe thead th {\n",
       "        text-align: right;\n",
       "    }\n",
       "</style>\n",
       "<table border=\"1\" class=\"dataframe\">\n",
       "  <thead>\n",
       "    <tr style=\"text-align: right;\">\n",
       "      <th></th>\n",
       "      <th>count_x</th>\n",
       "      <th>count_y</th>\n",
       "      <th>percentages</th>\n",
       "    </tr>\n",
       "  </thead>\n",
       "  <tbody>\n",
       "    <tr>\n",
       "      <th>count</th>\n",
       "      <td>14.000000</td>\n",
       "      <td>14.000000</td>\n",
       "      <td>14.000000</td>\n",
       "    </tr>\n",
       "    <tr>\n",
       "      <th>mean</th>\n",
       "      <td>18202.142857</td>\n",
       "      <td>830.285714</td>\n",
       "      <td>4.570576</td>\n",
       "    </tr>\n",
       "    <tr>\n",
       "      <th>std</th>\n",
       "      <td>1937.021578</td>\n",
       "      <td>85.317893</td>\n",
       "      <td>0.219030</td>\n",
       "    </tr>\n",
       "    <tr>\n",
       "      <th>min</th>\n",
       "      <td>12088.000000</td>\n",
       "      <td>592.000000</td>\n",
       "      <td>4.258709</td>\n",
       "    </tr>\n",
       "    <tr>\n",
       "      <th>25%</th>\n",
       "      <td>18183.250000</td>\n",
       "      <td>806.250000</td>\n",
       "      <td>4.374682</td>\n",
       "    </tr>\n",
       "    <tr>\n",
       "      <th>50%</th>\n",
       "      <td>18881.000000</td>\n",
       "      <td>831.500000</td>\n",
       "      <td>4.577727</td>\n",
       "    </tr>\n",
       "    <tr>\n",
       "      <th>75%</th>\n",
       "      <td>19126.000000</td>\n",
       "      <td>867.250000</td>\n",
       "      <td>4.739111</td>\n",
       "    </tr>\n",
       "    <tr>\n",
       "      <th>max</th>\n",
       "      <td>19730.000000</td>\n",
       "      <td>939.000000</td>\n",
       "      <td>4.916055</td>\n",
       "    </tr>\n",
       "  </tbody>\n",
       "</table>\n",
       "</div>"
      ],
      "text/plain": [
       "            count_x     count_y  percentages\n",
       "count     14.000000   14.000000    14.000000\n",
       "mean   18202.142857  830.285714     4.570576\n",
       "std     1937.021578   85.317893     0.219030\n",
       "min    12088.000000  592.000000     4.258709\n",
       "25%    18183.250000  806.250000     4.374682\n",
       "50%    18881.000000  831.500000     4.577727\n",
       "75%    19126.000000  867.250000     4.739111\n",
       "max    19730.000000  939.000000     4.916055"
      ]
     },
     "execution_count": 151,
     "metadata": {},
     "output_type": "execute_result"
    }
   ],
   "source": [
    "la_robbery_prop_legalized.describe()"
   ]
  },
  {
   "cell_type": "code",
   "execution_count": 152,
   "metadata": {},
   "outputs": [
    {
     "data": {
      "text/html": [
       "<div>\n",
       "<style scoped>\n",
       "    .dataframe tbody tr th:only-of-type {\n",
       "        vertical-align: middle;\n",
       "    }\n",
       "\n",
       "    .dataframe tbody tr th {\n",
       "        vertical-align: top;\n",
       "    }\n",
       "\n",
       "    .dataframe thead th {\n",
       "        text-align: right;\n",
       "    }\n",
       "</style>\n",
       "<table border=\"1\" class=\"dataframe\">\n",
       "  <thead>\n",
       "    <tr style=\"text-align: right;\">\n",
       "      <th></th>\n",
       "      <th>count_x</th>\n",
       "      <th>count_y</th>\n",
       "      <th>percentages</th>\n",
       "    </tr>\n",
       "  </thead>\n",
       "  <tbody>\n",
       "    <tr>\n",
       "      <th>count</th>\n",
       "      <td>96.000000</td>\n",
       "      <td>96.00000</td>\n",
       "      <td>96.000000</td>\n",
       "    </tr>\n",
       "    <tr>\n",
       "      <th>mean</th>\n",
       "      <td>17355.572917</td>\n",
       "      <td>786.62500</td>\n",
       "      <td>4.520856</td>\n",
       "    </tr>\n",
       "    <tr>\n",
       "      <th>std</th>\n",
       "      <td>1347.227693</td>\n",
       "      <td>113.55854</td>\n",
       "      <td>0.464408</td>\n",
       "    </tr>\n",
       "    <tr>\n",
       "      <th>min</th>\n",
       "      <td>13658.000000</td>\n",
       "      <td>484.00000</td>\n",
       "      <td>3.543711</td>\n",
       "    </tr>\n",
       "    <tr>\n",
       "      <th>25%</th>\n",
       "      <td>16412.000000</td>\n",
       "      <td>704.00000</td>\n",
       "      <td>4.151653</td>\n",
       "    </tr>\n",
       "    <tr>\n",
       "      <th>50%</th>\n",
       "      <td>17226.000000</td>\n",
       "      <td>801.00000</td>\n",
       "      <td>4.454372</td>\n",
       "    </tr>\n",
       "    <tr>\n",
       "      <th>75%</th>\n",
       "      <td>18270.500000</td>\n",
       "      <td>873.25000</td>\n",
       "      <td>4.906870</td>\n",
       "    </tr>\n",
       "    <tr>\n",
       "      <th>max</th>\n",
       "      <td>20281.000000</td>\n",
       "      <td>1017.00000</td>\n",
       "      <td>5.451022</td>\n",
       "    </tr>\n",
       "  </tbody>\n",
       "</table>\n",
       "</div>"
      ],
      "text/plain": [
       "            count_x     count_y  percentages\n",
       "count     96.000000    96.00000    96.000000\n",
       "mean   17355.572917   786.62500     4.520856\n",
       "std     1347.227693   113.55854     0.464408\n",
       "min    13658.000000   484.00000     3.543711\n",
       "25%    16412.000000   704.00000     4.151653\n",
       "50%    17226.000000   801.00000     4.454372\n",
       "75%    18270.500000   873.25000     4.906870\n",
       "max    20281.000000  1017.00000     5.451022"
      ]
     },
     "execution_count": 152,
     "metadata": {},
     "output_type": "execute_result"
    }
   ],
   "source": [
    "la_robbery_prop_non_legal.describe()"
   ]
  },
  {
   "cell_type": "code",
   "execution_count": 159,
   "metadata": {},
   "outputs": [
    {
     "data": {
      "text/plain": [
       "(array([ 1.,  0.,  5.,  2.,  8.,  3., 10.,  7.,  7.,  8.,  4.,  8.,  3.,\n",
       "         3.,  6.,  5.,  6.,  3.,  6.,  1.]),\n",
       " array([3.54371065, 3.63907622, 3.73444179, 3.82980736, 3.92517293,\n",
       "        4.0205385 , 4.11590407, 4.21126964, 4.30663521, 4.40200079,\n",
       "        4.49736636, 4.59273193, 4.6880975 , 4.78346307, 4.87882864,\n",
       "        4.97419421, 5.06955978, 5.16492535, 5.26029092, 5.3556565 ,\n",
       "        5.45102207]),\n",
       " <a list of 20 Patch objects>)"
      ]
     },
     "execution_count": 159,
     "metadata": {},
     "output_type": "execute_result"
    },
    {
     "data": {
      "image/png": "[encoded data removed]",
      "text/plain": [
       "<Figure size 432x288 with 1 Axes>"
      ]
     },
     "metadata": {},
     "output_type": "display_data"
    }
   ],
   "source": [
    "# distribution of percentages of robbery crimes b4 legalization\n",
    "plt.hist(la_robbery_prop_non_legal['percentages'],bins=20)"
   ]
  },
  {
   "cell_type": "code",
   "execution_count": null,
   "metadata": {},
   "outputs": [],
   "source": []
  }
 ],
 "metadata": {
  "kernelspec": {
   "display_name": "Python 3",
   "language": "python",
   "name": "python3"
  },
  "language_info": {
   "codemirror_mode": {
    "name": "ipython",
    "version": 3
   },
   "file_extension": ".py",
   "mimetype": "text/x-python",
   "name": "python",
   "nbconvert_exporter": "python",
   "pygments_lexer": "ipython3",
   "version": "3.6.8"
  }
 },
 "nbformat": 4,
 "nbformat_minor": 2
}
