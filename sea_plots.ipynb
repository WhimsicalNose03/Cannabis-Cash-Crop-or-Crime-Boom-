{
 "cells": [
  {
   "cell_type": "code",
   "execution_count": 2,
   "metadata": {},
   "outputs": [],
   "source": [
    "import pandas as pd\n",
    "import numpy as np\n",
    "import matplotlib.pyplot as plt\n",
    "\n",
    "plt.style.use('ggplot')"
   ]
  },
  {
   "cell_type": "code",
   "execution_count": 3,
   "metadata": {},
   "outputs": [],
   "source": [
    "sea_crime = pd.read_csv('data/sea_cleaned_crime.csv')\n",
    "# sea_licenses = pd.read_csv('sea_lic_cleaned.csv')"
   ]
  },
  {
   "cell_type": "code",
   "execution_count": 4,
   "metadata": {},
   "outputs": [],
   "source": [
    "sea_crime = sea_crime.drop('Unnamed: 0',axis=1)\n",
    "# sea_licenses = sea_licenses.drop('Unnamed: 0',axis=1)"
   ]
  },
  {
   "cell_type": "code",
   "execution_count": 5,
   "metadata": {
    "scrolled": true
   },
   "outputs": [
    {
     "data": {
      "text/html": [
       "<div>\n",
       "<style scoped>\n",
       "    .dataframe tbody tr th:only-of-type {\n",
       "        vertical-align: middle;\n",
       "    }\n",
       "\n",
       "    .dataframe tbody tr th {\n",
       "        vertical-align: top;\n",
       "    }\n",
       "\n",
       "    .dataframe thead th {\n",
       "        text-align: right;\n",
       "    }\n",
       "</style>\n",
       "<table border=\"1\" class=\"dataframe\">\n",
       "  <thead>\n",
       "    <tr style=\"text-align: right;\">\n",
       "      <th></th>\n",
       "      <th>Primary Offense Description</th>\n",
       "      <th>Neighborhood</th>\n",
       "      <th>date_occurred</th>\n",
       "      <th>offense_category</th>\n",
       "    </tr>\n",
       "  </thead>\n",
       "  <tbody>\n",
       "    <tr>\n",
       "      <th>0</th>\n",
       "      <td>BURGLARY-FORCE-RES</td>\n",
       "      <td>LAKEWOOD/SEWARD PARK</td>\n",
       "      <td>1975-12-16</td>\n",
       "      <td>burglary</td>\n",
       "    </tr>\n",
       "    <tr>\n",
       "      <th>1</th>\n",
       "      <td>SEXOFF-INDECENT LIBERTIES</td>\n",
       "      <td>UNKNOWN</td>\n",
       "      <td>1976-01-01</td>\n",
       "      <td>pub disorder</td>\n",
       "    </tr>\n",
       "    <tr>\n",
       "      <th>2</th>\n",
       "      <td>THEFT-CARPROWL</td>\n",
       "      <td>CENTRAL AREA/SQUIRE PARK</td>\n",
       "      <td>1979-01-28</td>\n",
       "      <td>larceny</td>\n",
       "    </tr>\n",
       "    <tr>\n",
       "      <th>3</th>\n",
       "      <td>HOMICIDE-PREMEDITATED-WEAPON</td>\n",
       "      <td>BRIGHTON/DUNLAP</td>\n",
       "      <td>1981-08-22</td>\n",
       "      <td>murder</td>\n",
       "    </tr>\n",
       "    <tr>\n",
       "      <th>4</th>\n",
       "      <td>BURGLARY-FORCE-RES</td>\n",
       "      <td>ROXHILL/WESTWOOD/ARBOR HEIGHTS</td>\n",
       "      <td>1981-02-14</td>\n",
       "      <td>burglary</td>\n",
       "    </tr>\n",
       "  </tbody>\n",
       "</table>\n",
       "</div>"
      ],
      "text/plain": [
       "    Primary Offense Description                    Neighborhood date_occurred  \\\n",
       "0            BURGLARY-FORCE-RES            LAKEWOOD/SEWARD PARK    1975-12-16   \n",
       "1     SEXOFF-INDECENT LIBERTIES                         UNKNOWN    1976-01-01   \n",
       "2                THEFT-CARPROWL        CENTRAL AREA/SQUIRE PARK    1979-01-28   \n",
       "3  HOMICIDE-PREMEDITATED-WEAPON                 BRIGHTON/DUNLAP    1981-08-22   \n",
       "4            BURGLARY-FORCE-RES  ROXHILL/WESTWOOD/ARBOR HEIGHTS    1981-02-14   \n",
       "\n",
       "  offense_category  \n",
       "0         burglary  \n",
       "1     pub disorder  \n",
       "2          larceny  \n",
       "3           murder  \n",
       "4         burglary  "
      ]
     },
     "execution_count": 5,
     "metadata": {},
     "output_type": "execute_result"
    }
   ],
   "source": [
    "sea_crime.head()"
   ]
  },
  {
   "cell_type": "code",
   "execution_count": 6,
   "metadata": {},
   "outputs": [],
   "source": [
    "sea_crime['date_occurred'] = pd.to_datetime(sea_crime['date_occurred'])"
   ]
  },
  {
   "cell_type": "code",
   "execution_count": 7,
   "metadata": {},
   "outputs": [],
   "source": [
    "sea_crime['month_year'] = pd.to_datetime(sea_crime['date_occurred'], format='%Y-%m')\n"
   ]
  },
  {
   "cell_type": "code",
   "execution_count": 8,
   "metadata": {},
   "outputs": [],
   "source": [
    "sea_crime['month_year'] = sea_crime['date_occurred'].dt.to_period('M')"
   ]
  },
  {
   "cell_type": "code",
   "execution_count": 9,
   "metadata": {},
   "outputs": [
    {
     "data": {
      "text/html": [
       "<div>\n",
       "<style scoped>\n",
       "    .dataframe tbody tr th:only-of-type {\n",
       "        vertical-align: middle;\n",
       "    }\n",
       "\n",
       "    .dataframe tbody tr th {\n",
       "        vertical-align: top;\n",
       "    }\n",
       "\n",
       "    .dataframe thead th {\n",
       "        text-align: right;\n",
       "    }\n",
       "</style>\n",
       "<table border=\"1\" class=\"dataframe\">\n",
       "  <thead>\n",
       "    <tr style=\"text-align: right;\">\n",
       "      <th></th>\n",
       "      <th>Primary Offense Description</th>\n",
       "      <th>Neighborhood</th>\n",
       "      <th>date_occurred</th>\n",
       "      <th>offense_category</th>\n",
       "      <th>month_year</th>\n",
       "    </tr>\n",
       "  </thead>\n",
       "  <tbody>\n",
       "    <tr>\n",
       "      <th>0</th>\n",
       "      <td>BURGLARY-FORCE-RES</td>\n",
       "      <td>LAKEWOOD/SEWARD PARK</td>\n",
       "      <td>1975-12-16</td>\n",
       "      <td>burglary</td>\n",
       "      <td>1975-12</td>\n",
       "    </tr>\n",
       "    <tr>\n",
       "      <th>1</th>\n",
       "      <td>SEXOFF-INDECENT LIBERTIES</td>\n",
       "      <td>UNKNOWN</td>\n",
       "      <td>1976-01-01</td>\n",
       "      <td>pub disorder</td>\n",
       "      <td>1976-01</td>\n",
       "    </tr>\n",
       "    <tr>\n",
       "      <th>2</th>\n",
       "      <td>THEFT-CARPROWL</td>\n",
       "      <td>CENTRAL AREA/SQUIRE PARK</td>\n",
       "      <td>1979-01-28</td>\n",
       "      <td>larceny</td>\n",
       "      <td>1979-01</td>\n",
       "    </tr>\n",
       "    <tr>\n",
       "      <th>3</th>\n",
       "      <td>HOMICIDE-PREMEDITATED-WEAPON</td>\n",
       "      <td>BRIGHTON/DUNLAP</td>\n",
       "      <td>1981-08-22</td>\n",
       "      <td>murder</td>\n",
       "      <td>1981-08</td>\n",
       "    </tr>\n",
       "    <tr>\n",
       "      <th>4</th>\n",
       "      <td>BURGLARY-FORCE-RES</td>\n",
       "      <td>ROXHILL/WESTWOOD/ARBOR HEIGHTS</td>\n",
       "      <td>1981-02-14</td>\n",
       "      <td>burglary</td>\n",
       "      <td>1981-02</td>\n",
       "    </tr>\n",
       "  </tbody>\n",
       "</table>\n",
       "</div>"
      ],
      "text/plain": [
       "    Primary Offense Description                    Neighborhood date_occurred  \\\n",
       "0            BURGLARY-FORCE-RES            LAKEWOOD/SEWARD PARK    1975-12-16   \n",
       "1     SEXOFF-INDECENT LIBERTIES                         UNKNOWN    1976-01-01   \n",
       "2                THEFT-CARPROWL        CENTRAL AREA/SQUIRE PARK    1979-01-28   \n",
       "3  HOMICIDE-PREMEDITATED-WEAPON                 BRIGHTON/DUNLAP    1981-08-22   \n",
       "4            BURGLARY-FORCE-RES  ROXHILL/WESTWOOD/ARBOR HEIGHTS    1981-02-14   \n",
       "\n",
       "  offense_category month_year  \n",
       "0         burglary    1975-12  \n",
       "1     pub disorder    1976-01  \n",
       "2          larceny    1979-01  \n",
       "3           murder    1981-08  \n",
       "4         burglary    1981-02  "
      ]
     },
     "execution_count": 9,
     "metadata": {},
     "output_type": "execute_result"
    }
   ],
   "source": [
    "sea_crime.head()"
   ]
  },
  {
   "cell_type": "code",
   "execution_count": 10,
   "metadata": {},
   "outputs": [
    {
     "data": {
      "text/plain": [
       "pandas._libs.tslibs.period.Period"
      ]
     },
     "execution_count": 10,
     "metadata": {},
     "output_type": "execute_result"
    }
   ],
   "source": [
    "type(sea_crime['month_year'][0])"
   ]
  },
  {
   "cell_type": "code",
   "execution_count": 11,
   "metadata": {},
   "outputs": [],
   "source": [
    "sea_crime['month_year'] = sea_crime['month_year'].astype(str)\n",
    "sea_crime['month_year'] = pd.to_datetime(sea_crime['month_year'], format='%Y-%m')\n"
   ]
  },
  {
   "cell_type": "code",
   "execution_count": 12,
   "metadata": {},
   "outputs": [
    {
     "data": {
      "text/html": [
       "<div>\n",
       "<style scoped>\n",
       "    .dataframe tbody tr th:only-of-type {\n",
       "        vertical-align: middle;\n",
       "    }\n",
       "\n",
       "    .dataframe tbody tr th {\n",
       "        vertical-align: top;\n",
       "    }\n",
       "\n",
       "    .dataframe thead th {\n",
       "        text-align: right;\n",
       "    }\n",
       "</style>\n",
       "<table border=\"1\" class=\"dataframe\">\n",
       "  <thead>\n",
       "    <tr style=\"text-align: right;\">\n",
       "      <th></th>\n",
       "      <th>Primary Offense Description</th>\n",
       "      <th>Neighborhood</th>\n",
       "      <th>date_occurred</th>\n",
       "      <th>offense_category</th>\n",
       "      <th>month_year</th>\n",
       "    </tr>\n",
       "  </thead>\n",
       "  <tbody>\n",
       "    <tr>\n",
       "      <th>0</th>\n",
       "      <td>BURGLARY-FORCE-RES</td>\n",
       "      <td>LAKEWOOD/SEWARD PARK</td>\n",
       "      <td>1975-12-16</td>\n",
       "      <td>burglary</td>\n",
       "      <td>1975-12-01</td>\n",
       "    </tr>\n",
       "    <tr>\n",
       "      <th>1</th>\n",
       "      <td>SEXOFF-INDECENT LIBERTIES</td>\n",
       "      <td>UNKNOWN</td>\n",
       "      <td>1976-01-01</td>\n",
       "      <td>pub disorder</td>\n",
       "      <td>1976-01-01</td>\n",
       "    </tr>\n",
       "    <tr>\n",
       "      <th>2</th>\n",
       "      <td>THEFT-CARPROWL</td>\n",
       "      <td>CENTRAL AREA/SQUIRE PARK</td>\n",
       "      <td>1979-01-28</td>\n",
       "      <td>larceny</td>\n",
       "      <td>1979-01-01</td>\n",
       "    </tr>\n",
       "    <tr>\n",
       "      <th>3</th>\n",
       "      <td>HOMICIDE-PREMEDITATED-WEAPON</td>\n",
       "      <td>BRIGHTON/DUNLAP</td>\n",
       "      <td>1981-08-22</td>\n",
       "      <td>murder</td>\n",
       "      <td>1981-08-01</td>\n",
       "    </tr>\n",
       "    <tr>\n",
       "      <th>4</th>\n",
       "      <td>BURGLARY-FORCE-RES</td>\n",
       "      <td>ROXHILL/WESTWOOD/ARBOR HEIGHTS</td>\n",
       "      <td>1981-02-14</td>\n",
       "      <td>burglary</td>\n",
       "      <td>1981-02-01</td>\n",
       "    </tr>\n",
       "  </tbody>\n",
       "</table>\n",
       "</div>"
      ],
      "text/plain": [
       "    Primary Offense Description                    Neighborhood date_occurred  \\\n",
       "0            BURGLARY-FORCE-RES            LAKEWOOD/SEWARD PARK    1975-12-16   \n",
       "1     SEXOFF-INDECENT LIBERTIES                         UNKNOWN    1976-01-01   \n",
       "2                THEFT-CARPROWL        CENTRAL AREA/SQUIRE PARK    1979-01-28   \n",
       "3  HOMICIDE-PREMEDITATED-WEAPON                 BRIGHTON/DUNLAP    1981-08-22   \n",
       "4            BURGLARY-FORCE-RES  ROXHILL/WESTWOOD/ARBOR HEIGHTS    1981-02-14   \n",
       "\n",
       "  offense_category month_year  \n",
       "0         burglary 1975-12-01  \n",
       "1     pub disorder 1976-01-01  \n",
       "2          larceny 1979-01-01  \n",
       "3           murder 1981-08-01  \n",
       "4         burglary 1981-02-01  "
      ]
     },
     "execution_count": 12,
     "metadata": {},
     "output_type": "execute_result"
    }
   ],
   "source": [
    "sea_crime.head()"
   ]
  },
  {
   "cell_type": "code",
   "execution_count": 13,
   "metadata": {},
   "outputs": [
    {
     "data": {
      "text/plain": [
       "pandas._libs.tslibs.timestamps.Timestamp"
      ]
     },
     "execution_count": 13,
     "metadata": {},
     "output_type": "execute_result"
    }
   ],
   "source": [
    "type(sea_crime['month_year'][0])"
   ]
  },
  {
   "cell_type": "code",
   "execution_count": 14,
   "metadata": {},
   "outputs": [],
   "source": [
    "sea_crime = sea_crime.loc[sea_crime['month_year'] >= '2010-01-01']\n"
   ]
  },
  {
   "cell_type": "code",
   "execution_count": 20,
   "metadata": {},
   "outputs": [],
   "source": [
    "sea_crime = sea_crime[sea_crime['month_year'] < '2018-01-01']"
   ]
  },
  {
   "cell_type": "code",
   "execution_count": 21,
   "metadata": {},
   "outputs": [],
   "source": [
    "sea_crime['year'] = sea_crime['month_year'].dt.year"
   ]
  },
  {
   "cell_type": "code",
   "execution_count": 22,
   "metadata": {
    "scrolled": true
   },
   "outputs": [
    {
     "data": {
      "text/plain": [
       "array(['drug-alc', 'larceny', 'robbery', 'other', 'burglary',\n",
       "       'auto-theft', 'pub disorder', 'child', 'agg assault', 'murder',\n",
       "       'white collar', 'sexual assault', 'arson',\n",
       "       'other crimes against persons'], dtype=object)"
      ]
     },
     "execution_count": 22,
     "metadata": {},
     "output_type": "execute_result"
    }
   ],
   "source": [
    "sea_crime['offense_category'].unique()"
   ]
  },
  {
   "cell_type": "code",
   "execution_count": 23,
   "metadata": {},
   "outputs": [],
   "source": [
    "sea_other = sea_crime.loc[sea_crime['offense_category'] == 'other']\n",
    "# sea_theft_from_mtr_veh = sea_crime.loc[sea_crime['offense_category'] == 'theft from motor vehicle']\n",
    "sea_other_crimes_agnst_per = sea_crime.loc[sea_crime['offense_category'] == 'other crimes against persons']\n",
    "sea_drug_alc = sea_crime.loc[sea_crime['offense_category'] == 'drug-alc']\n",
    "sea_auto_theft = sea_crime.loc[sea_crime['offense_category'] == 'auto theft']\n",
    "sea_white_collar = sea_crime.loc[sea_crime['offense_category'] == 'white collar']\n",
    "sea_burglary = sea_crime.loc[sea_crime['offense_category'] == 'burglary']\n",
    "sea_agg_assault = sea_crime.loc[sea_crime['offense_category'] == 'agg assault']\n",
    "sea_pub_disorder = sea_crime.loc[sea_crime['offense_category'] == 'pub disorder']\n",
    "sea_robbery = sea_crime.loc[sea_crime['offense_category'] == 'robbery']\n",
    "sea_arson = sea_crime.loc[sea_crime['offense_category'] == 'arson']\n",
    "sea_sex_asslt = sea_crime.loc[sea_crime['offense_category'] == 'sexual assault']\n",
    "sea_murder = sea_crime.loc[sea_crime['offense_category'] == 'murder']\n",
    "sea_larceny = sea_crime.loc[sea_crime['offense_category'] == 'larceny']\n",
    "sea_child = sea_crime.loc[sea_crime['offense_category'] == 'child']\n"
   ]
  },
  {
   "cell_type": "code",
   "execution_count": 24,
   "metadata": {},
   "outputs": [],
   "source": [
    "arson_months = sea_arson['month_year'].unique()\n",
    "arson_months.sort()"
   ]
  },
  {
   "cell_type": "code",
   "execution_count": 25,
   "metadata": {},
   "outputs": [
    {
     "data": {
      "text/plain": [
       "array(['2010-01-01T00:00:00.000000000', '2010-02-01T00:00:00.000000000',\n",
       "       '2010-03-01T00:00:00.000000000', '2010-04-01T00:00:00.000000000',\n",
       "       '2010-05-01T00:00:00.000000000', '2010-06-01T00:00:00.000000000',\n",
       "       '2010-07-01T00:00:00.000000000', '2010-08-01T00:00:00.000000000',\n",
       "       '2010-09-01T00:00:00.000000000', '2010-10-01T00:00:00.000000000',\n",
       "       '2010-11-01T00:00:00.000000000', '2010-12-01T00:00:00.000000000',\n",
       "       '2011-01-01T00:00:00.000000000', '2011-02-01T00:00:00.000000000',\n",
       "       '2011-03-01T00:00:00.000000000', '2011-04-01T00:00:00.000000000',\n",
       "       '2011-05-01T00:00:00.000000000', '2011-06-01T00:00:00.000000000',\n",
       "       '2011-07-01T00:00:00.000000000', '2011-08-01T00:00:00.000000000',\n",
       "       '2011-09-01T00:00:00.000000000', '2011-10-01T00:00:00.000000000',\n",
       "       '2011-11-01T00:00:00.000000000', '2011-12-01T00:00:00.000000000',\n",
       "       '2012-01-01T00:00:00.000000000', '2012-02-01T00:00:00.000000000',\n",
       "       '2012-03-01T00:00:00.000000000', '2012-04-01T00:00:00.000000000',\n",
       "       '2012-05-01T00:00:00.000000000', '2012-06-01T00:00:00.000000000',\n",
       "       '2012-07-01T00:00:00.000000000', '2012-08-01T00:00:00.000000000',\n",
       "       '2012-09-01T00:00:00.000000000', '2012-10-01T00:00:00.000000000',\n",
       "       '2012-11-01T00:00:00.000000000', '2012-12-01T00:00:00.000000000',\n",
       "       '2013-01-01T00:00:00.000000000', '2013-02-01T00:00:00.000000000',\n",
       "       '2013-03-01T00:00:00.000000000', '2013-04-01T00:00:00.000000000',\n",
       "       '2013-05-01T00:00:00.000000000', '2013-06-01T00:00:00.000000000',\n",
       "       '2013-07-01T00:00:00.000000000', '2013-08-01T00:00:00.000000000',\n",
       "       '2013-09-01T00:00:00.000000000', '2013-10-01T00:00:00.000000000',\n",
       "       '2013-11-01T00:00:00.000000000', '2013-12-01T00:00:00.000000000',\n",
       "       '2014-01-01T00:00:00.000000000', '2014-02-01T00:00:00.000000000',\n",
       "       '2014-03-01T00:00:00.000000000', '2014-04-01T00:00:00.000000000',\n",
       "       '2014-05-01T00:00:00.000000000', '2014-06-01T00:00:00.000000000',\n",
       "       '2014-07-01T00:00:00.000000000', '2014-08-01T00:00:00.000000000',\n",
       "       '2014-09-01T00:00:00.000000000', '2014-10-01T00:00:00.000000000',\n",
       "       '2014-11-01T00:00:00.000000000', '2014-12-01T00:00:00.000000000',\n",
       "       '2015-01-01T00:00:00.000000000', '2015-02-01T00:00:00.000000000',\n",
       "       '2015-03-01T00:00:00.000000000', '2015-04-01T00:00:00.000000000',\n",
       "       '2015-05-01T00:00:00.000000000', '2015-06-01T00:00:00.000000000',\n",
       "       '2015-07-01T00:00:00.000000000', '2015-08-01T00:00:00.000000000',\n",
       "       '2015-09-01T00:00:00.000000000', '2015-10-01T00:00:00.000000000',\n",
       "       '2015-11-01T00:00:00.000000000', '2015-12-01T00:00:00.000000000',\n",
       "       '2016-01-01T00:00:00.000000000', '2016-02-01T00:00:00.000000000',\n",
       "       '2016-03-01T00:00:00.000000000', '2016-04-01T00:00:00.000000000',\n",
       "       '2016-05-01T00:00:00.000000000', '2016-06-01T00:00:00.000000000',\n",
       "       '2016-07-01T00:00:00.000000000', '2016-08-01T00:00:00.000000000',\n",
       "       '2016-09-01T00:00:00.000000000', '2016-10-01T00:00:00.000000000',\n",
       "       '2016-11-01T00:00:00.000000000', '2016-12-01T00:00:00.000000000',\n",
       "       '2017-01-01T00:00:00.000000000', '2017-02-01T00:00:00.000000000',\n",
       "       '2017-03-01T00:00:00.000000000', '2017-04-01T00:00:00.000000000',\n",
       "       '2017-05-01T00:00:00.000000000', '2017-06-01T00:00:00.000000000',\n",
       "       '2017-07-01T00:00:00.000000000', '2017-08-01T00:00:00.000000000',\n",
       "       '2017-09-01T00:00:00.000000000', '2017-10-01T00:00:00.000000000',\n",
       "       '2017-11-01T00:00:00.000000000', '2017-12-01T00:00:00.000000000'],\n",
       "      dtype='datetime64[ns]')"
      ]
     },
     "execution_count": 25,
     "metadata": {},
     "output_type": "execute_result"
    }
   ],
   "source": [
    "x = sea_crime['month_year'].sort_values()\n",
    "x = x.unique()\n",
    "x"
   ]
  },
  {
   "cell_type": "code",
   "execution_count": 26,
   "metadata": {},
   "outputs": [],
   "source": [
    "x_murder = sea_murder['month_year'].unique()\n",
    "x_murder.sort()"
   ]
  },
  {
   "cell_type": "markdown",
   "metadata": {},
   "source": [
    "# Primary Categories\n",
    "\n",
    "According to our basis article we'd expect to see an increase in Murder, Robbery, Larceny and maybe even Drug-Related crime, but we actually see pretty steady decrease downwards.\n",
    "\n",
    "We'll need to see how the rates for these 5 categories change from 2012 to 2013.\n",
    "\n",
    "2011 population = 622,532\n",
    "\n",
    "2012 population = 635,974\n",
    "\n",
    "2013 population = 654,176\n",
    "\n",
    "--------\n",
    "\n",
    "2011 murder/capita = 23/622,532 = 3.69 * 10^-5\n",
    "\n",
    "2012 murder/capita = 24/635,974 = 3.77 * 10^-5\n",
    "\n",
    "2013 murder/capita = 19/654,176 = 2.90 * 10^-5\n",
    "\n",
    "------------\n",
    "\n",
    "2011 robbery/capita = 1416/622,532 = 2.27 * 10^-3\n",
    "\n",
    "2012 robbery/capita = 1442/635,974 = 2.27 * 10^-3\n",
    "\n",
    "2013 robbery/capita = 1600/654,176 = 2.44 * 10^-3\n",
    "\n",
    "-------\n",
    "\n",
    "2011 burglary/capita = 6759/622,532 = 1.09 * 10^-2\n",
    "\n",
    "2012 burglary/capita = 6527/635,974 = 1.03 * 10^-2\n",
    "\n",
    "2013 burglary/capita = 7265/654,176 = 1.11 * 10^-2\n",
    "\n",
    "---------\n",
    "\n",
    "2011 larceny/capita = 21096/622,532 = 3.39 * 10^-2\n",
    "\n",
    "2012 larceny/capita = 21532/635,974 = 3.39 * 10^-2\n",
    "\n",
    "2013 larceny/capita = 24828/654,176 = 3.80 * 10^-2 \n",
    "\n",
    "--------\n",
    "\n",
    "2011 drug-alc/capita = 3094/622,532 = 5.00 * 10^-3\n",
    "\n",
    "2012 drug-alc/capita = 2812/635,974 = 4.42 * 10^-3\n",
    "\n",
    "2013 drug-alc/capita = 2459/654,176 = 3.76 * 10^-3\n",
    "\n",
    "------------------------"
   ]
  },
  {
   "cell_type": "code",
   "execution_count": 27,
   "metadata": {},
   "outputs": [],
   "source": [
    "populations = [610333,622532,635974,654176,669641,685447,707255,724745]"
   ]
  },
  {
   "cell_type": "code",
   "execution_count": 31,
   "metadata": {},
   "outputs": [],
   "source": [
    "years=[2010,2011,2012,2013,2014,2015,2016,2017]"
   ]
  },
  {
   "cell_type": "code",
   "execution_count": 133,
   "metadata": {
    "scrolled": false
   },
   "outputs": [
    {
     "data": {
      "text/plain": [
       "[<matplotlib.lines.Line2D at 0x126374d30>]"
      ]
     },
     "execution_count": 133,
     "metadata": {},
     "output_type": "execute_result"
    },
    {
     "data": {
      "image/png": "[encoded data removed]",
      "text/plain": [
       "<Figure size 432x288 with 1 Axes>"
      ]
     },
     "metadata": {},
     "output_type": "display_data"
    }
   ],
   "source": [
    "plt.title('Murder over Time in Seattle')\n",
    "plt.plot(x_murder, sea_murder['month_year'].value_counts())"
   ]
  },
  {
   "cell_type": "code",
   "execution_count": 56,
   "metadata": {},
   "outputs": [
    {
     "data": {
      "text/plain": [
       "2010    19\n",
       "2011    23\n",
       "2012    24\n",
       "2013    19\n",
       "2014    23\n",
       "2015    24\n",
       "2016    19\n",
       "2017    28\n",
       "Name: year, dtype: int64"
      ]
     },
     "execution_count": 56,
     "metadata": {},
     "output_type": "execute_result"
    }
   ],
   "source": [
    "murder_by_year = sea_murder['year'].value_counts()\n",
    "murder_by_year = murder_by_year.sort_index()\n",
    "murder_by_year"
   ]
  },
  {
   "cell_type": "code",
   "execution_count": 58,
   "metadata": {},
   "outputs": [
    {
     "data": {
      "text/html": [
       "<div>\n",
       "<style scoped>\n",
       "    .dataframe tbody tr th:only-of-type {\n",
       "        vertical-align: middle;\n",
       "    }\n",
       "\n",
       "    .dataframe tbody tr th {\n",
       "        vertical-align: top;\n",
       "    }\n",
       "\n",
       "    .dataframe thead th {\n",
       "        text-align: right;\n",
       "    }\n",
       "</style>\n",
       "<table border=\"1\" class=\"dataframe\">\n",
       "  <thead>\n",
       "    <tr style=\"text-align: right;\">\n",
       "      <th></th>\n",
       "      <th>year</th>\n",
       "      <th>population</th>\n",
       "      <th>count</th>\n",
       "      <th>rate</th>\n",
       "    </tr>\n",
       "  </thead>\n",
       "  <tbody>\n",
       "    <tr>\n",
       "      <th>0</th>\n",
       "      <td>2010</td>\n",
       "      <td>610333</td>\n",
       "      <td>19</td>\n",
       "      <td>0.000031</td>\n",
       "    </tr>\n",
       "    <tr>\n",
       "      <th>1</th>\n",
       "      <td>2011</td>\n",
       "      <td>622532</td>\n",
       "      <td>23</td>\n",
       "      <td>0.000037</td>\n",
       "    </tr>\n",
       "    <tr>\n",
       "      <th>2</th>\n",
       "      <td>2012</td>\n",
       "      <td>635974</td>\n",
       "      <td>24</td>\n",
       "      <td>0.000038</td>\n",
       "    </tr>\n",
       "    <tr>\n",
       "      <th>3</th>\n",
       "      <td>2013</td>\n",
       "      <td>654176</td>\n",
       "      <td>19</td>\n",
       "      <td>0.000029</td>\n",
       "    </tr>\n",
       "    <tr>\n",
       "      <th>4</th>\n",
       "      <td>2014</td>\n",
       "      <td>669641</td>\n",
       "      <td>23</td>\n",
       "      <td>0.000034</td>\n",
       "    </tr>\n",
       "    <tr>\n",
       "      <th>5</th>\n",
       "      <td>2015</td>\n",
       "      <td>685447</td>\n",
       "      <td>24</td>\n",
       "      <td>0.000035</td>\n",
       "    </tr>\n",
       "    <tr>\n",
       "      <th>6</th>\n",
       "      <td>2016</td>\n",
       "      <td>707255</td>\n",
       "      <td>19</td>\n",
       "      <td>0.000027</td>\n",
       "    </tr>\n",
       "    <tr>\n",
       "      <th>7</th>\n",
       "      <td>2017</td>\n",
       "      <td>724745</td>\n",
       "      <td>28</td>\n",
       "      <td>0.000039</td>\n",
       "    </tr>\n",
       "  </tbody>\n",
       "</table>\n",
       "</div>"
      ],
      "text/plain": [
       "   year  population  count      rate\n",
       "0  2010      610333     19  0.000031\n",
       "1  2011      622532     23  0.000037\n",
       "2  2012      635974     24  0.000038\n",
       "3  2013      654176     19  0.000029\n",
       "4  2014      669641     23  0.000034\n",
       "5  2015      685447     24  0.000035\n",
       "6  2016      707255     19  0.000027\n",
       "7  2017      724745     28  0.000039"
      ]
     },
     "execution_count": 58,
     "metadata": {},
     "output_type": "execute_result"
    }
   ],
   "source": [
    "yearly_murder = pd.DataFrame(years,columns=['year'])\n",
    "yearly_murder['population'] = populations\n",
    "yearly_murder['count'] = murder_by_year.values\n",
    "yearly_murder['rate'] = yearly_murder['count']/yearly_murder['population']\n",
    "yearly_murder"
   ]
  },
  {
   "cell_type": "code",
   "execution_count": 59,
   "metadata": {},
   "outputs": [
    {
     "data": {
      "text/plain": [
       "[<matplotlib.lines.Line2D at 0x1292c7b38>]"
      ]
     },
     "execution_count": 59,
     "metadata": {},
     "output_type": "execute_result"
    },
    {
     "data": {
      "image/png": "[encoded data removed]",
      "text/plain": [
       "<Figure size 432x288 with 1 Axes>"
      ]
     },
     "metadata": {
      "needs_background": "light"
     },
     "output_type": "display_data"
    }
   ],
   "source": [
    "plt.title('Seattle Murder per Capita')\n",
    "plt.plot(years,yearly_murder['rate'])"
   ]
  },
  {
   "cell_type": "code",
   "execution_count": 99,
   "metadata": {
    "scrolled": true
   },
   "outputs": [
    {
     "data": {
      "text/plain": [
       "[<matplotlib.lines.Line2D at 0x10c05bcf8>]"
      ]
     },
     "execution_count": 99,
     "metadata": {},
     "output_type": "execute_result"
    },
    {
     "data": {
      "image/png": "[encoded data removed]",
      "text/plain": [
       "<Figure size 432x288 with 1 Axes>"
      ]
     },
     "metadata": {},
     "output_type": "display_data"
    }
   ],
   "source": [
    "plt.title('Larceny over Time in Seattle')\n",
    "plt.plot(x, sea_larceny['month_year'].value_counts())"
   ]
  },
  {
   "cell_type": "code",
   "execution_count": 45,
   "metadata": {},
   "outputs": [
    {
     "data": {
      "text/plain": [
       "2010    22111\n",
       "2011    21096\n",
       "2012    21532\n",
       "2013    24828\n",
       "2014    27587\n",
       "2015    25998\n",
       "2016    26453\n",
       "2017    26164\n",
       "Name: year, dtype: int64"
      ]
     },
     "execution_count": 45,
     "metadata": {},
     "output_type": "execute_result"
    }
   ],
   "source": [
    "larceny_by_year = sea_larceny['year'].value_counts()\n",
    "larceny_by_year = larceny_by_year.sort_index()\n",
    "larceny_by_year"
   ]
  },
  {
   "cell_type": "code",
   "execution_count": 52,
   "metadata": {},
   "outputs": [
    {
     "data": {
      "text/html": [
       "<div>\n",
       "<style scoped>\n",
       "    .dataframe tbody tr th:only-of-type {\n",
       "        vertical-align: middle;\n",
       "    }\n",
       "\n",
       "    .dataframe tbody tr th {\n",
       "        vertical-align: top;\n",
       "    }\n",
       "\n",
       "    .dataframe thead th {\n",
       "        text-align: right;\n",
       "    }\n",
       "</style>\n",
       "<table border=\"1\" class=\"dataframe\">\n",
       "  <thead>\n",
       "    <tr style=\"text-align: right;\">\n",
       "      <th></th>\n",
       "      <th>year</th>\n",
       "      <th>population</th>\n",
       "      <th>count</th>\n",
       "      <th>rate</th>\n",
       "    </tr>\n",
       "  </thead>\n",
       "  <tbody>\n",
       "    <tr>\n",
       "      <th>0</th>\n",
       "      <td>2010</td>\n",
       "      <td>610333</td>\n",
       "      <td>22111</td>\n",
       "      <td>0.036228</td>\n",
       "    </tr>\n",
       "    <tr>\n",
       "      <th>1</th>\n",
       "      <td>2011</td>\n",
       "      <td>622532</td>\n",
       "      <td>21096</td>\n",
       "      <td>0.033887</td>\n",
       "    </tr>\n",
       "    <tr>\n",
       "      <th>2</th>\n",
       "      <td>2012</td>\n",
       "      <td>635974</td>\n",
       "      <td>21532</td>\n",
       "      <td>0.033857</td>\n",
       "    </tr>\n",
       "    <tr>\n",
       "      <th>3</th>\n",
       "      <td>2013</td>\n",
       "      <td>654176</td>\n",
       "      <td>24828</td>\n",
       "      <td>0.037953</td>\n",
       "    </tr>\n",
       "    <tr>\n",
       "      <th>4</th>\n",
       "      <td>2014</td>\n",
       "      <td>669641</td>\n",
       "      <td>27587</td>\n",
       "      <td>0.041197</td>\n",
       "    </tr>\n",
       "    <tr>\n",
       "      <th>5</th>\n",
       "      <td>2015</td>\n",
       "      <td>685447</td>\n",
       "      <td>25998</td>\n",
       "      <td>0.037929</td>\n",
       "    </tr>\n",
       "    <tr>\n",
       "      <th>6</th>\n",
       "      <td>2016</td>\n",
       "      <td>707255</td>\n",
       "      <td>26453</td>\n",
       "      <td>0.037402</td>\n",
       "    </tr>\n",
       "    <tr>\n",
       "      <th>7</th>\n",
       "      <td>2017</td>\n",
       "      <td>724745</td>\n",
       "      <td>26164</td>\n",
       "      <td>0.036101</td>\n",
       "    </tr>\n",
       "  </tbody>\n",
       "</table>\n",
       "</div>"
      ],
      "text/plain": [
       "   year  population  count      rate\n",
       "0  2010      610333  22111  0.036228\n",
       "1  2011      622532  21096  0.033887\n",
       "2  2012      635974  21532  0.033857\n",
       "3  2013      654176  24828  0.037953\n",
       "4  2014      669641  27587  0.041197\n",
       "5  2015      685447  25998  0.037929\n",
       "6  2016      707255  26453  0.037402\n",
       "7  2017      724745  26164  0.036101"
      ]
     },
     "execution_count": 52,
     "metadata": {},
     "output_type": "execute_result"
    }
   ],
   "source": [
    "yearly_larceny = pd.DataFrame(years,columns=['year'])\n",
    "yearly_larceny['population'] = populations\n",
    "yearly_larceny['count'] = larceny_by_year.values\n",
    "yearly_larceny['rate'] = yearly_larceny['count']/yearly_larceny['population']\n",
    "yearly_larceny"
   ]
  },
  {
   "cell_type": "code",
   "execution_count": 55,
   "metadata": {},
   "outputs": [
    {
     "data": {
      "text/plain": [
       "[<matplotlib.lines.Line2D at 0x12925c630>]"
      ]
     },
     "execution_count": 55,
     "metadata": {},
     "output_type": "execute_result"
    },
    {
     "data": {
      "image/png": "[encoded data removed]",
      "text/plain": [
       "<Figure size 432x288 with 1 Axes>"
      ]
     },
     "metadata": {
      "needs_background": "light"
     },
     "output_type": "display_data"
    }
   ],
   "source": [
    "plt.title('Seattle Larceny per Capita')\n",
    "plt.plot(years,yearly_larceny['rate'])"
   ]
  },
  {
   "cell_type": "code",
   "execution_count": null,
   "metadata": {},
   "outputs": [],
   "source": []
  },
  {
   "cell_type": "code",
   "execution_count": null,
   "metadata": {},
   "outputs": [],
   "source": []
  },
  {
   "cell_type": "code",
   "execution_count": 39,
   "metadata": {},
   "outputs": [
    {
     "name": "stderr",
     "output_type": "stream",
     "text": [
      "/Users/ajfong/anaconda3/lib/python3.6/site-packages/pandas/plotting/_converter.py:129: FutureWarning: Using an implicitly registered datetime converter for a matplotlib plotting method. The converter was registered by pandas on import. Future versions of pandas will require you to explicitly register matplotlib converters.\n",
      "\n",
      "To register the converters:\n",
      "\t>>> from pandas.plotting import register_matplotlib_converters\n",
      "\t>>> register_matplotlib_converters()\n",
      "  warnings.warn(msg, FutureWarning)\n"
     ]
    },
    {
     "data": {
      "text/plain": [
       "[<matplotlib.lines.Line2D at 0x128cf1710>]"
      ]
     },
     "execution_count": 39,
     "metadata": {},
     "output_type": "execute_result"
    },
    {
     "data": {
      "image/png": "[encoded data removed]",
      "text/plain": [
       "<Figure size 432x288 with 1 Axes>"
      ]
     },
     "metadata": {
      "needs_background": "light"
     },
     "output_type": "display_data"
    }
   ],
   "source": [
    "plt.title('Robbery Crime over Time in Seattle')\n",
    "\n",
    "plt.plot(x,sea_robbery['month_year'].value_counts())"
   ]
  },
  {
   "cell_type": "code",
   "execution_count": 41,
   "metadata": {},
   "outputs": [
    {
     "data": {
      "text/plain": [
       "2010    1421\n",
       "2011    1416\n",
       "2012    1442\n",
       "2013    1600\n",
       "2014    1569\n",
       "2015    1543\n",
       "2016    1552\n",
       "2017    1537\n",
       "Name: year, dtype: int64"
      ]
     },
     "execution_count": 41,
     "metadata": {},
     "output_type": "execute_result"
    }
   ],
   "source": [
    "sea_robbery_by_year = sea_robbery['year'].value_counts()\n",
    "sea_robbery_by_year = sea_robbery_by_year.sort_index()\n",
    "sea_robbery_by_year"
   ]
  },
  {
   "cell_type": "code",
   "execution_count": 42,
   "metadata": {},
   "outputs": [],
   "source": [
    "yearly_robbery = pd.DataFrame(years,columns=['year'])\n",
    "yearly_robbery['population'] = populations\n",
    "yearly_robbery['count'] = sea_robbery_by_year.values\n",
    "yearly_robbery['rate'] = yearly_robbery['count']/yearly_robbery['population']"
   ]
  },
  {
   "cell_type": "code",
   "execution_count": 43,
   "metadata": {},
   "outputs": [
    {
     "data": {
      "text/plain": [
       "[<matplotlib.lines.Line2D at 0x128e60a20>]"
      ]
     },
     "execution_count": 43,
     "metadata": {},
     "output_type": "execute_result"
    },
    {
     "data": {
      "image/png": "[encoded data removed]",
      "text/plain": [
       "<Figure size 432x288 with 1 Axes>"
      ]
     },
     "metadata": {
      "needs_background": "light"
     },
     "output_type": "display_data"
    }
   ],
   "source": [
    "plt.title('Seattle Robbery per Capita')\n",
    "plt.plot(years,yearly_robbery['rate'])"
   ]
  },
  {
   "cell_type": "code",
   "execution_count": null,
   "metadata": {},
   "outputs": [],
   "source": []
  },
  {
   "cell_type": "code",
   "execution_count": null,
   "metadata": {},
   "outputs": [],
   "source": []
  },
  {
   "cell_type": "code",
   "execution_count": 95,
   "metadata": {
    "scrolled": true
   },
   "outputs": [
    {
     "data": {
      "text/plain": [
       "[<matplotlib.lines.Line2D at 0x125a339b0>]"
      ]
     },
     "execution_count": 95,
     "metadata": {},
     "output_type": "execute_result"
    },
    {
     "data": {
      "image/png": "[encoded data removed]",
      "text/plain": [
       "<Figure size 432x288 with 1 Axes>"
      ]
     },
     "metadata": {},
     "output_type": "display_data"
    }
   ],
   "source": [
    "plt.title('Drug and Alcohol Crime over Time in Seattle')\n",
    "\n",
    "plt.plot(x,sea_drug_alc['month_year'].value_counts())"
   ]
  },
  {
   "cell_type": "code",
   "execution_count": 35,
   "metadata": {
    "scrolled": true
   },
   "outputs": [
    {
     "data": {
      "text/plain": [
       "2010    3647\n",
       "2011    3094\n",
       "2012    2812\n",
       "2013    2459\n",
       "2014    1915\n",
       "2015    2141\n",
       "2016    2247\n",
       "2017    2655\n",
       "Name: year, dtype: int64"
      ]
     },
     "execution_count": 35,
     "metadata": {},
     "output_type": "execute_result"
    }
   ],
   "source": [
    "drug_alc_by_year = sea_drug_alc['year'].value_counts()\n",
    "drug_alc_by_year = drug_alc_by_year.sort_index()\n",
    "drug_alc_by_year"
   ]
  },
  {
   "cell_type": "code",
   "execution_count": 36,
   "metadata": {},
   "outputs": [
    {
     "data": {
      "text/html": [
       "<div>\n",
       "<style scoped>\n",
       "    .dataframe tbody tr th:only-of-type {\n",
       "        vertical-align: middle;\n",
       "    }\n",
       "\n",
       "    .dataframe tbody tr th {\n",
       "        vertical-align: top;\n",
       "    }\n",
       "\n",
       "    .dataframe thead th {\n",
       "        text-align: right;\n",
       "    }\n",
       "</style>\n",
       "<table border=\"1\" class=\"dataframe\">\n",
       "  <thead>\n",
       "    <tr style=\"text-align: right;\">\n",
       "      <th></th>\n",
       "      <th>year</th>\n",
       "      <th>population</th>\n",
       "      <th>count</th>\n",
       "      <th>rate</th>\n",
       "    </tr>\n",
       "  </thead>\n",
       "  <tbody>\n",
       "    <tr>\n",
       "      <th>0</th>\n",
       "      <td>2010</td>\n",
       "      <td>610333</td>\n",
       "      <td>3647</td>\n",
       "      <td>0.005975</td>\n",
       "    </tr>\n",
       "    <tr>\n",
       "      <th>1</th>\n",
       "      <td>2011</td>\n",
       "      <td>622532</td>\n",
       "      <td>3094</td>\n",
       "      <td>0.004970</td>\n",
       "    </tr>\n",
       "    <tr>\n",
       "      <th>2</th>\n",
       "      <td>2012</td>\n",
       "      <td>635974</td>\n",
       "      <td>2812</td>\n",
       "      <td>0.004422</td>\n",
       "    </tr>\n",
       "    <tr>\n",
       "      <th>3</th>\n",
       "      <td>2013</td>\n",
       "      <td>654176</td>\n",
       "      <td>2459</td>\n",
       "      <td>0.003759</td>\n",
       "    </tr>\n",
       "    <tr>\n",
       "      <th>4</th>\n",
       "      <td>2014</td>\n",
       "      <td>669641</td>\n",
       "      <td>1915</td>\n",
       "      <td>0.002860</td>\n",
       "    </tr>\n",
       "    <tr>\n",
       "      <th>5</th>\n",
       "      <td>2015</td>\n",
       "      <td>685447</td>\n",
       "      <td>2141</td>\n",
       "      <td>0.003124</td>\n",
       "    </tr>\n",
       "    <tr>\n",
       "      <th>6</th>\n",
       "      <td>2016</td>\n",
       "      <td>707255</td>\n",
       "      <td>2247</td>\n",
       "      <td>0.003177</td>\n",
       "    </tr>\n",
       "    <tr>\n",
       "      <th>7</th>\n",
       "      <td>2017</td>\n",
       "      <td>724745</td>\n",
       "      <td>2655</td>\n",
       "      <td>0.003663</td>\n",
       "    </tr>\n",
       "  </tbody>\n",
       "</table>\n",
       "</div>"
      ],
      "text/plain": [
       "   year  population  count      rate\n",
       "0  2010      610333   3647  0.005975\n",
       "1  2011      622532   3094  0.004970\n",
       "2  2012      635974   2812  0.004422\n",
       "3  2013      654176   2459  0.003759\n",
       "4  2014      669641   1915  0.002860\n",
       "5  2015      685447   2141  0.003124\n",
       "6  2016      707255   2247  0.003177\n",
       "7  2017      724745   2655  0.003663"
      ]
     },
     "execution_count": 36,
     "metadata": {},
     "output_type": "execute_result"
    }
   ],
   "source": [
    "yearly_drug_alc = pd.DataFrame(years,columns=['year'])\n",
    "yearly_drug_alc['population'] = populations\n",
    "yearly_drug_alc['count'] = drug_alc_by_year.values\n",
    "yearly_drug_alc['rate'] = yearly_drug_alc['count']/yearly_drug_alc['population']\n",
    "yearly_drug_alc"
   ]
  },
  {
   "cell_type": "code",
   "execution_count": 37,
   "metadata": {
    "scrolled": true
   },
   "outputs": [
    {
     "data": {
      "text/plain": [
       "[<matplotlib.lines.Line2D at 0x128d10ef0>]"
      ]
     },
     "execution_count": 37,
     "metadata": {},
     "output_type": "execute_result"
    },
    {
     "data": {
      "image/png": "[encoded data removed]",
      "text/plain": [
       "<Figure size 432x288 with 1 Axes>"
      ]
     },
     "metadata": {
      "needs_background": "light"
     },
     "output_type": "display_data"
    }
   ],
   "source": [
    "plt.title('Seattle Drug and Alcohol Crime per Capita')\n",
    "plt.plot(yearly_drug_alc['year'],yearly_drug_alc['rate'])"
   ]
  },
  {
   "cell_type": "code",
   "execution_count": null,
   "metadata": {},
   "outputs": [],
   "source": []
  },
  {
   "cell_type": "code",
   "execution_count": null,
   "metadata": {},
   "outputs": [],
   "source": []
  },
  {
   "cell_type": "code",
   "execution_count": null,
   "metadata": {},
   "outputs": [],
   "source": []
  },
  {
   "cell_type": "code",
   "execution_count": null,
   "metadata": {},
   "outputs": [],
   "source": []
  },
  {
   "cell_type": "code",
   "execution_count": null,
   "metadata": {},
   "outputs": [],
   "source": []
  },
  {
   "cell_type": "code",
   "execution_count": 115,
   "metadata": {
    "scrolled": false
   },
   "outputs": [
    {
     "data": {
      "text/plain": [
       "[<matplotlib.lines.Line2D at 0x1101f5438>]"
      ]
     },
     "execution_count": 115,
     "metadata": {},
     "output_type": "execute_result"
    },
    {
     "data": {
      "image/png": "[encoded data removed]",
      "text/plain": [
       "<Figure size 432x288 with 1 Axes>"
      ]
     },
     "metadata": {},
     "output_type": "display_data"
    }
   ],
   "source": [
    "plt.title('Burglary in Seattle')\n",
    "plt.plot(x,sea_burglary['month_year'].value_counts())"
   ]
  },
  {
   "cell_type": "code",
   "execution_count": 29,
   "metadata": {
    "scrolled": true
   },
   "outputs": [
    {
     "data": {
      "text/plain": [
       "2010    6414\n",
       "2011    6759\n",
       "2012    6527\n",
       "2013    7265\n",
       "2014    7109\n",
       "2015    7553\n",
       "2016    7518\n",
       "2017    7742\n",
       "Name: year, dtype: int64"
      ]
     },
     "execution_count": 29,
     "metadata": {},
     "output_type": "execute_result"
    }
   ],
   "source": [
    "burglary_by_year = sea_burglary['year'].value_counts()\n",
    "burglary_by_year = burglary_by_year.sort_index()\n",
    "burglary_by_year"
   ]
  },
  {
   "cell_type": "code",
   "execution_count": 32,
   "metadata": {},
   "outputs": [],
   "source": [
    "yearly_burglary = pd.DataFrame(years,columns=['year'])"
   ]
  },
  {
   "cell_type": "code",
   "execution_count": 33,
   "metadata": {},
   "outputs": [
    {
     "data": {
      "text/html": [
       "<div>\n",
       "<style scoped>\n",
       "    .dataframe tbody tr th:only-of-type {\n",
       "        vertical-align: middle;\n",
       "    }\n",
       "\n",
       "    .dataframe tbody tr th {\n",
       "        vertical-align: top;\n",
       "    }\n",
       "\n",
       "    .dataframe thead th {\n",
       "        text-align: right;\n",
       "    }\n",
       "</style>\n",
       "<table border=\"1\" class=\"dataframe\">\n",
       "  <thead>\n",
       "    <tr style=\"text-align: right;\">\n",
       "      <th></th>\n",
       "      <th>year</th>\n",
       "      <th>population</th>\n",
       "      <th>count</th>\n",
       "      <th>burglary rate</th>\n",
       "    </tr>\n",
       "  </thead>\n",
       "  <tbody>\n",
       "    <tr>\n",
       "      <th>0</th>\n",
       "      <td>2010</td>\n",
       "      <td>610333</td>\n",
       "      <td>6414</td>\n",
       "      <td>0.010509</td>\n",
       "    </tr>\n",
       "    <tr>\n",
       "      <th>1</th>\n",
       "      <td>2011</td>\n",
       "      <td>622532</td>\n",
       "      <td>6759</td>\n",
       "      <td>0.010857</td>\n",
       "    </tr>\n",
       "    <tr>\n",
       "      <th>2</th>\n",
       "      <td>2012</td>\n",
       "      <td>635974</td>\n",
       "      <td>6527</td>\n",
       "      <td>0.010263</td>\n",
       "    </tr>\n",
       "    <tr>\n",
       "      <th>3</th>\n",
       "      <td>2013</td>\n",
       "      <td>654176</td>\n",
       "      <td>7265</td>\n",
       "      <td>0.011106</td>\n",
       "    </tr>\n",
       "    <tr>\n",
       "      <th>4</th>\n",
       "      <td>2014</td>\n",
       "      <td>669641</td>\n",
       "      <td>7109</td>\n",
       "      <td>0.010616</td>\n",
       "    </tr>\n",
       "    <tr>\n",
       "      <th>5</th>\n",
       "      <td>2015</td>\n",
       "      <td>685447</td>\n",
       "      <td>7553</td>\n",
       "      <td>0.011019</td>\n",
       "    </tr>\n",
       "    <tr>\n",
       "      <th>6</th>\n",
       "      <td>2016</td>\n",
       "      <td>707255</td>\n",
       "      <td>7518</td>\n",
       "      <td>0.010630</td>\n",
       "    </tr>\n",
       "    <tr>\n",
       "      <th>7</th>\n",
       "      <td>2017</td>\n",
       "      <td>724745</td>\n",
       "      <td>7742</td>\n",
       "      <td>0.010682</td>\n",
       "    </tr>\n",
       "  </tbody>\n",
       "</table>\n",
       "</div>"
      ],
      "text/plain": [
       "   year  population  count  burglary rate\n",
       "0  2010      610333   6414       0.010509\n",
       "1  2011      622532   6759       0.010857\n",
       "2  2012      635974   6527       0.010263\n",
       "3  2013      654176   7265       0.011106\n",
       "4  2014      669641   7109       0.010616\n",
       "5  2015      685447   7553       0.011019\n",
       "6  2016      707255   7518       0.010630\n",
       "7  2017      724745   7742       0.010682"
      ]
     },
     "execution_count": 33,
     "metadata": {},
     "output_type": "execute_result"
    }
   ],
   "source": [
    "yearly_burglary['population'] = populations\n",
    "yearly_burglary['count'] = burglary_by_year.values\n",
    "yearly_burglary['burglary rate'] = yearly_burglary['count']/yearly_burglary['population']\n",
    "yearly_burglary"
   ]
  },
  {
   "cell_type": "code",
   "execution_count": 34,
   "metadata": {},
   "outputs": [
    {
     "data": {
      "text/plain": [
       "[<matplotlib.lines.Line2D at 0x118c402b0>]"
      ]
     },
     "execution_count": 34,
     "metadata": {},
     "output_type": "execute_result"
    },
    {
     "data": {
      "image/png": "[encoded data removed]",
      "text/plain": [
       "<Figure size 432x288 with 1 Axes>"
      ]
     },
     "metadata": {
      "needs_background": "light"
     },
     "output_type": "display_data"
    }
   ],
   "source": [
    "plt.title('Seattle Burglary per Capita')\n",
    "plt.plot(years,yearly_burglary['burglary rate'])"
   ]
  },
  {
   "cell_type": "code",
   "execution_count": null,
   "metadata": {},
   "outputs": [],
   "source": []
  },
  {
   "cell_type": "code",
   "execution_count": null,
   "metadata": {},
   "outputs": [],
   "source": []
  },
  {
   "cell_type": "code",
   "execution_count": null,
   "metadata": {},
   "outputs": [],
   "source": []
  },
  {
   "cell_type": "markdown",
   "metadata": {},
   "source": [
    "# Other Categories"
   ]
  },
  {
   "cell_type": "code",
   "execution_count": 116,
   "metadata": {},
   "outputs": [
    {
     "data": {
      "text/plain": [
       "[<matplotlib.lines.Line2D at 0x11651a9b0>]"
      ]
     },
     "execution_count": 116,
     "metadata": {},
     "output_type": "execute_result"
    },
    {
     "data": {
      "image/png": "[encoded data removed]",
      "text/plain": [
       "<Figure size 432x288 with 1 Axes>"
      ]
     },
     "metadata": {},
     "output_type": "display_data"
    }
   ],
   "source": [
    "plt.title('Aggravated Assault in Seattle')\n",
    "plt.plot(x, sea_agg_assault['month_year'].value_counts())"
   ]
  },
  {
   "cell_type": "code",
   "execution_count": 118,
   "metadata": {},
   "outputs": [],
   "source": [
    "x_sex_asslt = sea_sex_asslt['month_year'].unique()\n",
    "x_sex_asslt.sort()"
   ]
  },
  {
   "cell_type": "code",
   "execution_count": 120,
   "metadata": {},
   "outputs": [
    {
     "data": {
      "text/plain": [
       "[<matplotlib.lines.Line2D at 0x11209ab70>]"
      ]
     },
     "execution_count": 120,
     "metadata": {},
     "output_type": "execute_result"
    },
    {
     "data": {
      "image/png": "[encoded data removed]",
      "text/plain": [
       "<Figure size 432x288 with 1 Axes>"
      ]
     },
     "metadata": {},
     "output_type": "display_data"
    }
   ],
   "source": [
    "plt.title('Sexual Assault in Seattle')\n",
    "plt.plot(x_sex_asslt, sea_sex_asslt['month_year'].value_counts())"
   ]
  },
  {
   "cell_type": "code",
   "execution_count": 96,
   "metadata": {},
   "outputs": [],
   "source": [
    "x_white_collar = sea_white_collar['month_year'].unique()\n",
    "x_white_collar.sort()"
   ]
  },
  {
   "cell_type": "code",
   "execution_count": 71,
   "metadata": {},
   "outputs": [
    {
     "data": {
      "text/plain": [
       "[<matplotlib.lines.Line2D at 0x1251af4a8>]"
      ]
     },
     "execution_count": 71,
     "metadata": {},
     "output_type": "execute_result"
    },
    {
     "data": {
      "image/png": "[encoded data removed]",
      "text/plain": [
       "<Figure size 432x288 with 1 Axes>"
      ]
     },
     "metadata": {},
     "output_type": "display_data"
    }
   ],
   "source": [
    "plt.title('White Collar Crime over Time in Seattle')\n",
    "\n",
    "plt.plot(x_white_collar,sea_white_collar['month_year'].value_counts())\n"
   ]
  },
  {
   "cell_type": "code",
   "execution_count": 97,
   "metadata": {},
   "outputs": [
    {
     "data": {
      "text/plain": [
       "[<matplotlib.lines.Line2D at 0x10fc28978>]"
      ]
     },
     "execution_count": 97,
     "metadata": {},
     "output_type": "execute_result"
    },
    {
     "data": {
      "image/png": "[encoded data removed]",
      "text/plain": [
       "<Figure size 432x288 with 1 Axes>"
      ]
     },
     "metadata": {},
     "output_type": "display_data"
    }
   ],
   "source": [
    "plt.title('Public Disorder over Time in Seattle')\n",
    "\n",
    "plt.plot(x,sea_pub_disorder['month_year'].value_counts())\n"
   ]
  },
  {
   "cell_type": "code",
   "execution_count": 104,
   "metadata": {
    "scrolled": true
   },
   "outputs": [
    {
     "data": {
      "text/plain": [
       "[<matplotlib.lines.Line2D at 0x115da2278>]"
      ]
     },
     "execution_count": 104,
     "metadata": {},
     "output_type": "execute_result"
    },
    {
     "data": {
      "image/png": "[encoded data removed]",
      "text/plain": [
       "<Figure size 432x288 with 1 Axes>"
      ]
     },
     "metadata": {},
     "output_type": "display_data"
    }
   ],
   "source": [
    "plt.title('Other Types of Crime over Time in Seattle')\n",
    "plt.plot(x, sea_other['month_year'].value_counts())"
   ]
  },
  {
   "cell_type": "code",
   "execution_count": 130,
   "metadata": {},
   "outputs": [
    {
     "data": {
      "text/plain": [
       "2010-01-01     99\n",
       "2010-02-01    110\n",
       "2010-03-01    129\n",
       "2010-04-01    115\n",
       "2010-05-01    110\n",
       "2010-06-01    121\n",
       "2010-07-01    130\n",
       "2010-08-01    104\n",
       "2010-09-01    129\n",
       "2010-10-01    131\n",
       "2010-11-01    113\n",
       "2010-12-01     91\n",
       "2011-01-01    114\n",
       "2011-02-01     92\n",
       "2011-03-01     72\n",
       "2011-04-01    100\n",
       "2011-05-01     83\n",
       "2011-06-01     96\n",
       "2011-07-01     72\n",
       "2011-08-01    102\n",
       "2011-09-01    108\n",
       "2011-10-01    107\n",
       "2011-11-01     84\n",
       "2011-12-01     93\n",
       "2012-01-01     87\n",
       "2012-02-01     87\n",
       "2012-03-01     89\n",
       "2012-04-01    105\n",
       "2012-05-01     77\n",
       "2012-06-01     76\n",
       "             ... \n",
       "2016-10-01    250\n",
       "2016-11-01    218\n",
       "2016-12-01    209\n",
       "2017-01-01    269\n",
       "2017-02-01    242\n",
       "2017-03-01    343\n",
       "2017-04-01    297\n",
       "2017-05-01    310\n",
       "2017-06-01    274\n",
       "2017-07-01    281\n",
       "2017-08-01    332\n",
       "2017-09-01    299\n",
       "2017-10-01    325\n",
       "2017-11-01    312\n",
       "2017-12-01    313\n",
       "2018-01-01    351\n",
       "2018-02-01    335\n",
       "2018-03-01    300\n",
       "2018-04-01    348\n",
       "2018-05-01    323\n",
       "2018-06-01    332\n",
       "2018-07-01    355\n",
       "2018-08-01    323\n",
       "2018-09-01    324\n",
       "2018-10-01    316\n",
       "2018-11-01    332\n",
       "2018-12-01    323\n",
       "2019-01-01    383\n",
       "2019-02-01    284\n",
       "2019-03-01     21\n",
       "Name: month_year, Length: 111, dtype: int64"
      ]
     },
     "execution_count": 130,
     "metadata": {},
     "output_type": "execute_result"
    }
   ],
   "source": [
    "sea_other_counts = sea_other['month_year'].value_counts()\n",
    "sea_other_counts.sort_index()"
   ]
  },
  {
   "cell_type": "code",
   "execution_count": 106,
   "metadata": {},
   "outputs": [],
   "source": [
    "x_other_agnst = sea_other_crimes_agnst_per['month_year'].unique()\n",
    "x_other_agnst.sort()"
   ]
  },
  {
   "cell_type": "code",
   "execution_count": 107,
   "metadata": {
    "scrolled": true
   },
   "outputs": [
    {
     "data": {
      "text/plain": [
       "[<matplotlib.lines.Line2D at 0x110a6ea20>]"
      ]
     },
     "execution_count": 107,
     "metadata": {},
     "output_type": "execute_result"
    },
    {
     "data": {
      "image/png": "[encoded data removed]",
      "text/plain": [
       "<Figure size 432x288 with 1 Axes>"
      ]
     },
     "metadata": {},
     "output_type": "display_data"
    }
   ],
   "source": [
    "plt.title('Other Crimes Targeting Persons in Seattle')\n",
    "plt.plot(x_other_agnst, sea_other_crimes_agnst_per['month_year'].value_counts())"
   ]
  },
  {
   "cell_type": "markdown",
   "metadata": {},
   "source": [
    "Seattle was the first state to legalize back in 2012.  If we're looking at the "
   ]
  },
  {
   "cell_type": "code",
   "execution_count": null,
   "metadata": {},
   "outputs": [],
   "source": []
  }
 ],
 "metadata": {
  "kernelspec": {
   "display_name": "Python 3",
   "language": "python",
   "name": "python3"
  },
  "language_info": {
   "codemirror_mode": {
    "name": "ipython",
    "version": 3
   },
   "file_extension": ".py",
   "mimetype": "text/x-python",
   "name": "python",
   "nbconvert_exporter": "python",
   "pygments_lexer": "ipython3",
   "version": "3.6.8"
  }
 },
 "nbformat": 4,
 "nbformat_minor": 2
}
