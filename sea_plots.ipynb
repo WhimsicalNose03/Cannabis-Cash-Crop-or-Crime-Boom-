{
 "cells": [
  {
   "cell_type": "code",
   "execution_count": 1,
   "metadata": {},
   "outputs": [],
   "source": [
    "import pandas as pd\n",
    "import numpy as np\n",
    "import matplotlib.pyplot as plt"
   ]
  },
  {
   "cell_type": "code",
   "execution_count": 26,
   "metadata": {},
   "outputs": [],
   "source": [
    "sea_crime = pd.read_csv('sea_cleaned_crime.csv')\n",
    "sea_licenses = pd.read_csv('sea_lic_cleaned.csv')"
   ]
  },
  {
   "cell_type": "code",
   "execution_count": 27,
   "metadata": {},
   "outputs": [],
   "source": [
    "sea_crime = sea_crime.drop('Unnamed: 0',axis=1)\n",
    "sea_licenses = sea_licenses.drop('Unnamed: 0',axis=1)"
   ]
  },
  {
   "cell_type": "code",
   "execution_count": 41,
   "metadata": {
    "scrolled": true
   },
   "outputs": [
    {
     "data": {
      "text/html": [
       "<div>\n",
       "<style scoped>\n",
       "    .dataframe tbody tr th:only-of-type {\n",
       "        vertical-align: middle;\n",
       "    }\n",
       "\n",
       "    .dataframe tbody tr th {\n",
       "        vertical-align: top;\n",
       "    }\n",
       "\n",
       "    .dataframe thead th {\n",
       "        text-align: right;\n",
       "    }\n",
       "</style>\n",
       "<table border=\"1\" class=\"dataframe\">\n",
       "  <thead>\n",
       "    <tr style=\"text-align: right;\">\n",
       "      <th></th>\n",
       "      <th>Primary Offense Description</th>\n",
       "      <th>Neighborhood</th>\n",
       "      <th>date_occurred</th>\n",
       "      <th>offense_category</th>\n",
       "      <th>month_year</th>\n",
       "    </tr>\n",
       "  </thead>\n",
       "  <tbody>\n",
       "    <tr>\n",
       "      <th>0</th>\n",
       "      <td>BURGLARY-FORCE-RES</td>\n",
       "      <td>LAKEWOOD/SEWARD PARK</td>\n",
       "      <td>1975-12-16</td>\n",
       "      <td>burglary</td>\n",
       "      <td>1975-12</td>\n",
       "    </tr>\n",
       "    <tr>\n",
       "      <th>1</th>\n",
       "      <td>SEXOFF-INDECENT LIBERTIES</td>\n",
       "      <td>UNKNOWN</td>\n",
       "      <td>1976-01-01</td>\n",
       "      <td>pub disorder</td>\n",
       "      <td>1976-01</td>\n",
       "    </tr>\n",
       "    <tr>\n",
       "      <th>2</th>\n",
       "      <td>THEFT-CARPROWL</td>\n",
       "      <td>CENTRAL AREA/SQUIRE PARK</td>\n",
       "      <td>1979-01-28</td>\n",
       "      <td>theft from vehicle</td>\n",
       "      <td>1979-01</td>\n",
       "    </tr>\n",
       "    <tr>\n",
       "      <th>3</th>\n",
       "      <td>HOMICIDE-PREMEDITATED-WEAPON</td>\n",
       "      <td>BRIGHTON/DUNLAP</td>\n",
       "      <td>1981-08-22</td>\n",
       "      <td>murder</td>\n",
       "      <td>1981-08</td>\n",
       "    </tr>\n",
       "    <tr>\n",
       "      <th>4</th>\n",
       "      <td>BURGLARY-FORCE-RES</td>\n",
       "      <td>ROXHILL/WESTWOOD/ARBOR HEIGHTS</td>\n",
       "      <td>1981-02-14</td>\n",
       "      <td>burglary</td>\n",
       "      <td>1981-02</td>\n",
       "    </tr>\n",
       "  </tbody>\n",
       "</table>\n",
       "</div>"
      ],
      "text/plain": [
       "    Primary Offense Description                    Neighborhood date_occurred  \\\n",
       "0            BURGLARY-FORCE-RES            LAKEWOOD/SEWARD PARK    1975-12-16   \n",
       "1     SEXOFF-INDECENT LIBERTIES                         UNKNOWN    1976-01-01   \n",
       "2                THEFT-CARPROWL        CENTRAL AREA/SQUIRE PARK    1979-01-28   \n",
       "3  HOMICIDE-PREMEDITATED-WEAPON                 BRIGHTON/DUNLAP    1981-08-22   \n",
       "4            BURGLARY-FORCE-RES  ROXHILL/WESTWOOD/ARBOR HEIGHTS    1981-02-14   \n",
       "\n",
       "     offense_category month_year  \n",
       "0            burglary    1975-12  \n",
       "1        pub disorder    1976-01  \n",
       "2  theft from vehicle    1979-01  \n",
       "3              murder    1981-08  \n",
       "4            burglary    1981-02  "
      ]
     },
     "execution_count": 41,
     "metadata": {},
     "output_type": "execute_result"
    }
   ],
   "source": [
    "sea_crime.head()"
   ]
  },
  {
   "cell_type": "code",
   "execution_count": 44,
   "metadata": {},
   "outputs": [],
   "source": [
    "sea_crime['month_year'] = sea_crime['month_year'].astype(str)"
   ]
  },
  {
   "cell_type": "code",
   "execution_count": 45,
   "metadata": {},
   "outputs": [],
   "source": [
    "sea_crime['month_year'] = sea_crime['month_year'].str[:7]"
   ]
  },
  {
   "cell_type": "code",
   "execution_count": 60,
   "metadata": {},
   "outputs": [
    {
     "data": {
      "text/plain": [
       "pandas._libs.tslibs.timestamps.Timestamp"
      ]
     },
     "execution_count": 60,
     "metadata": {},
     "output_type": "execute_result"
    }
   ],
   "source": [
    "type(sea_crime['month_year'][0])"
   ]
  },
  {
   "cell_type": "code",
   "execution_count": null,
   "metadata": {},
   "outputs": [],
   "source": []
  },
  {
   "cell_type": "code",
   "execution_count": null,
   "metadata": {},
   "outputs": [],
   "source": []
  },
  {
   "cell_type": "code",
   "execution_count": 46,
   "metadata": {},
   "outputs": [],
   "source": [
    "sea_crime['month_year'] = pd.to_datetime(sea_crime['month_year'], format='%Y-%m')\n"
   ]
  },
  {
   "cell_type": "code",
   "execution_count": 56,
   "metadata": {},
   "outputs": [
    {
     "data": {
      "text/html": [
       "<div>\n",
       "<style scoped>\n",
       "    .dataframe tbody tr th:only-of-type {\n",
       "        vertical-align: middle;\n",
       "    }\n",
       "\n",
       "    .dataframe tbody tr th {\n",
       "        vertical-align: top;\n",
       "    }\n",
       "\n",
       "    .dataframe thead th {\n",
       "        text-align: right;\n",
       "    }\n",
       "</style>\n",
       "<table border=\"1\" class=\"dataframe\">\n",
       "  <thead>\n",
       "    <tr style=\"text-align: right;\">\n",
       "      <th></th>\n",
       "      <th>Primary Offense Description</th>\n",
       "      <th>Neighborhood</th>\n",
       "      <th>date_occurred</th>\n",
       "      <th>offense_category</th>\n",
       "      <th>month_year</th>\n",
       "    </tr>\n",
       "  </thead>\n",
       "  <tbody>\n",
       "    <tr>\n",
       "      <th>0</th>\n",
       "      <td>BURGLARY-FORCE-RES</td>\n",
       "      <td>LAKEWOOD/SEWARD PARK</td>\n",
       "      <td>1975-12-16</td>\n",
       "      <td>burglary</td>\n",
       "      <td>1975-12-01</td>\n",
       "    </tr>\n",
       "    <tr>\n",
       "      <th>1</th>\n",
       "      <td>SEXOFF-INDECENT LIBERTIES</td>\n",
       "      <td>UNKNOWN</td>\n",
       "      <td>1976-01-01</td>\n",
       "      <td>pub disorder</td>\n",
       "      <td>1976-01-01</td>\n",
       "    </tr>\n",
       "    <tr>\n",
       "      <th>2</th>\n",
       "      <td>THEFT-CARPROWL</td>\n",
       "      <td>CENTRAL AREA/SQUIRE PARK</td>\n",
       "      <td>1979-01-28</td>\n",
       "      <td>theft from vehicle</td>\n",
       "      <td>1979-01-01</td>\n",
       "    </tr>\n",
       "    <tr>\n",
       "      <th>3</th>\n",
       "      <td>HOMICIDE-PREMEDITATED-WEAPON</td>\n",
       "      <td>BRIGHTON/DUNLAP</td>\n",
       "      <td>1981-08-22</td>\n",
       "      <td>murder</td>\n",
       "      <td>1981-08-01</td>\n",
       "    </tr>\n",
       "    <tr>\n",
       "      <th>4</th>\n",
       "      <td>BURGLARY-FORCE-RES</td>\n",
       "      <td>ROXHILL/WESTWOOD/ARBOR HEIGHTS</td>\n",
       "      <td>1981-02-14</td>\n",
       "      <td>burglary</td>\n",
       "      <td>1981-02-01</td>\n",
       "    </tr>\n",
       "  </tbody>\n",
       "</table>\n",
       "</div>"
      ],
      "text/plain": [
       "    Primary Offense Description                    Neighborhood date_occurred  \\\n",
       "0            BURGLARY-FORCE-RES            LAKEWOOD/SEWARD PARK    1975-12-16   \n",
       "1     SEXOFF-INDECENT LIBERTIES                         UNKNOWN    1976-01-01   \n",
       "2                THEFT-CARPROWL        CENTRAL AREA/SQUIRE PARK    1979-01-28   \n",
       "3  HOMICIDE-PREMEDITATED-WEAPON                 BRIGHTON/DUNLAP    1981-08-22   \n",
       "4            BURGLARY-FORCE-RES  ROXHILL/WESTWOOD/ARBOR HEIGHTS    1981-02-14   \n",
       "\n",
       "     offense_category month_year  \n",
       "0            burglary 1975-12-01  \n",
       "1        pub disorder 1976-01-01  \n",
       "2  theft from vehicle 1979-01-01  \n",
       "3              murder 1981-08-01  \n",
       "4            burglary 1981-02-01  "
      ]
     },
     "execution_count": 56,
     "metadata": {},
     "output_type": "execute_result"
    }
   ],
   "source": [
    "sea_crime.head()"
   ]
  },
  {
   "cell_type": "code",
   "execution_count": 51,
   "metadata": {},
   "outputs": [
    {
     "data": {
      "text/plain": [
       "array(['burglary', 'pub disorder', 'theft from vehicle', 'murder',\n",
       "       'auto-theft', 'larceny', 'drug-alc', 'agg assault',\n",
       "       'sexual assault', 'robbery', 'arson', 'child',\n",
       "       'other crimes against persons', 'other', 'white collar'],\n",
       "      dtype=object)"
      ]
     },
     "execution_count": 51,
     "metadata": {},
     "output_type": "execute_result"
    }
   ],
   "source": [
    "sea_crime['offense_category'].unique()"
   ]
  },
  {
   "cell_type": "code",
   "execution_count": 52,
   "metadata": {},
   "outputs": [],
   "source": [
    "sea_other = sea_crime.loc[sea_crime['offense_category'] == 'other']\n",
    "sea_theft_from_mtr_veh = sea_crime.loc[sea_crime['offense_category'] == 'theft from motor vehicle']\n",
    "sea_other_crimes_agnst_per = sea_crime.loc[sea_crime['offense_category'] == 'other crimes against persons']\n",
    "sea_drug_alc = sea_crime.loc[sea_crime['offense_category'] == 'drug-alc']\n",
    "sea_auto_theft = sea_crime.loc[sea_crime['offense_category'] == 'auto theft']\n",
    "sea_white_collar = sea_crime.loc[sea_crime['offense_category'] == 'white collar']\n",
    "sea_burglary = sea_crime.loc[sea_crime['offense_category'] == 'burglary']\n",
    "sea_agg_assault = sea_crime.loc[sea_crime['offense_category'] == 'agg assault']\n",
    "sea_pub_disorder = sea_crime.loc[sea_crime['offense_category'] == 'pub disorder']\n",
    "sea_robbery = sea_crime.loc[sea_crime['offense_category'] == 'robbery']\n",
    "sea_arson = sea_crime.loc[sea_crime['offense_category'] == 'arson']\n",
    "sea_sex_asslt = sea_crime.loc[sea_crime['offense_category'] == 'sexual assault']\n",
    "sea_murder = sea_crime.loc[sea_crime['offense_category'] == 'murder']\n",
    "sea_larceny = sea_crime.loc[sea_crime['offense_category'] == 'larceny']\n",
    "sea_child = sea_crime.loc[sea_crime['offense_category'] == 'child']\n"
   ]
  },
  {
   "cell_type": "code",
   "execution_count": 57,
   "metadata": {},
   "outputs": [
    {
     "data": {
      "text/plain": [
       "array(['1908-12-01T00:00:00.000000000', '1964-06-01T00:00:00.000000000',\n",
       "       '1973-01-01T00:00:00.000000000', '1974-06-01T00:00:00.000000000',\n",
       "       '1975-01-01T00:00:00.000000000', '1975-12-01T00:00:00.000000000',\n",
       "       '1976-01-01T00:00:00.000000000', '1976-07-01T00:00:00.000000000',\n",
       "       '1977-01-01T00:00:00.000000000', '1978-01-01T00:00:00.000000000',\n",
       "       '1979-01-01T00:00:00.000000000', '1979-07-01T00:00:00.000000000',\n",
       "       '1980-01-01T00:00:00.000000000', '1981-02-01T00:00:00.000000000',\n",
       "       '1981-08-01T00:00:00.000000000', '1985-01-01T00:00:00.000000000',\n",
       "       '1985-09-01T00:00:00.000000000', '1986-01-01T00:00:00.000000000',\n",
       "       '1987-01-01T00:00:00.000000000', '1988-09-01T00:00:00.000000000',\n",
       "       '1989-01-01T00:00:00.000000000', '1990-01-01T00:00:00.000000000',\n",
       "       '1990-02-01T00:00:00.000000000', '1991-01-01T00:00:00.000000000',\n",
       "       '1993-01-01T00:00:00.000000000', '1993-02-01T00:00:00.000000000',\n",
       "       '1993-07-01T00:00:00.000000000', '1993-10-01T00:00:00.000000000',\n",
       "       '1994-01-01T00:00:00.000000000', '1994-06-01T00:00:00.000000000',\n",
       "       '1995-01-01T00:00:00.000000000', '1995-07-01T00:00:00.000000000',\n",
       "       '1996-01-01T00:00:00.000000000', '1996-06-01T00:00:00.000000000',\n",
       "       '1996-12-01T00:00:00.000000000', '1997-01-01T00:00:00.000000000',\n",
       "       '1997-08-01T00:00:00.000000000', '1997-12-01T00:00:00.000000000',\n",
       "       '1998-01-01T00:00:00.000000000', '1998-02-01T00:00:00.000000000',\n",
       "       '1998-03-01T00:00:00.000000000', '1998-04-01T00:00:00.000000000',\n",
       "       '1998-05-01T00:00:00.000000000', '1998-11-01T00:00:00.000000000',\n",
       "       '1999-01-01T00:00:00.000000000', '1999-03-01T00:00:00.000000000',\n",
       "       '1999-06-01T00:00:00.000000000', '1999-08-01T00:00:00.000000000',\n",
       "       '1999-09-01T00:00:00.000000000', '2000-01-01T00:00:00.000000000',\n",
       "       '2000-03-01T00:00:00.000000000', '2000-04-01T00:00:00.000000000',\n",
       "       '2000-05-01T00:00:00.000000000', '2000-06-01T00:00:00.000000000',\n",
       "       '2000-07-01T00:00:00.000000000', '2000-08-01T00:00:00.000000000',\n",
       "       '2000-09-01T00:00:00.000000000', '2000-10-01T00:00:00.000000000',\n",
       "       '2000-11-01T00:00:00.000000000', '2001-01-01T00:00:00.000000000',\n",
       "       '2001-02-01T00:00:00.000000000', '2001-03-01T00:00:00.000000000',\n",
       "       '2001-04-01T00:00:00.000000000', '2001-05-01T00:00:00.000000000',\n",
       "       '2001-06-01T00:00:00.000000000', '2001-07-01T00:00:00.000000000',\n",
       "       '2001-08-01T00:00:00.000000000', '2001-09-01T00:00:00.000000000',\n",
       "       '2001-10-01T00:00:00.000000000', '2001-11-01T00:00:00.000000000',\n",
       "       '2001-12-01T00:00:00.000000000', '2002-01-01T00:00:00.000000000',\n",
       "       '2002-03-01T00:00:00.000000000', '2002-05-01T00:00:00.000000000',\n",
       "       '2002-06-01T00:00:00.000000000', '2002-08-01T00:00:00.000000000',\n",
       "       '2002-11-01T00:00:00.000000000', '2002-12-01T00:00:00.000000000',\n",
       "       '2003-01-01T00:00:00.000000000', '2003-02-01T00:00:00.000000000',\n",
       "       '2003-03-01T00:00:00.000000000', '2003-04-01T00:00:00.000000000',\n",
       "       '2003-08-01T00:00:00.000000000', '2003-09-01T00:00:00.000000000',\n",
       "       '2003-10-01T00:00:00.000000000', '2003-11-01T00:00:00.000000000',\n",
       "       '2003-12-01T00:00:00.000000000', '2004-01-01T00:00:00.000000000',\n",
       "       '2004-02-01T00:00:00.000000000', '2004-03-01T00:00:00.000000000',\n",
       "       '2004-05-01T00:00:00.000000000', '2004-06-01T00:00:00.000000000',\n",
       "       '2004-07-01T00:00:00.000000000', '2004-08-01T00:00:00.000000000',\n",
       "       '2004-09-01T00:00:00.000000000', '2004-10-01T00:00:00.000000000',\n",
       "       '2004-11-01T00:00:00.000000000', '2004-12-01T00:00:00.000000000',\n",
       "       '2005-01-01T00:00:00.000000000', '2005-02-01T00:00:00.000000000',\n",
       "       '2005-03-01T00:00:00.000000000', '2005-04-01T00:00:00.000000000',\n",
       "       '2005-05-01T00:00:00.000000000', '2005-06-01T00:00:00.000000000',\n",
       "       '2005-07-01T00:00:00.000000000', '2005-08-01T00:00:00.000000000',\n",
       "       '2005-09-01T00:00:00.000000000', '2005-10-01T00:00:00.000000000',\n",
       "       '2005-11-01T00:00:00.000000000', '2005-12-01T00:00:00.000000000',\n",
       "       '2006-01-01T00:00:00.000000000', '2006-02-01T00:00:00.000000000',\n",
       "       '2006-03-01T00:00:00.000000000', '2006-04-01T00:00:00.000000000',\n",
       "       '2006-05-01T00:00:00.000000000', '2006-06-01T00:00:00.000000000',\n",
       "       '2006-07-01T00:00:00.000000000', '2006-08-01T00:00:00.000000000',\n",
       "       '2006-09-01T00:00:00.000000000', '2006-10-01T00:00:00.000000000',\n",
       "       '2006-11-01T00:00:00.000000000', '2006-12-01T00:00:00.000000000',\n",
       "       '2007-01-01T00:00:00.000000000', '2007-02-01T00:00:00.000000000',\n",
       "       '2007-03-01T00:00:00.000000000', '2007-04-01T00:00:00.000000000',\n",
       "       '2007-05-01T00:00:00.000000000', '2007-06-01T00:00:00.000000000',\n",
       "       '2007-07-01T00:00:00.000000000', '2007-08-01T00:00:00.000000000',\n",
       "       '2007-09-01T00:00:00.000000000', '2007-10-01T00:00:00.000000000',\n",
       "       '2007-11-01T00:00:00.000000000', '2007-12-01T00:00:00.000000000',\n",
       "       '2008-01-01T00:00:00.000000000', '2008-02-01T00:00:00.000000000',\n",
       "       '2008-03-01T00:00:00.000000000', '2008-04-01T00:00:00.000000000',\n",
       "       '2008-05-01T00:00:00.000000000', '2008-06-01T00:00:00.000000000',\n",
       "       '2008-07-01T00:00:00.000000000', '2008-08-01T00:00:00.000000000',\n",
       "       '2008-09-01T00:00:00.000000000', '2008-10-01T00:00:00.000000000',\n",
       "       '2008-11-01T00:00:00.000000000', '2008-12-01T00:00:00.000000000',\n",
       "       '2009-01-01T00:00:00.000000000', '2009-02-01T00:00:00.000000000',\n",
       "       '2009-03-01T00:00:00.000000000', '2009-04-01T00:00:00.000000000',\n",
       "       '2009-05-01T00:00:00.000000000', '2009-06-01T00:00:00.000000000',\n",
       "       '2009-07-01T00:00:00.000000000', '2009-08-01T00:00:00.000000000',\n",
       "       '2009-09-01T00:00:00.000000000', '2009-10-01T00:00:00.000000000',\n",
       "       '2009-11-01T00:00:00.000000000', '2009-12-01T00:00:00.000000000',\n",
       "       '2010-01-01T00:00:00.000000000', '2010-02-01T00:00:00.000000000',\n",
       "       '2010-03-01T00:00:00.000000000', '2010-04-01T00:00:00.000000000',\n",
       "       '2010-05-01T00:00:00.000000000', '2010-06-01T00:00:00.000000000',\n",
       "       '2010-07-01T00:00:00.000000000', '2010-08-01T00:00:00.000000000',\n",
       "       '2010-09-01T00:00:00.000000000', '2010-10-01T00:00:00.000000000',\n",
       "       '2010-11-01T00:00:00.000000000', '2010-12-01T00:00:00.000000000',\n",
       "       '2011-01-01T00:00:00.000000000', '2011-02-01T00:00:00.000000000',\n",
       "       '2011-03-01T00:00:00.000000000', '2011-04-01T00:00:00.000000000',\n",
       "       '2011-05-01T00:00:00.000000000', '2011-06-01T00:00:00.000000000',\n",
       "       '2011-07-01T00:00:00.000000000', '2011-08-01T00:00:00.000000000',\n",
       "       '2011-09-01T00:00:00.000000000', '2011-10-01T00:00:00.000000000',\n",
       "       '2011-11-01T00:00:00.000000000', '2011-12-01T00:00:00.000000000',\n",
       "       '2012-01-01T00:00:00.000000000', '2012-02-01T00:00:00.000000000',\n",
       "       '2012-03-01T00:00:00.000000000', '2012-04-01T00:00:00.000000000',\n",
       "       '2012-05-01T00:00:00.000000000', '2012-06-01T00:00:00.000000000',\n",
       "       '2012-07-01T00:00:00.000000000', '2012-08-01T00:00:00.000000000',\n",
       "       '2012-09-01T00:00:00.000000000', '2012-10-01T00:00:00.000000000',\n",
       "       '2012-11-01T00:00:00.000000000', '2012-12-01T00:00:00.000000000',\n",
       "       '2013-01-01T00:00:00.000000000', '2013-02-01T00:00:00.000000000',\n",
       "       '2013-03-01T00:00:00.000000000', '2013-04-01T00:00:00.000000000',\n",
       "       '2013-05-01T00:00:00.000000000', '2013-06-01T00:00:00.000000000',\n",
       "       '2013-07-01T00:00:00.000000000', '2013-08-01T00:00:00.000000000',\n",
       "       '2013-09-01T00:00:00.000000000', '2013-10-01T00:00:00.000000000',\n",
       "       '2013-11-01T00:00:00.000000000', '2013-12-01T00:00:00.000000000',\n",
       "       '2014-01-01T00:00:00.000000000', '2014-02-01T00:00:00.000000000',\n",
       "       '2014-03-01T00:00:00.000000000', '2014-04-01T00:00:00.000000000',\n",
       "       '2014-05-01T00:00:00.000000000', '2014-06-01T00:00:00.000000000',\n",
       "       '2014-07-01T00:00:00.000000000', '2014-08-01T00:00:00.000000000',\n",
       "       '2014-09-01T00:00:00.000000000', '2014-10-01T00:00:00.000000000',\n",
       "       '2014-11-01T00:00:00.000000000', '2014-12-01T00:00:00.000000000',\n",
       "       '2015-01-01T00:00:00.000000000', '2015-02-01T00:00:00.000000000',\n",
       "       '2015-03-01T00:00:00.000000000', '2015-04-01T00:00:00.000000000',\n",
       "       '2015-05-01T00:00:00.000000000', '2015-06-01T00:00:00.000000000',\n",
       "       '2015-07-01T00:00:00.000000000', '2015-08-01T00:00:00.000000000',\n",
       "       '2015-09-01T00:00:00.000000000', '2015-10-01T00:00:00.000000000',\n",
       "       '2015-11-01T00:00:00.000000000', '2015-12-01T00:00:00.000000000',\n",
       "       '2016-01-01T00:00:00.000000000', '2016-02-01T00:00:00.000000000',\n",
       "       '2016-03-01T00:00:00.000000000', '2016-04-01T00:00:00.000000000',\n",
       "       '2016-05-01T00:00:00.000000000', '2016-06-01T00:00:00.000000000',\n",
       "       '2016-07-01T00:00:00.000000000', '2016-08-01T00:00:00.000000000',\n",
       "       '2016-09-01T00:00:00.000000000', '2016-10-01T00:00:00.000000000',\n",
       "       '2016-11-01T00:00:00.000000000', '2016-12-01T00:00:00.000000000',\n",
       "       '2017-01-01T00:00:00.000000000', '2017-02-01T00:00:00.000000000',\n",
       "       '2017-03-01T00:00:00.000000000', '2017-04-01T00:00:00.000000000',\n",
       "       '2017-05-01T00:00:00.000000000', '2017-06-01T00:00:00.000000000',\n",
       "       '2017-07-01T00:00:00.000000000', '2017-08-01T00:00:00.000000000',\n",
       "       '2017-09-01T00:00:00.000000000', '2017-10-01T00:00:00.000000000',\n",
       "       '2017-11-01T00:00:00.000000000', '2017-12-01T00:00:00.000000000',\n",
       "       '2018-01-01T00:00:00.000000000', '2018-02-01T00:00:00.000000000',\n",
       "       '2018-03-01T00:00:00.000000000', '2018-04-01T00:00:00.000000000',\n",
       "       '2018-05-01T00:00:00.000000000', '2018-06-01T00:00:00.000000000',\n",
       "       '2018-07-01T00:00:00.000000000', '2018-08-01T00:00:00.000000000',\n",
       "       '2018-09-01T00:00:00.000000000', '2018-10-01T00:00:00.000000000',\n",
       "       '2018-11-01T00:00:00.000000000', '2018-12-01T00:00:00.000000000',\n",
       "       '2019-01-01T00:00:00.000000000', '2019-02-01T00:00:00.000000000',\n",
       "       '2019-03-01T00:00:00.000000000',                           'NaT'],\n",
       "      dtype='datetime64[ns]')"
      ]
     },
     "execution_count": 57,
     "metadata": {},
     "output_type": "execute_result"
    }
   ],
   "source": [
    "x = sea_crime['month_year'].sort_values()\n",
    "x = x.unique()\n",
    "x"
   ]
  },
  {
   "cell_type": "code",
   "execution_count": 59,
   "metadata": {},
   "outputs": [
    {
     "name": "stderr",
     "output_type": "stream",
     "text": [
      "/Users/ajfong/anaconda3/lib/python3.6/site-packages/pandas/plotting/_converter.py:129: FutureWarning: Using an implicitly registered datetime converter for a matplotlib plotting method. The converter was registered by pandas on import. Future versions of pandas will require you to explicitly register matplotlib converters.\n",
      "\n",
      "To register the converters:\n",
      "\t>>> from pandas.plotting import register_matplotlib_converters\n",
      "\t>>> register_matplotlib_converters()\n",
      "  warnings.warn(msg, FutureWarning)\n"
     ]
    },
    {
     "ename": "ValueError",
     "evalue": "x and y must have same first dimension, but have shapes (270,) and (0,)",
     "output_type": "error",
     "traceback": [
      "\u001b[0;31m---------------------------------------------------------------------------\u001b[0m",
      "\u001b[0;31mValueError\u001b[0m                                Traceback (most recent call last)",
      "\u001b[0;32m<ipython-input-59-27bea59b28e2>\u001b[0m in \u001b[0;36m<module>\u001b[0;34m\u001b[0m\n\u001b[1;32m      1\u001b[0m \u001b[0mplt\u001b[0m\u001b[0;34m.\u001b[0m\u001b[0mtitle\u001b[0m\u001b[0;34m(\u001b[0m\u001b[0;34m'Auto Theft Crime over Time in Seattle'\u001b[0m\u001b[0;34m)\u001b[0m\u001b[0;34m\u001b[0m\u001b[0;34m\u001b[0m\u001b[0m\n\u001b[1;32m      2\u001b[0m \u001b[0;34m\u001b[0m\u001b[0m\n\u001b[0;32m----> 3\u001b[0;31m \u001b[0mplt\u001b[0m\u001b[0;34m.\u001b[0m\u001b[0mplot\u001b[0m\u001b[0;34m(\u001b[0m\u001b[0mx\u001b[0m\u001b[0;34m,\u001b[0m\u001b[0msea_auto_theft\u001b[0m\u001b[0;34m[\u001b[0m\u001b[0;34m'month_year'\u001b[0m\u001b[0;34m]\u001b[0m\u001b[0;34m.\u001b[0m\u001b[0mvalue_counts\u001b[0m\u001b[0;34m(\u001b[0m\u001b[0;34m)\u001b[0m\u001b[0;34m)\u001b[0m\u001b[0;34m\u001b[0m\u001b[0;34m\u001b[0m\u001b[0m\n\u001b[0m",
      "\u001b[0;32m~/anaconda3/lib/python3.6/site-packages/matplotlib/pyplot.py\u001b[0m in \u001b[0;36mplot\u001b[0;34m(scalex, scaley, data, *args, **kwargs)\u001b[0m\n\u001b[1;32m   2811\u001b[0m     return gca().plot(\n\u001b[1;32m   2812\u001b[0m         *args, scalex=scalex, scaley=scaley, **({\"data\": data} if data\n\u001b[0;32m-> 2813\u001b[0;31m         is not None else {}), **kwargs)\n\u001b[0m\u001b[1;32m   2814\u001b[0m \u001b[0;34m\u001b[0m\u001b[0m\n\u001b[1;32m   2815\u001b[0m \u001b[0;34m\u001b[0m\u001b[0m\n",
      "\u001b[0;32m~/anaconda3/lib/python3.6/site-packages/matplotlib/__init__.py\u001b[0m in \u001b[0;36minner\u001b[0;34m(ax, data, *args, **kwargs)\u001b[0m\n\u001b[1;32m   1808\u001b[0m                         \u001b[0;34m\"the Matplotlib list!)\"\u001b[0m \u001b[0;34m%\u001b[0m \u001b[0;34m(\u001b[0m\u001b[0mlabel_namer\u001b[0m\u001b[0;34m,\u001b[0m \u001b[0mfunc\u001b[0m\u001b[0;34m.\u001b[0m\u001b[0m__name__\u001b[0m\u001b[0;34m)\u001b[0m\u001b[0;34m,\u001b[0m\u001b[0;34m\u001b[0m\u001b[0;34m\u001b[0m\u001b[0m\n\u001b[1;32m   1809\u001b[0m                         RuntimeWarning, stacklevel=2)\n\u001b[0;32m-> 1810\u001b[0;31m             \u001b[0;32mreturn\u001b[0m \u001b[0mfunc\u001b[0m\u001b[0;34m(\u001b[0m\u001b[0max\u001b[0m\u001b[0;34m,\u001b[0m \u001b[0;34m*\u001b[0m\u001b[0margs\u001b[0m\u001b[0;34m,\u001b[0m \u001b[0;34m**\u001b[0m\u001b[0mkwargs\u001b[0m\u001b[0;34m)\u001b[0m\u001b[0;34m\u001b[0m\u001b[0;34m\u001b[0m\u001b[0m\n\u001b[0m\u001b[1;32m   1811\u001b[0m \u001b[0;34m\u001b[0m\u001b[0m\n\u001b[1;32m   1812\u001b[0m         inner.__doc__ = _add_data_doc(inner.__doc__,\n",
      "\u001b[0;32m~/anaconda3/lib/python3.6/site-packages/matplotlib/axes/_axes.py\u001b[0m in \u001b[0;36mplot\u001b[0;34m(self, scalex, scaley, *args, **kwargs)\u001b[0m\n\u001b[1;32m   1609\u001b[0m         \u001b[0mkwargs\u001b[0m \u001b[0;34m=\u001b[0m \u001b[0mcbook\u001b[0m\u001b[0;34m.\u001b[0m\u001b[0mnormalize_kwargs\u001b[0m\u001b[0;34m(\u001b[0m\u001b[0mkwargs\u001b[0m\u001b[0;34m,\u001b[0m \u001b[0mmlines\u001b[0m\u001b[0;34m.\u001b[0m\u001b[0mLine2D\u001b[0m\u001b[0;34m.\u001b[0m\u001b[0m_alias_map\u001b[0m\u001b[0;34m)\u001b[0m\u001b[0;34m\u001b[0m\u001b[0;34m\u001b[0m\u001b[0m\n\u001b[1;32m   1610\u001b[0m \u001b[0;34m\u001b[0m\u001b[0m\n\u001b[0;32m-> 1611\u001b[0;31m         \u001b[0;32mfor\u001b[0m \u001b[0mline\u001b[0m \u001b[0;32min\u001b[0m \u001b[0mself\u001b[0m\u001b[0;34m.\u001b[0m\u001b[0m_get_lines\u001b[0m\u001b[0;34m(\u001b[0m\u001b[0;34m*\u001b[0m\u001b[0margs\u001b[0m\u001b[0;34m,\u001b[0m \u001b[0;34m**\u001b[0m\u001b[0mkwargs\u001b[0m\u001b[0;34m)\u001b[0m\u001b[0;34m:\u001b[0m\u001b[0;34m\u001b[0m\u001b[0;34m\u001b[0m\u001b[0m\n\u001b[0m\u001b[1;32m   1612\u001b[0m             \u001b[0mself\u001b[0m\u001b[0;34m.\u001b[0m\u001b[0madd_line\u001b[0m\u001b[0;34m(\u001b[0m\u001b[0mline\u001b[0m\u001b[0;34m)\u001b[0m\u001b[0;34m\u001b[0m\u001b[0;34m\u001b[0m\u001b[0m\n\u001b[1;32m   1613\u001b[0m             \u001b[0mlines\u001b[0m\u001b[0;34m.\u001b[0m\u001b[0mappend\u001b[0m\u001b[0;34m(\u001b[0m\u001b[0mline\u001b[0m\u001b[0;34m)\u001b[0m\u001b[0;34m\u001b[0m\u001b[0;34m\u001b[0m\u001b[0m\n",
      "\u001b[0;32m~/anaconda3/lib/python3.6/site-packages/matplotlib/axes/_base.py\u001b[0m in \u001b[0;36m_grab_next_args\u001b[0;34m(self, *args, **kwargs)\u001b[0m\n\u001b[1;32m    391\u001b[0m                 \u001b[0mthis\u001b[0m \u001b[0;34m+=\u001b[0m \u001b[0margs\u001b[0m\u001b[0;34m[\u001b[0m\u001b[0;36m0\u001b[0m\u001b[0;34m]\u001b[0m\u001b[0;34m,\u001b[0m\u001b[0;34m\u001b[0m\u001b[0;34m\u001b[0m\u001b[0m\n\u001b[1;32m    392\u001b[0m                 \u001b[0margs\u001b[0m \u001b[0;34m=\u001b[0m \u001b[0margs\u001b[0m\u001b[0;34m[\u001b[0m\u001b[0;36m1\u001b[0m\u001b[0;34m:\u001b[0m\u001b[0;34m]\u001b[0m\u001b[0;34m\u001b[0m\u001b[0;34m\u001b[0m\u001b[0m\n\u001b[0;32m--> 393\u001b[0;31m             \u001b[0;32myield\u001b[0m \u001b[0;32mfrom\u001b[0m \u001b[0mself\u001b[0m\u001b[0;34m.\u001b[0m\u001b[0m_plot_args\u001b[0m\u001b[0;34m(\u001b[0m\u001b[0mthis\u001b[0m\u001b[0;34m,\u001b[0m \u001b[0mkwargs\u001b[0m\u001b[0;34m)\u001b[0m\u001b[0;34m\u001b[0m\u001b[0;34m\u001b[0m\u001b[0m\n\u001b[0m\u001b[1;32m    394\u001b[0m \u001b[0;34m\u001b[0m\u001b[0m\n\u001b[1;32m    395\u001b[0m \u001b[0;34m\u001b[0m\u001b[0m\n",
      "\u001b[0;32m~/anaconda3/lib/python3.6/site-packages/matplotlib/axes/_base.py\u001b[0m in \u001b[0;36m_plot_args\u001b[0;34m(self, tup, kwargs)\u001b[0m\n\u001b[1;32m    368\u001b[0m             \u001b[0mx\u001b[0m\u001b[0;34m,\u001b[0m \u001b[0my\u001b[0m \u001b[0;34m=\u001b[0m \u001b[0mindex_of\u001b[0m\u001b[0;34m(\u001b[0m\u001b[0mtup\u001b[0m\u001b[0;34m[\u001b[0m\u001b[0;34m-\u001b[0m\u001b[0;36m1\u001b[0m\u001b[0;34m]\u001b[0m\u001b[0;34m)\u001b[0m\u001b[0;34m\u001b[0m\u001b[0;34m\u001b[0m\u001b[0m\n\u001b[1;32m    369\u001b[0m \u001b[0;34m\u001b[0m\u001b[0m\n\u001b[0;32m--> 370\u001b[0;31m         \u001b[0mx\u001b[0m\u001b[0;34m,\u001b[0m \u001b[0my\u001b[0m \u001b[0;34m=\u001b[0m \u001b[0mself\u001b[0m\u001b[0;34m.\u001b[0m\u001b[0m_xy_from_xy\u001b[0m\u001b[0;34m(\u001b[0m\u001b[0mx\u001b[0m\u001b[0;34m,\u001b[0m \u001b[0my\u001b[0m\u001b[0;34m)\u001b[0m\u001b[0;34m\u001b[0m\u001b[0;34m\u001b[0m\u001b[0m\n\u001b[0m\u001b[1;32m    371\u001b[0m \u001b[0;34m\u001b[0m\u001b[0m\n\u001b[1;32m    372\u001b[0m         \u001b[0;32mif\u001b[0m \u001b[0mself\u001b[0m\u001b[0;34m.\u001b[0m\u001b[0mcommand\u001b[0m \u001b[0;34m==\u001b[0m \u001b[0;34m'plot'\u001b[0m\u001b[0;34m:\u001b[0m\u001b[0;34m\u001b[0m\u001b[0;34m\u001b[0m\u001b[0m\n",
      "\u001b[0;32m~/anaconda3/lib/python3.6/site-packages/matplotlib/axes/_base.py\u001b[0m in \u001b[0;36m_xy_from_xy\u001b[0;34m(self, x, y)\u001b[0m\n\u001b[1;32m    229\u001b[0m         \u001b[0;32mif\u001b[0m \u001b[0mx\u001b[0m\u001b[0;34m.\u001b[0m\u001b[0mshape\u001b[0m\u001b[0;34m[\u001b[0m\u001b[0;36m0\u001b[0m\u001b[0;34m]\u001b[0m \u001b[0;34m!=\u001b[0m \u001b[0my\u001b[0m\u001b[0;34m.\u001b[0m\u001b[0mshape\u001b[0m\u001b[0;34m[\u001b[0m\u001b[0;36m0\u001b[0m\u001b[0;34m]\u001b[0m\u001b[0;34m:\u001b[0m\u001b[0;34m\u001b[0m\u001b[0;34m\u001b[0m\u001b[0m\n\u001b[1;32m    230\u001b[0m             raise ValueError(\"x and y must have same first dimension, but \"\n\u001b[0;32m--> 231\u001b[0;31m                              \"have shapes {} and {}\".format(x.shape, y.shape))\n\u001b[0m\u001b[1;32m    232\u001b[0m         \u001b[0;32mif\u001b[0m \u001b[0mx\u001b[0m\u001b[0;34m.\u001b[0m\u001b[0mndim\u001b[0m \u001b[0;34m>\u001b[0m \u001b[0;36m2\u001b[0m \u001b[0;32mor\u001b[0m \u001b[0my\u001b[0m\u001b[0;34m.\u001b[0m\u001b[0mndim\u001b[0m \u001b[0;34m>\u001b[0m \u001b[0;36m2\u001b[0m\u001b[0;34m:\u001b[0m\u001b[0;34m\u001b[0m\u001b[0;34m\u001b[0m\u001b[0m\n\u001b[1;32m    233\u001b[0m             raise ValueError(\"x and y can be no greater than 2-D, but have \"\n",
      "\u001b[0;31mValueError\u001b[0m: x and y must have same first dimension, but have shapes (270,) and (0,)"
     ]
    },
    {
     "data": {
      "image/png": "[encoded data removed]",
      "text/plain": [
       "<Figure size 432x288 with 1 Axes>"
      ]
     },
     "metadata": {
      "needs_background": "light"
     },
     "output_type": "display_data"
    }
   ],
   "source": [
    "plt.title('Auto Theft Crime over Time in Seattle')\n",
    "\n",
    "plt.plot(x,sea_auto_theft['month_year'].value_counts())"
   ]
  },
  {
   "cell_type": "code",
   "execution_count": null,
   "metadata": {},
   "outputs": [],
   "source": []
  }
 ],
 "metadata": {
  "kernelspec": {
   "display_name": "Python 3",
   "language": "python",
   "name": "python3"
  },
  "language_info": {
   "codemirror_mode": {
    "name": "ipython",
    "version": 3
   },
   "file_extension": ".py",
   "mimetype": "text/x-python",
   "name": "python",
   "nbconvert_exporter": "python",
   "pygments_lexer": "ipython3",
   "version": "3.6.8"
  }
 },
 "nbformat": 4,
 "nbformat_minor": 2
}
